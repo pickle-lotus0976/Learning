{
  "nbformat": 4,
  "nbformat_minor": 0,
  "metadata": {
    "colab": {
      "provenance": []
    },
    "kernelspec": {
      "name": "python3",
      "display_name": "Python 3"
    },
    "language_info": {
      "name": "python"
    }
  },
  "cells": [
    {
      "cell_type": "code",
      "source": [
        "import numpy as np"
      ],
      "metadata": {
        "id": "9KdbmRRpFij9"
      },
      "execution_count": 75,
      "outputs": []
    },
    {
      "cell_type": "markdown",
      "source": [
        "# np.sort()\n",
        "Sorts the Numpy array and returns a Numpy array."
      ],
      "metadata": {
        "id": "QfuxEwVmFSWi"
      }
    },
    {
      "cell_type": "code",
      "execution_count": 76,
      "metadata": {
        "colab": {
          "base_uri": "https://localhost:8080/"
        },
        "id": "vr3tQX3NFLV7",
        "outputId": "436a47e7-f7d3-4777-a6c9-db98837d754f"
      },
      "outputs": [
        {
          "output_type": "stream",
          "name": "stdout",
          "text": [
            "[99 21 87 35 33 97 20 95 60  8 92 93 22 66 74]\n"
          ]
        }
      ],
      "source": [
        "a = np.random.randint(0, 100, 15)\n",
        "print(a)"
      ]
    },
    {
      "cell_type": "code",
      "source": [
        "print(np.sort(a))"
      ],
      "metadata": {
        "colab": {
          "base_uri": "https://localhost:8080/"
        },
        "id": "0f8pTuaIGU__",
        "outputId": "1596b4e6-af9f-4d08-f7cc-8e1af02bd484"
      },
      "execution_count": 77,
      "outputs": [
        {
          "output_type": "stream",
          "name": "stdout",
          "text": [
            "[ 8 20 21 22 33 35 60 66 74 87 92 93 95 97 99]\n"
          ]
        }
      ]
    },
    {
      "cell_type": "code",
      "source": [
        "# Sort in decreasing order\n",
        "print(np.sort(a)[::-1])"
      ],
      "metadata": {
        "colab": {
          "base_uri": "https://localhost:8080/"
        },
        "id": "uHNKeJ5LHqGk",
        "outputId": "081bd49d-5d76-444b-e404-973ddb7316ab"
      },
      "execution_count": 78,
      "outputs": [
        {
          "output_type": "stream",
          "name": "stdout",
          "text": [
            "[99 97 95 93 92 87 74 66 60 35 33 22 21 20  8]\n"
          ]
        }
      ]
    },
    {
      "cell_type": "code",
      "source": [
        "b = np.random.randint(1, 100, 24).reshape(6,4)\n",
        "print(b)"
      ],
      "metadata": {
        "colab": {
          "base_uri": "https://localhost:8080/"
        },
        "id": "vcrxEbIgFr-p",
        "outputId": "070a392f-dd38-46fd-a480-06513497341b"
      },
      "execution_count": 79,
      "outputs": [
        {
          "output_type": "stream",
          "name": "stdout",
          "text": [
            "[[17 83 75 63]\n",
            " [20 10 13 32]\n",
            " [41 34 98 36]\n",
            " [82 11 28  6]\n",
            " [29 75 41 51]\n",
            " [39 99 14 84]]\n"
          ]
        }
      ]
    },
    {
      "cell_type": "code",
      "source": [
        "print(np.sort(b, axis=0))\n",
        "print('\\n', np.sort(b, axis=1))\n",
        "#print('\\n', np.sort(b, axis=0, kind='mergesort'))\n",
        "#print('\\n', np.sort(b, axis=1, kind='heapsort'))\n",
        "#print('\\n', np.sort(b, kind='quicksort'))\n",
        "#print('\\n', np.sort(b, axis=0, kind='stable'))"
      ],
      "metadata": {
        "colab": {
          "base_uri": "https://localhost:8080/"
        },
        "id": "iEDgW9f3GCQo",
        "outputId": "f3a0712a-953b-4384-b29a-44bd54ce6a0b"
      },
      "execution_count": 80,
      "outputs": [
        {
          "output_type": "stream",
          "name": "stdout",
          "text": [
            "[[17 10 13  6]\n",
            " [20 11 14 32]\n",
            " [29 34 28 36]\n",
            " [39 75 41 51]\n",
            " [41 83 75 63]\n",
            " [82 99 98 84]]\n",
            "\n",
            " [[17 63 75 83]\n",
            " [10 13 20 32]\n",
            " [34 36 41 98]\n",
            " [ 6 11 28 82]\n",
            " [29 41 51 75]\n",
            " [14 39 84 99]]\n"
          ]
        }
      ]
    },
    {
      "cell_type": "code",
      "source": [
        "# Sort in decreasing order\n",
        "print(np.sort(b, axis=0)[::-1])\n",
        "print('\\n', np.sort(b, axis=1)[::-1])"
      ],
      "metadata": {
        "colab": {
          "base_uri": "https://localhost:8080/"
        },
        "id": "4RmzhXzzHwt6",
        "outputId": "e202a212-ffe1-45c4-d513-4cd3342d3d3b"
      },
      "execution_count": 81,
      "outputs": [
        {
          "output_type": "stream",
          "name": "stdout",
          "text": [
            "[[82 99 98 84]\n",
            " [41 83 75 63]\n",
            " [39 75 41 51]\n",
            " [29 34 28 36]\n",
            " [20 11 14 32]\n",
            " [17 10 13  6]]\n",
            "\n",
            " [[14 39 84 99]\n",
            " [29 41 51 75]\n",
            " [ 6 11 28 82]\n",
            " [34 36 41 98]\n",
            " [10 13 20 32]\n",
            " [17 63 75 83]]\n"
          ]
        }
      ]
    },
    {
      "cell_type": "markdown",
      "source": [
        "# np.append()\n",
        "This function appends the given values along the end of the mentioned axis of the array."
      ],
      "metadata": {
        "id": "pYv6SYqwIDZa"
      }
    },
    {
      "cell_type": "code",
      "source": [
        "print(a)\n",
        "np.append(a, 200)"
      ],
      "metadata": {
        "colab": {
          "base_uri": "https://localhost:8080/"
        },
        "id": "hCYlXDRRH4pg",
        "outputId": "8c6cbb0d-b9e1-4664-d296-343c773f75d3"
      },
      "execution_count": 82,
      "outputs": [
        {
          "output_type": "stream",
          "name": "stdout",
          "text": [
            "[99 21 87 35 33 97 20 95 60  8 92 93 22 66 74]\n"
          ]
        },
        {
          "output_type": "execute_result",
          "data": {
            "text/plain": [
              "array([ 99,  21,  87,  35,  33,  97,  20,  95,  60,   8,  92,  93,  22,\n",
              "        66,  74, 200])"
            ]
          },
          "metadata": {},
          "execution_count": 82
        }
      ]
    },
    {
      "cell_type": "code",
      "source": [
        "print(b)\n",
        "np.append(b, np.zeros((b.shape[0], 1)), axis=1)"
      ],
      "metadata": {
        "colab": {
          "base_uri": "https://localhost:8080/"
        },
        "id": "7BSIVoKIJYnT",
        "outputId": "a56642a4-842d-4241-a1e2-df0176b3b884"
      },
      "execution_count": 83,
      "outputs": [
        {
          "output_type": "stream",
          "name": "stdout",
          "text": [
            "[[17 83 75 63]\n",
            " [20 10 13 32]\n",
            " [41 34 98 36]\n",
            " [82 11 28  6]\n",
            " [29 75 41 51]\n",
            " [39 99 14 84]]\n"
          ]
        },
        {
          "output_type": "execute_result",
          "data": {
            "text/plain": [
              "array([[17., 83., 75., 63.,  0.],\n",
              "       [20., 10., 13., 32.,  0.],\n",
              "       [41., 34., 98., 36.,  0.],\n",
              "       [82., 11., 28.,  6.,  0.],\n",
              "       [29., 75., 41., 51.,  0.],\n",
              "       [39., 99., 14., 84.,  0.]])"
            ]
          },
          "metadata": {},
          "execution_count": 83
        }
      ]
    },
    {
      "cell_type": "markdown",
      "source": [
        "# np.concatenate()\n",
        "This function concatenates series of arrays along an existing axis."
      ],
      "metadata": {
        "id": "hxrJPgOnJ_rk"
      }
    },
    {
      "cell_type": "code",
      "source": [
        "c = np.arange(6).reshape(2,3)\n",
        "d = np.arange(6,12).reshape(2,3)\n",
        "\n",
        "print(c)\n",
        "print(d)"
      ],
      "metadata": {
        "colab": {
          "base_uri": "https://localhost:8080/"
        },
        "id": "qf2E_2LUJVTX",
        "outputId": "8d44db65-43f4-45ac-c6a0-5e26018d9951"
      },
      "execution_count": 84,
      "outputs": [
        {
          "output_type": "stream",
          "name": "stdout",
          "text": [
            "[[0 1 2]\n",
            " [3 4 5]]\n",
            "[[ 6  7  8]\n",
            " [ 9 10 11]]\n"
          ]
        }
      ]
    },
    {
      "cell_type": "code",
      "source": [
        "print(np.concatenate((c,d)))\n",
        "print(np.concatenate((c,d), axis=1))"
      ],
      "metadata": {
        "colab": {
          "base_uri": "https://localhost:8080/"
        },
        "id": "nzCxzfsOKXhl",
        "outputId": "de415bf1-33dc-4dce-bc3e-83b32ff820a0"
      },
      "execution_count": 85,
      "outputs": [
        {
          "output_type": "stream",
          "name": "stdout",
          "text": [
            "[[ 0  1  2]\n",
            " [ 3  4  5]\n",
            " [ 6  7  8]\n",
            " [ 9 10 11]]\n",
            "[[ 0  1  2  6  7  8]\n",
            " [ 3  4  5  9 10 11]]\n"
          ]
        }
      ]
    },
    {
      "cell_type": "markdown",
      "source": [
        "# np.unique()\n",
        "[Documentation](https://numpy.org/doc/stable/reference/generated/numpy.unique.html)\n",
        "\n",
        "Returns the sorted unique elements of an array. There are three optional outputs in addition to the unique elements:\n",
        "\n",
        "*  the indices of the input array that give the unique values\n",
        "*  the indices of the unique array that reconstruct the input array\n",
        "*  the number of times each unique value comes up in the input array\n",
        "\n"
      ],
      "metadata": {
        "id": "IRAH-LWSKmI2"
      }
    },
    {
      "cell_type": "code",
      "source": [
        "e = np.array([1,2,3,4,5,6,6,6,7,7,8,8])\n",
        "print(e)"
      ],
      "metadata": {
        "colab": {
          "base_uri": "https://localhost:8080/"
        },
        "id": "efXvazzDKllp",
        "outputId": "2c3bd779-8876-42a7-a84e-f6ef594d572f"
      },
      "execution_count": 86,
      "outputs": [
        {
          "output_type": "stream",
          "name": "stdout",
          "text": [
            "[1 2 3 4 5 6 6 6 7 7 8 8]\n"
          ]
        }
      ]
    },
    {
      "cell_type": "code",
      "source": [
        "np.unique(e)"
      ],
      "metadata": {
        "colab": {
          "base_uri": "https://localhost:8080/"
        },
        "id": "4ePMl1RSM3AF",
        "outputId": "a8e6ccad-c17c-4760-da8c-1a36d7b40cfc"
      },
      "execution_count": 87,
      "outputs": [
        {
          "output_type": "execute_result",
          "data": {
            "text/plain": [
              "array([1, 2, 3, 4, 5, 6, 7, 8])"
            ]
          },
          "metadata": {},
          "execution_count": 87
        }
      ]
    },
    {
      "cell_type": "markdown",
      "source": [
        "# numpy.expand_dims()\n",
        "Expand the shape of an array.\n",
        "\n",
        "Insert a new axis that will appear at the axis position in the expanded array shape."
      ],
      "metadata": {
        "id": "LbzsGLAAM-GF"
      }
    },
    {
      "cell_type": "code",
      "source": [
        "print(a)"
      ],
      "metadata": {
        "colab": {
          "base_uri": "https://localhost:8080/"
        },
        "id": "o7e8NpjWM8Ua",
        "outputId": "e636737e-9d9a-47da-9477-8e9bf454f8f0"
      },
      "execution_count": 88,
      "outputs": [
        {
          "output_type": "stream",
          "name": "stdout",
          "text": [
            "[99 21 87 35 33 97 20 95 60  8 92 93 22 66 74]\n"
          ]
        }
      ]
    },
    {
      "cell_type": "code",
      "source": [
        "print(np.expand_dims(a, axis=0))\n",
        "print(np.expand_dims(a, axis=1))\n",
        "print(np.expand_dims(a, axis=0).shape)\n",
        "print(np.expand_dims(a, axis=1).shape)"
      ],
      "metadata": {
        "colab": {
          "base_uri": "https://localhost:8080/"
        },
        "id": "icrpwi2PM9Eg",
        "outputId": "150c6f94-87d7-4b48-ebd5-fea8b586c60a"
      },
      "execution_count": 89,
      "outputs": [
        {
          "output_type": "stream",
          "name": "stdout",
          "text": [
            "[[99 21 87 35 33 97 20 95 60  8 92 93 22 66 74]]\n",
            "[[99]\n",
            " [21]\n",
            " [87]\n",
            " [35]\n",
            " [33]\n",
            " [97]\n",
            " [20]\n",
            " [95]\n",
            " [60]\n",
            " [ 8]\n",
            " [92]\n",
            " [93]\n",
            " [22]\n",
            " [66]\n",
            " [74]]\n",
            "(1, 15)\n",
            "(15, 1)\n"
          ]
        }
      ]
    },
    {
      "cell_type": "markdown",
      "source": [
        "# np.where()\n",
        "This fucntions returns the indices of elements in an input array when the given conditions are satisfied"
      ],
      "metadata": {
        "id": "tp7Ef58JOTqI"
      }
    },
    {
      "cell_type": "code",
      "source": [
        "print(a)"
      ],
      "metadata": {
        "colab": {
          "base_uri": "https://localhost:8080/"
        },
        "id": "Gx3ThAM2M9G3",
        "outputId": "0b23fedf-2612-47e3-a745-2c386feaf362"
      },
      "execution_count": 90,
      "outputs": [
        {
          "output_type": "stream",
          "name": "stdout",
          "text": [
            "[99 21 87 35 33 97 20 95 60  8 92 93 22 66 74]\n"
          ]
        }
      ]
    },
    {
      "cell_type": "code",
      "source": [
        "# find all the elements with values greater than 50\n",
        "np.where(a>50)"
      ],
      "metadata": {
        "colab": {
          "base_uri": "https://localhost:8080/"
        },
        "id": "Zik6r1DnM9Jb",
        "outputId": "b1db434e-2a52-4222-ebc4-b70d772a5661"
      },
      "execution_count": 91,
      "outputs": [
        {
          "output_type": "execute_result",
          "data": {
            "text/plain": [
              "(array([ 0,  2,  5,  7,  8, 10, 11, 13, 14]),)"
            ]
          },
          "metadata": {},
          "execution_count": 91
        }
      ]
    },
    {
      "cell_type": "code",
      "source": [
        "# replace all the elements with values greater than 50 with 0\n",
        "np.where(a > 50, 0, a)"
      ],
      "metadata": {
        "colab": {
          "base_uri": "https://localhost:8080/"
        },
        "id": "-Cv26ZKzM9L_",
        "outputId": "ed9b36c1-e98d-48dc-ae22-00ff99f16aea"
      },
      "execution_count": 92,
      "outputs": [
        {
          "output_type": "execute_result",
          "data": {
            "text/plain": [
              "array([ 0, 21,  0, 35, 33,  0, 20,  0,  0,  8,  0,  0, 22,  0,  0])"
            ]
          },
          "metadata": {},
          "execution_count": 92
        }
      ]
    },
    {
      "cell_type": "code",
      "source": [
        "# replace all the even elements with 0\n",
        "np.where((a % 2 == 0), 0, a)"
      ],
      "metadata": {
        "colab": {
          "base_uri": "https://localhost:8080/"
        },
        "id": "gqjUmonFM9OZ",
        "outputId": "a6aecad0-f67e-458a-fd40-1d8774547520"
      },
      "execution_count": 93,
      "outputs": [
        {
          "output_type": "execute_result",
          "data": {
            "text/plain": [
              "array([99, 21, 87, 35, 33, 97,  0, 95,  0,  0,  0, 93,  0,  0,  0])"
            ]
          },
          "metadata": {},
          "execution_count": 93
        }
      ]
    },
    {
      "cell_type": "markdown",
      "source": [
        "# np.argmax() and np.argmin()\n",
        "This function returns the index of the maximum or minimum element in a particular axis"
      ],
      "metadata": {
        "id": "hl3ZFat_QFB3"
      }
    },
    {
      "cell_type": "code",
      "source": [
        "print(a)\n",
        "print(b)"
      ],
      "metadata": {
        "colab": {
          "base_uri": "https://localhost:8080/"
        },
        "id": "-q_WoekoQEgy",
        "outputId": "3ddf05c9-f3c1-413e-e5ad-187ca5dfd48f"
      },
      "execution_count": 94,
      "outputs": [
        {
          "output_type": "stream",
          "name": "stdout",
          "text": [
            "[99 21 87 35 33 97 20 95 60  8 92 93 22 66 74]\n",
            "[[17 83 75 63]\n",
            " [20 10 13 32]\n",
            " [41 34 98 36]\n",
            " [82 11 28  6]\n",
            " [29 75 41 51]\n",
            " [39 99 14 84]]\n"
          ]
        }
      ]
    },
    {
      "cell_type": "code",
      "source": [
        "print(np.argmax(a, axis=0))\n",
        "print(np.argmax(b, axis=0))\n",
        "print(np.argmax(b, axis=1))"
      ],
      "metadata": {
        "id": "FsExVTaJM9Qy",
        "colab": {
          "base_uri": "https://localhost:8080/"
        },
        "outputId": "10203832-0ea6-4b16-8546-06e1c8b44e96"
      },
      "execution_count": 95,
      "outputs": [
        {
          "output_type": "stream",
          "name": "stdout",
          "text": [
            "0\n",
            "[3 5 2 5]\n",
            "[1 3 2 0 1 1]\n"
          ]
        }
      ]
    },
    {
      "cell_type": "code",
      "source": [
        "print(np.argmin(a, axis=0))\n",
        "print(np.argmin(b, axis=0))\n",
        "print(np.argmin(b, axis=1))"
      ],
      "metadata": {
        "id": "z6VZ3dqAM9Tb",
        "colab": {
          "base_uri": "https://localhost:8080/"
        },
        "outputId": "9f0b75e9-b739-4edd-cf08-034d263afc70"
      },
      "execution_count": 96,
      "outputs": [
        {
          "output_type": "stream",
          "name": "stdout",
          "text": [
            "9\n",
            "[0 1 1 3]\n",
            "[0 1 1 3 0 2]\n"
          ]
        }
      ]
    },
    {
      "cell_type": "markdown",
      "source": [
        "# np.cumsum() and np.cumprod()\n",
        "This function computes the cummulative sum and product of the array elements over a given axis"
      ],
      "metadata": {
        "id": "lG9ga3gc05Rm"
      }
    },
    {
      "cell_type": "code",
      "source": [
        "print(a)\n",
        "print(b)"
      ],
      "metadata": {
        "id": "S8uqXsxAM9V7",
        "colab": {
          "base_uri": "https://localhost:8080/"
        },
        "outputId": "0289603f-a1de-4197-f004-5b1e927b4ba9"
      },
      "execution_count": 97,
      "outputs": [
        {
          "output_type": "stream",
          "name": "stdout",
          "text": [
            "[99 21 87 35 33 97 20 95 60  8 92 93 22 66 74]\n",
            "[[17 83 75 63]\n",
            " [20 10 13 32]\n",
            " [41 34 98 36]\n",
            " [82 11 28  6]\n",
            " [29 75 41 51]\n",
            " [39 99 14 84]]\n"
          ]
        }
      ]
    },
    {
      "cell_type": "code",
      "source": [
        "# np.cumsum() and np.cumprod()\n",
        "print(np.cumsum(a))\n",
        "print(np.cumprod(a))\n",
        "print(np.cumsum(b, axis=0))\n",
        "print(np.cumprod(b, axis=1))\n",
        "print(np.cumsum(b, axis=0))\n",
        "print(np.cumprod(b, axis=1))\n",
        "print(np.cumsum(b))\n",
        "print(np.cumprod(b))"
      ],
      "metadata": {
        "id": "bB1WTaD0M9Zg",
        "colab": {
          "base_uri": "https://localhost:8080/"
        },
        "outputId": "79f5e11e-61d7-4a60-d53f-61b08344a9f7"
      },
      "execution_count": 98,
      "outputs": [
        {
          "output_type": "stream",
          "name": "stdout",
          "text": [
            "[ 99 120 207 242 275 372 392 487 547 555 647 740 762 828 902]\n",
            "[                  99                 2079               180873\n",
            "              6330555            208908315          20264106555\n",
            "         405282131100       38501802454500     2310108147270000\n",
            "    18480865178160000  1700239596390720000 -7898414199049004544\n",
            " -7744415715692135424  5377396828186507264 -7901004335808598016]\n",
            "[[ 17  83  75  63]\n",
            " [ 37  93  88  95]\n",
            " [ 78 127 186 131]\n",
            " [160 138 214 137]\n",
            " [189 213 255 188]\n",
            " [228 312 269 272]]\n",
            "[[     17    1411  105825 6666975]\n",
            " [     20     200    2600   83200]\n",
            " [     41    1394  136612 4918032]\n",
            " [     82     902   25256  151536]\n",
            " [     29    2175   89175 4547925]\n",
            " [     39    3861   54054 4540536]]\n",
            "[[ 17  83  75  63]\n",
            " [ 37  93  88  95]\n",
            " [ 78 127 186 131]\n",
            " [160 138 214 137]\n",
            " [189 213 255 188]\n",
            " [228 312 269 272]]\n",
            "[[     17    1411  105825 6666975]\n",
            " [     20     200    2600   83200]\n",
            " [     41    1394  136612 4918032]\n",
            " [     82     902   25256  151536]\n",
            " [     29    2175   89175 4547925]\n",
            " [     39    3861   54054 4540536]]\n",
            "[  17  100  175  238  258  268  281  313  354  388  486  522  604  615\n",
            "  643  649  678  753  794  845  884  983  997 1081]\n",
            "[                  17                 1411               105825\n",
            "              6666975            133339500           1333395000\n",
            "          17334135000         554692320000       22742385120000\n",
            "      773241094080000    75777627219840000  2727994579914240000\n",
            "  2334626668453060608  7234149279274115072  -358004991129845760\n",
            " -2148029946779074560 -6952636235464507392 -4938883595970609152\n",
            "   419957376010092544  2971082102805168128  5191737567144247296\n",
            " -2526814916586962944  1518079315201622016 -1608546039030611968]\n"
          ]
        }
      ]
    },
    {
      "cell_type": "markdown",
      "source": [
        "# np.percentile()\n",
        "numpy.percentile() compute the q-th percentile of data along the specified axis. A percentile is a measure indicating the value below which a given percentage of observations in a group falls"
      ],
      "metadata": {
        "id": "xa0Ul6xl2sXy"
      }
    },
    {
      "cell_type": "code",
      "source": [
        "print(a)"
      ],
      "metadata": {
        "colab": {
          "base_uri": "https://localhost:8080/"
        },
        "id": "CXIHTyOO2r58",
        "outputId": "f46502e9-b4c8-45ad-80ed-a35b5bbaba9d"
      },
      "execution_count": 99,
      "outputs": [
        {
          "output_type": "stream",
          "name": "stdout",
          "text": [
            "[99 21 87 35 33 97 20 95 60  8 92 93 22 66 74]\n"
          ]
        }
      ]
    },
    {
      "cell_type": "code",
      "source": [
        "print(np.percentile(a, 50))\n",
        "print(np.percentile(a, 100))\n",
        "print(np.percentile(a, 0))\n",
        "print(np.percentile(a, 99))"
      ],
      "metadata": {
        "colab": {
          "base_uri": "https://localhost:8080/"
        },
        "id": "IdNJAJ0o1bmk",
        "outputId": "b1d9df29-4a1c-4df2-dd32-a3e6358fae16"
      },
      "execution_count": 100,
      "outputs": [
        {
          "output_type": "stream",
          "name": "stdout",
          "text": [
            "66.0\n",
            "99.0\n",
            "8.0\n",
            "98.72\n"
          ]
        }
      ]
    },
    {
      "cell_type": "markdown",
      "source": [
        "# np.histogram()\n",
        "This function gives the histogram (frequency distribution) of an input array."
      ],
      "metadata": {
        "id": "5pNar98i3Nab"
      }
    },
    {
      "cell_type": "code",
      "source": [
        "print(a)"
      ],
      "metadata": {
        "colab": {
          "base_uri": "https://localhost:8080/"
        },
        "id": "QpMj4QG03Mw9",
        "outputId": "8f256ce6-da90-480d-9f42-4bc1396f86f5"
      },
      "execution_count": 101,
      "outputs": [
        {
          "output_type": "stream",
          "name": "stdout",
          "text": [
            "[99 21 87 35 33 97 20 95 60  8 92 93 22 66 74]\n"
          ]
        }
      ]
    },
    {
      "cell_type": "code",
      "source": [
        "np.histogram(a, bins=[0, 10, 20, 30, 40, 50, 60, 70, 80, 90, 100])"
      ],
      "metadata": {
        "colab": {
          "base_uri": "https://localhost:8080/"
        },
        "id": "3xQZjbLH2rGR",
        "outputId": "e256295d-2b1c-4afc-a20f-7f52f819326f"
      },
      "execution_count": 102,
      "outputs": [
        {
          "output_type": "execute_result",
          "data": {
            "text/plain": [
              "(array([1, 0, 3, 2, 0, 0, 2, 1, 1, 5]),\n",
              " array([  0,  10,  20,  30,  40,  50,  60,  70,  80,  90, 100]))"
            ]
          },
          "metadata": {},
          "execution_count": 102
        }
      ]
    },
    {
      "cell_type": "markdown",
      "source": [
        "# np.corrcoef()\n",
        "Return Pearson product-moment correlation coefficients.\n",
        "\n",
        "https://numpy.org/doc/stable/reference/generated/numpy.corrcoef.html"
      ],
      "metadata": {
        "id": "4MdWbDBE4gaz"
      }
    },
    {
      "cell_type": "code",
      "source": [
        "salary = np.array([10000, 20000, 30000, 40000])\n",
        "experience = np.array([1, 7, 6, 9])\n",
        "np.corrcoef(salary, experience)"
      ],
      "metadata": {
        "colab": {
          "base_uri": "https://localhost:8080/"
        },
        "id": "TfygFiV22rN7",
        "outputId": "dd800a4d-9a8c-443a-d163-6edd9ed55592"
      },
      "execution_count": 103,
      "outputs": [
        {
          "output_type": "execute_result",
          "data": {
            "text/plain": [
              "array([[1.        , 0.87243973],\n",
              "       [0.87243973, 1.        ]])"
            ]
          },
          "metadata": {},
          "execution_count": 103
        }
      ]
    },
    {
      "cell_type": "markdown",
      "source": [
        "# np.isin()\n",
        "This function helps us check at once wether multiple items are present in the given array or not"
      ],
      "metadata": {
        "id": "iQMoFNgi6GXl"
      }
    },
    {
      "cell_type": "code",
      "source": [
        "print(a)"
      ],
      "metadata": {
        "colab": {
          "base_uri": "https://localhost:8080/"
        },
        "id": "vCz-jCGX6EXw",
        "outputId": "79c17c8e-d3e0-4782-d35b-ac8958a1f1ba"
      },
      "execution_count": 104,
      "outputs": [
        {
          "output_type": "stream",
          "name": "stdout",
          "text": [
            "[99 21 87 35 33 97 20 95 60  8 92 93 22 66 74]\n"
          ]
        }
      ]
    },
    {
      "cell_type": "code",
      "source": [
        "np.isin(a,[1, 87, 45, 73])"
      ],
      "metadata": {
        "colab": {
          "base_uri": "https://localhost:8080/"
        },
        "id": "JQBgrAZF5Y5W",
        "outputId": "eb3d033c-c720-4730-ae88-b5ded8993f30"
      },
      "execution_count": 105,
      "outputs": [
        {
          "output_type": "execute_result",
          "data": {
            "text/plain": [
              "array([False, False,  True, False, False, False, False, False, False,\n",
              "       False, False, False, False, False, False])"
            ]
          },
          "metadata": {},
          "execution_count": 105
        }
      ]
    },
    {
      "cell_type": "code",
      "source": [
        "a[np.isin(a,[1, 87, 45, 73])]"
      ],
      "metadata": {
        "colab": {
          "base_uri": "https://localhost:8080/"
        },
        "id": "mMusih697oGg",
        "outputId": "d91ab03c-c529-41e4-adc3-8f89ef585811"
      },
      "execution_count": 106,
      "outputs": [
        {
          "output_type": "execute_result",
          "data": {
            "text/plain": [
              "array([87])"
            ]
          },
          "metadata": {},
          "execution_count": 106
        }
      ]
    },
    {
      "cell_type": "markdown",
      "source": [
        "# np.flip()\n",
        "This function flips the order of the array in a given axis while preserving the shape of the array"
      ],
      "metadata": {
        "id": "pUxLBgIp7ewi"
      }
    },
    {
      "cell_type": "code",
      "source": [
        "print(a)\n",
        "print(np.flip(a))\n",
        "print('\\n',b)\n",
        "print('\\n',np.flip(b))"
      ],
      "metadata": {
        "colab": {
          "base_uri": "https://localhost:8080/"
        },
        "id": "fNrriQ6a5ZEK",
        "outputId": "eafe4d47-660a-49c3-d8ff-86d2b3627f00"
      },
      "execution_count": 107,
      "outputs": [
        {
          "output_type": "stream",
          "name": "stdout",
          "text": [
            "[99 21 87 35 33 97 20 95 60  8 92 93 22 66 74]\n",
            "[74 66 22 93 92  8 60 95 20 97 33 35 87 21 99]\n",
            "\n",
            " [[17 83 75 63]\n",
            " [20 10 13 32]\n",
            " [41 34 98 36]\n",
            " [82 11 28  6]\n",
            " [29 75 41 51]\n",
            " [39 99 14 84]]\n",
            "\n",
            " [[84 14 99 39]\n",
            " [51 41 75 29]\n",
            " [ 6 28 11 82]\n",
            " [36 98 34 41]\n",
            " [32 13 10 20]\n",
            " [63 75 83 17]]\n"
          ]
        }
      ]
    },
    {
      "cell_type": "markdown",
      "source": [
        "# np.put()\n",
        "This function replaces specified elements of an array with given values. The indexing works on the flattened target array."
      ],
      "metadata": {
        "id": "Exz4kRRG8KlT"
      }
    },
    {
      "cell_type": "code",
      "source": [
        "print(a)"
      ],
      "metadata": {
        "colab": {
          "base_uri": "https://localhost:8080/"
        },
        "id": "iVJ-9dbr8KLG",
        "outputId": "93e6e3d1-d34d-41aa-fb23-8f95e2937a51"
      },
      "execution_count": 108,
      "outputs": [
        {
          "output_type": "stream",
          "name": "stdout",
          "text": [
            "[99 21 87 35 33 97 20 95 60  8 92 93 22 66 74]\n"
          ]
        }
      ]
    },
    {
      "cell_type": "code",
      "source": [
        "np.put(a, [0, 3], [23,37])\n",
        "print(a)"
      ],
      "metadata": {
        "colab": {
          "base_uri": "https://localhost:8080/"
        },
        "id": "GN3ZvLYO2rRT",
        "outputId": "f8397db7-b990-4aa4-8542-b597ac3e75da"
      },
      "execution_count": 115,
      "outputs": [
        {
          "output_type": "stream",
          "name": "stdout",
          "text": [
            "[23 21 87 37 33 97 20 95 60  8 92 93 22 66 74]\n"
          ]
        }
      ]
    },
    {
      "cell_type": "markdown",
      "source": [
        "# np.delete()\n",
        "Return a new array with sub-arrays along an axis deleted. For a one dimensional array, this returns those entries not returned by arr[obj]."
      ],
      "metadata": {
        "id": "XrxZ9-2e-4xv"
      }
    },
    {
      "cell_type": "code",
      "source": [
        "print(a)"
      ],
      "metadata": {
        "colab": {
          "base_uri": "https://localhost:8080/"
        },
        "id": "TluIWQnR-upD",
        "outputId": "e5caafd6-8074-4ffc-da26-d8aee280b620"
      },
      "execution_count": 122,
      "outputs": [
        {
          "output_type": "stream",
          "name": "stdout",
          "text": [
            "[23 21 87 37 33 97 20 95 60  8 92 93 22 66 74]\n"
          ]
        }
      ]
    },
    {
      "cell_type": "code",
      "source": [
        "np.delete(a, [0, 1, 3])"
      ],
      "metadata": {
        "colab": {
          "base_uri": "https://localhost:8080/"
        },
        "id": "7-50wYJd-ugn",
        "outputId": "cec434ca-35c8-47e1-a218-4d6a58a781bf"
      },
      "execution_count": 123,
      "outputs": [
        {
          "output_type": "execute_result",
          "data": {
            "text/plain": [
              "array([87, 33, 97, 20, 95, 60,  8, 92, 93, 22, 66, 74])"
            ]
          },
          "metadata": {},
          "execution_count": 123
        }
      ]
    },
    {
      "cell_type": "markdown",
      "source": [
        "# Set Functions\n",
        "* np.union1d()\n",
        "* np.intersect1d()\n",
        "* np.setxor1d()\n",
        "* np.setdiff1d()\n",
        "* np.in1d()"
      ],
      "metadata": {
        "id": "xqTye78X_5rt"
      }
    },
    {
      "cell_type": "code",
      "source": [
        "arr = np.array([1,2,3,4,5,6,7,8,9,10])\n",
        "arr2 = np.array([1,2,4,5,10,11,20,14])"
      ],
      "metadata": {
        "id": "bfZruFcv-uUI"
      },
      "execution_count": 124,
      "outputs": []
    },
    {
      "cell_type": "code",
      "source": [
        "np.union1d(arr, arr2)"
      ],
      "metadata": {
        "colab": {
          "base_uri": "https://localhost:8080/"
        },
        "id": "ji696E78APjW",
        "outputId": "4499b09e-f18b-42e8-9de9-91fb21057614"
      },
      "execution_count": 125,
      "outputs": [
        {
          "output_type": "execute_result",
          "data": {
            "text/plain": [
              "array([ 1,  2,  3,  4,  5,  6,  7,  8,  9, 10, 11, 14, 20])"
            ]
          },
          "metadata": {},
          "execution_count": 125
        }
      ]
    },
    {
      "cell_type": "code",
      "source": [
        "np.intersect1d(arr,arr2)"
      ],
      "metadata": {
        "colab": {
          "base_uri": "https://localhost:8080/"
        },
        "id": "5yJWwYAzAPm9",
        "outputId": "64eff529-46d9-49eb-b747-e3916e77ed6a"
      },
      "execution_count": 126,
      "outputs": [
        {
          "output_type": "execute_result",
          "data": {
            "text/plain": [
              "array([ 1,  2,  4,  5, 10])"
            ]
          },
          "metadata": {},
          "execution_count": 126
        }
      ]
    },
    {
      "cell_type": "code",
      "source": [
        "np.setxor1d(arr, arr2)"
      ],
      "metadata": {
        "colab": {
          "base_uri": "https://localhost:8080/"
        },
        "id": "M5EW-3OjAnBb",
        "outputId": "b8d7fded-b469-4fc5-c4f9-3b32217b2517"
      },
      "execution_count": 127,
      "outputs": [
        {
          "output_type": "execute_result",
          "data": {
            "text/plain": [
              "array([ 3,  6,  7,  8,  9, 11, 14, 20])"
            ]
          },
          "metadata": {},
          "execution_count": 127
        }
      ]
    },
    {
      "cell_type": "code",
      "source": [
        "np.setdiff1d(arr, arr2)"
      ],
      "metadata": {
        "colab": {
          "base_uri": "https://localhost:8080/"
        },
        "id": "lEMEw-GhAq3d",
        "outputId": "0b50e896-f2c2-46dd-8498-1a587479fc49"
      },
      "execution_count": 129,
      "outputs": [
        {
          "output_type": "execute_result",
          "data": {
            "text/plain": [
              "array([3, 6, 7, 8, 9])"
            ]
          },
          "metadata": {},
          "execution_count": 129
        }
      ]
    },
    {
      "cell_type": "code",
      "source": [
        "np.in1d(arr, 1)"
      ],
      "metadata": {
        "colab": {
          "base_uri": "https://localhost:8080/"
        },
        "id": "UNw9fQhSAuX3",
        "outputId": "4472cde9-c2fb-4000-cfbb-c36e650df0c6"
      },
      "execution_count": 132,
      "outputs": [
        {
          "output_type": "stream",
          "name": "stderr",
          "text": [
            "/tmp/ipython-input-132-3431819946.py:1: DeprecationWarning: `in1d` is deprecated. Use `np.isin` instead.\n",
            "  np.in1d(arr, 1)\n"
          ]
        },
        {
          "output_type": "execute_result",
          "data": {
            "text/plain": [
              "array([ True, False, False, False, False, False, False, False, False,\n",
              "       False])"
            ]
          },
          "metadata": {},
          "execution_count": 132
        }
      ]
    },
    {
      "cell_type": "code",
      "source": [
        "print(a)"
      ],
      "metadata": {
        "colab": {
          "base_uri": "https://localhost:8080/"
        },
        "id": "qsNMaYV2BdzQ",
        "outputId": "b71263f4-25d4-4729-cc49-ca0c67c41355"
      },
      "execution_count": 135,
      "outputs": [
        {
          "output_type": "stream",
          "name": "stdout",
          "text": [
            "[23 21 87 37 33 97 20 95 60  8 92 93 22 66 74]\n"
          ]
        }
      ]
    },
    {
      "cell_type": "code",
      "source": [
        "np.clip(a, a_min=25, a_max=75)"
      ],
      "metadata": {
        "colab": {
          "base_uri": "https://localhost:8080/"
        },
        "id": "MpF3qC-aBh1j",
        "outputId": "f14fc309-f4fe-4a50-a81c-fcd75ebb0efe"
      },
      "execution_count": 136,
      "outputs": [
        {
          "output_type": "execute_result",
          "data": {
            "text/plain": [
              "array([25, 25, 75, 37, 33, 75, 25, 75, 60, 25, 75, 75, 25, 66, 74])"
            ]
          },
          "metadata": {},
          "execution_count": 136
        }
      ]
    }
  ]
}