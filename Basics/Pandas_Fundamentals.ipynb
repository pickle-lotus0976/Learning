{
  "nbformat": 4,
  "nbformat_minor": 0,
  "metadata": {
    "colab": {
      "provenance": []
    },
    "kernelspec": {
      "name": "python3",
      "display_name": "Python 3"
    },
    "language_info": {
      "name": "python"
    }
  },
  "cells": [
    {
      "cell_type": "code",
      "execution_count": 51,
      "metadata": {
        "id": "Cqihrt5mMFhz"
      },
      "outputs": [],
      "source": [
        "import numpy as np\n",
        "import pandas as pd"
      ]
    },
    {
      "cell_type": "markdown",
      "source": [
        "# Pandas Series\n",
        "Pandas series is like column in a table. It is a 1-D array containing data of any type."
      ],
      "metadata": {
        "id": "auUO2PfwMdHp"
      }
    },
    {
      "cell_type": "markdown",
      "source": [
        "# Series from list"
      ],
      "metadata": {
        "id": "T_M6AEwENx91"
      }
    },
    {
      "cell_type": "code",
      "source": [
        "# Strings\n",
        "countries = ['India', 'Sri Lanka', 'USA', 'Norway', 'Denmark']\n",
        "print(pd.Series(countries))"
      ],
      "metadata": {
        "colab": {
          "base_uri": "https://localhost:8080/"
        },
        "id": "9PhM1I9yMTWv",
        "outputId": "b32564f1-e037-4bdb-9f81-19fdfb23f3c9"
      },
      "execution_count": 52,
      "outputs": [
        {
          "output_type": "stream",
          "name": "stdout",
          "text": [
            "0        India\n",
            "1    Sri Lanka\n",
            "2          USA\n",
            "3       Norway\n",
            "4      Denmark\n",
            "dtype: object\n"
          ]
        }
      ]
    },
    {
      "cell_type": "markdown",
      "source": [
        "# Series from Integers"
      ],
      "metadata": {
        "id": "FpX1KVDbOoDW"
      }
    },
    {
      "cell_type": "code",
      "source": [
        "# integers\n",
        "runs = [64, 100, 14, 320, 100, 78, 13]\n",
        "print(pd.Series(runs))"
      ],
      "metadata": {
        "colab": {
          "base_uri": "https://localhost:8080/"
        },
        "id": "ofmHOXduOmLT",
        "outputId": "f42a314c-e0b1-4bdb-9095-18e244a17258"
      },
      "execution_count": 53,
      "outputs": [
        {
          "output_type": "stream",
          "name": "stdout",
          "text": [
            "0     64\n",
            "1    100\n",
            "2     14\n",
            "3    320\n",
            "4    100\n",
            "5     78\n",
            "6     13\n",
            "dtype: int64\n"
          ]
        }
      ]
    },
    {
      "cell_type": "code",
      "source": [
        "# custom index\n",
        "marks = [57, 67, 90, 98, 99, 78]\n",
        "subject = ['English', 'Hindi', 'Physics', 'Drawing', 'Mathematics', 'Computer']\n",
        "print(pd.Series(marks, subject))"
      ],
      "metadata": {
        "colab": {
          "base_uri": "https://localhost:8080/"
        },
        "id": "iTW-OVnKPAO7",
        "outputId": "5fab4447-48f5-4d13-a6b5-8f568b3b75bb"
      },
      "execution_count": 54,
      "outputs": [
        {
          "output_type": "stream",
          "name": "stdout",
          "text": [
            "English        57\n",
            "Hindi          67\n",
            "Physics        90\n",
            "Drawing        98\n",
            "Mathematics    99\n",
            "Computer       78\n",
            "dtype: int64\n"
          ]
        }
      ]
    },
    {
      "cell_type": "code",
      "source": [
        "# Setting a custom name\n",
        "print(pd.Series(marks, subject, name='Marks of a student'))"
      ],
      "metadata": {
        "colab": {
          "base_uri": "https://localhost:8080/"
        },
        "id": "-U9qec0MOm4m",
        "outputId": "1dbae9ee-67a0-4107-c7d9-db6760cad40f"
      },
      "execution_count": 55,
      "outputs": [
        {
          "output_type": "stream",
          "name": "stdout",
          "text": [
            "English        57\n",
            "Hindi          67\n",
            "Physics        90\n",
            "Drawing        98\n",
            "Mathematics    99\n",
            "Computer       78\n",
            "Name: Marks of a student, dtype: int64\n"
          ]
        }
      ]
    },
    {
      "cell_type": "markdown",
      "source": [
        "# Series from dictionary"
      ],
      "metadata": {
        "id": "DQRTwo5jQBCf"
      }
    },
    {
      "cell_type": "code",
      "source": [
        "# from a dictionary\n",
        "marks_dict = {'English': 57, 'Hindi': 67, 'Physics': 90, 'Drawing': 98, 'Mathematics': 99, 'Computer': 78}\n",
        "print(pd.Series(marks_dict))"
      ],
      "metadata": {
        "colab": {
          "base_uri": "https://localhost:8080/"
        },
        "id": "gDWchr_VQFzt",
        "outputId": "40621e33-6023-41d1-ee83-3bcb8a7a8599"
      },
      "execution_count": 56,
      "outputs": [
        {
          "output_type": "stream",
          "name": "stdout",
          "text": [
            "English        57\n",
            "Hindi          67\n",
            "Physics        90\n",
            "Drawing        98\n",
            "Mathematics    99\n",
            "Computer       78\n",
            "dtype: int64\n"
          ]
        }
      ]
    },
    {
      "cell_type": "code",
      "source": [
        "# setting a custom name\n",
        "print(pd.Series(marks_dict, name='Marks of a student'))"
      ],
      "metadata": {
        "colab": {
          "base_uri": "https://localhost:8080/"
        },
        "id": "ZwSG5K2POm7X",
        "outputId": "8f5504b6-2fce-49d1-8606-8c10d627be91"
      },
      "execution_count": 57,
      "outputs": [
        {
          "output_type": "stream",
          "name": "stdout",
          "text": [
            "English        57\n",
            "Hindi          67\n",
            "Physics        90\n",
            "Drawing        98\n",
            "Mathematics    99\n",
            "Computer       78\n",
            "Name: Marks of a student, dtype: int64\n"
          ]
        }
      ]
    },
    {
      "cell_type": "markdown",
      "source": [
        "# Series attributes"
      ],
      "metadata": {
        "id": "t-dA_FlnQkfF"
      }
    },
    {
      "cell_type": "code",
      "source": [
        "# size\n",
        "m = pd.Series(marks_dict, name='Marks of a student')\n",
        "print(m.size)"
      ],
      "metadata": {
        "colab": {
          "base_uri": "https://localhost:8080/"
        },
        "id": "JUVAuTwXQsxi",
        "outputId": "672e6dc2-2d07-4ee7-bf84-ca612444be03"
      },
      "execution_count": 58,
      "outputs": [
        {
          "output_type": "stream",
          "name": "stdout",
          "text": [
            "6\n"
          ]
        }
      ]
    },
    {
      "cell_type": "code",
      "source": [
        "# dtype\n",
        "print(m.dtype)"
      ],
      "metadata": {
        "colab": {
          "base_uri": "https://localhost:8080/"
        },
        "id": "jeJu9wuyQsz4",
        "outputId": "6a2becca-ec94-4318-93eb-bd3f39b420f9"
      },
      "execution_count": 59,
      "outputs": [
        {
          "output_type": "stream",
          "name": "stdout",
          "text": [
            "int64\n"
          ]
        }
      ]
    },
    {
      "cell_type": "code",
      "source": [
        "# name\n",
        "print(m.name)"
      ],
      "metadata": {
        "colab": {
          "base_uri": "https://localhost:8080/"
        },
        "id": "BYLidgVeQs2n",
        "outputId": "6cccbb98-20a9-4dcd-ac73-c7e5533d0eab"
      },
      "execution_count": 60,
      "outputs": [
        {
          "output_type": "stream",
          "name": "stdout",
          "text": [
            "Marks of a student\n"
          ]
        }
      ]
    },
    {
      "cell_type": "code",
      "source": [
        "# is_unique\n",
        "print(m.is_unique)"
      ],
      "metadata": {
        "colab": {
          "base_uri": "https://localhost:8080/"
        },
        "id": "C6NbG4l9Qs5j",
        "outputId": "994be0a8-b879-4565-a905-c31e07acfa3b"
      },
      "execution_count": 61,
      "outputs": [
        {
          "output_type": "stream",
          "name": "stdout",
          "text": [
            "True\n"
          ]
        }
      ]
    },
    {
      "cell_type": "code",
      "source": [
        "# index\n",
        "print(m.index)"
      ],
      "metadata": {
        "colab": {
          "base_uri": "https://localhost:8080/"
        },
        "id": "VLJGoTCwQs9B",
        "outputId": "752811a8-623b-40b8-b49d-870c95d79753"
      },
      "execution_count": 62,
      "outputs": [
        {
          "output_type": "stream",
          "name": "stdout",
          "text": [
            "Index(['English', 'Hindi', 'Physics', 'Drawing', 'Mathematics', 'Computer'], dtype='object')\n"
          ]
        }
      ]
    },
    {
      "cell_type": "code",
      "source": [
        "kohli = pd.Series(runs)\n",
        "print(kohli.index)"
      ],
      "metadata": {
        "colab": {
          "base_uri": "https://localhost:8080/"
        },
        "id": "ZR6dDWuxRlan",
        "outputId": "c4479ef6-1459-4a80-fa2b-6aa95dedd734"
      },
      "execution_count": 63,
      "outputs": [
        {
          "output_type": "stream",
          "name": "stdout",
          "text": [
            "RangeIndex(start=0, stop=7, step=1)\n"
          ]
        }
      ]
    },
    {
      "cell_type": "code",
      "source": [
        "# values\n",
        "print(m.values) # Always gives Numpy ndarray"
      ],
      "metadata": {
        "colab": {
          "base_uri": "https://localhost:8080/"
        },
        "id": "XHjNvEbZQtDH",
        "outputId": "8c812043-798a-474e-bec8-631cfa1e8438"
      },
      "execution_count": 64,
      "outputs": [
        {
          "output_type": "stream",
          "name": "stdout",
          "text": [
            "[57 67 90 98 99 78]\n"
          ]
        }
      ]
    },
    {
      "cell_type": "code",
      "source": [
        "type(kohli.values)"
      ],
      "metadata": {
        "colab": {
          "base_uri": "https://localhost:8080/"
        },
        "id": "KiiKfJU4SY3-",
        "outputId": "7587571f-969a-465a-cac1-ef131e656839"
      },
      "execution_count": 65,
      "outputs": [
        {
          "output_type": "execute_result",
          "data": {
            "text/plain": [
              "numpy.ndarray"
            ]
          },
          "metadata": {},
          "execution_count": 65
        }
      ]
    },
    {
      "cell_type": "markdown",
      "source": [
        "# Series from CSV files"
      ],
      "metadata": {
        "id": "jxIr2vUIfDgF"
      }
    },
    {
      "cell_type": "code",
      "source": [
        "# read_csv\n",
        "# with 1 col\n",
        "# print(pd.read_csv('/content/subs.csv')) # This always returns a Pandas Dataframe\n",
        "# print(type(pd.read_csv('/content/subs.csv'))) # Proof of concept\n",
        "subs = pd.read_csv('/content/subs.csv')\n",
        "subs_series = subs.squeeze()\n",
        "print(subs)"
      ],
      "metadata": {
        "colab": {
          "base_uri": "https://localhost:8080/"
        },
        "id": "Pm4Fm1qrfIpE",
        "outputId": "a986d7cf-416e-46c8-cfb4-ff47bf6fb735"
      },
      "execution_count": 66,
      "outputs": [
        {
          "output_type": "stream",
          "name": "stdout",
          "text": [
            "     Subscribers gained\n",
            "0                    48\n",
            "1                    57\n",
            "2                    40\n",
            "3                    43\n",
            "4                    44\n",
            "..                  ...\n",
            "360                 231\n",
            "361                 226\n",
            "362                 155\n",
            "363                 144\n",
            "364                 172\n",
            "\n",
            "[365 rows x 1 columns]\n"
          ]
        }
      ]
    },
    {
      "cell_type": "code",
      "source": [
        "runs = pd.read_csv('/content/kohli_ipl.csv', index_col='match_no')\n",
        "runs_series = runs.squeeze()\n",
        "print(runs)\n",
        "print(type(runs_series))"
      ],
      "metadata": {
        "colab": {
          "base_uri": "https://localhost:8080/"
        },
        "id": "a2sj_IppfJFa",
        "outputId": "b0e0183e-c315-443c-9d98-8f157f55ea98"
      },
      "execution_count": 67,
      "outputs": [
        {
          "output_type": "stream",
          "name": "stdout",
          "text": [
            "          runs\n",
            "match_no      \n",
            "1            1\n",
            "2           23\n",
            "3           13\n",
            "4           12\n",
            "5            1\n",
            "...        ...\n",
            "211          0\n",
            "212         20\n",
            "213         73\n",
            "214         25\n",
            "215          7\n",
            "\n",
            "[215 rows x 1 columns]\n",
            "<class 'pandas.core.series.Series'>\n"
          ]
        }
      ]
    },
    {
      "cell_type": "code",
      "source": [
        "movies = pd.read_csv('/content/bollywood.csv', index_col='movie')\n",
        "movies_series = movies.squeeze()\n",
        "print(movies)\n",
        "print(type(movies_series))\n",
        "print(movies)"
      ],
      "metadata": {
        "colab": {
          "base_uri": "https://localhost:8080/"
        },
        "id": "WJTter_UfJID",
        "outputId": "77c97850-8b5a-4b75-829a-b0a766202608"
      },
      "execution_count": 68,
      "outputs": [
        {
          "output_type": "stream",
          "name": "stdout",
          "text": [
            "                                                  lead\n",
            "movie                                                 \n",
            "Uri: The Surgical Strike                 Vicky Kaushal\n",
            "Battalion 609                              Vicky Ahuja\n",
            "The Accidental Prime Minister (film)       Anupam Kher\n",
            "Why Cheat India                          Emraan Hashmi\n",
            "Evening Shadows                       Mona Ambegaonkar\n",
            "...                                                ...\n",
            "Hum Tumhare Hain Sanam                  Shah Rukh Khan\n",
            "Aankhen (2002 film)                   Amitabh Bachchan\n",
            "Saathiya (film)                           Vivek Oberoi\n",
            "Company (film)                              Ajay Devgn\n",
            "Awara Paagal Deewana                      Akshay Kumar\n",
            "\n",
            "[1500 rows x 1 columns]\n",
            "<class 'pandas.core.series.Series'>\n",
            "                                                  lead\n",
            "movie                                                 \n",
            "Uri: The Surgical Strike                 Vicky Kaushal\n",
            "Battalion 609                              Vicky Ahuja\n",
            "The Accidental Prime Minister (film)       Anupam Kher\n",
            "Why Cheat India                          Emraan Hashmi\n",
            "Evening Shadows                       Mona Ambegaonkar\n",
            "...                                                ...\n",
            "Hum Tumhare Hain Sanam                  Shah Rukh Khan\n",
            "Aankhen (2002 film)                   Amitabh Bachchan\n",
            "Saathiya (film)                           Vivek Oberoi\n",
            "Company (film)                              Ajay Devgn\n",
            "Awara Paagal Deewana                      Akshay Kumar\n",
            "\n",
            "[1500 rows x 1 columns]\n"
          ]
        }
      ]
    },
    {
      "cell_type": "markdown",
      "source": [
        "# Series Methods"
      ],
      "metadata": {
        "id": "HjbH6ACGjACr"
      }
    },
    {
      "cell_type": "code",
      "source": [
        "# head and tail\n",
        "print(movies_series.head())\n",
        "print(movies_series.tail())"
      ],
      "metadata": {
        "colab": {
          "base_uri": "https://localhost:8080/"
        },
        "id": "NTVL7ng_fJLK",
        "outputId": "ade7f712-adb5-4852-d568-b670e50097db"
      },
      "execution_count": 69,
      "outputs": [
        {
          "output_type": "stream",
          "name": "stdout",
          "text": [
            "movie\n",
            "Uri: The Surgical Strike                   Vicky Kaushal\n",
            "Battalion 609                                Vicky Ahuja\n",
            "The Accidental Prime Minister (film)         Anupam Kher\n",
            "Why Cheat India                            Emraan Hashmi\n",
            "Evening Shadows                         Mona Ambegaonkar\n",
            "Name: lead, dtype: object\n",
            "movie\n",
            "Hum Tumhare Hain Sanam      Shah Rukh Khan\n",
            "Aankhen (2002 film)       Amitabh Bachchan\n",
            "Saathiya (film)               Vivek Oberoi\n",
            "Company (film)                  Ajay Devgn\n",
            "Awara Paagal Deewana          Akshay Kumar\n",
            "Name: lead, dtype: object\n"
          ]
        }
      ]
    },
    {
      "cell_type": "code",
      "source": [
        "print(runs_series.head(3))\n",
        "print(runs_series.tail(4))"
      ],
      "metadata": {
        "colab": {
          "base_uri": "https://localhost:8080/"
        },
        "id": "2HhCJADtfJOg",
        "outputId": "a0d9c75d-1589-4fa8-e1dc-fc7f69e03485"
      },
      "execution_count": 70,
      "outputs": [
        {
          "output_type": "stream",
          "name": "stdout",
          "text": [
            "match_no\n",
            "1     1\n",
            "2    23\n",
            "3    13\n",
            "Name: runs, dtype: int64\n",
            "match_no\n",
            "212    20\n",
            "213    73\n",
            "214    25\n",
            "215     7\n",
            "Name: runs, dtype: int64\n"
          ]
        }
      ]
    },
    {
      "cell_type": "code",
      "source": [
        "# sample\n",
        "movies_series.sample()"
      ],
      "metadata": {
        "colab": {
          "base_uri": "https://localhost:8080/",
          "height": 146
        },
        "id": "UP0f7MOzfJRf",
        "outputId": "38e97ed6-9ff5-4357-df53-0216b2780097"
      },
      "execution_count": 71,
      "outputs": [
        {
          "output_type": "execute_result",
          "data": {
            "text/plain": [
              "movie\n",
              "Cash (2007 film)    Ajay Devgn\n",
              "Name: lead, dtype: object"
            ],
            "text/html": [
              "<div>\n",
              "<style scoped>\n",
              "    .dataframe tbody tr th:only-of-type {\n",
              "        vertical-align: middle;\n",
              "    }\n",
              "\n",
              "    .dataframe tbody tr th {\n",
              "        vertical-align: top;\n",
              "    }\n",
              "\n",
              "    .dataframe thead th {\n",
              "        text-align: right;\n",
              "    }\n",
              "</style>\n",
              "<table border=\"1\" class=\"dataframe\">\n",
              "  <thead>\n",
              "    <tr style=\"text-align: right;\">\n",
              "      <th></th>\n",
              "      <th>lead</th>\n",
              "    </tr>\n",
              "    <tr>\n",
              "      <th>movie</th>\n",
              "      <th></th>\n",
              "    </tr>\n",
              "  </thead>\n",
              "  <tbody>\n",
              "    <tr>\n",
              "      <th>Cash (2007 film)</th>\n",
              "      <td>Ajay Devgn</td>\n",
              "    </tr>\n",
              "  </tbody>\n",
              "</table>\n",
              "</div><br><label><b>dtype:</b> object</label>"
            ]
          },
          "metadata": {},
          "execution_count": 71
        }
      ]
    },
    {
      "cell_type": "code",
      "source": [
        "# value_counts\n",
        "print(movies_series.value_counts())"
      ],
      "metadata": {
        "colab": {
          "base_uri": "https://localhost:8080/"
        },
        "id": "3KoGKPbhklvO",
        "outputId": "4f39e4fc-05a7-4fb0-8219-7bde070fecd1"
      },
      "execution_count": 72,
      "outputs": [
        {
          "output_type": "stream",
          "name": "stdout",
          "text": [
            "lead\n",
            "Akshay Kumar         48\n",
            "Amitabh Bachchan     45\n",
            "Ajay Devgn           38\n",
            "Salman Khan          31\n",
            "Sanjay Dutt          26\n",
            "                     ..\n",
            "Seema Azmi            1\n",
            "Akanksha Puri         1\n",
            "Charanpreet Insan     1\n",
            "Jaideep Ahlawat       1\n",
            "Monali Thakur         1\n",
            "Name: count, Length: 566, dtype: int64\n"
          ]
        }
      ]
    },
    {
      "cell_type": "code",
      "source": [
        "# sort_values -> inplace\n",
        "print(runs_series.sort_values()) # Sort in ascending order\n",
        "print(runs_series.sort_values(ascending=False)) # Sort in descending order\n",
        "print('Highest Runs=',runs_series.sort_values(ascending=False).head(1).values[0]) # Gives the highest runs"
      ],
      "metadata": {
        "colab": {
          "base_uri": "https://localhost:8080/"
        },
        "id": "W9aNmj7SfJVE",
        "outputId": "372fc1f6-2dfa-4084-c0fe-854867e6d2f4"
      },
      "execution_count": 73,
      "outputs": [
        {
          "output_type": "stream",
          "name": "stdout",
          "text": [
            "match_no\n",
            "8        0\n",
            "87       0\n",
            "93       0\n",
            "91       0\n",
            "206      0\n",
            "      ... \n",
            "164    100\n",
            "120    100\n",
            "123    108\n",
            "126    109\n",
            "128    113\n",
            "Name: runs, Length: 215, dtype: int64\n",
            "match_no\n",
            "128    113\n",
            "126    109\n",
            "123    108\n",
            "120    100\n",
            "164    100\n",
            "      ... \n",
            "93       0\n",
            "130      0\n",
            "206      0\n",
            "207      0\n",
            "211      0\n",
            "Name: runs, Length: 215, dtype: int64\n",
            "Highest Runs= 113\n"
          ]
        }
      ]
    },
    {
      "cell_type": "code",
      "source": [
        "print(runs_series)"
      ],
      "metadata": {
        "colab": {
          "base_uri": "https://localhost:8080/"
        },
        "id": "9EOqO3xkkX7u",
        "outputId": "1e6bcf7b-0b7f-4546-af63-7484dedf4b78"
      },
      "execution_count": 74,
      "outputs": [
        {
          "output_type": "stream",
          "name": "stdout",
          "text": [
            "match_no\n",
            "1       1\n",
            "2      23\n",
            "3      13\n",
            "4      12\n",
            "5       1\n",
            "       ..\n",
            "211     0\n",
            "212    20\n",
            "213    73\n",
            "214    25\n",
            "215     7\n",
            "Name: runs, Length: 215, dtype: int64\n"
          ]
        }
      ]
    },
    {
      "cell_type": "code",
      "source": [
        "runs_series.copy().sort_values(inplace=True)\n",
        "print(runs_series)"
      ],
      "metadata": {
        "colab": {
          "base_uri": "https://localhost:8080/"
        },
        "id": "ogbYGTmokYHV",
        "outputId": "77a9f446-1800-440e-a6dc-b651e4b490d1"
      },
      "execution_count": 75,
      "outputs": [
        {
          "output_type": "stream",
          "name": "stdout",
          "text": [
            "match_no\n",
            "1       1\n",
            "2      23\n",
            "3      13\n",
            "4      12\n",
            "5       1\n",
            "       ..\n",
            "211     0\n",
            "212    20\n",
            "213    73\n",
            "214    25\n",
            "215     7\n",
            "Name: runs, Length: 215, dtype: int64\n"
          ]
        }
      ]
    },
    {
      "cell_type": "code",
      "source": [
        "movies_series.copy().sort_index(ascending=False ,inplace=True)"
      ],
      "metadata": {
        "id": "OmnJBj8jkYM4"
      },
      "execution_count": 76,
      "outputs": []
    },
    {
      "cell_type": "markdown",
      "source": [
        "# Mathematical Functions"
      ],
      "metadata": {
        "id": "VPOwDKlBn9ut"
      }
    },
    {
      "cell_type": "code",
      "source": [
        "# count\n",
        "runs_series.count()"
      ],
      "metadata": {
        "colab": {
          "base_uri": "https://localhost:8080/"
        },
        "id": "MVkigeH-oCoO",
        "outputId": "b598da28-6b7c-4d33-dccb-a2118d19e83f"
      },
      "execution_count": 77,
      "outputs": [
        {
          "output_type": "execute_result",
          "data": {
            "text/plain": [
              "np.int64(215)"
            ]
          },
          "metadata": {},
          "execution_count": 77
        }
      ]
    },
    {
      "cell_type": "code",
      "source": [
        "# sum and product\n",
        "print(subs_series.sum())\n",
        "print(subs_series.prod())"
      ],
      "metadata": {
        "colab": {
          "base_uri": "https://localhost:8080/"
        },
        "id": "HbOqEjwdoCrU",
        "outputId": "f53d66ec-b552-41a0-a1d3-76aaa9c76e2d"
      },
      "execution_count": 78,
      "outputs": [
        {
          "output_type": "stream",
          "name": "stdout",
          "text": [
            "49510\n",
            "0\n"
          ]
        }
      ]
    },
    {
      "cell_type": "code",
      "source": [
        "# mean, median, mode, sd, var\n",
        "print(subs_series.mean())\n",
        "print(runs_series.median())\n",
        "print(movies_series.mode())\n",
        "print(subs_series.std())\n",
        "print(runs_series.var())"
      ],
      "metadata": {
        "colab": {
          "base_uri": "https://localhost:8080/"
        },
        "id": "al5F3xI6oCvF",
        "outputId": "545b06cd-6264-4760-ab56-0685d2a9bd68"
      },
      "execution_count": 79,
      "outputs": [
        {
          "output_type": "stream",
          "name": "stdout",
          "text": [
            "135.64383561643837\n",
            "24.0\n",
            "0    Akshay Kumar\n",
            "Name: lead, dtype: object\n",
            "62.67502303725269\n",
            "688.0024777222344\n"
          ]
        }
      ]
    },
    {
      "cell_type": "code",
      "source": [
        "# min/max\n",
        "print(subs_series.min())\n",
        "print(subs_series.max())"
      ],
      "metadata": {
        "colab": {
          "base_uri": "https://localhost:8080/"
        },
        "id": "oGfKfDQ3oCx-",
        "outputId": "216c398c-6111-49f4-df52-5aeda22915d9"
      },
      "execution_count": 80,
      "outputs": [
        {
          "output_type": "stream",
          "name": "stdout",
          "text": [
            "33\n",
            "396\n"
          ]
        }
      ]
    },
    {
      "cell_type": "code",
      "source": [
        "# describe\n",
        "print(movies_series.describe())\n",
        "runs_series.describe()"
      ],
      "metadata": {
        "colab": {
          "base_uri": "https://localhost:8080/",
          "height": 421
        },
        "id": "O_wHJ4oMoC0r",
        "outputId": "b842fb5b-5227-4452-a9e1-6fbcc14d7411"
      },
      "execution_count": 81,
      "outputs": [
        {
          "output_type": "stream",
          "name": "stdout",
          "text": [
            "count             1500\n",
            "unique             566\n",
            "top       Akshay Kumar\n",
            "freq                48\n",
            "Name: lead, dtype: object\n"
          ]
        },
        {
          "output_type": "execute_result",
          "data": {
            "text/plain": [
              "count    215.000000\n",
              "mean      30.855814\n",
              "std       26.229801\n",
              "min        0.000000\n",
              "25%        9.000000\n",
              "50%       24.000000\n",
              "75%       48.000000\n",
              "max      113.000000\n",
              "Name: runs, dtype: float64"
            ],
            "text/html": [
              "<div>\n",
              "<style scoped>\n",
              "    .dataframe tbody tr th:only-of-type {\n",
              "        vertical-align: middle;\n",
              "    }\n",
              "\n",
              "    .dataframe tbody tr th {\n",
              "        vertical-align: top;\n",
              "    }\n",
              "\n",
              "    .dataframe thead th {\n",
              "        text-align: right;\n",
              "    }\n",
              "</style>\n",
              "<table border=\"1\" class=\"dataframe\">\n",
              "  <thead>\n",
              "    <tr style=\"text-align: right;\">\n",
              "      <th></th>\n",
              "      <th>runs</th>\n",
              "    </tr>\n",
              "  </thead>\n",
              "  <tbody>\n",
              "    <tr>\n",
              "      <th>count</th>\n",
              "      <td>215.000000</td>\n",
              "    </tr>\n",
              "    <tr>\n",
              "      <th>mean</th>\n",
              "      <td>30.855814</td>\n",
              "    </tr>\n",
              "    <tr>\n",
              "      <th>std</th>\n",
              "      <td>26.229801</td>\n",
              "    </tr>\n",
              "    <tr>\n",
              "      <th>min</th>\n",
              "      <td>0.000000</td>\n",
              "    </tr>\n",
              "    <tr>\n",
              "      <th>25%</th>\n",
              "      <td>9.000000</td>\n",
              "    </tr>\n",
              "    <tr>\n",
              "      <th>50%</th>\n",
              "      <td>24.000000</td>\n",
              "    </tr>\n",
              "    <tr>\n",
              "      <th>75%</th>\n",
              "      <td>48.000000</td>\n",
              "    </tr>\n",
              "    <tr>\n",
              "      <th>max</th>\n",
              "      <td>113.000000</td>\n",
              "    </tr>\n",
              "  </tbody>\n",
              "</table>\n",
              "</div><br><label><b>dtype:</b> float64</label>"
            ]
          },
          "metadata": {},
          "execution_count": 81
        }
      ]
    },
    {
      "cell_type": "markdown",
      "source": [
        "# Series Indexing"
      ],
      "metadata": {
        "id": "8zmulo7Swgtp"
      }
    },
    {
      "cell_type": "code",
      "source": [
        "# Integer indxeing\n",
        "x = pd.Series([1,2,3,4,5])\n",
        "print(x[0])\n",
        "print(x[3])"
      ],
      "metadata": {
        "colab": {
          "base_uri": "https://localhost:8080/"
        },
        "id": "VEW4nR0YoC3w",
        "outputId": "bfdedbc1-b1fa-4425-dd4a-becaa898824a"
      },
      "execution_count": 82,
      "outputs": [
        {
          "output_type": "stream",
          "name": "stdout",
          "text": [
            "1\n",
            "4\n"
          ]
        }
      ]
    },
    {
      "cell_type": "code",
      "source": [
        "x[-2]"
      ],
      "metadata": {
        "colab": {
          "base_uri": "https://localhost:8080/",
          "height": 408
        },
        "id": "YvYYWAHJoC6c",
        "outputId": "8fc217ab-8a33-4e67-80da-f329a5d5bb8e"
      },
      "execution_count": 83,
      "outputs": [
        {
          "output_type": "error",
          "ename": "KeyError",
          "evalue": "-2",
          "traceback": [
            "\u001b[0;31m---------------------------------------------------------------------------\u001b[0m",
            "\u001b[0;31mValueError\u001b[0m                                Traceback (most recent call last)",
            "\u001b[0;32m/usr/local/lib/python3.11/dist-packages/pandas/core/indexes/range.py\u001b[0m in \u001b[0;36mget_loc\u001b[0;34m(self, key)\u001b[0m\n\u001b[1;32m    412\u001b[0m             \u001b[0;32mtry\u001b[0m\u001b[0;34m:\u001b[0m\u001b[0;34m\u001b[0m\u001b[0;34m\u001b[0m\u001b[0m\n\u001b[0;32m--> 413\u001b[0;31m                 \u001b[0;32mreturn\u001b[0m \u001b[0mself\u001b[0m\u001b[0;34m.\u001b[0m\u001b[0m_range\u001b[0m\u001b[0;34m.\u001b[0m\u001b[0mindex\u001b[0m\u001b[0;34m(\u001b[0m\u001b[0mnew_key\u001b[0m\u001b[0;34m)\u001b[0m\u001b[0;34m\u001b[0m\u001b[0;34m\u001b[0m\u001b[0m\n\u001b[0m\u001b[1;32m    414\u001b[0m             \u001b[0;32mexcept\u001b[0m \u001b[0mValueError\u001b[0m \u001b[0;32mas\u001b[0m \u001b[0merr\u001b[0m\u001b[0;34m:\u001b[0m\u001b[0;34m\u001b[0m\u001b[0;34m\u001b[0m\u001b[0m\n",
            "\u001b[0;31mValueError\u001b[0m: -2 is not in range",
            "\nThe above exception was the direct cause of the following exception:\n",
            "\u001b[0;31mKeyError\u001b[0m                                  Traceback (most recent call last)",
            "\u001b[0;32m/tmp/ipython-input-83-388843636.py\u001b[0m in \u001b[0;36m<cell line: 0>\u001b[0;34m()\u001b[0m\n\u001b[0;32m----> 1\u001b[0;31m \u001b[0mx\u001b[0m\u001b[0;34m[\u001b[0m\u001b[0;34m-\u001b[0m\u001b[0;36m2\u001b[0m\u001b[0;34m]\u001b[0m\u001b[0;34m\u001b[0m\u001b[0;34m\u001b[0m\u001b[0m\n\u001b[0m",
            "\u001b[0;32m/usr/local/lib/python3.11/dist-packages/pandas/core/series.py\u001b[0m in \u001b[0;36m__getitem__\u001b[0;34m(self, key)\u001b[0m\n\u001b[1;32m   1119\u001b[0m \u001b[0;34m\u001b[0m\u001b[0m\n\u001b[1;32m   1120\u001b[0m         \u001b[0;32melif\u001b[0m \u001b[0mkey_is_scalar\u001b[0m\u001b[0;34m:\u001b[0m\u001b[0;34m\u001b[0m\u001b[0;34m\u001b[0m\u001b[0m\n\u001b[0;32m-> 1121\u001b[0;31m             \u001b[0;32mreturn\u001b[0m \u001b[0mself\u001b[0m\u001b[0;34m.\u001b[0m\u001b[0m_get_value\u001b[0m\u001b[0;34m(\u001b[0m\u001b[0mkey\u001b[0m\u001b[0;34m)\u001b[0m\u001b[0;34m\u001b[0m\u001b[0;34m\u001b[0m\u001b[0m\n\u001b[0m\u001b[1;32m   1122\u001b[0m \u001b[0;34m\u001b[0m\u001b[0m\n\u001b[1;32m   1123\u001b[0m         \u001b[0;31m# Convert generator to list before going through hashable part\u001b[0m\u001b[0;34m\u001b[0m\u001b[0;34m\u001b[0m\u001b[0m\n",
            "\u001b[0;32m/usr/local/lib/python3.11/dist-packages/pandas/core/series.py\u001b[0m in \u001b[0;36m_get_value\u001b[0;34m(self, label, takeable)\u001b[0m\n\u001b[1;32m   1235\u001b[0m \u001b[0;34m\u001b[0m\u001b[0m\n\u001b[1;32m   1236\u001b[0m         \u001b[0;31m# Similar to Index.get_value, but we do not fall back to positional\u001b[0m\u001b[0;34m\u001b[0m\u001b[0;34m\u001b[0m\u001b[0m\n\u001b[0;32m-> 1237\u001b[0;31m         \u001b[0mloc\u001b[0m \u001b[0;34m=\u001b[0m \u001b[0mself\u001b[0m\u001b[0;34m.\u001b[0m\u001b[0mindex\u001b[0m\u001b[0;34m.\u001b[0m\u001b[0mget_loc\u001b[0m\u001b[0;34m(\u001b[0m\u001b[0mlabel\u001b[0m\u001b[0;34m)\u001b[0m\u001b[0;34m\u001b[0m\u001b[0;34m\u001b[0m\u001b[0m\n\u001b[0m\u001b[1;32m   1238\u001b[0m \u001b[0;34m\u001b[0m\u001b[0m\n\u001b[1;32m   1239\u001b[0m         \u001b[0;32mif\u001b[0m \u001b[0mis_integer\u001b[0m\u001b[0;34m(\u001b[0m\u001b[0mloc\u001b[0m\u001b[0;34m)\u001b[0m\u001b[0;34m:\u001b[0m\u001b[0;34m\u001b[0m\u001b[0;34m\u001b[0m\u001b[0m\n",
            "\u001b[0;32m/usr/local/lib/python3.11/dist-packages/pandas/core/indexes/range.py\u001b[0m in \u001b[0;36mget_loc\u001b[0;34m(self, key)\u001b[0m\n\u001b[1;32m    413\u001b[0m                 \u001b[0;32mreturn\u001b[0m \u001b[0mself\u001b[0m\u001b[0;34m.\u001b[0m\u001b[0m_range\u001b[0m\u001b[0;34m.\u001b[0m\u001b[0mindex\u001b[0m\u001b[0;34m(\u001b[0m\u001b[0mnew_key\u001b[0m\u001b[0;34m)\u001b[0m\u001b[0;34m\u001b[0m\u001b[0;34m\u001b[0m\u001b[0m\n\u001b[1;32m    414\u001b[0m             \u001b[0;32mexcept\u001b[0m \u001b[0mValueError\u001b[0m \u001b[0;32mas\u001b[0m \u001b[0merr\u001b[0m\u001b[0;34m:\u001b[0m\u001b[0;34m\u001b[0m\u001b[0;34m\u001b[0m\u001b[0m\n\u001b[0;32m--> 415\u001b[0;31m                 \u001b[0;32mraise\u001b[0m \u001b[0mKeyError\u001b[0m\u001b[0;34m(\u001b[0m\u001b[0mkey\u001b[0m\u001b[0;34m)\u001b[0m \u001b[0;32mfrom\u001b[0m \u001b[0merr\u001b[0m\u001b[0;34m\u001b[0m\u001b[0;34m\u001b[0m\u001b[0m\n\u001b[0m\u001b[1;32m    416\u001b[0m         \u001b[0;32mif\u001b[0m \u001b[0misinstance\u001b[0m\u001b[0;34m(\u001b[0m\u001b[0mkey\u001b[0m\u001b[0;34m,\u001b[0m \u001b[0mHashable\u001b[0m\u001b[0;34m)\u001b[0m\u001b[0;34m:\u001b[0m\u001b[0;34m\u001b[0m\u001b[0;34m\u001b[0m\u001b[0m\n\u001b[1;32m    417\u001b[0m             \u001b[0;32mraise\u001b[0m \u001b[0mKeyError\u001b[0m\u001b[0;34m(\u001b[0m\u001b[0mkey\u001b[0m\u001b[0;34m)\u001b[0m\u001b[0;34m\u001b[0m\u001b[0;34m\u001b[0m\u001b[0m\n",
            "\u001b[0;31mKeyError\u001b[0m: -2"
          ]
        }
      ]
    },
    {
      "cell_type": "code",
      "source": [
        "movies_series[-1]"
      ],
      "metadata": {
        "colab": {
          "base_uri": "https://localhost:8080/",
          "height": 90
        },
        "id": "Xn36pxj8oC98",
        "outputId": "7e0a04f6-3634-411d-ee32-a476cf7169b0"
      },
      "execution_count": 84,
      "outputs": [
        {
          "output_type": "stream",
          "name": "stderr",
          "text": [
            "/tmp/ipython-input-84-1925277891.py:1: FutureWarning: Series.__getitem__ treating keys as positions is deprecated. In a future version, integer keys will always be treated as labels (consistent with DataFrame behavior). To access a value by position, use `ser.iloc[pos]`\n",
            "  movies_series[-1]\n"
          ]
        },
        {
          "output_type": "execute_result",
          "data": {
            "text/plain": [
              "'Akshay Kumar'"
            ],
            "application/vnd.google.colaboratory.intrinsic+json": {
              "type": "string"
            }
          },
          "metadata": {},
          "execution_count": 84
        }
      ]
    },
    {
      "cell_type": "code",
      "source": [
        "# Slicing\n",
        "print(runs_series[5:16])\n",
        "print(runs_series[-5:])\n",
        "print(movies_series[-10:])"
      ],
      "metadata": {
        "colab": {
          "base_uri": "https://localhost:8080/"
        },
        "id": "dT3Ej_hqHEx6",
        "outputId": "06bef1bf-701f-4843-db88-6fa07861379d"
      },
      "execution_count": 87,
      "outputs": [
        {
          "output_type": "stream",
          "name": "stdout",
          "text": [
            "match_no\n",
            "6      9\n",
            "7     34\n",
            "8      0\n",
            "9     21\n",
            "10     3\n",
            "11    10\n",
            "12    38\n",
            "13     3\n",
            "14    11\n",
            "15    50\n",
            "16     2\n",
            "Name: runs, dtype: int64\n",
            "match_no\n",
            "211     0\n",
            "212    20\n",
            "213    73\n",
            "214    25\n",
            "215     7\n",
            "Name: runs, dtype: int64\n",
            "movie\n",
            "Raaz (2002 film)                    Dino Morea\n",
            "Zameen (2003 film)                  Ajay Devgn\n",
            "Waisa Bhi Hota Hai Part II        Arshad Warsi\n",
            "Devdas (2002 Hindi film)        Shah Rukh Khan\n",
            "Kaante                        Amitabh Bachchan\n",
            "Hum Tumhare Hain Sanam          Shah Rukh Khan\n",
            "Aankhen (2002 film)           Amitabh Bachchan\n",
            "Saathiya (film)                   Vivek Oberoi\n",
            "Company (film)                      Ajay Devgn\n",
            "Awara Paagal Deewana              Akshay Kumar\n",
            "Name: lead, dtype: object\n"
          ]
        }
      ]
    },
    {
      "cell_type": "code",
      "source": [
        "# fancy indexing\n",
        "print(movies_series[['Aankhen (2002 film)', 'Awara Paagal Deewana', 'Zameen (2003 film)']])\n",
        "runs_series[[1, 4, 8, 213]]"
      ],
      "metadata": {
        "colab": {
          "base_uri": "https://localhost:8080/",
          "height": 327
        },
        "id": "F1EJzxzlHEud",
        "outputId": "23e47bf7-f449-43a9-efe8-0523f87a1e90"
      },
      "execution_count": 92,
      "outputs": [
        {
          "output_type": "stream",
          "name": "stdout",
          "text": [
            "movie\n",
            "Aankhen (2002 film)     Amitabh Bachchan\n",
            "Awara Paagal Deewana        Akshay Kumar\n",
            "Zameen (2003 film)            Ajay Devgn\n",
            "Name: lead, dtype: object\n"
          ]
        },
        {
          "output_type": "execute_result",
          "data": {
            "text/plain": [
              "match_no\n",
              "1       1\n",
              "4      12\n",
              "8       0\n",
              "213    73\n",
              "Name: runs, dtype: int64"
            ],
            "text/html": [
              "<div>\n",
              "<style scoped>\n",
              "    .dataframe tbody tr th:only-of-type {\n",
              "        vertical-align: middle;\n",
              "    }\n",
              "\n",
              "    .dataframe tbody tr th {\n",
              "        vertical-align: top;\n",
              "    }\n",
              "\n",
              "    .dataframe thead th {\n",
              "        text-align: right;\n",
              "    }\n",
              "</style>\n",
              "<table border=\"1\" class=\"dataframe\">\n",
              "  <thead>\n",
              "    <tr style=\"text-align: right;\">\n",
              "      <th></th>\n",
              "      <th>runs</th>\n",
              "    </tr>\n",
              "    <tr>\n",
              "      <th>match_no</th>\n",
              "      <th></th>\n",
              "    </tr>\n",
              "  </thead>\n",
              "  <tbody>\n",
              "    <tr>\n",
              "      <th>1</th>\n",
              "      <td>1</td>\n",
              "    </tr>\n",
              "    <tr>\n",
              "      <th>4</th>\n",
              "      <td>12</td>\n",
              "    </tr>\n",
              "    <tr>\n",
              "      <th>8</th>\n",
              "      <td>0</td>\n",
              "    </tr>\n",
              "    <tr>\n",
              "      <th>213</th>\n",
              "      <td>73</td>\n",
              "    </tr>\n",
              "  </tbody>\n",
              "</table>\n",
              "</div><br><label><b>dtype:</b> int64</label>"
            ]
          },
          "metadata": {},
          "execution_count": 92
        }
      ]
    },
    {
      "cell_type": "markdown",
      "source": [
        "# Series Editing"
      ],
      "metadata": {
        "id": "ATS50cgnIRbF"
      }
    },
    {
      "cell_type": "code",
      "source": [
        "marks_series = pd.Series(marks, subject)"
      ],
      "metadata": {
        "id": "P_XZZku2HEr9"
      },
      "execution_count": 94,
      "outputs": []
    },
    {
      "cell_type": "code",
      "source": [
        "# using indexing\n",
        "marks_series[1] = 100\n",
        "print(marks_series)"
      ],
      "metadata": {
        "colab": {
          "base_uri": "https://localhost:8080/"
        },
        "id": "i7I2R27NIVXr",
        "outputId": "6c5b934b-513d-4350-c32e-a2222ecae2b1"
      },
      "execution_count": 96,
      "outputs": [
        {
          "output_type": "stream",
          "name": "stdout",
          "text": [
            "English         57\n",
            "Hindi          100\n",
            "Physics         90\n",
            "Drawing         98\n",
            "Mathematics     99\n",
            "Computer        78\n",
            "dtype: int64\n"
          ]
        },
        {
          "output_type": "stream",
          "name": "stderr",
          "text": [
            "/tmp/ipython-input-96-1177659617.py:1: FutureWarning: Series.__setitem__ treating keys as positions is deprecated. In a future version, integer keys will always be treated as labels (consistent with DataFrame behavior). To set a value by position, use `ser.iloc[pos] = value`\n",
            "  marks_series[1] = 100\n"
          ]
        }
      ]
    },
    {
      "cell_type": "code",
      "source": [
        "marks_series['SST'] = 90\n",
        "marks_series"
      ],
      "metadata": {
        "colab": {
          "base_uri": "https://localhost:8080/",
          "height": 303
        },
        "id": "OnENJPe4IVaI",
        "outputId": "64f9cced-2619-4ee6-88de-53d46e071db0"
      },
      "execution_count": 98,
      "outputs": [
        {
          "output_type": "execute_result",
          "data": {
            "text/plain": [
              "English         57\n",
              "Hindi          100\n",
              "Physics         90\n",
              "Drawing         98\n",
              "Mathematics     99\n",
              "Computer        78\n",
              "SST             90\n",
              "dtype: int64"
            ],
            "text/html": [
              "<div>\n",
              "<style scoped>\n",
              "    .dataframe tbody tr th:only-of-type {\n",
              "        vertical-align: middle;\n",
              "    }\n",
              "\n",
              "    .dataframe tbody tr th {\n",
              "        vertical-align: top;\n",
              "    }\n",
              "\n",
              "    .dataframe thead th {\n",
              "        text-align: right;\n",
              "    }\n",
              "</style>\n",
              "<table border=\"1\" class=\"dataframe\">\n",
              "  <thead>\n",
              "    <tr style=\"text-align: right;\">\n",
              "      <th></th>\n",
              "      <th>0</th>\n",
              "    </tr>\n",
              "  </thead>\n",
              "  <tbody>\n",
              "    <tr>\n",
              "      <th>English</th>\n",
              "      <td>57</td>\n",
              "    </tr>\n",
              "    <tr>\n",
              "      <th>Hindi</th>\n",
              "      <td>100</td>\n",
              "    </tr>\n",
              "    <tr>\n",
              "      <th>Physics</th>\n",
              "      <td>90</td>\n",
              "    </tr>\n",
              "    <tr>\n",
              "      <th>Drawing</th>\n",
              "      <td>98</td>\n",
              "    </tr>\n",
              "    <tr>\n",
              "      <th>Mathematics</th>\n",
              "      <td>99</td>\n",
              "    </tr>\n",
              "    <tr>\n",
              "      <th>Computer</th>\n",
              "      <td>78</td>\n",
              "    </tr>\n",
              "    <tr>\n",
              "      <th>SST</th>\n",
              "      <td>90</td>\n",
              "    </tr>\n",
              "  </tbody>\n",
              "</table>\n",
              "</div><br><label><b>dtype:</b> int64</label>"
            ]
          },
          "metadata": {},
          "execution_count": 98
        }
      ]
    },
    {
      "cell_type": "code",
      "source": [
        "# fancy indexing"
      ],
      "metadata": {
        "id": "oYG65FR5IVds"
      },
      "execution_count": null,
      "outputs": []
    },
    {
      "cell_type": "code",
      "source": [
        "# label indexing\n",
        "movies_series['Awara Paagal Deewana'] = 'Anushka Sharma'\n",
        "print(movies_series)\n",
        "print(movies_series['Awara Paagal Deewana'])"
      ],
      "metadata": {
        "colab": {
          "base_uri": "https://localhost:8080/"
        },
        "id": "dGQ47bQTIVmp",
        "outputId": "d7aa416b-c5c6-4138-efb5-abafc5ef577a"
      },
      "execution_count": 100,
      "outputs": [
        {
          "output_type": "stream",
          "name": "stdout",
          "text": [
            "movie\n",
            "Uri: The Surgical Strike                   Vicky Kaushal\n",
            "Battalion 609                                Vicky Ahuja\n",
            "The Accidental Prime Minister (film)         Anupam Kher\n",
            "Why Cheat India                            Emraan Hashmi\n",
            "Evening Shadows                         Mona Ambegaonkar\n",
            "                                              ...       \n",
            "Hum Tumhare Hain Sanam                    Shah Rukh Khan\n",
            "Aankhen (2002 film)                     Amitabh Bachchan\n",
            "Saathiya (film)                             Vivek Oberoi\n",
            "Company (film)                                Ajay Devgn\n",
            "Awara Paagal Deewana                      Anushka Sharma\n",
            "Name: lead, Length: 1500, dtype: object\n",
            "Anushka Sharma\n"
          ]
        }
      ]
    },
    {
      "cell_type": "markdown",
      "source": [
        "# Series with Python funtionalities"
      ],
      "metadata": {
        "id": "SG_mKmUXK96p"
      }
    },
    {
      "cell_type": "code",
      "source": [
        "# len/type/dir/sorted/max/min\n",
        "print(len(subs_series))\n",
        "print(type(subs_series))\n",
        "print(max(subs_series))\n",
        "print(min(subs_series))"
      ],
      "metadata": {
        "colab": {
          "base_uri": "https://localhost:8080/"
        },
        "id": "31viJziqLG-c",
        "outputId": "ea4818f1-4dbd-4fdf-a34f-15c2c6da338b"
      },
      "execution_count": 101,
      "outputs": [
        {
          "output_type": "stream",
          "name": "stdout",
          "text": [
            "365\n",
            "<class 'pandas.core.series.Series'>\n",
            "396\n",
            "33\n"
          ]
        }
      ]
    },
    {
      "cell_type": "code",
      "source": [
        "print(dir(subs_series))\n",
        "print(sorted(subs_series))"
      ],
      "metadata": {
        "colab": {
          "base_uri": "https://localhost:8080/"
        },
        "id": "xoANwNHaL93Z",
        "outputId": "662ee1dd-0650-4c71-de0f-beb5610083f8"
      },
      "execution_count": 102,
      "outputs": [
        {
          "output_type": "stream",
          "name": "stdout",
          "text": [
            "['T', '_AXIS_LEN', '_AXIS_ORDERS', '_AXIS_TO_AXIS_NUMBER', '_HANDLED_TYPES', '__abs__', '__add__', '__and__', '__annotations__', '__array__', '__array_priority__', '__array_ufunc__', '__bool__', '__class__', '__column_consortium_standard__', '__contains__', '__copy__', '__deepcopy__', '__delattr__', '__delitem__', '__dict__', '__dir__', '__divmod__', '__doc__', '__eq__', '__finalize__', '__float__', '__floordiv__', '__format__', '__ge__', '__getattr__', '__getattribute__', '__getitem__', '__getstate__', '__gt__', '__hash__', '__iadd__', '__iand__', '__ifloordiv__', '__imod__', '__imul__', '__init__', '__init_subclass__', '__int__', '__invert__', '__ior__', '__ipow__', '__isub__', '__iter__', '__itruediv__', '__ixor__', '__le__', '__len__', '__lt__', '__matmul__', '__mod__', '__module__', '__mul__', '__ne__', '__neg__', '__new__', '__nonzero__', '__or__', '__pandas_priority__', '__pos__', '__pow__', '__radd__', '__rand__', '__rdivmod__', '__reduce__', '__reduce_ex__', '__repr__', '__rfloordiv__', '__rmatmul__', '__rmod__', '__rmul__', '__ror__', '__round__', '__rpow__', '__rsub__', '__rtruediv__', '__rxor__', '__setattr__', '__setitem__', '__setstate__', '__sizeof__', '__str__', '__sub__', '__subclasshook__', '__truediv__', '__weakref__', '__xor__', '_accessors', '_accum_func', '_agg_examples_doc', '_agg_see_also_doc', '_align_for_op', '_align_frame', '_align_series', '_append', '_arith_method', '_as_manager', '_attrs', '_binop', '_cacher', '_can_hold_na', '_check_inplace_and_allows_duplicate_labels', '_check_is_chained_assignment_possible', '_check_label_or_level_ambiguity', '_check_setitem_copy', '_clear_item_cache', '_clip_with_one_bound', '_clip_with_scalar', '_cmp_method', '_consolidate', '_consolidate_inplace', '_construct_axes_dict', '_construct_result', '_constructor', '_constructor_expanddim', '_constructor_expanddim_from_mgr', '_constructor_from_mgr', '_data', '_deprecate_downcast', '_dir_additions', '_dir_deletions', '_drop_axis', '_drop_labels_or_levels', '_duplicated', '_find_valid_index', '_flags', '_flex_method', '_from_mgr', '_get_axis', '_get_axis_name', '_get_axis_number', '_get_axis_resolvers', '_get_block_manager_axis', '_get_bool_data', '_get_cacher', '_get_cleaned_column_resolvers', '_get_index_resolvers', '_get_label_or_level_values', '_get_numeric_data', '_get_rows_with_mask', '_get_value', '_get_values_tuple', '_get_with', '_getitem_slice', '_gotitem', '_hidden_attrs', '_indexed_same', '_info_axis', '_info_axis_name', '_info_axis_number', '_init_dict', '_init_mgr', '_inplace_method', '_internal_names', '_internal_names_set', '_is_cached', '_is_copy', '_is_label_or_level_reference', '_is_label_reference', '_is_level_reference', '_is_mixed_type', '_is_view', '_is_view_after_cow_rules', '_item_cache', '_ixs', '_logical_func', '_logical_method', '_map_values', '_maybe_update_cacher', '_memory_usage', '_metadata', '_mgr', '_min_count_stat_function', '_name', '_needs_reindex_multi', '_pad_or_backfill', '_protect_consolidate', '_reduce', '_references', '_reindex_axes', '_reindex_indexer', '_reindex_multi', '_reindex_with_indexers', '_rename', '_replace_single', '_repr_data_resource_', '_repr_latex_', '_reset_cache', '_reset_cacher', '_set_as_cached', '_set_axis', '_set_axis_name', '_set_axis_nocheck', '_set_is_copy', '_set_labels', '_set_name', '_set_value', '_set_values', '_set_with', '_set_with_engine', '_shift_with_freq', '_slice', '_stat_function', '_stat_function_ddof', '_take_with_is_copy', '_to_latex_via_styler', '_typ', '_update_inplace', '_validate_dtype', '_values', '_where', 'abs', 'add', 'add_prefix', 'add_suffix', 'agg', 'aggregate', 'align', 'all', 'any', 'apply', 'argmax', 'argmin', 'argsort', 'array', 'asfreq', 'asof', 'astype', 'at', 'at_time', 'attrs', 'autocorr', 'axes', 'backfill', 'between', 'between_time', 'bfill', 'bool', 'case_when', 'clip', 'combine', 'combine_first', 'compare', 'convert_dtypes', 'copy', 'corr', 'count', 'cov', 'cummax', 'cummin', 'cumprod', 'cumsum', 'describe', 'diff', 'div', 'divide', 'divmod', 'dot', 'drop', 'drop_duplicates', 'droplevel', 'dropna', 'dtype', 'dtypes', 'duplicated', 'empty', 'eq', 'equals', 'ewm', 'expanding', 'explode', 'factorize', 'ffill', 'fillna', 'filter', 'first', 'first_valid_index', 'flags', 'floordiv', 'ge', 'get', 'groupby', 'gt', 'hasnans', 'head', 'hist', 'iat', 'idxmax', 'idxmin', 'iloc', 'index', 'infer_objects', 'info', 'interpolate', 'is_monotonic_decreasing', 'is_monotonic_increasing', 'is_unique', 'isin', 'isna', 'isnull', 'item', 'items', 'keys', 'kurt', 'kurtosis', 'last', 'last_valid_index', 'le', 'list', 'loc', 'lt', 'map', 'mask', 'max', 'mean', 'median', 'memory_usage', 'min', 'mod', 'mode', 'mul', 'multiply', 'name', 'nbytes', 'ndim', 'ne', 'nlargest', 'notna', 'notnull', 'nsmallest', 'nunique', 'pad', 'pct_change', 'pipe', 'plot', 'pop', 'pow', 'prod', 'product', 'quantile', 'radd', 'rank', 'ravel', 'rdiv', 'rdivmod', 'reindex', 'reindex_like', 'rename', 'rename_axis', 'reorder_levels', 'repeat', 'replace', 'resample', 'reset_index', 'rfloordiv', 'rmod', 'rmul', 'rolling', 'round', 'rpow', 'rsub', 'rtruediv', 'sample', 'searchsorted', 'sem', 'set_axis', 'set_flags', 'shape', 'shift', 'size', 'skew', 'sort_index', 'sort_values', 'squeeze', 'std', 'struct', 'sub', 'subtract', 'sum', 'swapaxes', 'swaplevel', 'tail', 'take', 'to_clipboard', 'to_csv', 'to_dict', 'to_excel', 'to_frame', 'to_hdf', 'to_json', 'to_latex', 'to_list', 'to_markdown', 'to_numpy', 'to_period', 'to_pickle', 'to_sql', 'to_string', 'to_timestamp', 'to_xarray', 'transform', 'transpose', 'truediv', 'truncate', 'tz_convert', 'tz_localize', 'unique', 'unstack', 'update', 'value_counts', 'values', 'var', 'view', 'where', 'xs']\n",
            "[33, 33, 35, 37, 39, 40, 40, 40, 40, 42, 42, 43, 44, 44, 44, 45, 46, 46, 48, 49, 49, 49, 49, 50, 50, 50, 51, 54, 56, 56, 56, 56, 57, 61, 62, 64, 65, 65, 66, 66, 66, 66, 67, 68, 70, 70, 70, 71, 71, 72, 72, 72, 72, 72, 73, 74, 74, 75, 76, 76, 76, 76, 77, 77, 78, 78, 78, 79, 79, 80, 80, 80, 81, 81, 82, 82, 83, 83, 83, 84, 84, 84, 85, 86, 86, 86, 87, 87, 87, 87, 88, 88, 88, 88, 88, 89, 89, 89, 90, 90, 90, 90, 91, 92, 92, 92, 93, 93, 93, 93, 95, 95, 96, 96, 96, 96, 97, 97, 98, 98, 99, 99, 100, 100, 100, 101, 101, 101, 102, 102, 103, 103, 104, 104, 104, 105, 105, 105, 105, 105, 105, 105, 105, 105, 108, 108, 108, 108, 108, 108, 109, 109, 110, 110, 110, 111, 111, 112, 113, 113, 113, 114, 114, 114, 114, 115, 115, 115, 115, 117, 117, 117, 118, 118, 119, 119, 119, 119, 120, 122, 123, 123, 123, 123, 123, 124, 125, 126, 127, 128, 128, 129, 130, 131, 131, 132, 132, 134, 134, 134, 135, 135, 136, 136, 136, 137, 138, 138, 138, 139, 140, 144, 145, 146, 146, 146, 146, 147, 149, 150, 150, 150, 150, 151, 152, 152, 152, 153, 153, 153, 154, 154, 154, 155, 155, 156, 156, 156, 156, 157, 157, 157, 157, 158, 158, 159, 159, 160, 160, 160, 160, 162, 164, 166, 167, 167, 168, 170, 170, 170, 170, 171, 172, 172, 173, 173, 173, 174, 174, 175, 175, 176, 176, 177, 178, 179, 179, 180, 180, 180, 182, 183, 183, 183, 184, 184, 184, 185, 185, 185, 185, 186, 186, 186, 188, 189, 190, 190, 192, 192, 192, 196, 196, 196, 197, 197, 202, 202, 202, 203, 204, 206, 207, 209, 210, 210, 211, 212, 213, 214, 216, 219, 220, 221, 221, 222, 222, 224, 225, 225, 226, 227, 228, 229, 230, 231, 233, 236, 236, 237, 241, 243, 244, 245, 247, 249, 254, 254, 258, 259, 259, 261, 261, 265, 267, 268, 269, 276, 276, 290, 295, 301, 306, 312, 396]\n"
          ]
        }
      ]
    },
    {
      "cell_type": "code",
      "source": [
        "# type conversion\n",
        "list(marks_series)"
      ],
      "metadata": {
        "colab": {
          "base_uri": "https://localhost:8080/"
        },
        "id": "MGC7ZRE8LHC3",
        "outputId": "0f889c6c-9d32-4d30-aac9-d39e89115d1f"
      },
      "execution_count": 103,
      "outputs": [
        {
          "output_type": "execute_result",
          "data": {
            "text/plain": [
              "[57, 100, 90, 98, 99, 78, 90]"
            ]
          },
          "metadata": {},
          "execution_count": 103
        }
      ]
    },
    {
      "cell_type": "code",
      "source": [
        "dict(marks_series)"
      ],
      "metadata": {
        "colab": {
          "base_uri": "https://localhost:8080/"
        },
        "id": "xCZ7654FMO4_",
        "outputId": "15d3acc6-60f0-485e-939c-99d963b9a2f3"
      },
      "execution_count": 104,
      "outputs": [
        {
          "output_type": "execute_result",
          "data": {
            "text/plain": [
              "{'English': np.int64(57),\n",
              " 'Hindi': np.int64(100),\n",
              " 'Physics': np.int64(90),\n",
              " 'Drawing': np.int64(98),\n",
              " 'Mathematics': np.int64(99),\n",
              " 'Computer': np.int64(78),\n",
              " 'SST': np.int64(90)}"
            ]
          },
          "metadata": {},
          "execution_count": 104
        }
      ]
    },
    {
      "cell_type": "code",
      "source": [
        "# membership operator\n",
        "'The Accidental Prime Minister (film)' in movies_series #searches only in indices"
      ],
      "metadata": {
        "colab": {
          "base_uri": "https://localhost:8080/"
        },
        "id": "_J3NrThYLHFS",
        "outputId": "3dc332cc-dc31-4945-9590-0c0528e5c0ea"
      },
      "execution_count": 106,
      "outputs": [
        {
          "output_type": "execute_result",
          "data": {
            "text/plain": [
              "True"
            ]
          },
          "metadata": {},
          "execution_count": 106
        }
      ]
    },
    {
      "cell_type": "code",
      "source": [
        "'Anushka Sharma' in movies_series"
      ],
      "metadata": {
        "colab": {
          "base_uri": "https://localhost:8080/"
        },
        "id": "f2IoGtb_MrvG",
        "outputId": "cff7e167-8c7e-4f82-b619-576d3e2fa1e0"
      },
      "execution_count": 107,
      "outputs": [
        {
          "output_type": "execute_result",
          "data": {
            "text/plain": [
              "False"
            ]
          },
          "metadata": {},
          "execution_count": 107
        }
      ]
    },
    {
      "cell_type": "code",
      "source": [
        "'Anushka Sharma' in movies_series.values"
      ],
      "metadata": {
        "colab": {
          "base_uri": "https://localhost:8080/"
        },
        "id": "i6YGceWdM2n5",
        "outputId": "1097a503-e16b-4761-dfe7-3cb3fc748f2c"
      },
      "execution_count": 108,
      "outputs": [
        {
          "output_type": "execute_result",
          "data": {
            "text/plain": [
              "True"
            ]
          },
          "metadata": {},
          "execution_count": 108
        }
      ]
    },
    {
      "cell_type": "code",
      "source": [
        "# looping\n",
        "for i in marks_series:\n",
        "  print(i)"
      ],
      "metadata": {
        "colab": {
          "base_uri": "https://localhost:8080/"
        },
        "id": "iJHZpnmbLHHt",
        "outputId": "638388de-d1e7-44f4-c59d-5d177095e2d3"
      },
      "execution_count": 110,
      "outputs": [
        {
          "output_type": "stream",
          "name": "stdout",
          "text": [
            "57\n",
            "100\n",
            "90\n",
            "98\n",
            "99\n",
            "78\n",
            "90\n"
          ]
        }
      ]
    },
    {
      "cell_type": "code",
      "source": [
        "for i in marks_series.index:\n",
        "  print(i)"
      ],
      "metadata": {
        "colab": {
          "base_uri": "https://localhost:8080/"
        },
        "id": "lbvsF9aKNM67",
        "outputId": "6b889572-f049-44c2-afc7-ba18b63a940f"
      },
      "execution_count": 111,
      "outputs": [
        {
          "output_type": "stream",
          "name": "stdout",
          "text": [
            "English\n",
            "Hindi\n",
            "Physics\n",
            "Drawing\n",
            "Mathematics\n",
            "Computer\n",
            "SST\n"
          ]
        }
      ]
    },
    {
      "cell_type": "code",
      "source": [
        "# arithmetic operation\n",
        "print(100 - marks_series) # Good example of broadcasting which we learnt in Numpy\n",
        "print(100 + marks_series)\n",
        "print(100 / marks_series)\n",
        "print(100 * marks_series)\n",
        "print(100 % marks_series)"
      ],
      "metadata": {
        "colab": {
          "base_uri": "https://localhost:8080/"
        },
        "id": "0EIs6Bt5LHJ7",
        "outputId": "3e31442f-8292-49cd-b728-e7ab05af68a4"
      },
      "execution_count": 114,
      "outputs": [
        {
          "output_type": "stream",
          "name": "stdout",
          "text": [
            "English        43\n",
            "Hindi           0\n",
            "Physics        10\n",
            "Drawing         2\n",
            "Mathematics     1\n",
            "Computer       22\n",
            "SST            10\n",
            "dtype: int64\n",
            "English        157\n",
            "Hindi          200\n",
            "Physics        190\n",
            "Drawing        198\n",
            "Mathematics    199\n",
            "Computer       178\n",
            "SST            190\n",
            "dtype: int64\n",
            "English        1.754386\n",
            "Hindi          1.000000\n",
            "Physics        1.111111\n",
            "Drawing        1.020408\n",
            "Mathematics    1.010101\n",
            "Computer       1.282051\n",
            "SST            1.111111\n",
            "dtype: float64\n",
            "English         5700\n",
            "Hindi          10000\n",
            "Physics         9000\n",
            "Drawing         9800\n",
            "Mathematics     9900\n",
            "Computer        7800\n",
            "SST             9000\n",
            "dtype: int64\n",
            "English        43\n",
            "Hindi           0\n",
            "Physics        10\n",
            "Drawing         2\n",
            "Mathematics     1\n",
            "Computer       22\n",
            "SST            10\n",
            "dtype: int64\n"
          ]
        }
      ]
    },
    {
      "cell_type": "code",
      "source": [
        "# relational operation\n",
        "print(runs_series >= 50)"
      ],
      "metadata": {
        "colab": {
          "base_uri": "https://localhost:8080/"
        },
        "id": "5KDPSZRDLHMW",
        "outputId": "cb976e35-2dc9-4f26-e49d-b0991168c8dd"
      },
      "execution_count": 116,
      "outputs": [
        {
          "output_type": "stream",
          "name": "stdout",
          "text": [
            "match_no\n",
            "1      False\n",
            "2      False\n",
            "3      False\n",
            "4      False\n",
            "5      False\n",
            "       ...  \n",
            "211    False\n",
            "212    False\n",
            "213     True\n",
            "214    False\n",
            "215    False\n",
            "Name: runs, Length: 215, dtype: bool\n"
          ]
        }
      ]
    },
    {
      "cell_type": "markdown",
      "source": [
        "# Boolean Indexing"
      ],
      "metadata": {
        "id": "c4xiPW6NOEJf"
      }
    },
    {
      "cell_type": "code",
      "source": [
        "print(runs_series[runs_series >= 50])"
      ],
      "metadata": {
        "colab": {
          "base_uri": "https://localhost:8080/"
        },
        "id": "l4dILfBELHOi",
        "outputId": "14b632b6-0ba3-4d8d-bd25-ff1485e8a0f7"
      },
      "execution_count": 118,
      "outputs": [
        {
          "output_type": "stream",
          "name": "stdout",
          "text": [
            "match_no\n",
            "15      50\n",
            "34      58\n",
            "41      71\n",
            "44      56\n",
            "45      67\n",
            "52      70\n",
            "57      57\n",
            "68      73\n",
            "71      51\n",
            "73      58\n",
            "74      65\n",
            "80      57\n",
            "81      93\n",
            "82      99\n",
            "85      56\n",
            "97      67\n",
            "99      73\n",
            "103     51\n",
            "104     62\n",
            "110     82\n",
            "116     75\n",
            "117     79\n",
            "119     80\n",
            "120    100\n",
            "122     52\n",
            "123    108\n",
            "126    109\n",
            "127     75\n",
            "128    113\n",
            "129     54\n",
            "131     54\n",
            "132     62\n",
            "134     64\n",
            "137     55\n",
            "141     58\n",
            "144     57\n",
            "145     92\n",
            "148     68\n",
            "152     70\n",
            "160     84\n",
            "162     67\n",
            "164    100\n",
            "175     72\n",
            "178     90\n",
            "182     50\n",
            "188     72\n",
            "197     51\n",
            "198     53\n",
            "209     58\n",
            "213     73\n",
            "Name: runs, dtype: int64\n"
          ]
        }
      ]
    },
    {
      "cell_type": "code",
      "source": [
        "print(movies_series[movies_series == 'Akshay Kumar'])"
      ],
      "metadata": {
        "colab": {
          "base_uri": "https://localhost:8080/"
        },
        "id": "r62SiVDkLHQ1",
        "outputId": "7bdb33c0-cfa1-44df-b1f0-2726342581a1"
      },
      "execution_count": 120,
      "outputs": [
        {
          "output_type": "stream",
          "name": "stdout",
          "text": [
            "movie\n",
            "Kesari (film)                           Akshay Kumar\n",
            "Mission Mangal                          Akshay Kumar\n",
            "Housefull 4                             Akshay Kumar\n",
            "Good Newwz                              Akshay Kumar\n",
            "Gold (2018 film)                        Akshay Kumar\n",
            "Toilet: Ek Prem Katha                   Akshay Kumar\n",
            "Airlift (film)                          Akshay Kumar\n",
            "Baby (2015 Hindi film)                  Akshay Kumar\n",
            "Singh Is Bliing                         Akshay Kumar\n",
            "Gabbar Is Back                          Akshay Kumar\n",
            "Gabbar Is Back                          Akshay Kumar\n",
            "Brothers (2015 film)                    Akshay Kumar\n",
            "Holiday: A Soldier Is Never Off Duty    Akshay Kumar\n",
            "Entertainment (2014 film)               Akshay Kumar\n",
            "The Shaukeens                           Akshay Kumar\n",
            "Special 26                              Akshay Kumar\n",
            "Once Upon ay Time in Mumbai Dobaara!    Akshay Kumar\n",
            "Boss (2013 Hindi film)                  Akshay Kumar\n",
            "Joker (2012 film)                       Akshay Kumar\n",
            "Housefull 2                             Akshay Kumar\n",
            "Thank You (2011 film)                   Akshay Kumar\n",
            "Desi Boyz                               Akshay Kumar\n",
            "Housefull (2010 film)                   Akshay Kumar\n",
            "Khatta Meetha (2010 film)               Akshay Kumar\n",
            "Tees Maar Khan (2010 film)              Akshay Kumar\n",
            "Action Replayy                          Akshay Kumar\n",
            "Blue (2009 film)                        Akshay Kumar\n",
            "De Dana Dan                             Akshay Kumar\n",
            "Singh Is Kinng                          Akshay Kumar\n",
            "Tashan (film)                           Akshay Kumar\n",
            "Bhool Bhulaiyaa                         Akshay Kumar\n",
            "Namastey London                         Akshay Kumar\n",
            "Welcome (2007 film)                     Akshay Kumar\n",
            "Bhagam Bhag                             Akshay Kumar\n",
            "Humko Deewana Kar Gaye                  Akshay Kumar\n",
            "Phir Hera Pheri                         Akshay Kumar\n",
            "Mere Jeevan Saathi (2006 film)          Akshay Kumar\n",
            "Deewane Huye Paagal                     Akshay Kumar\n",
            "Dosti: Friends Forever                  Akshay Kumar\n",
            "Garam Masala (2005 film)                Akshay Kumar\n",
            "Insan                                   Akshay Kumar\n",
            "Aitraaz                                 Akshay Kumar\n",
            "Hatya (2004 film)                       Akshay Kumar\n",
            "Meri Biwi Ka Jawaab Nahin               Akshay Kumar\n",
            "Police Force: An Inside Story           Akshay Kumar\n",
            "Andaaz                                  Akshay Kumar\n",
            "Andaaz                                  Akshay Kumar\n",
            "Name: lead, dtype: object\n"
          ]
        }
      ]
    },
    {
      "cell_type": "code",
      "source": [
        "print(movies_series[movies_series != 'Akshay Kumar'])"
      ],
      "metadata": {
        "colab": {
          "base_uri": "https://localhost:8080/"
        },
        "id": "ATOiiQxNLHTZ",
        "outputId": "68806995-d3bc-4c45-ea0f-e9b668546593"
      },
      "execution_count": 121,
      "outputs": [
        {
          "output_type": "stream",
          "name": "stdout",
          "text": [
            "movie\n",
            "Uri: The Surgical Strike                   Vicky Kaushal\n",
            "Battalion 609                                Vicky Ahuja\n",
            "The Accidental Prime Minister (film)         Anupam Kher\n",
            "Why Cheat India                            Emraan Hashmi\n",
            "Evening Shadows                         Mona Ambegaonkar\n",
            "                                              ...       \n",
            "Hum Tumhare Hain Sanam                    Shah Rukh Khan\n",
            "Aankhen (2002 film)                     Amitabh Bachchan\n",
            "Saathiya (film)                             Vivek Oberoi\n",
            "Company (film)                                Ajay Devgn\n",
            "Awara Paagal Deewana                      Anushka Sharma\n",
            "Name: lead, Length: 1453, dtype: object\n"
          ]
        }
      ]
    },
    {
      "cell_type": "code",
      "source": [
        "print(movies_series[movies_series == 'Anushka Sharma'])"
      ],
      "metadata": {
        "colab": {
          "base_uri": "https://localhost:8080/"
        },
        "id": "muJt9pTJLHWQ",
        "outputId": "7f5fa958-8ac2-464d-de25-25975e21daa1"
      },
      "execution_count": 122,
      "outputs": [
        {
          "output_type": "stream",
          "name": "stdout",
          "text": [
            "movie\n",
            "Sui Dhaaga              Anushka Sharma\n",
            "Phillauri (film)        Anushka Sharma\n",
            "NH10 (film)             Anushka Sharma\n",
            "Awara Paagal Deewana    Anushka Sharma\n",
            "Name: lead, dtype: object\n"
          ]
        }
      ]
    },
    {
      "cell_type": "code",
      "source": [
        "print(movies_series[movies_series != 'Akshay Kumar'].size)"
      ],
      "metadata": {
        "colab": {
          "base_uri": "https://localhost:8080/"
        },
        "id": "INodraWBLHZn",
        "outputId": "aa01758a-e7c6-4d8c-de93-f284f755ff0d"
      },
      "execution_count": 123,
      "outputs": [
        {
          "output_type": "stream",
          "name": "stdout",
          "text": [
            "1453\n"
          ]
        }
      ]
    },
    {
      "cell_type": "code",
      "source": [
        "print(runs_series[runs_series == 100].size)"
      ],
      "metadata": {
        "colab": {
          "base_uri": "https://localhost:8080/"
        },
        "id": "PNndOauyHEQ5",
        "outputId": "84bd4fe3-563b-4557-c92c-abd2f943260a"
      },
      "execution_count": 124,
      "outputs": [
        {
          "output_type": "stream",
          "name": "stdout",
          "text": [
            "2\n"
          ]
        }
      ]
    },
    {
      "cell_type": "code",
      "source": [
        "print(movies_series.value_counts())\n",
        "num_movies = movies_series.value_counts()\n",
        "print(num_movies[num_movies > 20])"
      ],
      "metadata": {
        "colab": {
          "base_uri": "https://localhost:8080/"
        },
        "id": "HCVN-guxPOft",
        "outputId": "bcb040bc-ccf7-414a-a14c-7857a2417eae"
      },
      "execution_count": 128,
      "outputs": [
        {
          "output_type": "stream",
          "name": "stdout",
          "text": [
            "lead\n",
            "Akshay Kumar         47\n",
            "Amitabh Bachchan     45\n",
            "Ajay Devgn           38\n",
            "Salman Khan          31\n",
            "Sanjay Dutt          26\n",
            "                     ..\n",
            "Seema Azmi            1\n",
            "Akanksha Puri         1\n",
            "Charanpreet Insan     1\n",
            "Jaideep Ahlawat       1\n",
            "Monali Thakur         1\n",
            "Name: count, Length: 566, dtype: int64\n",
            "lead\n",
            "Akshay Kumar        47\n",
            "Amitabh Bachchan    45\n",
            "Ajay Devgn          38\n",
            "Salman Khan         31\n",
            "Sanjay Dutt         26\n",
            "Shah Rukh Khan      22\n",
            "Emraan Hashmi       21\n",
            "Name: count, dtype: int64\n"
          ]
        }
      ]
    },
    {
      "cell_type": "markdown",
      "source": [
        "# Plotting Graphs"
      ],
      "metadata": {
        "id": "7UXLtxM1QOTo"
      }
    },
    {
      "cell_type": "code",
      "source": [
        "subs_series.plot()"
      ],
      "metadata": {
        "colab": {
          "base_uri": "https://localhost:8080/",
          "height": 447
        },
        "id": "iZPneYNVP54C",
        "outputId": "bcc6c3c7-7709-4ca9-9d77-2954b002b3fd"
      },
      "execution_count": 129,
      "outputs": [
        {
          "output_type": "execute_result",
          "data": {
            "text/plain": [
              "<Axes: >"
            ]
          },
          "metadata": {},
          "execution_count": 129
        },
        {
          "output_type": "display_data",
          "data": {
            "text/plain": [
              "<Figure size 640x480 with 1 Axes>"
            ],
            "image/png": "[encoded data removed]"
          },
          "metadata": {}
        }
      ]
    },
    {
      "cell_type": "code",
      "source": [
        "movies_series.value_counts().head(20).plot(kind='bar')"
      ],
      "metadata": {
        "colab": {
          "base_uri": "https://localhost:8080/",
          "height": 584
        },
        "id": "NpEo85ndROk-",
        "outputId": "381e8e75-0279-4e6c-f268-3946a2a8367f"
      },
      "execution_count": 131,
      "outputs": [
        {
          "output_type": "execute_result",
          "data": {
            "text/plain": [
              "<Axes: xlabel='lead'>"
            ]
          },
          "metadata": {},
          "execution_count": 131
        },
        {
          "output_type": "display_data",
          "data": {
            "text/plain": [
              "<Figure size 640x480 with 1 Axes>"
            ],
            "image/png": "[encoded data removed]"
          },
          "metadata": {}
        }
      ]
    },
    {
      "cell_type": "code",
      "source": [
        "movies_series.value_counts().head(20).plot(kind='pie')"
      ],
      "metadata": {
        "colab": {
          "base_uri": "https://localhost:8080/",
          "height": 423
        },
        "id": "keo-llBORh2a",
        "outputId": "edf7541b-b403-4af1-bbad-7bbcaa4650ba"
      },
      "execution_count": 132,
      "outputs": [
        {
          "output_type": "execute_result",
          "data": {
            "text/plain": [
              "<Axes: ylabel='count'>"
            ]
          },
          "metadata": {},
          "execution_count": 132
        },
        {
          "output_type": "display_data",
          "data": {
            "text/plain": [
              "<Figure size 640x480 with 1 Axes>"
            ],
            "image/png": "[encoded data removed]"
          },
          "metadata": {}
        }
      ]
    },
    {
      "cell_type": "markdown",
      "source": [
        "# Some Important Series Methods"
      ],
      "metadata": {
        "id": "viJIjI4UUK-r"
      }
    },
    {
      "cell_type": "code",
      "source": [
        "# astype\n",
        "import sys\n",
        "print(sys.getsizeof(runs_series))\n",
        "print(sys.getsizeof(runs_series.astype('int8')))"
      ],
      "metadata": {
        "colab": {
          "base_uri": "https://localhost:8080/"
        },
        "id": "83Ljdc0YUQJN",
        "outputId": "0f278ec8-671d-471a-db2e-cc9221863640"
      },
      "execution_count": 135,
      "outputs": [
        {
          "output_type": "stream",
          "name": "stdout",
          "text": [
            "11768\n",
            "10263\n"
          ]
        }
      ]
    },
    {
      "cell_type": "code",
      "source": [
        "# between\n",
        "print(runs_series.between(51, 99))\n",
        "print(runs_series[runs_series.between(51, 99)].size)"
      ],
      "metadata": {
        "colab": {
          "base_uri": "https://localhost:8080/"
        },
        "id": "fu1BO1UQUP3u",
        "outputId": "cc02b1f6-7d4a-4909-e3d9-f150021c1253"
      },
      "execution_count": 137,
      "outputs": [
        {
          "output_type": "stream",
          "name": "stdout",
          "text": [
            "match_no\n",
            "1      False\n",
            "2      False\n",
            "3      False\n",
            "4      False\n",
            "5      False\n",
            "       ...  \n",
            "211    False\n",
            "212    False\n",
            "213     True\n",
            "214    False\n",
            "215    False\n",
            "Name: runs, Length: 215, dtype: bool\n",
            "43\n"
          ]
        }
      ]
    },
    {
      "cell_type": "code",
      "source": [
        "# clip\n",
        "print(subs_series)\n",
        "print(subs_series.clip(100, 200))"
      ],
      "metadata": {
        "colab": {
          "base_uri": "https://localhost:8080/"
        },
        "id": "W4C2kC-jUPsH",
        "outputId": "2b31ee5f-be14-4272-8634-56155714c77e"
      },
      "execution_count": 139,
      "outputs": [
        {
          "output_type": "stream",
          "name": "stdout",
          "text": [
            "0       48\n",
            "1       57\n",
            "2       40\n",
            "3       43\n",
            "4       44\n",
            "      ... \n",
            "360    231\n",
            "361    226\n",
            "362    155\n",
            "363    144\n",
            "364    172\n",
            "Name: Subscribers gained, Length: 365, dtype: int64\n",
            "0      100\n",
            "1      100\n",
            "2      100\n",
            "3      100\n",
            "4      100\n",
            "      ... \n",
            "360    200\n",
            "361    200\n",
            "362    155\n",
            "363    144\n",
            "364    172\n",
            "Name: Subscribers gained, Length: 365, dtype: int64\n"
          ]
        }
      ]
    },
    {
      "cell_type": "code",
      "source": [
        "# drop_duplicate\n",
        "temp = pd.Series([1,1,1,2,3,4,5,6,6,6,9])\n",
        "print(temp.drop_duplicates())"
      ],
      "metadata": {
        "colab": {
          "base_uri": "https://localhost:8080/"
        },
        "id": "WIbvOqWuUPoX",
        "outputId": "549cdc36-222a-4c20-9c22-307b30205bda"
      },
      "execution_count": 140,
      "outputs": [
        {
          "output_type": "stream",
          "name": "stdout",
          "text": [
            "0     1\n",
            "3     2\n",
            "4     3\n",
            "5     4\n",
            "6     5\n",
            "7     6\n",
            "10    9\n",
            "dtype: int64\n"
          ]
        }
      ]
    },
    {
      "cell_type": "code",
      "source": [
        "print(temp.drop_duplicates(keep='last'))"
      ],
      "metadata": {
        "colab": {
          "base_uri": "https://localhost:8080/"
        },
        "id": "m30LLApxUPl_",
        "outputId": "c4ae5c23-39d7-4f06-af6e-a94d9ad5eaea"
      },
      "execution_count": 141,
      "outputs": [
        {
          "output_type": "stream",
          "name": "stdout",
          "text": [
            "2     1\n",
            "3     2\n",
            "4     3\n",
            "5     4\n",
            "6     5\n",
            "9     6\n",
            "10    9\n",
            "dtype: int64\n"
          ]
        }
      ]
    },
    {
      "cell_type": "code",
      "source": [
        "print(movies_series.drop_duplicates().size)"
      ],
      "metadata": {
        "colab": {
          "base_uri": "https://localhost:8080/"
        },
        "id": "SdH528HJUPjZ",
        "outputId": "97824db1-039a-499b-b5c8-2901b6fba2f0"
      },
      "execution_count": 142,
      "outputs": [
        {
          "output_type": "stream",
          "name": "stdout",
          "text": [
            "566\n"
          ]
        }
      ]
    },
    {
      "cell_type": "code",
      "source": [
        "print(movies_series.duplicated())\n",
        "print(movies_series.duplicated().sum())"
      ],
      "metadata": {
        "colab": {
          "base_uri": "https://localhost:8080/"
        },
        "id": "4koNod15UPhD",
        "outputId": "671bc326-7590-4e72-a88b-30cef32ad744"
      },
      "execution_count": 144,
      "outputs": [
        {
          "output_type": "stream",
          "name": "stdout",
          "text": [
            "movie\n",
            "Uri: The Surgical Strike                False\n",
            "Battalion 609                           False\n",
            "The Accidental Prime Minister (film)    False\n",
            "Why Cheat India                         False\n",
            "Evening Shadows                         False\n",
            "                                        ...  \n",
            "Hum Tumhare Hain Sanam                   True\n",
            "Aankhen (2002 film)                      True\n",
            "Saathiya (film)                          True\n",
            "Company (film)                           True\n",
            "Awara Paagal Deewana                     True\n",
            "Name: lead, Length: 1500, dtype: bool\n",
            "934\n"
          ]
        }
      ]
    },
    {
      "cell_type": "code",
      "source": [
        "temp1 = pd.Series([1,2,3,np.nan,4,np.nan,5,6,7,np.nan,8,9,10])\n",
        "temp1"
      ],
      "metadata": {
        "colab": {
          "base_uri": "https://localhost:8080/",
          "height": 491
        },
        "id": "czDkh_TBUPes",
        "outputId": "dfeb3e3f-4891-4ebf-c2e9-e4a6199c8da9"
      },
      "execution_count": 146,
      "outputs": [
        {
          "output_type": "execute_result",
          "data": {
            "text/plain": [
              "0      1.0\n",
              "1      2.0\n",
              "2      3.0\n",
              "3      NaN\n",
              "4      4.0\n",
              "5      NaN\n",
              "6      5.0\n",
              "7      6.0\n",
              "8      7.0\n",
              "9      NaN\n",
              "10     8.0\n",
              "11     9.0\n",
              "12    10.0\n",
              "dtype: float64"
            ],
            "text/html": [
              "<div>\n",
              "<style scoped>\n",
              "    .dataframe tbody tr th:only-of-type {\n",
              "        vertical-align: middle;\n",
              "    }\n",
              "\n",
              "    .dataframe tbody tr th {\n",
              "        vertical-align: top;\n",
              "    }\n",
              "\n",
              "    .dataframe thead th {\n",
              "        text-align: right;\n",
              "    }\n",
              "</style>\n",
              "<table border=\"1\" class=\"dataframe\">\n",
              "  <thead>\n",
              "    <tr style=\"text-align: right;\">\n",
              "      <th></th>\n",
              "      <th>0</th>\n",
              "    </tr>\n",
              "  </thead>\n",
              "  <tbody>\n",
              "    <tr>\n",
              "      <th>0</th>\n",
              "      <td>1.0</td>\n",
              "    </tr>\n",
              "    <tr>\n",
              "      <th>1</th>\n",
              "      <td>2.0</td>\n",
              "    </tr>\n",
              "    <tr>\n",
              "      <th>2</th>\n",
              "      <td>3.0</td>\n",
              "    </tr>\n",
              "    <tr>\n",
              "      <th>3</th>\n",
              "      <td>NaN</td>\n",
              "    </tr>\n",
              "    <tr>\n",
              "      <th>4</th>\n",
              "      <td>4.0</td>\n",
              "    </tr>\n",
              "    <tr>\n",
              "      <th>5</th>\n",
              "      <td>NaN</td>\n",
              "    </tr>\n",
              "    <tr>\n",
              "      <th>6</th>\n",
              "      <td>5.0</td>\n",
              "    </tr>\n",
              "    <tr>\n",
              "      <th>7</th>\n",
              "      <td>6.0</td>\n",
              "    </tr>\n",
              "    <tr>\n",
              "      <th>8</th>\n",
              "      <td>7.0</td>\n",
              "    </tr>\n",
              "    <tr>\n",
              "      <th>9</th>\n",
              "      <td>NaN</td>\n",
              "    </tr>\n",
              "    <tr>\n",
              "      <th>10</th>\n",
              "      <td>8.0</td>\n",
              "    </tr>\n",
              "    <tr>\n",
              "      <th>11</th>\n",
              "      <td>9.0</td>\n",
              "    </tr>\n",
              "    <tr>\n",
              "      <th>12</th>\n",
              "      <td>10.0</td>\n",
              "    </tr>\n",
              "  </tbody>\n",
              "</table>\n",
              "</div><br><label><b>dtype:</b> float64</label>"
            ]
          },
          "metadata": {},
          "execution_count": 146
        }
      ]
    },
    {
      "cell_type": "code",
      "source": [
        "print(temp1.count())\n",
        "print(temp1.size)"
      ],
      "metadata": {
        "colab": {
          "base_uri": "https://localhost:8080/"
        },
        "id": "XZgtYPR5WWGc",
        "outputId": "b1c692b8-fd9f-4f5c-c1cc-3b8fe9681f37"
      },
      "execution_count": 147,
      "outputs": [
        {
          "output_type": "stream",
          "name": "stdout",
          "text": [
            "10\n",
            "13\n"
          ]
        }
      ]
    },
    {
      "cell_type": "code",
      "source": [
        "temp1.isnull()\n",
        "temp1.isnull().sum()"
      ],
      "metadata": {
        "colab": {
          "base_uri": "https://localhost:8080/"
        },
        "id": "NyT1LE4JWc6J",
        "outputId": "2ac824f1-e02f-44ce-9989-05ab0426c20f"
      },
      "execution_count": 150,
      "outputs": [
        {
          "output_type": "execute_result",
          "data": {
            "text/plain": [
              "np.int64(3)"
            ]
          },
          "metadata": {},
          "execution_count": 150
        }
      ]
    },
    {
      "cell_type": "code",
      "source": [
        "# dropna\n",
        "temp1.dropna()"
      ],
      "metadata": {
        "colab": {
          "base_uri": "https://localhost:8080/",
          "height": 397
        },
        "id": "cqq2dSiyWq-x",
        "outputId": "faf5c2b1-f9c9-40b6-c2ee-acf1cb59e8b0"
      },
      "execution_count": 151,
      "outputs": [
        {
          "output_type": "execute_result",
          "data": {
            "text/plain": [
              "0      1.0\n",
              "1      2.0\n",
              "2      3.0\n",
              "4      4.0\n",
              "6      5.0\n",
              "7      6.0\n",
              "8      7.0\n",
              "10     8.0\n",
              "11     9.0\n",
              "12    10.0\n",
              "dtype: float64"
            ],
            "text/html": [
              "<div>\n",
              "<style scoped>\n",
              "    .dataframe tbody tr th:only-of-type {\n",
              "        vertical-align: middle;\n",
              "    }\n",
              "\n",
              "    .dataframe tbody tr th {\n",
              "        vertical-align: top;\n",
              "    }\n",
              "\n",
              "    .dataframe thead th {\n",
              "        text-align: right;\n",
              "    }\n",
              "</style>\n",
              "<table border=\"1\" class=\"dataframe\">\n",
              "  <thead>\n",
              "    <tr style=\"text-align: right;\">\n",
              "      <th></th>\n",
              "      <th>0</th>\n",
              "    </tr>\n",
              "  </thead>\n",
              "  <tbody>\n",
              "    <tr>\n",
              "      <th>0</th>\n",
              "      <td>1.0</td>\n",
              "    </tr>\n",
              "    <tr>\n",
              "      <th>1</th>\n",
              "      <td>2.0</td>\n",
              "    </tr>\n",
              "    <tr>\n",
              "      <th>2</th>\n",
              "      <td>3.0</td>\n",
              "    </tr>\n",
              "    <tr>\n",
              "      <th>4</th>\n",
              "      <td>4.0</td>\n",
              "    </tr>\n",
              "    <tr>\n",
              "      <th>6</th>\n",
              "      <td>5.0</td>\n",
              "    </tr>\n",
              "    <tr>\n",
              "      <th>7</th>\n",
              "      <td>6.0</td>\n",
              "    </tr>\n",
              "    <tr>\n",
              "      <th>8</th>\n",
              "      <td>7.0</td>\n",
              "    </tr>\n",
              "    <tr>\n",
              "      <th>10</th>\n",
              "      <td>8.0</td>\n",
              "    </tr>\n",
              "    <tr>\n",
              "      <th>11</th>\n",
              "      <td>9.0</td>\n",
              "    </tr>\n",
              "    <tr>\n",
              "      <th>12</th>\n",
              "      <td>10.0</td>\n",
              "    </tr>\n",
              "  </tbody>\n",
              "</table>\n",
              "</div><br><label><b>dtype:</b> float64</label>"
            ]
          },
          "metadata": {},
          "execution_count": 151
        }
      ]
    },
    {
      "cell_type": "code",
      "source": [
        "# fillna\n",
        "temp1.fillna(0)\n",
        "temp1.fillna(temp.mean())"
      ],
      "metadata": {
        "colab": {
          "base_uri": "https://localhost:8080/",
          "height": 491
        },
        "id": "oTQHhrDJWwtK",
        "outputId": "f7fbeae7-cd92-4829-9568-204112c16243"
      },
      "execution_count": 153,
      "outputs": [
        {
          "output_type": "execute_result",
          "data": {
            "text/plain": [
              "0      1.0\n",
              "1      2.0\n",
              "2      3.0\n",
              "3      4.0\n",
              "4      4.0\n",
              "5      4.0\n",
              "6      5.0\n",
              "7      6.0\n",
              "8      7.0\n",
              "9      4.0\n",
              "10     8.0\n",
              "11     9.0\n",
              "12    10.0\n",
              "dtype: float64"
            ],
            "text/html": [
              "<div>\n",
              "<style scoped>\n",
              "    .dataframe tbody tr th:only-of-type {\n",
              "        vertical-align: middle;\n",
              "    }\n",
              "\n",
              "    .dataframe tbody tr th {\n",
              "        vertical-align: top;\n",
              "    }\n",
              "\n",
              "    .dataframe thead th {\n",
              "        text-align: right;\n",
              "    }\n",
              "</style>\n",
              "<table border=\"1\" class=\"dataframe\">\n",
              "  <thead>\n",
              "    <tr style=\"text-align: right;\">\n",
              "      <th></th>\n",
              "      <th>0</th>\n",
              "    </tr>\n",
              "  </thead>\n",
              "  <tbody>\n",
              "    <tr>\n",
              "      <th>0</th>\n",
              "      <td>1.0</td>\n",
              "    </tr>\n",
              "    <tr>\n",
              "      <th>1</th>\n",
              "      <td>2.0</td>\n",
              "    </tr>\n",
              "    <tr>\n",
              "      <th>2</th>\n",
              "      <td>3.0</td>\n",
              "    </tr>\n",
              "    <tr>\n",
              "      <th>3</th>\n",
              "      <td>4.0</td>\n",
              "    </tr>\n",
              "    <tr>\n",
              "      <th>4</th>\n",
              "      <td>4.0</td>\n",
              "    </tr>\n",
              "    <tr>\n",
              "      <th>5</th>\n",
              "      <td>4.0</td>\n",
              "    </tr>\n",
              "    <tr>\n",
              "      <th>6</th>\n",
              "      <td>5.0</td>\n",
              "    </tr>\n",
              "    <tr>\n",
              "      <th>7</th>\n",
              "      <td>6.0</td>\n",
              "    </tr>\n",
              "    <tr>\n",
              "      <th>8</th>\n",
              "      <td>7.0</td>\n",
              "    </tr>\n",
              "    <tr>\n",
              "      <th>9</th>\n",
              "      <td>4.0</td>\n",
              "    </tr>\n",
              "    <tr>\n",
              "      <th>10</th>\n",
              "      <td>8.0</td>\n",
              "    </tr>\n",
              "    <tr>\n",
              "      <th>11</th>\n",
              "      <td>9.0</td>\n",
              "    </tr>\n",
              "    <tr>\n",
              "      <th>12</th>\n",
              "      <td>10.0</td>\n",
              "    </tr>\n",
              "  </tbody>\n",
              "</table>\n",
              "</div><br><label><b>dtype:</b> float64</label>"
            ]
          },
          "metadata": {},
          "execution_count": 153
        }
      ]
    },
    {
      "cell_type": "code",
      "source": [
        "print(runs_series[(runs_series == 49) | (runs_series == 99)])"
      ],
      "metadata": {
        "colab": {
          "base_uri": "https://localhost:8080/"
        },
        "id": "tK6n_tNZXCcH",
        "outputId": "ba799498-9235-4a0a-87cc-00da8f5fdd92"
      },
      "execution_count": 156,
      "outputs": [
        {
          "output_type": "stream",
          "name": "stdout",
          "text": [
            "match_no\n",
            "82    99\n",
            "86    49\n",
            "Name: runs, dtype: int64\n"
          ]
        }
      ]
    },
    {
      "cell_type": "code",
      "source": [
        "print(runs_series[runs_series.isin([49, 59,  69, 79])])"
      ],
      "metadata": {
        "colab": {
          "base_uri": "https://localhost:8080/"
        },
        "id": "FCx0d109Xc6f",
        "outputId": "d714ba05-68df-4ac0-bac0-dab7c23058e5"
      },
      "execution_count": 158,
      "outputs": [
        {
          "output_type": "stream",
          "name": "stdout",
          "text": [
            "match_no\n",
            "86     49\n",
            "117    79\n",
            "Name: runs, dtype: int64\n"
          ]
        }
      ]
    },
    {
      "cell_type": "code",
      "source": [
        "# apply\n",
        "print(movies_series)"
      ],
      "metadata": {
        "colab": {
          "base_uri": "https://localhost:8080/"
        },
        "id": "hlr1Og__XzQJ",
        "outputId": "0bea0145-adaa-430a-894c-ce2836ef9916"
      },
      "execution_count": 159,
      "outputs": [
        {
          "output_type": "stream",
          "name": "stdout",
          "text": [
            "movie\n",
            "Uri: The Surgical Strike                   Vicky Kaushal\n",
            "Battalion 609                                Vicky Ahuja\n",
            "The Accidental Prime Minister (film)         Anupam Kher\n",
            "Why Cheat India                            Emraan Hashmi\n",
            "Evening Shadows                         Mona Ambegaonkar\n",
            "                                              ...       \n",
            "Hum Tumhare Hain Sanam                    Shah Rukh Khan\n",
            "Aankhen (2002 film)                     Amitabh Bachchan\n",
            "Saathiya (film)                             Vivek Oberoi\n",
            "Company (film)                                Ajay Devgn\n",
            "Awara Paagal Deewana                      Anushka Sharma\n",
            "Name: lead, Length: 1500, dtype: object\n"
          ]
        }
      ]
    },
    {
      "cell_type": "code",
      "source": [
        "print(movies_series.apply(lambda x: x.split()[0].upper()))"
      ],
      "metadata": {
        "colab": {
          "base_uri": "https://localhost:8080/"
        },
        "id": "uFdHBm4bX40G",
        "outputId": "2ffb8684-9278-4ccb-9ade-d9dfa870f58b"
      },
      "execution_count": 161,
      "outputs": [
        {
          "output_type": "stream",
          "name": "stdout",
          "text": [
            "movie\n",
            "Uri: The Surgical Strike                  VICKY\n",
            "Battalion 609                             VICKY\n",
            "The Accidental Prime Minister (film)     ANUPAM\n",
            "Why Cheat India                          EMRAAN\n",
            "Evening Shadows                            MONA\n",
            "                                         ...   \n",
            "Hum Tumhare Hain Sanam                     SHAH\n",
            "Aankhen (2002 film)                     AMITABH\n",
            "Saathiya (film)                           VIVEK\n",
            "Company (film)                             AJAY\n",
            "Awara Paagal Deewana                    ANUSHKA\n",
            "Name: lead, Length: 1500, dtype: object\n"
          ]
        }
      ]
    },
    {
      "cell_type": "code",
      "source": [
        "print(subs_series.apply(lambda x: 'Good Day' if x > subs_series.mean() else 'Bad Day'))"
      ],
      "metadata": {
        "colab": {
          "base_uri": "https://localhost:8080/"
        },
        "id": "xBhvsZkvX5wi",
        "outputId": "726cd20d-e3ce-46ef-8dd9-6116a5ecc473"
      },
      "execution_count": 163,
      "outputs": [
        {
          "output_type": "stream",
          "name": "stdout",
          "text": [
            "0       Bad Day\n",
            "1       Bad Day\n",
            "2       Bad Day\n",
            "3       Bad Day\n",
            "4       Bad Day\n",
            "         ...   \n",
            "360    Good Day\n",
            "361    Good Day\n",
            "362    Good Day\n",
            "363    Good Day\n",
            "364    Good Day\n",
            "Name: Subscribers gained, Length: 365, dtype: object\n"
          ]
        }
      ]
    },
    {
      "cell_type": "code",
      "source": [
        "# copy\n",
        "new = runs_series.head(5)\n",
        "print(new)"
      ],
      "metadata": {
        "colab": {
          "base_uri": "https://localhost:8080/"
        },
        "id": "H8BxUIG6X5zL",
        "outputId": "19970844-c87f-491a-c5db-a7dbd7115c8a"
      },
      "execution_count": 168,
      "outputs": [
        {
          "output_type": "stream",
          "name": "stdout",
          "text": [
            "match_no\n",
            "1     1\n",
            "2    23\n",
            "3    13\n",
            "4    12\n",
            "5     1\n",
            "Name: runs, dtype: int64\n"
          ]
        }
      ]
    },
    {
      "cell_type": "code",
      "source": [
        "print(runs_series)"
      ],
      "metadata": {
        "colab": {
          "base_uri": "https://localhost:8080/"
        },
        "id": "185xtL2qX51x",
        "outputId": "4a1284c5-9cc3-4357-b53a-3b71fe47751e"
      },
      "execution_count": 167,
      "outputs": [
        {
          "output_type": "stream",
          "name": "stdout",
          "text": [
            "match_no\n",
            "1       1\n",
            "2      23\n",
            "3      13\n",
            "4      12\n",
            "5       1\n",
            "       ..\n",
            "211     0\n",
            "212    20\n",
            "213    73\n",
            "214    25\n",
            "215     7\n",
            "Name: runs, Length: 215, dtype: int64\n"
          ]
        }
      ]
    },
    {
      "cell_type": "code",
      "source": [
        "new[1] = 14\n",
        "print(new)\n",
        "print(runs_series)"
      ],
      "metadata": {
        "colab": {
          "base_uri": "https://localhost:8080/"
        },
        "id": "zPLvXVniX54O",
        "outputId": "df745e33-6600-4b99-904a-20fe6f50c4d2"
      },
      "execution_count": 170,
      "outputs": [
        {
          "output_type": "stream",
          "name": "stdout",
          "text": [
            "match_no\n",
            "1    14\n",
            "2    23\n",
            "3    13\n",
            "4    12\n",
            "5     1\n",
            "Name: runs, dtype: int64\n",
            "match_no\n",
            "1      14\n",
            "2      23\n",
            "3      13\n",
            "4      12\n",
            "5       1\n",
            "       ..\n",
            "211     0\n",
            "212    20\n",
            "213    73\n",
            "214    25\n",
            "215     7\n",
            "Name: runs, Length: 215, dtype: int64\n"
          ]
        }
      ]
    },
    {
      "cell_type": "code",
      "source": [
        "new = runs_series.head().copy()\n",
        "new[1] = 100\n",
        "print(new)\n",
        "print(runs_series)"
      ],
      "metadata": {
        "colab": {
          "base_uri": "https://localhost:8080/"
        },
        "id": "IBPioJxaX571",
        "outputId": "23cf9baa-a345-4e2a-df35-7c2130685e62"
      },
      "execution_count": 172,
      "outputs": [
        {
          "output_type": "stream",
          "name": "stdout",
          "text": [
            "match_no\n",
            "1    100\n",
            "2     23\n",
            "3     13\n",
            "4     12\n",
            "5      1\n",
            "Name: runs, dtype: int64\n",
            "match_no\n",
            "1      14\n",
            "2      23\n",
            "3      13\n",
            "4      12\n",
            "5       1\n",
            "       ..\n",
            "211     0\n",
            "212    20\n",
            "213    73\n",
            "214    25\n",
            "215     7\n",
            "Name: runs, Length: 215, dtype: int64\n"
          ]
        }
      ]
    }
  ]
}