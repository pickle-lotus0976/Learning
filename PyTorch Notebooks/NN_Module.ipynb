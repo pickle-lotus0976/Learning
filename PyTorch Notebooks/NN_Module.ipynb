{
  "nbformat": 4,
  "nbformat_minor": 0,
  "metadata": {
    "colab": {
      "provenance": [],
      "authorship_tag": "ABX9TyNZ7JJVWD4UdqwU15WGPqyA",
      "include_colab_link": true
    },
    "kernelspec": {
      "name": "python3",
      "display_name": "Python 3"
    },
    "language_info": {
      "name": "python"
    }
  },
  "cells": [
    {
      "cell_type": "markdown",
      "metadata": {
        "id": "view-in-github",
        "colab_type": "text"
      },
      "source": [
        "<a href=\"https://colab.research.google.com/github/pickle-lotus0976/Learning/blob/main/PyTorch%20Notebooks/NN_Module.ipynb\" target=\"_parent\"><img src=\"https://colab.research.google.com/assets/colab-badge.svg\" alt=\"Open In Colab\"/></a>"
      ]
    },
    {
      "cell_type": "code",
      "execution_count": 20,
      "metadata": {
        "colab": {
          "base_uri": "https://localhost:8080/"
        },
        "id": "-UCqKHp-3_z-",
        "outputId": "80e179c4-a37e-42ae-b1b3-47ba19360b77"
      },
      "outputs": [
        {
          "output_type": "stream",
          "name": "stdout",
          "text": [
            "\u001b[33m\r0% [Working]\u001b[0m\r            \rHit:1 https://cloud.r-project.org/bin/linux/ubuntu jammy-cran40/ InRelease\n",
            "Hit:2 https://developer.download.nvidia.com/compute/cuda/repos/ubuntu2204/x86_64  InRelease\n",
            "Hit:3 https://r2u.stat.illinois.edu/ubuntu jammy InRelease\n",
            "Hit:4 https://ppa.launchpadcontent.net/deadsnakes/ppa/ubuntu jammy InRelease\n",
            "Hit:5 https://ppa.launchpadcontent.net/graphics-drivers/ppa/ubuntu jammy InRelease\n",
            "Hit:6 https://ppa.launchpadcontent.net/ubuntugis/ppa/ubuntu jammy InRelease\n",
            "Hit:7 http://archive.ubuntu.com/ubuntu jammy InRelease\n",
            "Hit:8 http://archive.ubuntu.com/ubuntu jammy-updates InRelease\n",
            "Hit:9 http://archive.ubuntu.com/ubuntu jammy-backports InRelease\n",
            "Get:10 http://security.ubuntu.com/ubuntu jammy-security InRelease [129 kB]\n",
            "Get:11 http://security.ubuntu.com/ubuntu jammy-security/universe amd64 Packages [1,257 kB]\n",
            "Fetched 1,386 kB in 21s (66.7 kB/s)\n",
            "Reading package lists... Done\n",
            "Building dependency tree... Done\n",
            "Reading state information... Done\n",
            "38 packages can be upgraded. Run 'apt list --upgradable' to see them.\n",
            "\u001b[1;33mW: \u001b[0mSkipping acquire of configured file 'main/source/Sources' as repository 'https://r2u.stat.illinois.edu/ubuntu jammy InRelease' does not seem to provide it (sources.list entry misspelt?)\u001b[0m\n"
          ]
        }
      ],
      "source": [
        "!sudo apt update"
      ]
    },
    {
      "cell_type": "code",
      "source": [
        "!pip install torchinfo"
      ],
      "metadata": {
        "colab": {
          "base_uri": "https://localhost:8080/"
        },
        "id": "7ehL_aPx4Nxy",
        "outputId": "88811b18-1429-4f5f-ad88-8a0f4d6a2ad8"
      },
      "execution_count": 21,
      "outputs": [
        {
          "output_type": "stream",
          "name": "stdout",
          "text": [
            "Requirement already satisfied: torchinfo in /usr/local/lib/python3.11/dist-packages (1.8.0)\n"
          ]
        }
      ]
    },
    {
      "cell_type": "code",
      "source": [
        "# import torch\n",
        "# import torch.nn as nn\n",
        "\n",
        "# class Model(nn.Module):\n",
        "#   def __init__(self, num_features) -> None:\n",
        "#     super().__init__()\n",
        "\n",
        "#     self.linear = nn.Linear(num_features, 1)\n",
        "#     self.sigmoid = nn.Sigmoid()\n",
        "\n",
        "#   def forward(self, features) -> torch.Tensor:\n",
        "#     out = self.linear(features)\n",
        "#     out = self.sigmoid(out)\n",
        "#     return out"
      ],
      "metadata": {
        "id": "8bIuZUjM4TBX"
      },
      "execution_count": 22,
      "outputs": []
    },
    {
      "cell_type": "code",
      "source": [
        "# import torch\n",
        "# import torch.nn as nn\n",
        "\n",
        "# class Model(nn.Module):\n",
        "#   def __init__(self, num_features) -> None:\n",
        "#     super().__init__()\n",
        "\n",
        "#     self.linear1 = nn.Linear(num_features, 3)\n",
        "#     self.relu = nn.ReLU()\n",
        "#     self.linear2 = nn.Linear(3, 1)\n",
        "#     self.sigmoid = nn.Sigmoid()\n",
        "\n",
        "#   def forward(self, features) -> torch.Tensor:\n",
        "#     out = self.linear1(features)\n",
        "#     out = self.relu(out)\n",
        "#     out = self.linear2(out)\n",
        "#     out = self.sigmoid(out)\n",
        "#     return out"
      ],
      "metadata": {
        "id": "RLAHtSjA-83f"
      },
      "execution_count": 23,
      "outputs": []
    },
    {
      "cell_type": "code",
      "source": [
        "import torch\n",
        "import torch.nn as nn\n",
        "\n",
        "class Model(nn.Module):\n",
        "  def __init__(self, num_features) -> None:\n",
        "    super().__init__()\n",
        "    self.network = nn.Sequential(\n",
        "    nn.Linear(num_features, 3),\n",
        "    nn.ReLU(),\n",
        "    nn.Linear(3, 1),\n",
        "    nn.Sigmoid()\n",
        "    )\n",
        "\n",
        "  def forward(self, features) -> torch.Tensor:\n",
        "    out = self.network(features)\n",
        "    return out"
      ],
      "metadata": {
        "id": "smq71N6aBJ18"
      },
      "execution_count": 29,
      "outputs": []
    },
    {
      "cell_type": "code",
      "source": [
        "# creating dataset\n",
        "features = torch.rand(10, 5)\n",
        "\n",
        "# create model\n",
        "model = Model(features.shape[1])\n",
        "\n",
        "# call model for forward pass\n",
        "model(features)"
      ],
      "metadata": {
        "colab": {
          "base_uri": "https://localhost:8080/"
        },
        "id": "Ca6wKGhY4fGW",
        "outputId": "dcdd423a-21d4-447a-896c-63d511606bb8"
      },
      "execution_count": 24,
      "outputs": [
        {
          "output_type": "execute_result",
          "data": {
            "text/plain": [
              "tensor([[0.5798],\n",
              "        [0.5782],\n",
              "        [0.5781],\n",
              "        [0.5809],\n",
              "        [0.5763],\n",
              "        [0.5783],\n",
              "        [0.5762],\n",
              "        [0.5779],\n",
              "        [0.5785],\n",
              "        [0.5788]], grad_fn=<SigmoidBackward0>)"
            ]
          },
          "metadata": {},
          "execution_count": 24
        }
      ]
    },
    {
      "cell_type": "code",
      "source": [
        "# show model weights\n",
        "print(model.linear1.weight)\n",
        "print(model.linear2.weight)"
      ],
      "metadata": {
        "colab": {
          "base_uri": "https://localhost:8080/"
        },
        "id": "Sigp0v309lGy",
        "outputId": "ae1e4520-1db5-4766-f94d-eb949d6d8e71"
      },
      "execution_count": 25,
      "outputs": [
        {
          "output_type": "stream",
          "name": "stdout",
          "text": [
            "Parameter containing:\n",
            "tensor([[ 0.4443, -0.3324,  0.0227,  0.0615,  0.1023],\n",
            "        [-0.0113, -0.2051,  0.2101,  0.0467, -0.1307],\n",
            "        [-0.2558, -0.1744,  0.4010, -0.4360,  0.3483]], requires_grad=True)\n",
            "Parameter containing:\n",
            "tensor([[-0.0433, -0.4865, -0.0825]], requires_grad=True)\n"
          ]
        }
      ]
    },
    {
      "cell_type": "code",
      "source": [
        "# show model bias\n",
        "print(model.linear1.bias)\n",
        "print(model.linear2.bias)"
      ],
      "metadata": {
        "colab": {
          "base_uri": "https://localhost:8080/"
        },
        "id": "M80nSGlK-I9W",
        "outputId": "4bcecee2-bf30-4313-efca-3d301d364eaf"
      },
      "execution_count": 26,
      "outputs": [
        {
          "output_type": "stream",
          "name": "stdout",
          "text": [
            "Parameter containing:\n",
            "tensor([ 0.3011, -0.4292, -0.3945], requires_grad=True)\n",
            "Parameter containing:\n",
            "tensor([0.3345], requires_grad=True)\n"
          ]
        }
      ]
    },
    {
      "cell_type": "code",
      "source": [
        "from torchinfo import summary\n",
        "\n",
        "summary(model, input_size=(10, 5))"
      ],
      "metadata": {
        "colab": {
          "base_uri": "https://localhost:8080/"
        },
        "id": "ZEKyX5aE-QGN",
        "outputId": "539f6ef0-0dc7-4166-d790-b529e46fbec5"
      },
      "execution_count": 27,
      "outputs": [
        {
          "output_type": "execute_result",
          "data": {
            "text/plain": [
              "==========================================================================================\n",
              "Layer (type:depth-idx)                   Output Shape              Param #\n",
              "==========================================================================================\n",
              "Model                                    [10, 1]                   --\n",
              "├─Linear: 1-1                            [10, 3]                   18\n",
              "├─ReLU: 1-2                              [10, 3]                   --\n",
              "├─Linear: 1-3                            [10, 1]                   4\n",
              "├─Sigmoid: 1-4                           [10, 1]                   --\n",
              "==========================================================================================\n",
              "Total params: 22\n",
              "Trainable params: 22\n",
              "Non-trainable params: 0\n",
              "Total mult-adds (Units.MEGABYTES): 0.00\n",
              "==========================================================================================\n",
              "Input size (MB): 0.00\n",
              "Forward/backward pass size (MB): 0.00\n",
              "Params size (MB): 0.00\n",
              "Estimated Total Size (MB): 0.00\n",
              "=========================================================================================="
            ]
          },
          "metadata": {},
          "execution_count": 27
        }
      ]
    },
    {
      "cell_type": "code",
      "source": [],
      "metadata": {
        "id": "w6iBlG7d-le_"
      },
      "execution_count": 27,
      "outputs": []
    }
  ]
}