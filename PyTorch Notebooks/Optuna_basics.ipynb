{
  "nbformat": 4,
  "nbformat_minor": 0,
  "metadata": {
    "colab": {
      "provenance": [],
      "authorship_tag": "ABX9TyPrJc8OFdve6Jcv1t4r/EnZ",
      "include_colab_link": true
    },
    "kernelspec": {
      "name": "python3",
      "display_name": "Python 3"
    },
    "language_info": {
      "name": "python"
    }
  },
  "cells": [
    {
      "cell_type": "markdown",
      "metadata": {
        "id": "view-in-github",
        "colab_type": "text"
      },
      "source": [
        "<a href=\"https://colab.research.google.com/github/pickle-lotus0976/Learning/blob/main/PyTorch%20Notebooks/Optuna_basics.ipynb\" target=\"_parent\"><img src=\"https://colab.research.google.com/assets/colab-badge.svg\" alt=\"Open In Colab\"/></a>"
      ]
    },
    {
      "cell_type": "code",
      "execution_count": 1,
      "metadata": {
        "colab": {
          "base_uri": "https://localhost:8080/"
        },
        "id": "7h8P6tYE88fo",
        "outputId": "505478ab-2ab1-4c01-89aa-30acd1869403"
      },
      "outputs": [
        {
          "output_type": "stream",
          "name": "stdout",
          "text": [
            "Collecting optuna\n",
            "  Downloading optuna-4.4.0-py3-none-any.whl.metadata (17 kB)\n",
            "Collecting alembic>=1.5.0 (from optuna)\n",
            "  Downloading alembic-1.16.3-py3-none-any.whl.metadata (7.3 kB)\n",
            "Collecting colorlog (from optuna)\n",
            "  Downloading colorlog-6.9.0-py3-none-any.whl.metadata (10 kB)\n",
            "Requirement already satisfied: numpy in /usr/local/lib/python3.11/dist-packages (from optuna) (2.0.2)\n",
            "Requirement already satisfied: packaging>=20.0 in /usr/local/lib/python3.11/dist-packages (from optuna) (24.2)\n",
            "Requirement already satisfied: sqlalchemy>=1.4.2 in /usr/local/lib/python3.11/dist-packages (from optuna) (2.0.41)\n",
            "Requirement already satisfied: tqdm in /usr/local/lib/python3.11/dist-packages (from optuna) (4.67.1)\n",
            "Requirement already satisfied: PyYAML in /usr/local/lib/python3.11/dist-packages (from optuna) (6.0.2)\n",
            "Requirement already satisfied: Mako in /usr/lib/python3/dist-packages (from alembic>=1.5.0->optuna) (1.1.3)\n",
            "Requirement already satisfied: typing-extensions>=4.12 in /usr/local/lib/python3.11/dist-packages (from alembic>=1.5.0->optuna) (4.14.1)\n",
            "Requirement already satisfied: greenlet>=1 in /usr/local/lib/python3.11/dist-packages (from sqlalchemy>=1.4.2->optuna) (3.2.3)\n",
            "Downloading optuna-4.4.0-py3-none-any.whl (395 kB)\n",
            "\u001b[2K   \u001b[90m━━━━━━━━━━━━━━━━━━━━━━━━━━━━━━━━━━━━━━━━\u001b[0m \u001b[32m395.9/395.9 kB\u001b[0m \u001b[31m10.2 MB/s\u001b[0m eta \u001b[36m0:00:00\u001b[0m\n",
            "\u001b[?25hDownloading alembic-1.16.3-py3-none-any.whl (246 kB)\n",
            "\u001b[2K   \u001b[90m━━━━━━━━━━━━━━━━━━━━━━━━━━━━━━━━━━━━━━━━\u001b[0m \u001b[32m246.9/246.9 kB\u001b[0m \u001b[31m17.9 MB/s\u001b[0m eta \u001b[36m0:00:00\u001b[0m\n",
            "\u001b[?25hDownloading colorlog-6.9.0-py3-none-any.whl (11 kB)\n",
            "Installing collected packages: colorlog, alembic, optuna\n",
            "Successfully installed alembic-1.16.3 colorlog-6.9.0 optuna-4.4.0\n"
          ]
        }
      ],
      "source": [
        "!pip install optuna"
      ]
    },
    {
      "cell_type": "code",
      "source": [
        "# Import the neccessary libraries\n",
        "import optuna\n",
        "import pandas as pd\n",
        "import numpy as np\n",
        "from sklearn.datasets import load_diabetes\n",
        "from sklearn.model_selection import train_test_split\n",
        "from sklearn.preprocessing import StandardScaler"
      ],
      "metadata": {
        "id": "BVyWqrLV9VLH"
      },
      "execution_count": 2,
      "outputs": []
    },
    {
      "cell_type": "code",
      "source": [
        "# Load the Pima Indian dataset from sklearn\n",
        "# Remark: The Pima Indian dataset from sklearn is a regression dataset\n",
        "# So we will load the dataset from this GitHub repository\n",
        "url = 'https://raw.githubusercontent.com/jbrownlee/Datasets/master/pima-indians-diabetes.data.csv'\n",
        "columns = ['Pregnancies', 'Glucose', 'BloodPressure', 'SkinThickness', 'Insulin', 'BMI',\n",
        "           'DiabetesPedigreeFunction', 'Age', 'Outcome']\n",
        "df = pd.read_csv(url, names=columns)\n",
        "df.head()"
      ],
      "metadata": {
        "colab": {
          "base_uri": "https://localhost:8080/",
          "height": 206
        },
        "id": "1mFEplL4_UuF",
        "outputId": "a805c27d-2d51-4d13-e2b9-81e59acf618a"
      },
      "execution_count": 3,
      "outputs": [
        {
          "output_type": "execute_result",
          "data": {
            "text/plain": [
              "   Pregnancies  Glucose  BloodPressure  SkinThickness  Insulin   BMI  \\\n",
              "0            6      148             72             35        0  33.6   \n",
              "1            1       85             66             29        0  26.6   \n",
              "2            8      183             64              0        0  23.3   \n",
              "3            1       89             66             23       94  28.1   \n",
              "4            0      137             40             35      168  43.1   \n",
              "\n",
              "   DiabetesPedigreeFunction  Age  Outcome  \n",
              "0                     0.627   50        1  \n",
              "1                     0.351   31        0  \n",
              "2                     0.672   32        1  \n",
              "3                     0.167   21        0  \n",
              "4                     2.288   33        1  "
            ],
            "text/html": [
              "\n",
              "  <div id=\"df-845acde9-ce70-4cc7-9766-c20bea0b39a5\" class=\"colab-df-container\">\n",
              "    <div>\n",
              "<style scoped>\n",
              "    .dataframe tbody tr th:only-of-type {\n",
              "        vertical-align: middle;\n",
              "    }\n",
              "\n",
              "    .dataframe tbody tr th {\n",
              "        vertical-align: top;\n",
              "    }\n",
              "\n",
              "    .dataframe thead th {\n",
              "        text-align: right;\n",
              "    }\n",
              "</style>\n",
              "<table border=\"1\" class=\"dataframe\">\n",
              "  <thead>\n",
              "    <tr style=\"text-align: right;\">\n",
              "      <th></th>\n",
              "      <th>Pregnancies</th>\n",
              "      <th>Glucose</th>\n",
              "      <th>BloodPressure</th>\n",
              "      <th>SkinThickness</th>\n",
              "      <th>Insulin</th>\n",
              "      <th>BMI</th>\n",
              "      <th>DiabetesPedigreeFunction</th>\n",
              "      <th>Age</th>\n",
              "      <th>Outcome</th>\n",
              "    </tr>\n",
              "  </thead>\n",
              "  <tbody>\n",
              "    <tr>\n",
              "      <th>0</th>\n",
              "      <td>6</td>\n",
              "      <td>148</td>\n",
              "      <td>72</td>\n",
              "      <td>35</td>\n",
              "      <td>0</td>\n",
              "      <td>33.6</td>\n",
              "      <td>0.627</td>\n",
              "      <td>50</td>\n",
              "      <td>1</td>\n",
              "    </tr>\n",
              "    <tr>\n",
              "      <th>1</th>\n",
              "      <td>1</td>\n",
              "      <td>85</td>\n",
              "      <td>66</td>\n",
              "      <td>29</td>\n",
              "      <td>0</td>\n",
              "      <td>26.6</td>\n",
              "      <td>0.351</td>\n",
              "      <td>31</td>\n",
              "      <td>0</td>\n",
              "    </tr>\n",
              "    <tr>\n",
              "      <th>2</th>\n",
              "      <td>8</td>\n",
              "      <td>183</td>\n",
              "      <td>64</td>\n",
              "      <td>0</td>\n",
              "      <td>0</td>\n",
              "      <td>23.3</td>\n",
              "      <td>0.672</td>\n",
              "      <td>32</td>\n",
              "      <td>1</td>\n",
              "    </tr>\n",
              "    <tr>\n",
              "      <th>3</th>\n",
              "      <td>1</td>\n",
              "      <td>89</td>\n",
              "      <td>66</td>\n",
              "      <td>23</td>\n",
              "      <td>94</td>\n",
              "      <td>28.1</td>\n",
              "      <td>0.167</td>\n",
              "      <td>21</td>\n",
              "      <td>0</td>\n",
              "    </tr>\n",
              "    <tr>\n",
              "      <th>4</th>\n",
              "      <td>0</td>\n",
              "      <td>137</td>\n",
              "      <td>40</td>\n",
              "      <td>35</td>\n",
              "      <td>168</td>\n",
              "      <td>43.1</td>\n",
              "      <td>2.288</td>\n",
              "      <td>33</td>\n",
              "      <td>1</td>\n",
              "    </tr>\n",
              "  </tbody>\n",
              "</table>\n",
              "</div>\n",
              "    <div class=\"colab-df-buttons\">\n",
              "\n",
              "  <div class=\"colab-df-container\">\n",
              "    <button class=\"colab-df-convert\" onclick=\"convertToInteractive('df-845acde9-ce70-4cc7-9766-c20bea0b39a5')\"\n",
              "            title=\"Convert this dataframe to an interactive table.\"\n",
              "            style=\"display:none;\">\n",
              "\n",
              "  <svg xmlns=\"http://www.w3.org/2000/svg\" height=\"24px\" viewBox=\"0 -960 960 960\">\n",
              "    <path d=\"M120-120v-720h720v720H120Zm60-500h600v-160H180v160Zm220 220h160v-160H400v160Zm0 220h160v-160H400v160ZM180-400h160v-160H180v160Zm440 0h160v-160H620v160ZM180-180h160v-160H180v160Zm440 0h160v-160H620v160Z\"/>\n",
              "  </svg>\n",
              "    </button>\n",
              "\n",
              "  <style>\n",
              "    .colab-df-container {\n",
              "      display:flex;\n",
              "      gap: 12px;\n",
              "    }\n",
              "\n",
              "    .colab-df-convert {\n",
              "      background-color: #E8F0FE;\n",
              "      border: none;\n",
              "      border-radius: 50%;\n",
              "      cursor: pointer;\n",
              "      display: none;\n",
              "      fill: #1967D2;\n",
              "      height: 32px;\n",
              "      padding: 0 0 0 0;\n",
              "      width: 32px;\n",
              "    }\n",
              "\n",
              "    .colab-df-convert:hover {\n",
              "      background-color: #E2EBFA;\n",
              "      box-shadow: 0px 1px 2px rgba(60, 64, 67, 0.3), 0px 1px 3px 1px rgba(60, 64, 67, 0.15);\n",
              "      fill: #174EA6;\n",
              "    }\n",
              "\n",
              "    .colab-df-buttons div {\n",
              "      margin-bottom: 4px;\n",
              "    }\n",
              "\n",
              "    [theme=dark] .colab-df-convert {\n",
              "      background-color: #3B4455;\n",
              "      fill: #D2E3FC;\n",
              "    }\n",
              "\n",
              "    [theme=dark] .colab-df-convert:hover {\n",
              "      background-color: #434B5C;\n",
              "      box-shadow: 0px 1px 3px 1px rgba(0, 0, 0, 0.15);\n",
              "      filter: drop-shadow(0px 1px 2px rgba(0, 0, 0, 0.3));\n",
              "      fill: #FFFFFF;\n",
              "    }\n",
              "  </style>\n",
              "\n",
              "    <script>\n",
              "      const buttonEl =\n",
              "        document.querySelector('#df-845acde9-ce70-4cc7-9766-c20bea0b39a5 button.colab-df-convert');\n",
              "      buttonEl.style.display =\n",
              "        google.colab.kernel.accessAllowed ? 'block' : 'none';\n",
              "\n",
              "      async function convertToInteractive(key) {\n",
              "        const element = document.querySelector('#df-845acde9-ce70-4cc7-9766-c20bea0b39a5');\n",
              "        const dataTable =\n",
              "          await google.colab.kernel.invokeFunction('convertToInteractive',\n",
              "                                                    [key], {});\n",
              "        if (!dataTable) return;\n",
              "\n",
              "        const docLinkHtml = 'Like what you see? Visit the ' +\n",
              "          '<a target=\"_blank\" href=https://colab.research.google.com/notebooks/data_table.ipynb>data table notebook</a>'\n",
              "          + ' to learn more about interactive tables.';\n",
              "        element.innerHTML = '';\n",
              "        dataTable['output_type'] = 'display_data';\n",
              "        await google.colab.output.renderOutput(dataTable, element);\n",
              "        const docLink = document.createElement('div');\n",
              "        docLink.innerHTML = docLinkHtml;\n",
              "        element.appendChild(docLink);\n",
              "      }\n",
              "    </script>\n",
              "  </div>\n",
              "\n",
              "\n",
              "    <div id=\"df-5e9418d2-6054-4397-9869-1be6554f52a5\">\n",
              "      <button class=\"colab-df-quickchart\" onclick=\"quickchart('df-5e9418d2-6054-4397-9869-1be6554f52a5')\"\n",
              "                title=\"Suggest charts\"\n",
              "                style=\"display:none;\">\n",
              "\n",
              "<svg xmlns=\"http://www.w3.org/2000/svg\" height=\"24px\"viewBox=\"0 0 24 24\"\n",
              "     width=\"24px\">\n",
              "    <g>\n",
              "        <path d=\"M19 3H5c-1.1 0-2 .9-2 2v14c0 1.1.9 2 2 2h14c1.1 0 2-.9 2-2V5c0-1.1-.9-2-2-2zM9 17H7v-7h2v7zm4 0h-2V7h2v10zm4 0h-2v-4h2v4z\"/>\n",
              "    </g>\n",
              "</svg>\n",
              "      </button>\n",
              "\n",
              "<style>\n",
              "  .colab-df-quickchart {\n",
              "      --bg-color: #E8F0FE;\n",
              "      --fill-color: #1967D2;\n",
              "      --hover-bg-color: #E2EBFA;\n",
              "      --hover-fill-color: #174EA6;\n",
              "      --disabled-fill-color: #AAA;\n",
              "      --disabled-bg-color: #DDD;\n",
              "  }\n",
              "\n",
              "  [theme=dark] .colab-df-quickchart {\n",
              "      --bg-color: #3B4455;\n",
              "      --fill-color: #D2E3FC;\n",
              "      --hover-bg-color: #434B5C;\n",
              "      --hover-fill-color: #FFFFFF;\n",
              "      --disabled-bg-color: #3B4455;\n",
              "      --disabled-fill-color: #666;\n",
              "  }\n",
              "\n",
              "  .colab-df-quickchart {\n",
              "    background-color: var(--bg-color);\n",
              "    border: none;\n",
              "    border-radius: 50%;\n",
              "    cursor: pointer;\n",
              "    display: none;\n",
              "    fill: var(--fill-color);\n",
              "    height: 32px;\n",
              "    padding: 0;\n",
              "    width: 32px;\n",
              "  }\n",
              "\n",
              "  .colab-df-quickchart:hover {\n",
              "    background-color: var(--hover-bg-color);\n",
              "    box-shadow: 0 1px 2px rgba(60, 64, 67, 0.3), 0 1px 3px 1px rgba(60, 64, 67, 0.15);\n",
              "    fill: var(--button-hover-fill-color);\n",
              "  }\n",
              "\n",
              "  .colab-df-quickchart-complete:disabled,\n",
              "  .colab-df-quickchart-complete:disabled:hover {\n",
              "    background-color: var(--disabled-bg-color);\n",
              "    fill: var(--disabled-fill-color);\n",
              "    box-shadow: none;\n",
              "  }\n",
              "\n",
              "  .colab-df-spinner {\n",
              "    border: 2px solid var(--fill-color);\n",
              "    border-color: transparent;\n",
              "    border-bottom-color: var(--fill-color);\n",
              "    animation:\n",
              "      spin 1s steps(1) infinite;\n",
              "  }\n",
              "\n",
              "  @keyframes spin {\n",
              "    0% {\n",
              "      border-color: transparent;\n",
              "      border-bottom-color: var(--fill-color);\n",
              "      border-left-color: var(--fill-color);\n",
              "    }\n",
              "    20% {\n",
              "      border-color: transparent;\n",
              "      border-left-color: var(--fill-color);\n",
              "      border-top-color: var(--fill-color);\n",
              "    }\n",
              "    30% {\n",
              "      border-color: transparent;\n",
              "      border-left-color: var(--fill-color);\n",
              "      border-top-color: var(--fill-color);\n",
              "      border-right-color: var(--fill-color);\n",
              "    }\n",
              "    40% {\n",
              "      border-color: transparent;\n",
              "      border-right-color: var(--fill-color);\n",
              "      border-top-color: var(--fill-color);\n",
              "    }\n",
              "    60% {\n",
              "      border-color: transparent;\n",
              "      border-right-color: var(--fill-color);\n",
              "    }\n",
              "    80% {\n",
              "      border-color: transparent;\n",
              "      border-right-color: var(--fill-color);\n",
              "      border-bottom-color: var(--fill-color);\n",
              "    }\n",
              "    90% {\n",
              "      border-color: transparent;\n",
              "      border-bottom-color: var(--fill-color);\n",
              "    }\n",
              "  }\n",
              "</style>\n",
              "\n",
              "      <script>\n",
              "        async function quickchart(key) {\n",
              "          const quickchartButtonEl =\n",
              "            document.querySelector('#' + key + ' button');\n",
              "          quickchartButtonEl.disabled = true;  // To prevent multiple clicks.\n",
              "          quickchartButtonEl.classList.add('colab-df-spinner');\n",
              "          try {\n",
              "            const charts = await google.colab.kernel.invokeFunction(\n",
              "                'suggestCharts', [key], {});\n",
              "          } catch (error) {\n",
              "            console.error('Error during call to suggestCharts:', error);\n",
              "          }\n",
              "          quickchartButtonEl.classList.remove('colab-df-spinner');\n",
              "          quickchartButtonEl.classList.add('colab-df-quickchart-complete');\n",
              "        }\n",
              "        (() => {\n",
              "          let quickchartButtonEl =\n",
              "            document.querySelector('#df-5e9418d2-6054-4397-9869-1be6554f52a5 button');\n",
              "          quickchartButtonEl.style.display =\n",
              "            google.colab.kernel.accessAllowed ? 'block' : 'none';\n",
              "        })();\n",
              "      </script>\n",
              "    </div>\n",
              "\n",
              "    </div>\n",
              "  </div>\n"
            ],
            "application/vnd.google.colaboratory.intrinsic+json": {
              "type": "dataframe",
              "variable_name": "df",
              "summary": "{\n  \"name\": \"df\",\n  \"rows\": 768,\n  \"fields\": [\n    {\n      \"column\": \"Pregnancies\",\n      \"properties\": {\n        \"dtype\": \"number\",\n        \"std\": 3,\n        \"min\": 0,\n        \"max\": 17,\n        \"num_unique_values\": 17,\n        \"samples\": [\n          6,\n          1,\n          3\n        ],\n        \"semantic_type\": \"\",\n        \"description\": \"\"\n      }\n    },\n    {\n      \"column\": \"Glucose\",\n      \"properties\": {\n        \"dtype\": \"number\",\n        \"std\": 31,\n        \"min\": 0,\n        \"max\": 199,\n        \"num_unique_values\": 136,\n        \"samples\": [\n          151,\n          101,\n          112\n        ],\n        \"semantic_type\": \"\",\n        \"description\": \"\"\n      }\n    },\n    {\n      \"column\": \"BloodPressure\",\n      \"properties\": {\n        \"dtype\": \"number\",\n        \"std\": 19,\n        \"min\": 0,\n        \"max\": 122,\n        \"num_unique_values\": 47,\n        \"samples\": [\n          86,\n          46,\n          85\n        ],\n        \"semantic_type\": \"\",\n        \"description\": \"\"\n      }\n    },\n    {\n      \"column\": \"SkinThickness\",\n      \"properties\": {\n        \"dtype\": \"number\",\n        \"std\": 15,\n        \"min\": 0,\n        \"max\": 99,\n        \"num_unique_values\": 51,\n        \"samples\": [\n          7,\n          12,\n          48\n        ],\n        \"semantic_type\": \"\",\n        \"description\": \"\"\n      }\n    },\n    {\n      \"column\": \"Insulin\",\n      \"properties\": {\n        \"dtype\": \"number\",\n        \"std\": 115,\n        \"min\": 0,\n        \"max\": 846,\n        \"num_unique_values\": 186,\n        \"samples\": [\n          52,\n          41,\n          183\n        ],\n        \"semantic_type\": \"\",\n        \"description\": \"\"\n      }\n    },\n    {\n      \"column\": \"BMI\",\n      \"properties\": {\n        \"dtype\": \"number\",\n        \"std\": 7.8841603203754405,\n        \"min\": 0.0,\n        \"max\": 67.1,\n        \"num_unique_values\": 248,\n        \"samples\": [\n          19.9,\n          31.0,\n          38.1\n        ],\n        \"semantic_type\": \"\",\n        \"description\": \"\"\n      }\n    },\n    {\n      \"column\": \"DiabetesPedigreeFunction\",\n      \"properties\": {\n        \"dtype\": \"number\",\n        \"std\": 0.33132859501277484,\n        \"min\": 0.078,\n        \"max\": 2.42,\n        \"num_unique_values\": 517,\n        \"samples\": [\n          1.731,\n          0.426,\n          0.138\n        ],\n        \"semantic_type\": \"\",\n        \"description\": \"\"\n      }\n    },\n    {\n      \"column\": \"Age\",\n      \"properties\": {\n        \"dtype\": \"number\",\n        \"std\": 11,\n        \"min\": 21,\n        \"max\": 81,\n        \"num_unique_values\": 52,\n        \"samples\": [\n          60,\n          47,\n          72\n        ],\n        \"semantic_type\": \"\",\n        \"description\": \"\"\n      }\n    },\n    {\n      \"column\": \"Outcome\",\n      \"properties\": {\n        \"dtype\": \"number\",\n        \"std\": 0,\n        \"min\": 0,\n        \"max\": 1,\n        \"num_unique_values\": 2,\n        \"samples\": [\n          0,\n          1\n        ],\n        \"semantic_type\": \"\",\n        \"description\": \"\"\n      }\n    }\n  ]\n}"
            }
          },
          "metadata": {},
          "execution_count": 3
        }
      ]
    },
    {
      "cell_type": "code",
      "source": [
        "cols_with_missing_values = ['Glucose', 'BloodPressure', 'SkinThickness', 'Insulin', 'BMI']\n",
        "df[cols_with_missing_values] = df[cols_with_missing_values].replace(0, np.nan)\n",
        "df.fillna(df.mean(), inplace=True)\n",
        "print(df.isnull().sum())"
      ],
      "metadata": {
        "colab": {
          "base_uri": "https://localhost:8080/"
        },
        "id": "axGd9MxR7OJv",
        "outputId": "270860f3-c84e-4291-a3b8-906990ea5a43"
      },
      "execution_count": 4,
      "outputs": [
        {
          "output_type": "stream",
          "name": "stdout",
          "text": [
            "Pregnancies                 0\n",
            "Glucose                     0\n",
            "BloodPressure               0\n",
            "SkinThickness               0\n",
            "Insulin                     0\n",
            "BMI                         0\n",
            "DiabetesPedigreeFunction    0\n",
            "Age                         0\n",
            "Outcome                     0\n",
            "dtype: int64\n"
          ]
        }
      ]
    },
    {
      "cell_type": "code",
      "source": [
        "X = df.drop('Outcome', axis=1)\n",
        "y = df['Outcome']\n",
        "X_train, X_test, y_train, y_test = train_test_split(X, y, test_size=0.3, random_state=42)\n",
        "scaler = StandardScaler()\n",
        "X_train = scaler.fit_transform(X_train)\n",
        "X_test = scaler.transform(X_test)\n",
        "print(f\"Shape of X_train: {X_train.shape}\")\n",
        "print(f\"Shape of X_test: {X_test.shape}\")"
      ],
      "metadata": {
        "colab": {
          "base_uri": "https://localhost:8080/"
        },
        "id": "pa7BGGNlLZdn",
        "outputId": "684ce708-a774-430e-d82a-d00a5d05120f"
      },
      "execution_count": 5,
      "outputs": [
        {
          "output_type": "stream",
          "name": "stdout",
          "text": [
            "Shape of X_train: (537, 8)\n",
            "Shape of X_test: (231, 8)\n"
          ]
        }
      ]
    },
    {
      "cell_type": "code",
      "source": [
        "from sklearn.ensemble import RandomForestClassifier\n",
        "from sklearn.model_selection import cross_val_score\n",
        "\n",
        "# Define the objective function\n",
        "def objective(trial):\n",
        "  # Create the search space for the required hyperparameters\n",
        "  n_estimators = trial.suggest_int('n_estimators', 50, 200)\n",
        "  max_depth = trial.suggest_int('max_depth', 3, 20)\n",
        "\n",
        "  # Create a RandomForestClassifier model with the suggested hyperparameters\n",
        "  model = RandomForestClassifier(\n",
        "      n_estimators=n_estimators,\n",
        "      max_depth=max_depth,\n",
        "      random_state=42\n",
        "  )\n",
        "\n",
        "  # Perform 3-fold cross-validation and calculate accuracy\n",
        "  score = cross_val_score(model, X_train, y_train, cv=3, scoring='accuracy').mean()\n",
        "  return score # Return the accuracy score for Optuna to maximize"
      ],
      "metadata": {
        "id": "F5B4OA2zNwge"
      },
      "execution_count": 6,
      "outputs": []
    },
    {
      "cell_type": "markdown",
      "source": [
        "# Using TPE Sampler"
      ],
      "metadata": {
        "id": "EevZy6efJcD5"
      }
    },
    {
      "cell_type": "code",
      "source": [
        "# Create a study and optimize the objective function using Optuna\n",
        "study = optuna.create_study(direction='maximize', sampler=optuna.samplers.TPESampler()) # We are maximizing the accuracy and defining sampler\n",
        "study.optimize(objective, n_trials=50)"
      ],
      "metadata": {
        "colab": {
          "base_uri": "https://localhost:8080/"
        },
        "id": "EkqPLi_jXPsT",
        "outputId": "9c3c1e28-bde3-4d4b-ac58-572c1ead27f8"
      },
      "execution_count": 7,
      "outputs": [
        {
          "output_type": "stream",
          "name": "stderr",
          "text": [
            "[I 2025-07-10 06:59:30,471] A new study created in memory with name: no-name-8532ad0a-f4b5-4770-b176-f365ad5eb89c\n",
            "[I 2025-07-10 06:59:31,967] Trial 0 finished with value: 0.7653631284916201 and parameters: {'n_estimators': 200, 'max_depth': 12}. Best is trial 0 with value: 0.7653631284916201.\n",
            "[I 2025-07-10 06:59:34,532] Trial 1 finished with value: 0.7858472998137803 and parameters: {'n_estimators': 121, 'max_depth': 15}. Best is trial 1 with value: 0.7858472998137803.\n",
            "[I 2025-07-10 06:59:37,112] Trial 2 finished with value: 0.7765363128491619 and parameters: {'n_estimators': 167, 'max_depth': 7}. Best is trial 1 with value: 0.7858472998137803.\n",
            "[I 2025-07-10 06:59:39,681] Trial 3 finished with value: 0.7728119180633147 and parameters: {'n_estimators': 190, 'max_depth': 13}. Best is trial 1 with value: 0.7858472998137803.\n",
            "[I 2025-07-10 06:59:42,728] Trial 4 finished with value: 0.7746741154562384 and parameters: {'n_estimators': 200, 'max_depth': 17}. Best is trial 1 with value: 0.7858472998137803.\n",
            "[I 2025-07-10 06:59:44,318] Trial 5 finished with value: 0.7765363128491621 and parameters: {'n_estimators': 76, 'max_depth': 18}. Best is trial 1 with value: 0.7858472998137803.\n",
            "[I 2025-07-10 06:59:45,280] Trial 6 finished with value: 0.7746741154562384 and parameters: {'n_estimators': 64, 'max_depth': 13}. Best is trial 1 with value: 0.7858472998137803.\n",
            "[I 2025-07-10 06:59:46,304] Trial 7 finished with value: 0.7746741154562384 and parameters: {'n_estimators': 68, 'max_depth': 16}. Best is trial 1 with value: 0.7858472998137803.\n",
            "[I 2025-07-10 06:59:48,125] Trial 8 finished with value: 0.7541899441340782 and parameters: {'n_estimators': 61, 'max_depth': 10}. Best is trial 1 with value: 0.7858472998137803.\n",
            "[I 2025-07-10 06:59:51,485] Trial 9 finished with value: 0.7579143389199255 and parameters: {'n_estimators': 185, 'max_depth': 9}. Best is trial 1 with value: 0.7858472998137803.\n",
            "[I 2025-07-10 06:59:52,622] Trial 10 finished with value: 0.7616387337057727 and parameters: {'n_estimators': 114, 'max_depth': 4}. Best is trial 1 with value: 0.7858472998137803.\n",
            "[I 2025-07-10 06:59:53,981] Trial 11 finished with value: 0.7728119180633147 and parameters: {'n_estimators': 103, 'max_depth': 20}. Best is trial 1 with value: 0.7858472998137803.\n",
            "[I 2025-07-10 06:59:55,297] Trial 12 finished with value: 0.7690875232774674 and parameters: {'n_estimators': 142, 'max_depth': 20}. Best is trial 1 with value: 0.7858472998137803.\n",
            "[I 2025-07-10 06:59:55,845] Trial 13 finished with value: 0.7672253258845437 and parameters: {'n_estimators': 89, 'max_depth': 16}. Best is trial 1 with value: 0.7858472998137803.\n",
            "[I 2025-07-10 06:59:56,588] Trial 14 finished with value: 0.7802607076350093 and parameters: {'n_estimators': 133, 'max_depth': 18}. Best is trial 1 with value: 0.7858472998137803.\n",
            "[I 2025-07-10 06:59:57,392] Trial 15 finished with value: 0.7728119180633147 and parameters: {'n_estimators': 140, 'max_depth': 15}. Best is trial 1 with value: 0.7858472998137803.\n",
            "[I 2025-07-10 06:59:58,173] Trial 16 finished with value: 0.7690875232774674 and parameters: {'n_estimators': 134, 'max_depth': 14}. Best is trial 1 with value: 0.7858472998137803.\n",
            "[I 2025-07-10 06:59:59,059] Trial 17 finished with value: 0.7728119180633147 and parameters: {'n_estimators': 160, 'max_depth': 19}. Best is trial 1 with value: 0.7858472998137803.\n",
            "[I 2025-07-10 06:59:59,739] Trial 18 finished with value: 0.7765363128491621 and parameters: {'n_estimators': 120, 'max_depth': 18}. Best is trial 1 with value: 0.7858472998137803.\n",
            "[I 2025-07-10 07:00:00,492] Trial 19 finished with value: 0.7635009310986964 and parameters: {'n_estimators': 99, 'max_depth': 10}. Best is trial 1 with value: 0.7858472998137803.\n",
            "[I 2025-07-10 07:00:01,773] Trial 20 finished with value: 0.7541899441340782 and parameters: {'n_estimators': 154, 'max_depth': 3}. Best is trial 1 with value: 0.7858472998137803.\n",
            "[I 2025-07-10 07:00:02,655] Trial 21 finished with value: 0.7765363128491621 and parameters: {'n_estimators': 87, 'max_depth': 18}. Best is trial 1 with value: 0.7858472998137803.\n",
            "[I 2025-07-10 07:00:03,203] Trial 22 finished with value: 0.7653631284916201 and parameters: {'n_estimators': 82, 'max_depth': 17}. Best is trial 1 with value: 0.7858472998137803.\n",
            "[I 2025-07-10 07:00:03,856] Trial 23 finished with value: 0.7783985102420856 and parameters: {'n_estimators': 109, 'max_depth': 15}. Best is trial 1 with value: 0.7858472998137803.\n",
            "[I 2025-07-10 07:00:04,598] Trial 24 finished with value: 0.7783985102420856 and parameters: {'n_estimators': 125, 'max_depth': 15}. Best is trial 1 with value: 0.7858472998137803.\n",
            "[I 2025-07-10 07:00:05,233] Trial 25 finished with value: 0.7746741154562384 and parameters: {'n_estimators': 106, 'max_depth': 14}. Best is trial 1 with value: 0.7858472998137803.\n",
            "[I 2025-07-10 07:00:05,989] Trial 26 finished with value: 0.7783985102420856 and parameters: {'n_estimators': 131, 'max_depth': 16}. Best is trial 1 with value: 0.7858472998137803.\n",
            "[I 2025-07-10 07:00:06,868] Trial 27 finished with value: 0.7653631284916201 and parameters: {'n_estimators': 149, 'max_depth': 12}. Best is trial 1 with value: 0.7858472998137803.\n",
            "[I 2025-07-10 07:00:07,538] Trial 28 finished with value: 0.7690875232774674 and parameters: {'n_estimators': 114, 'max_depth': 14}. Best is trial 1 with value: 0.7858472998137803.\n",
            "[I 2025-07-10 07:00:08,508] Trial 29 finished with value: 0.7635009310986964 and parameters: {'n_estimators': 172, 'max_depth': 11}. Best is trial 1 with value: 0.7858472998137803.\n",
            "[I 2025-07-10 07:00:09,038] Trial 30 finished with value: 0.7690875232774674 and parameters: {'n_estimators': 98, 'max_depth': 7}. Best is trial 1 with value: 0.7858472998137803.\n",
            "[I 2025-07-10 07:00:09,721] Trial 31 finished with value: 0.7802607076350093 and parameters: {'n_estimators': 118, 'max_depth': 15}. Best is trial 1 with value: 0.7858472998137803.\n",
            "[I 2025-07-10 07:00:10,398] Trial 32 finished with value: 0.7821229050279329 and parameters: {'n_estimators': 117, 'max_depth': 15}. Best is trial 1 with value: 0.7858472998137803.\n",
            "[I 2025-07-10 07:00:11,093] Trial 33 finished with value: 0.7728119180633147 and parameters: {'n_estimators': 122, 'max_depth': 17}. Best is trial 1 with value: 0.7858472998137803.\n",
            "[I 2025-07-10 07:00:11,827] Trial 34 finished with value: 0.7783985102420856 and parameters: {'n_estimators': 128, 'max_depth': 13}. Best is trial 1 with value: 0.7858472998137803.\n",
            "[I 2025-07-10 07:00:12,655] Trial 35 finished with value: 0.7728119180633147 and parameters: {'n_estimators': 143, 'max_depth': 19}. Best is trial 1 with value: 0.7858472998137803.\n",
            "[I 2025-07-10 07:00:13,856] Trial 36 finished with value: 0.7728119180633147 and parameters: {'n_estimators': 135, 'max_depth': 12}. Best is trial 1 with value: 0.7858472998137803.\n",
            "[I 2025-07-10 07:00:14,985] Trial 37 finished with value: 0.7802607076350093 and parameters: {'n_estimators': 118, 'max_depth': 16}. Best is trial 1 with value: 0.7858472998137803.\n",
            "[I 2025-07-10 07:00:15,705] Trial 38 finished with value: 0.7709497206703911 and parameters: {'n_estimators': 93, 'max_depth': 17}. Best is trial 1 with value: 0.7858472998137803.\n",
            "[I 2025-07-10 07:00:16,012] Trial 39 finished with value: 0.7672253258845437 and parameters: {'n_estimators': 53, 'max_depth': 13}. Best is trial 1 with value: 0.7858472998137803.\n",
            "[I 2025-07-10 07:00:16,994] Trial 40 finished with value: 0.7709497206703911 and parameters: {'n_estimators': 173, 'max_depth': 19}. Best is trial 1 with value: 0.7858472998137803.\n",
            "[I 2025-07-10 07:00:17,671] Trial 41 finished with value: 0.7783985102420856 and parameters: {'n_estimators': 114, 'max_depth': 16}. Best is trial 1 with value: 0.7858472998137803.\n",
            "[I 2025-07-10 07:00:18,356] Trial 42 finished with value: 0.7839851024208566 and parameters: {'n_estimators': 119, 'max_depth': 15}. Best is trial 1 with value: 0.7858472998137803.\n",
            "[I 2025-07-10 07:00:19,087] Trial 43 finished with value: 0.7746741154562384 and parameters: {'n_estimators': 126, 'max_depth': 14}. Best is trial 1 with value: 0.7858472998137803.\n",
            "[I 2025-07-10 07:00:19,740] Trial 44 finished with value: 0.7746741154562384 and parameters: {'n_estimators': 110, 'max_depth': 15}. Best is trial 1 with value: 0.7858472998137803.\n",
            "[I 2025-07-10 07:00:20,609] Trial 45 finished with value: 0.7728119180633147 and parameters: {'n_estimators': 150, 'max_depth': 17}. Best is trial 1 with value: 0.7858472998137803.\n",
            "[I 2025-07-10 07:00:21,215] Trial 46 finished with value: 0.7672253258845437 and parameters: {'n_estimators': 101, 'max_depth': 15}. Best is trial 1 with value: 0.7858472998137803.\n",
            "[I 2025-07-10 07:00:21,982] Trial 47 finished with value: 0.7690875232774674 and parameters: {'n_estimators': 135, 'max_depth': 11}. Best is trial 1 with value: 0.7858472998137803.\n",
            "[I 2025-07-10 07:00:22,621] Trial 48 finished with value: 0.7821229050279329 and parameters: {'n_estimators': 118, 'max_depth': 7}. Best is trial 1 with value: 0.7858472998137803.\n",
            "[I 2025-07-10 07:00:23,390] Trial 49 finished with value: 0.7672253258845437 and parameters: {'n_estimators': 140, 'max_depth': 6}. Best is trial 1 with value: 0.7858472998137803.\n"
          ]
        }
      ]
    },
    {
      "cell_type": "code",
      "source": [
        "# Print the best accuracy\n",
        "print(f\"Best trial accuracy: {study.best_value}\")\n",
        "print(f\"Best parameters: {study.best_params}\")"
      ],
      "metadata": {
        "colab": {
          "base_uri": "https://localhost:8080/"
        },
        "id": "ZesGlvGoX-Zb",
        "outputId": "3f49e784-11c2-4350-9ba4-4b114adecaac"
      },
      "execution_count": 8,
      "outputs": [
        {
          "output_type": "stream",
          "name": "stdout",
          "text": [
            "Best trial accuracy: 0.7858472998137803\n",
            "Best parameters: {'n_estimators': 121, 'max_depth': 15}\n"
          ]
        }
      ]
    },
    {
      "cell_type": "code",
      "source": [
        "from sklearn.metrics import accuracy_score\n",
        "\n",
        "# Train a RandomForestClassifier using the best hyperparameters from Optuna\n",
        "best_model = RandomForestClassifier(**study.best_params, random_state=42)\n",
        "\n",
        "# Fit the model to the training data\n",
        "best_model.fit(X_train, y_train)\n",
        "\n",
        "# Make predictions on the test set\n",
        "y_pred = best_model.predict(X_test)\n",
        "\n",
        "# Calculate the accuracy on the test set\n",
        "test_accuracy = accuracy_score(y_test, y_pred)\n",
        "\n",
        "# Print the test accuracy\n",
        "print(f\"Test accuracy with the best hyperparameters: {test_accuracy:.2f}\")"
      ],
      "metadata": {
        "colab": {
          "base_uri": "https://localhost:8080/"
        },
        "id": "YbVXzeTCGfTV",
        "outputId": "38434b88-4a97-4374-86e7-104acb6f798c"
      },
      "execution_count": 9,
      "outputs": [
        {
          "output_type": "stream",
          "name": "stdout",
          "text": [
            "Test accuracy with the best hyperparameters: 0.76\n"
          ]
        }
      ]
    },
    {
      "cell_type": "markdown",
      "source": [
        "# Optuna Samplers"
      ],
      "metadata": {
        "id": "l20N0dnKIVFL"
      }
    },
    {
      "cell_type": "code",
      "source": [
        "# from sklearn.ensemble import RandomForestClassifier\n",
        "# from sklearn.model_selection import cross_val_score\n",
        "\n",
        "# # Define the objective function\n",
        "# def objective(trial):\n",
        "#   # Create the search space for the required hyperparameters\n",
        "#   n_estimators = trial.suggest_int('n_estimators', 50, 200)\n",
        "#   max_depth = trial.suggest_int('max_depth', 3, 20)\n",
        "\n",
        "#   # Create a RandomForestClassifier model with the suggested hyperparameters\n",
        "#   model = RandomForestClassifier(\n",
        "#       n_estimators=n_estimators,\n",
        "#       max_depth=max_depth,\n",
        "#       random_state=42\n",
        "#   )\n",
        "\n",
        "#   # Perform 3-fold cross-validation and calculate accuracy\n",
        "#   score = cross_val_score(model, X_train, y_train, cv=3, scoring='accuracy').mean()\n",
        "#   return score # Return the accuracy score for Optuna to maximize"
      ],
      "metadata": {
        "id": "lK_e1oIhIUrC"
      },
      "execution_count": 10,
      "outputs": []
    },
    {
      "cell_type": "markdown",
      "source": [
        "# Using Random Sampler"
      ],
      "metadata": {
        "id": "huTW-rV7JYAi"
      }
    },
    {
      "cell_type": "code",
      "source": [
        "# # Create a study and optimize the objective function using Optuna\n",
        "# study = optuna.create_study(direction='maximize', sampler=optuna.samplers.RandomSampler()) # We are maximizing the accuracy and defining sampler\n",
        "# study.optimize(objective, n_trials=50)"
      ],
      "metadata": {
        "id": "yJHHOjYEIpDo"
      },
      "execution_count": 11,
      "outputs": []
    },
    {
      "cell_type": "code",
      "source": [
        "# # Print the best accuracy\n",
        "# print(f\"Best trial accuracy: {study.best_value}\")\n",
        "# print(f\"Best parameters: {study.best_params}\")"
      ],
      "metadata": {
        "id": "oq2215-JJN1z"
      },
      "execution_count": 12,
      "outputs": []
    },
    {
      "cell_type": "code",
      "source": [
        "# from sklearn.metrics import accuracy_score\n",
        "\n",
        "# # Train a RandomForestClassifier using the best hyperparameters from Optuna\n",
        "# best_model = RandomForestClassifier(**study.best_params, random_state=42)\n",
        "\n",
        "# # Fit the model to the training data\n",
        "# best_model.fit(X_train, y_train)\n",
        "\n",
        "# # Make predictions on the test set\n",
        "# y_pred = best_model.predict(X_test)\n",
        "\n",
        "# # Calculate the accuracy on the test set\n",
        "# test_accuracy = accuracy_score(y_test, y_pred)\n",
        "\n",
        "# # Print the test accuracy\n",
        "# print(f\"Test accuracy with the best hyperparameters: {test_accuracy}\")"
      ],
      "metadata": {
        "id": "jDQhnztIKPTA"
      },
      "execution_count": 13,
      "outputs": []
    },
    {
      "cell_type": "markdown",
      "source": [
        "# Using GridSearchCV"
      ],
      "metadata": {
        "id": "xarGQo7qKTzM"
      }
    },
    {
      "cell_type": "code",
      "source": [
        "# search_space = {\n",
        "#     'n_estimators': [50, 100, 150, 200],\n",
        "#     'max_depth': [5, 10, 15, 20]\n",
        "# }"
      ],
      "metadata": {
        "id": "JT6LocGhKXEx"
      },
      "execution_count": 14,
      "outputs": []
    },
    {
      "cell_type": "code",
      "source": [
        "# # Create a study and optimize the objective function using Optuna\n",
        "# study = optuna.create_study(direction='maximize', sampler=optuna.samplers.GridSampler(search_space)) # We are maximizing the accuracy and defining sampler\n",
        "# study.optimize(objective)"
      ],
      "metadata": {
        "id": "tRBExhB2Kybu"
      },
      "execution_count": 15,
      "outputs": []
    },
    {
      "cell_type": "code",
      "source": [
        "# # Print the best accuracy\n",
        "# print(f\"Best trial accuracy: {study.best_value}\")\n",
        "# print(f\"Best parameters: {study.best_params}\")"
      ],
      "metadata": {
        "id": "D34ltBGzLS5_"
      },
      "execution_count": 16,
      "outputs": []
    },
    {
      "cell_type": "code",
      "source": [
        "# from sklearn.metrics import accuracy_score\n",
        "\n",
        "# # Train a RandomForestClassifier using the best hyperparameters from Optuna\n",
        "# best_model = RandomForestClassifier(**study.best_params, random_state=42)\n",
        "\n",
        "# # Fit the model to the training data\n",
        "# best_model.fit(X_train, y_train)\n",
        "\n",
        "# # Make predictions on the test set\n",
        "# y_pred = best_model.predict(X_test)\n",
        "\n",
        "# # Calculate the accuracy on the test set\n",
        "# test_accuracy = accuracy_score(y_test, y_pred)\n",
        "\n",
        "# # Print the test accuracy\n",
        "# print(f\"Test accuracy with the best hyperparameters: {test_accuracy}\")"
      ],
      "metadata": {
        "id": "E8bsLJUSLVuz"
      },
      "execution_count": 17,
      "outputs": []
    },
    {
      "cell_type": "markdown",
      "source": [
        "# Optuna Visualizations"
      ],
      "metadata": {
        "id": "WMibsDRSLYjz"
      }
    },
    {
      "cell_type": "code",
      "source": [
        "# Import the required libraries\n",
        "from optuna.visualization import plot_optimization_history, plot_parallel_coordinate, plot_slice, plot_contour, plot_param_importances, plot_intermediate_values"
      ],
      "metadata": {
        "id": "eGMwQb2MLbKt"
      },
      "execution_count": 53,
      "outputs": []
    },
    {
      "cell_type": "markdown",
      "source": [
        "# Plot Optimization Graph"
      ],
      "metadata": {
        "id": "-yddU6c6LoiR"
      }
    },
    {
      "cell_type": "code",
      "source": [
        "# Plot Optimization History\n",
        "plot_optimization_history(study).show()"
      ],
      "metadata": {
        "colab": {
          "base_uri": "https://localhost:8080/",
          "height": 542
        },
        "id": "Cvu1XrQTLrMv",
        "outputId": "f4917439-47c2-42f3-ee41-ff0eaf12bc8b"
      },
      "execution_count": 19,
      "outputs": [
        {
          "output_type": "display_data",
          "data": {
            "text/html": [
              "<html>\n",
              "<head><meta charset=\"utf-8\" /></head>\n",
              "<body>\n",
              "    <div>            <script src=\"https://cdnjs.cloudflare.com/ajax/libs/mathjax/2.7.5/MathJax.js?config=TeX-AMS-MML_SVG\"></script><script type=\"text/javascript\">if (window.MathJax && window.MathJax.Hub && window.MathJax.Hub.Config) {window.MathJax.Hub.Config({SVG: {font: \"STIX-Web\"}});}</script>                <script type=\"text/javascript\">window.PlotlyConfig = {MathJaxConfig: 'local'};</script>\n",
              "        <script charset=\"utf-8\" src=\"https://cdn.plot.ly/plotly-2.35.2.min.js\"></script>                <div id=\"2445b370-0459-42b6-8c63-88170e61a906\" class=\"plotly-graph-div\" style=\"height:525px; width:100%;\"></div>            <script type=\"text/javascript\">                                    window.PLOTLYENV=window.PLOTLYENV || {};                                    if (document.getElementById(\"2445b370-0459-42b6-8c63-88170e61a906\")) {                    Plotly.newPlot(                        \"2445b370-0459-42b6-8c63-88170e61a906\",                        [{\"mode\":\"markers\",\"name\":\"Objective Value\",\"x\":[0,1,2,3,4,5,6,7,8,9,10,11,12,13,14,15,16,17,18,19,20,21,22,23,24,25,26,27,28,29,30,31,32,33,34,35,36,37,38,39,40,41,42,43,44,45,46,47,48,49],\"y\":[0.7653631284916201,0.7858472998137803,0.7765363128491619,0.7728119180633147,0.7746741154562384,0.7765363128491621,0.7746741154562384,0.7746741154562384,0.7541899441340782,0.7579143389199255,0.7616387337057727,0.7728119180633147,0.7690875232774674,0.7672253258845437,0.7802607076350093,0.7728119180633147,0.7690875232774674,0.7728119180633147,0.7765363128491621,0.7635009310986964,0.7541899441340782,0.7765363128491621,0.7653631284916201,0.7783985102420856,0.7783985102420856,0.7746741154562384,0.7783985102420856,0.7653631284916201,0.7690875232774674,0.7635009310986964,0.7690875232774674,0.7802607076350093,0.7821229050279329,0.7728119180633147,0.7783985102420856,0.7728119180633147,0.7728119180633147,0.7802607076350093,0.7709497206703911,0.7672253258845437,0.7709497206703911,0.7783985102420856,0.7839851024208566,0.7746741154562384,0.7746741154562384,0.7728119180633147,0.7672253258845437,0.7690875232774674,0.7821229050279329,0.7672253258845437],\"type\":\"scatter\"},{\"mode\":\"lines\",\"name\":\"Best Value\",\"x\":[0,1,2,3,4,5,6,7,8,9,10,11,12,13,14,15,16,17,18,19,20,21,22,23,24,25,26,27,28,29,30,31,32,33,34,35,36,37,38,39,40,41,42,43,44,45,46,47,48,49],\"y\":[0.7653631284916201,0.7858472998137803,0.7858472998137803,0.7858472998137803,0.7858472998137803,0.7858472998137803,0.7858472998137803,0.7858472998137803,0.7858472998137803,0.7858472998137803,0.7858472998137803,0.7858472998137803,0.7858472998137803,0.7858472998137803,0.7858472998137803,0.7858472998137803,0.7858472998137803,0.7858472998137803,0.7858472998137803,0.7858472998137803,0.7858472998137803,0.7858472998137803,0.7858472998137803,0.7858472998137803,0.7858472998137803,0.7858472998137803,0.7858472998137803,0.7858472998137803,0.7858472998137803,0.7858472998137803,0.7858472998137803,0.7858472998137803,0.7858472998137803,0.7858472998137803,0.7858472998137803,0.7858472998137803,0.7858472998137803,0.7858472998137803,0.7858472998137803,0.7858472998137803,0.7858472998137803,0.7858472998137803,0.7858472998137803,0.7858472998137803,0.7858472998137803,0.7858472998137803,0.7858472998137803,0.7858472998137803,0.7858472998137803,0.7858472998137803],\"type\":\"scatter\"},{\"marker\":{\"color\":\"#cccccc\"},\"mode\":\"markers\",\"name\":\"Infeasible Trial\",\"showlegend\":false,\"x\":[],\"y\":[],\"type\":\"scatter\"}],                        {\"title\":{\"text\":\"Optimization History Plot\"},\"xaxis\":{\"title\":{\"text\":\"Trial\"}},\"yaxis\":{\"title\":{\"text\":\"Objective Value\"}},\"template\":{\"data\":{\"histogram2dcontour\":[{\"type\":\"histogram2dcontour\",\"colorbar\":{\"outlinewidth\":0,\"ticks\":\"\"},\"colorscale\":[[0.0,\"#0d0887\"],[0.1111111111111111,\"#46039f\"],[0.2222222222222222,\"#7201a8\"],[0.3333333333333333,\"#9c179e\"],[0.4444444444444444,\"#bd3786\"],[0.5555555555555556,\"#d8576b\"],[0.6666666666666666,\"#ed7953\"],[0.7777777777777778,\"#fb9f3a\"],[0.8888888888888888,\"#fdca26\"],[1.0,\"#f0f921\"]]}],\"choropleth\":[{\"type\":\"choropleth\",\"colorbar\":{\"outlinewidth\":0,\"ticks\":\"\"}}],\"histogram2d\":[{\"type\":\"histogram2d\",\"colorbar\":{\"outlinewidth\":0,\"ticks\":\"\"},\"colorscale\":[[0.0,\"#0d0887\"],[0.1111111111111111,\"#46039f\"],[0.2222222222222222,\"#7201a8\"],[0.3333333333333333,\"#9c179e\"],[0.4444444444444444,\"#bd3786\"],[0.5555555555555556,\"#d8576b\"],[0.6666666666666666,\"#ed7953\"],[0.7777777777777778,\"#fb9f3a\"],[0.8888888888888888,\"#fdca26\"],[1.0,\"#f0f921\"]]}],\"heatmap\":[{\"type\":\"heatmap\",\"colorbar\":{\"outlinewidth\":0,\"ticks\":\"\"},\"colorscale\":[[0.0,\"#0d0887\"],[0.1111111111111111,\"#46039f\"],[0.2222222222222222,\"#7201a8\"],[0.3333333333333333,\"#9c179e\"],[0.4444444444444444,\"#bd3786\"],[0.5555555555555556,\"#d8576b\"],[0.6666666666666666,\"#ed7953\"],[0.7777777777777778,\"#fb9f3a\"],[0.8888888888888888,\"#fdca26\"],[1.0,\"#f0f921\"]]}],\"heatmapgl\":[{\"type\":\"heatmapgl\",\"colorbar\":{\"outlinewidth\":0,\"ticks\":\"\"},\"colorscale\":[[0.0,\"#0d0887\"],[0.1111111111111111,\"#46039f\"],[0.2222222222222222,\"#7201a8\"],[0.3333333333333333,\"#9c179e\"],[0.4444444444444444,\"#bd3786\"],[0.5555555555555556,\"#d8576b\"],[0.6666666666666666,\"#ed7953\"],[0.7777777777777778,\"#fb9f3a\"],[0.8888888888888888,\"#fdca26\"],[1.0,\"#f0f921\"]]}],\"contourcarpet\":[{\"type\":\"contourcarpet\",\"colorbar\":{\"outlinewidth\":0,\"ticks\":\"\"}}],\"contour\":[{\"type\":\"contour\",\"colorbar\":{\"outlinewidth\":0,\"ticks\":\"\"},\"colorscale\":[[0.0,\"#0d0887\"],[0.1111111111111111,\"#46039f\"],[0.2222222222222222,\"#7201a8\"],[0.3333333333333333,\"#9c179e\"],[0.4444444444444444,\"#bd3786\"],[0.5555555555555556,\"#d8576b\"],[0.6666666666666666,\"#ed7953\"],[0.7777777777777778,\"#fb9f3a\"],[0.8888888888888888,\"#fdca26\"],[1.0,\"#f0f921\"]]}],\"surface\":[{\"type\":\"surface\",\"colorbar\":{\"outlinewidth\":0,\"ticks\":\"\"},\"colorscale\":[[0.0,\"#0d0887\"],[0.1111111111111111,\"#46039f\"],[0.2222222222222222,\"#7201a8\"],[0.3333333333333333,\"#9c179e\"],[0.4444444444444444,\"#bd3786\"],[0.5555555555555556,\"#d8576b\"],[0.6666666666666666,\"#ed7953\"],[0.7777777777777778,\"#fb9f3a\"],[0.8888888888888888,\"#fdca26\"],[1.0,\"#f0f921\"]]}],\"mesh3d\":[{\"type\":\"mesh3d\",\"colorbar\":{\"outlinewidth\":0,\"ticks\":\"\"}}],\"scatter\":[{\"fillpattern\":{\"fillmode\":\"overlay\",\"size\":10,\"solidity\":0.2},\"type\":\"scatter\"}],\"parcoords\":[{\"type\":\"parcoords\",\"line\":{\"colorbar\":{\"outlinewidth\":0,\"ticks\":\"\"}}}],\"scatterpolargl\":[{\"type\":\"scatterpolargl\",\"marker\":{\"colorbar\":{\"outlinewidth\":0,\"ticks\":\"\"}}}],\"bar\":[{\"error_x\":{\"color\":\"#2a3f5f\"},\"error_y\":{\"color\":\"#2a3f5f\"},\"marker\":{\"line\":{\"color\":\"#E5ECF6\",\"width\":0.5},\"pattern\":{\"fillmode\":\"overlay\",\"size\":10,\"solidity\":0.2}},\"type\":\"bar\"}],\"scattergeo\":[{\"type\":\"scattergeo\",\"marker\":{\"colorbar\":{\"outlinewidth\":0,\"ticks\":\"\"}}}],\"scatterpolar\":[{\"type\":\"scatterpolar\",\"marker\":{\"colorbar\":{\"outlinewidth\":0,\"ticks\":\"\"}}}],\"histogram\":[{\"marker\":{\"pattern\":{\"fillmode\":\"overlay\",\"size\":10,\"solidity\":0.2}},\"type\":\"histogram\"}],\"scattergl\":[{\"type\":\"scattergl\",\"marker\":{\"colorbar\":{\"outlinewidth\":0,\"ticks\":\"\"}}}],\"scatter3d\":[{\"type\":\"scatter3d\",\"line\":{\"colorbar\":{\"outlinewidth\":0,\"ticks\":\"\"}},\"marker\":{\"colorbar\":{\"outlinewidth\":0,\"ticks\":\"\"}}}],\"scattermapbox\":[{\"type\":\"scattermapbox\",\"marker\":{\"colorbar\":{\"outlinewidth\":0,\"ticks\":\"\"}}}],\"scatterternary\":[{\"type\":\"scatterternary\",\"marker\":{\"colorbar\":{\"outlinewidth\":0,\"ticks\":\"\"}}}],\"scattercarpet\":[{\"type\":\"scattercarpet\",\"marker\":{\"colorbar\":{\"outlinewidth\":0,\"ticks\":\"\"}}}],\"carpet\":[{\"aaxis\":{\"endlinecolor\":\"#2a3f5f\",\"gridcolor\":\"white\",\"linecolor\":\"white\",\"minorgridcolor\":\"white\",\"startlinecolor\":\"#2a3f5f\"},\"baxis\":{\"endlinecolor\":\"#2a3f5f\",\"gridcolor\":\"white\",\"linecolor\":\"white\",\"minorgridcolor\":\"white\",\"startlinecolor\":\"#2a3f5f\"},\"type\":\"carpet\"}],\"table\":[{\"cells\":{\"fill\":{\"color\":\"#EBF0F8\"},\"line\":{\"color\":\"white\"}},\"header\":{\"fill\":{\"color\":\"#C8D4E3\"},\"line\":{\"color\":\"white\"}},\"type\":\"table\"}],\"barpolar\":[{\"marker\":{\"line\":{\"color\":\"#E5ECF6\",\"width\":0.5},\"pattern\":{\"fillmode\":\"overlay\",\"size\":10,\"solidity\":0.2}},\"type\":\"barpolar\"}],\"pie\":[{\"automargin\":true,\"type\":\"pie\"}]},\"layout\":{\"autotypenumbers\":\"strict\",\"colorway\":[\"#636efa\",\"#EF553B\",\"#00cc96\",\"#ab63fa\",\"#FFA15A\",\"#19d3f3\",\"#FF6692\",\"#B6E880\",\"#FF97FF\",\"#FECB52\"],\"font\":{\"color\":\"#2a3f5f\"},\"hovermode\":\"closest\",\"hoverlabel\":{\"align\":\"left\"},\"paper_bgcolor\":\"white\",\"plot_bgcolor\":\"#E5ECF6\",\"polar\":{\"bgcolor\":\"#E5ECF6\",\"angularaxis\":{\"gridcolor\":\"white\",\"linecolor\":\"white\",\"ticks\":\"\"},\"radialaxis\":{\"gridcolor\":\"white\",\"linecolor\":\"white\",\"ticks\":\"\"}},\"ternary\":{\"bgcolor\":\"#E5ECF6\",\"aaxis\":{\"gridcolor\":\"white\",\"linecolor\":\"white\",\"ticks\":\"\"},\"baxis\":{\"gridcolor\":\"white\",\"linecolor\":\"white\",\"ticks\":\"\"},\"caxis\":{\"gridcolor\":\"white\",\"linecolor\":\"white\",\"ticks\":\"\"}},\"coloraxis\":{\"colorbar\":{\"outlinewidth\":0,\"ticks\":\"\"}},\"colorscale\":{\"sequential\":[[0.0,\"#0d0887\"],[0.1111111111111111,\"#46039f\"],[0.2222222222222222,\"#7201a8\"],[0.3333333333333333,\"#9c179e\"],[0.4444444444444444,\"#bd3786\"],[0.5555555555555556,\"#d8576b\"],[0.6666666666666666,\"#ed7953\"],[0.7777777777777778,\"#fb9f3a\"],[0.8888888888888888,\"#fdca26\"],[1.0,\"#f0f921\"]],\"sequentialminus\":[[0.0,\"#0d0887\"],[0.1111111111111111,\"#46039f\"],[0.2222222222222222,\"#7201a8\"],[0.3333333333333333,\"#9c179e\"],[0.4444444444444444,\"#bd3786\"],[0.5555555555555556,\"#d8576b\"],[0.6666666666666666,\"#ed7953\"],[0.7777777777777778,\"#fb9f3a\"],[0.8888888888888888,\"#fdca26\"],[1.0,\"#f0f921\"]],\"diverging\":[[0,\"#8e0152\"],[0.1,\"#c51b7d\"],[0.2,\"#de77ae\"],[0.3,\"#f1b6da\"],[0.4,\"#fde0ef\"],[0.5,\"#f7f7f7\"],[0.6,\"#e6f5d0\"],[0.7,\"#b8e186\"],[0.8,\"#7fbc41\"],[0.9,\"#4d9221\"],[1,\"#276419\"]]},\"xaxis\":{\"gridcolor\":\"white\",\"linecolor\":\"white\",\"ticks\":\"\",\"title\":{\"standoff\":15},\"zerolinecolor\":\"white\",\"automargin\":true,\"zerolinewidth\":2},\"yaxis\":{\"gridcolor\":\"white\",\"linecolor\":\"white\",\"ticks\":\"\",\"title\":{\"standoff\":15},\"zerolinecolor\":\"white\",\"automargin\":true,\"zerolinewidth\":2},\"scene\":{\"xaxis\":{\"backgroundcolor\":\"#E5ECF6\",\"gridcolor\":\"white\",\"linecolor\":\"white\",\"showbackground\":true,\"ticks\":\"\",\"zerolinecolor\":\"white\",\"gridwidth\":2},\"yaxis\":{\"backgroundcolor\":\"#E5ECF6\",\"gridcolor\":\"white\",\"linecolor\":\"white\",\"showbackground\":true,\"ticks\":\"\",\"zerolinecolor\":\"white\",\"gridwidth\":2},\"zaxis\":{\"backgroundcolor\":\"#E5ECF6\",\"gridcolor\":\"white\",\"linecolor\":\"white\",\"showbackground\":true,\"ticks\":\"\",\"zerolinecolor\":\"white\",\"gridwidth\":2}},\"shapedefaults\":{\"line\":{\"color\":\"#2a3f5f\"}},\"annotationdefaults\":{\"arrowcolor\":\"#2a3f5f\",\"arrowhead\":0,\"arrowwidth\":1},\"geo\":{\"bgcolor\":\"white\",\"landcolor\":\"#E5ECF6\",\"subunitcolor\":\"white\",\"showland\":true,\"showlakes\":true,\"lakecolor\":\"white\"},\"title\":{\"x\":0.05},\"mapbox\":{\"style\":\"light\"}}}},                        {\"responsive\": true}                    ).then(function(){\n",
              "                            \n",
              "var gd = document.getElementById('2445b370-0459-42b6-8c63-88170e61a906');\n",
              "var x = new MutationObserver(function (mutations, observer) {{\n",
              "        var display = window.getComputedStyle(gd).display;\n",
              "        if (!display || display === 'none') {{\n",
              "            console.log([gd, 'removed!']);\n",
              "            Plotly.purge(gd);\n",
              "            observer.disconnect();\n",
              "        }}\n",
              "}});\n",
              "\n",
              "// Listen for the removal of the full notebook cells\n",
              "var notebookContainer = gd.closest('#notebook-container');\n",
              "if (notebookContainer) {{\n",
              "    x.observe(notebookContainer, {childList: true});\n",
              "}}\n",
              "\n",
              "// Listen for the clearing of the current output cell\n",
              "var outputEl = gd.closest('.output');\n",
              "if (outputEl) {{\n",
              "    x.observe(outputEl, {childList: true});\n",
              "}}\n",
              "\n",
              "                        })                };                            </script>        </div>\n",
              "</body>\n",
              "</html>"
            ]
          },
          "metadata": {}
        }
      ]
    },
    {
      "cell_type": "code",
      "source": [
        "# Parallel coordinate plot\n",
        "plot_parallel_coordinate(study).show()"
      ],
      "metadata": {
        "colab": {
          "base_uri": "https://localhost:8080/",
          "height": 542
        },
        "id": "Xd2ucMgxL95n",
        "outputId": "15ae44d2-1ed8-478c-9c4a-1bd5d9c328d8"
      },
      "execution_count": 20,
      "outputs": [
        {
          "output_type": "display_data",
          "data": {
            "text/html": [
              "<html>\n",
              "<head><meta charset=\"utf-8\" /></head>\n",
              "<body>\n",
              "    <div>            <script src=\"https://cdnjs.cloudflare.com/ajax/libs/mathjax/2.7.5/MathJax.js?config=TeX-AMS-MML_SVG\"></script><script type=\"text/javascript\">if (window.MathJax && window.MathJax.Hub && window.MathJax.Hub.Config) {window.MathJax.Hub.Config({SVG: {font: \"STIX-Web\"}});}</script>                <script type=\"text/javascript\">window.PlotlyConfig = {MathJaxConfig: 'local'};</script>\n",
              "        <script charset=\"utf-8\" src=\"https://cdn.plot.ly/plotly-2.35.2.min.js\"></script>                <div id=\"cc0f7981-9dc5-4a05-9f23-56639392fe4e\" class=\"plotly-graph-div\" style=\"height:525px; width:100%;\"></div>            <script type=\"text/javascript\">                                    window.PLOTLYENV=window.PLOTLYENV || {};                                    if (document.getElementById(\"cc0f7981-9dc5-4a05-9f23-56639392fe4e\")) {                    Plotly.newPlot(                        \"cc0f7981-9dc5-4a05-9f23-56639392fe4e\",                        [{\"dimensions\":[{\"label\":\"Objective Value\",\"range\":[0.7541899441340782,0.7858472998137803],\"values\":[0.7653631284916201,0.7858472998137803,0.7765363128491619,0.7728119180633147,0.7746741154562384,0.7765363128491621,0.7746741154562384,0.7746741154562384,0.7541899441340782,0.7579143389199255,0.7616387337057727,0.7728119180633147,0.7690875232774674,0.7672253258845437,0.7802607076350093,0.7728119180633147,0.7690875232774674,0.7728119180633147,0.7765363128491621,0.7635009310986964,0.7541899441340782,0.7765363128491621,0.7653631284916201,0.7783985102420856,0.7783985102420856,0.7746741154562384,0.7783985102420856,0.7653631284916201,0.7690875232774674,0.7635009310986964,0.7690875232774674,0.7802607076350093,0.7821229050279329,0.7728119180633147,0.7783985102420856,0.7728119180633147,0.7728119180633147,0.7802607076350093,0.7709497206703911,0.7672253258845437,0.7709497206703911,0.7783985102420856,0.7839851024208566,0.7746741154562384,0.7746741154562384,0.7728119180633147,0.7672253258845437,0.7690875232774674,0.7821229050279329,0.7672253258845437]},{\"label\":\"max_depth\",\"range\":[3,20],\"values\":[12,15,7,13,17,18,13,16,10,9,4,20,20,16,18,15,14,19,18,10,3,18,17,15,15,14,16,12,14,11,7,15,15,17,13,19,12,16,17,13,19,16,15,14,15,17,15,11,7,6]},{\"label\":\"n_estimators\",\"range\":[53,200],\"values\":[200,121,167,190,200,76,64,68,61,185,114,103,142,89,133,140,134,160,120,99,154,87,82,109,125,106,131,149,114,172,98,118,117,122,128,143,135,118,93,53,173,114,119,126,110,150,101,135,118,140]}],\"labelangle\":30,\"labelside\":\"bottom\",\"line\":{\"color\":[0.7653631284916201,0.7858472998137803,0.7765363128491619,0.7728119180633147,0.7746741154562384,0.7765363128491621,0.7746741154562384,0.7746741154562384,0.7541899441340782,0.7579143389199255,0.7616387337057727,0.7728119180633147,0.7690875232774674,0.7672253258845437,0.7802607076350093,0.7728119180633147,0.7690875232774674,0.7728119180633147,0.7765363128491621,0.7635009310986964,0.7541899441340782,0.7765363128491621,0.7653631284916201,0.7783985102420856,0.7783985102420856,0.7746741154562384,0.7783985102420856,0.7653631284916201,0.7690875232774674,0.7635009310986964,0.7690875232774674,0.7802607076350093,0.7821229050279329,0.7728119180633147,0.7783985102420856,0.7728119180633147,0.7728119180633147,0.7802607076350093,0.7709497206703911,0.7672253258845437,0.7709497206703911,0.7783985102420856,0.7839851024208566,0.7746741154562384,0.7746741154562384,0.7728119180633147,0.7672253258845437,0.7690875232774674,0.7821229050279329,0.7672253258845437],\"colorbar\":{\"title\":{\"text\":\"Objective Value\"}},\"colorscale\":[[0.0,\"rgb(247,251,255)\"],[0.125,\"rgb(222,235,247)\"],[0.25,\"rgb(198,219,239)\"],[0.375,\"rgb(158,202,225)\"],[0.5,\"rgb(107,174,214)\"],[0.625,\"rgb(66,146,198)\"],[0.75,\"rgb(33,113,181)\"],[0.875,\"rgb(8,81,156)\"],[1.0,\"rgb(8,48,107)\"]],\"reversescale\":false,\"showscale\":true},\"type\":\"parcoords\"}],                        {\"title\":{\"text\":\"Parallel Coordinate Plot\"},\"template\":{\"data\":{\"histogram2dcontour\":[{\"type\":\"histogram2dcontour\",\"colorbar\":{\"outlinewidth\":0,\"ticks\":\"\"},\"colorscale\":[[0.0,\"#0d0887\"],[0.1111111111111111,\"#46039f\"],[0.2222222222222222,\"#7201a8\"],[0.3333333333333333,\"#9c179e\"],[0.4444444444444444,\"#bd3786\"],[0.5555555555555556,\"#d8576b\"],[0.6666666666666666,\"#ed7953\"],[0.7777777777777778,\"#fb9f3a\"],[0.8888888888888888,\"#fdca26\"],[1.0,\"#f0f921\"]]}],\"choropleth\":[{\"type\":\"choropleth\",\"colorbar\":{\"outlinewidth\":0,\"ticks\":\"\"}}],\"histogram2d\":[{\"type\":\"histogram2d\",\"colorbar\":{\"outlinewidth\":0,\"ticks\":\"\"},\"colorscale\":[[0.0,\"#0d0887\"],[0.1111111111111111,\"#46039f\"],[0.2222222222222222,\"#7201a8\"],[0.3333333333333333,\"#9c179e\"],[0.4444444444444444,\"#bd3786\"],[0.5555555555555556,\"#d8576b\"],[0.6666666666666666,\"#ed7953\"],[0.7777777777777778,\"#fb9f3a\"],[0.8888888888888888,\"#fdca26\"],[1.0,\"#f0f921\"]]}],\"heatmap\":[{\"type\":\"heatmap\",\"colorbar\":{\"outlinewidth\":0,\"ticks\":\"\"},\"colorscale\":[[0.0,\"#0d0887\"],[0.1111111111111111,\"#46039f\"],[0.2222222222222222,\"#7201a8\"],[0.3333333333333333,\"#9c179e\"],[0.4444444444444444,\"#bd3786\"],[0.5555555555555556,\"#d8576b\"],[0.6666666666666666,\"#ed7953\"],[0.7777777777777778,\"#fb9f3a\"],[0.8888888888888888,\"#fdca26\"],[1.0,\"#f0f921\"]]}],\"heatmapgl\":[{\"type\":\"heatmapgl\",\"colorbar\":{\"outlinewidth\":0,\"ticks\":\"\"},\"colorscale\":[[0.0,\"#0d0887\"],[0.1111111111111111,\"#46039f\"],[0.2222222222222222,\"#7201a8\"],[0.3333333333333333,\"#9c179e\"],[0.4444444444444444,\"#bd3786\"],[0.5555555555555556,\"#d8576b\"],[0.6666666666666666,\"#ed7953\"],[0.7777777777777778,\"#fb9f3a\"],[0.8888888888888888,\"#fdca26\"],[1.0,\"#f0f921\"]]}],\"contourcarpet\":[{\"type\":\"contourcarpet\",\"colorbar\":{\"outlinewidth\":0,\"ticks\":\"\"}}],\"contour\":[{\"type\":\"contour\",\"colorbar\":{\"outlinewidth\":0,\"ticks\":\"\"},\"colorscale\":[[0.0,\"#0d0887\"],[0.1111111111111111,\"#46039f\"],[0.2222222222222222,\"#7201a8\"],[0.3333333333333333,\"#9c179e\"],[0.4444444444444444,\"#bd3786\"],[0.5555555555555556,\"#d8576b\"],[0.6666666666666666,\"#ed7953\"],[0.7777777777777778,\"#fb9f3a\"],[0.8888888888888888,\"#fdca26\"],[1.0,\"#f0f921\"]]}],\"surface\":[{\"type\":\"surface\",\"colorbar\":{\"outlinewidth\":0,\"ticks\":\"\"},\"colorscale\":[[0.0,\"#0d0887\"],[0.1111111111111111,\"#46039f\"],[0.2222222222222222,\"#7201a8\"],[0.3333333333333333,\"#9c179e\"],[0.4444444444444444,\"#bd3786\"],[0.5555555555555556,\"#d8576b\"],[0.6666666666666666,\"#ed7953\"],[0.7777777777777778,\"#fb9f3a\"],[0.8888888888888888,\"#fdca26\"],[1.0,\"#f0f921\"]]}],\"mesh3d\":[{\"type\":\"mesh3d\",\"colorbar\":{\"outlinewidth\":0,\"ticks\":\"\"}}],\"scatter\":[{\"fillpattern\":{\"fillmode\":\"overlay\",\"size\":10,\"solidity\":0.2},\"type\":\"scatter\"}],\"parcoords\":[{\"type\":\"parcoords\",\"line\":{\"colorbar\":{\"outlinewidth\":0,\"ticks\":\"\"}}}],\"scatterpolargl\":[{\"type\":\"scatterpolargl\",\"marker\":{\"colorbar\":{\"outlinewidth\":0,\"ticks\":\"\"}}}],\"bar\":[{\"error_x\":{\"color\":\"#2a3f5f\"},\"error_y\":{\"color\":\"#2a3f5f\"},\"marker\":{\"line\":{\"color\":\"#E5ECF6\",\"width\":0.5},\"pattern\":{\"fillmode\":\"overlay\",\"size\":10,\"solidity\":0.2}},\"type\":\"bar\"}],\"scattergeo\":[{\"type\":\"scattergeo\",\"marker\":{\"colorbar\":{\"outlinewidth\":0,\"ticks\":\"\"}}}],\"scatterpolar\":[{\"type\":\"scatterpolar\",\"marker\":{\"colorbar\":{\"outlinewidth\":0,\"ticks\":\"\"}}}],\"histogram\":[{\"marker\":{\"pattern\":{\"fillmode\":\"overlay\",\"size\":10,\"solidity\":0.2}},\"type\":\"histogram\"}],\"scattergl\":[{\"type\":\"scattergl\",\"marker\":{\"colorbar\":{\"outlinewidth\":0,\"ticks\":\"\"}}}],\"scatter3d\":[{\"type\":\"scatter3d\",\"line\":{\"colorbar\":{\"outlinewidth\":0,\"ticks\":\"\"}},\"marker\":{\"colorbar\":{\"outlinewidth\":0,\"ticks\":\"\"}}}],\"scattermapbox\":[{\"type\":\"scattermapbox\",\"marker\":{\"colorbar\":{\"outlinewidth\":0,\"ticks\":\"\"}}}],\"scatterternary\":[{\"type\":\"scatterternary\",\"marker\":{\"colorbar\":{\"outlinewidth\":0,\"ticks\":\"\"}}}],\"scattercarpet\":[{\"type\":\"scattercarpet\",\"marker\":{\"colorbar\":{\"outlinewidth\":0,\"ticks\":\"\"}}}],\"carpet\":[{\"aaxis\":{\"endlinecolor\":\"#2a3f5f\",\"gridcolor\":\"white\",\"linecolor\":\"white\",\"minorgridcolor\":\"white\",\"startlinecolor\":\"#2a3f5f\"},\"baxis\":{\"endlinecolor\":\"#2a3f5f\",\"gridcolor\":\"white\",\"linecolor\":\"white\",\"minorgridcolor\":\"white\",\"startlinecolor\":\"#2a3f5f\"},\"type\":\"carpet\"}],\"table\":[{\"cells\":{\"fill\":{\"color\":\"#EBF0F8\"},\"line\":{\"color\":\"white\"}},\"header\":{\"fill\":{\"color\":\"#C8D4E3\"},\"line\":{\"color\":\"white\"}},\"type\":\"table\"}],\"barpolar\":[{\"marker\":{\"line\":{\"color\":\"#E5ECF6\",\"width\":0.5},\"pattern\":{\"fillmode\":\"overlay\",\"size\":10,\"solidity\":0.2}},\"type\":\"barpolar\"}],\"pie\":[{\"automargin\":true,\"type\":\"pie\"}]},\"layout\":{\"autotypenumbers\":\"strict\",\"colorway\":[\"#636efa\",\"#EF553B\",\"#00cc96\",\"#ab63fa\",\"#FFA15A\",\"#19d3f3\",\"#FF6692\",\"#B6E880\",\"#FF97FF\",\"#FECB52\"],\"font\":{\"color\":\"#2a3f5f\"},\"hovermode\":\"closest\",\"hoverlabel\":{\"align\":\"left\"},\"paper_bgcolor\":\"white\",\"plot_bgcolor\":\"#E5ECF6\",\"polar\":{\"bgcolor\":\"#E5ECF6\",\"angularaxis\":{\"gridcolor\":\"white\",\"linecolor\":\"white\",\"ticks\":\"\"},\"radialaxis\":{\"gridcolor\":\"white\",\"linecolor\":\"white\",\"ticks\":\"\"}},\"ternary\":{\"bgcolor\":\"#E5ECF6\",\"aaxis\":{\"gridcolor\":\"white\",\"linecolor\":\"white\",\"ticks\":\"\"},\"baxis\":{\"gridcolor\":\"white\",\"linecolor\":\"white\",\"ticks\":\"\"},\"caxis\":{\"gridcolor\":\"white\",\"linecolor\":\"white\",\"ticks\":\"\"}},\"coloraxis\":{\"colorbar\":{\"outlinewidth\":0,\"ticks\":\"\"}},\"colorscale\":{\"sequential\":[[0.0,\"#0d0887\"],[0.1111111111111111,\"#46039f\"],[0.2222222222222222,\"#7201a8\"],[0.3333333333333333,\"#9c179e\"],[0.4444444444444444,\"#bd3786\"],[0.5555555555555556,\"#d8576b\"],[0.6666666666666666,\"#ed7953\"],[0.7777777777777778,\"#fb9f3a\"],[0.8888888888888888,\"#fdca26\"],[1.0,\"#f0f921\"]],\"sequentialminus\":[[0.0,\"#0d0887\"],[0.1111111111111111,\"#46039f\"],[0.2222222222222222,\"#7201a8\"],[0.3333333333333333,\"#9c179e\"],[0.4444444444444444,\"#bd3786\"],[0.5555555555555556,\"#d8576b\"],[0.6666666666666666,\"#ed7953\"],[0.7777777777777778,\"#fb9f3a\"],[0.8888888888888888,\"#fdca26\"],[1.0,\"#f0f921\"]],\"diverging\":[[0,\"#8e0152\"],[0.1,\"#c51b7d\"],[0.2,\"#de77ae\"],[0.3,\"#f1b6da\"],[0.4,\"#fde0ef\"],[0.5,\"#f7f7f7\"],[0.6,\"#e6f5d0\"],[0.7,\"#b8e186\"],[0.8,\"#7fbc41\"],[0.9,\"#4d9221\"],[1,\"#276419\"]]},\"xaxis\":{\"gridcolor\":\"white\",\"linecolor\":\"white\",\"ticks\":\"\",\"title\":{\"standoff\":15},\"zerolinecolor\":\"white\",\"automargin\":true,\"zerolinewidth\":2},\"yaxis\":{\"gridcolor\":\"white\",\"linecolor\":\"white\",\"ticks\":\"\",\"title\":{\"standoff\":15},\"zerolinecolor\":\"white\",\"automargin\":true,\"zerolinewidth\":2},\"scene\":{\"xaxis\":{\"backgroundcolor\":\"#E5ECF6\",\"gridcolor\":\"white\",\"linecolor\":\"white\",\"showbackground\":true,\"ticks\":\"\",\"zerolinecolor\":\"white\",\"gridwidth\":2},\"yaxis\":{\"backgroundcolor\":\"#E5ECF6\",\"gridcolor\":\"white\",\"linecolor\":\"white\",\"showbackground\":true,\"ticks\":\"\",\"zerolinecolor\":\"white\",\"gridwidth\":2},\"zaxis\":{\"backgroundcolor\":\"#E5ECF6\",\"gridcolor\":\"white\",\"linecolor\":\"white\",\"showbackground\":true,\"ticks\":\"\",\"zerolinecolor\":\"white\",\"gridwidth\":2}},\"shapedefaults\":{\"line\":{\"color\":\"#2a3f5f\"}},\"annotationdefaults\":{\"arrowcolor\":\"#2a3f5f\",\"arrowhead\":0,\"arrowwidth\":1},\"geo\":{\"bgcolor\":\"white\",\"landcolor\":\"#E5ECF6\",\"subunitcolor\":\"white\",\"showland\":true,\"showlakes\":true,\"lakecolor\":\"white\"},\"title\":{\"x\":0.05},\"mapbox\":{\"style\":\"light\"}}}},                        {\"responsive\": true}                    ).then(function(){\n",
              "                            \n",
              "var gd = document.getElementById('cc0f7981-9dc5-4a05-9f23-56639392fe4e');\n",
              "var x = new MutationObserver(function (mutations, observer) {{\n",
              "        var display = window.getComputedStyle(gd).display;\n",
              "        if (!display || display === 'none') {{\n",
              "            console.log([gd, 'removed!']);\n",
              "            Plotly.purge(gd);\n",
              "            observer.disconnect();\n",
              "        }}\n",
              "}});\n",
              "\n",
              "// Listen for the removal of the full notebook cells\n",
              "var notebookContainer = gd.closest('#notebook-container');\n",
              "if (notebookContainer) {{\n",
              "    x.observe(notebookContainer, {childList: true});\n",
              "}}\n",
              "\n",
              "// Listen for the clearing of the current output cell\n",
              "var outputEl = gd.closest('.output');\n",
              "if (outputEl) {{\n",
              "    x.observe(outputEl, {childList: true});\n",
              "}}\n",
              "\n",
              "                        })                };                            </script>        </div>\n",
              "</body>\n",
              "</html>"
            ]
          },
          "metadata": {}
        }
      ]
    },
    {
      "cell_type": "code",
      "source": [
        "# Slice Plot\n",
        "plot_slice(study).show()"
      ],
      "metadata": {
        "colab": {
          "base_uri": "https://localhost:8080/",
          "height": 542
        },
        "id": "pWSALoxkMNHR",
        "outputId": "d3606216-036e-40db-e410-7eba3f0abfa2"
      },
      "execution_count": 21,
      "outputs": [
        {
          "output_type": "display_data",
          "data": {
            "text/html": [
              "<html>\n",
              "<head><meta charset=\"utf-8\" /></head>\n",
              "<body>\n",
              "    <div>            <script src=\"https://cdnjs.cloudflare.com/ajax/libs/mathjax/2.7.5/MathJax.js?config=TeX-AMS-MML_SVG\"></script><script type=\"text/javascript\">if (window.MathJax && window.MathJax.Hub && window.MathJax.Hub.Config) {window.MathJax.Hub.Config({SVG: {font: \"STIX-Web\"}});}</script>                <script type=\"text/javascript\">window.PlotlyConfig = {MathJaxConfig: 'local'};</script>\n",
              "        <script charset=\"utf-8\" src=\"https://cdn.plot.ly/plotly-2.35.2.min.js\"></script>                <div id=\"689e90b0-7a35-4b04-b950-9f73e2375baa\" class=\"plotly-graph-div\" style=\"height:525px; width:100%;\"></div>            <script type=\"text/javascript\">                                    window.PLOTLYENV=window.PLOTLYENV || {};                                    if (document.getElementById(\"689e90b0-7a35-4b04-b950-9f73e2375baa\")) {                    Plotly.newPlot(                        \"689e90b0-7a35-4b04-b950-9f73e2375baa\",                        [{\"marker\":{\"color\":[0,1,2,3,4,5,6,7,8,9,10,11,12,13,14,15,16,17,18,19,20,21,22,23,24,25,26,27,28,29,30,31,32,33,34,35,36,37,38,39,40,41,42,43,44,45,46,47,48,49],\"colorbar\":{\"title\":{\"text\":\"Trial\"},\"x\":1.0,\"xpad\":40},\"colorscale\":[[0.0,\"rgb(247,251,255)\"],[0.125,\"rgb(222,235,247)\"],[0.25,\"rgb(198,219,239)\"],[0.375,\"rgb(158,202,225)\"],[0.5,\"rgb(107,174,214)\"],[0.625,\"rgb(66,146,198)\"],[0.75,\"rgb(33,113,181)\"],[0.875,\"rgb(8,81,156)\"],[1.0,\"rgb(8,48,107)\"]],\"line\":{\"color\":\"Grey\",\"width\":0.5},\"showscale\":true},\"mode\":\"markers\",\"name\":\"Feasible Trial\",\"showlegend\":false,\"x\":[12,15,7,13,17,18,13,16,10,9,4,20,20,16,18,15,14,19,18,10,3,18,17,15,15,14,16,12,14,11,7,15,15,17,13,19,12,16,17,13,19,16,15,14,15,17,15,11,7,6],\"y\":[0.7653631284916201,0.7858472998137803,0.7765363128491619,0.7728119180633147,0.7746741154562384,0.7765363128491621,0.7746741154562384,0.7746741154562384,0.7541899441340782,0.7579143389199255,0.7616387337057727,0.7728119180633147,0.7690875232774674,0.7672253258845437,0.7802607076350093,0.7728119180633147,0.7690875232774674,0.7728119180633147,0.7765363128491621,0.7635009310986964,0.7541899441340782,0.7765363128491621,0.7653631284916201,0.7783985102420856,0.7783985102420856,0.7746741154562384,0.7783985102420856,0.7653631284916201,0.7690875232774674,0.7635009310986964,0.7690875232774674,0.7802607076350093,0.7821229050279329,0.7728119180633147,0.7783985102420856,0.7728119180633147,0.7728119180633147,0.7802607076350093,0.7709497206703911,0.7672253258845437,0.7709497206703911,0.7783985102420856,0.7839851024208566,0.7746741154562384,0.7746741154562384,0.7728119180633147,0.7672253258845437,0.7690875232774674,0.7821229050279329,0.7672253258845437],\"type\":\"scatter\",\"xaxis\":\"x\",\"yaxis\":\"y\"},{\"marker\":{\"color\":[0,1,2,3,4,5,6,7,8,9,10,11,12,13,14,15,16,17,18,19,20,21,22,23,24,25,26,27,28,29,30,31,32,33,34,35,36,37,38,39,40,41,42,43,44,45,46,47,48,49],\"colorbar\":{\"title\":{\"text\":\"Trial\"},\"x\":1.0,\"xpad\":40},\"colorscale\":[[0.0,\"rgb(247,251,255)\"],[0.125,\"rgb(222,235,247)\"],[0.25,\"rgb(198,219,239)\"],[0.375,\"rgb(158,202,225)\"],[0.5,\"rgb(107,174,214)\"],[0.625,\"rgb(66,146,198)\"],[0.75,\"rgb(33,113,181)\"],[0.875,\"rgb(8,81,156)\"],[1.0,\"rgb(8,48,107)\"]],\"line\":{\"color\":\"Grey\",\"width\":0.5},\"showscale\":false},\"mode\":\"markers\",\"name\":\"Feasible Trial\",\"showlegend\":false,\"x\":[200,121,167,190,200,76,64,68,61,185,114,103,142,89,133,140,134,160,120,99,154,87,82,109,125,106,131,149,114,172,98,118,117,122,128,143,135,118,93,53,173,114,119,126,110,150,101,135,118,140],\"y\":[0.7653631284916201,0.7858472998137803,0.7765363128491619,0.7728119180633147,0.7746741154562384,0.7765363128491621,0.7746741154562384,0.7746741154562384,0.7541899441340782,0.7579143389199255,0.7616387337057727,0.7728119180633147,0.7690875232774674,0.7672253258845437,0.7802607076350093,0.7728119180633147,0.7690875232774674,0.7728119180633147,0.7765363128491621,0.7635009310986964,0.7541899441340782,0.7765363128491621,0.7653631284916201,0.7783985102420856,0.7783985102420856,0.7746741154562384,0.7783985102420856,0.7653631284916201,0.7690875232774674,0.7635009310986964,0.7690875232774674,0.7802607076350093,0.7821229050279329,0.7728119180633147,0.7783985102420856,0.7728119180633147,0.7728119180633147,0.7802607076350093,0.7709497206703911,0.7672253258845437,0.7709497206703911,0.7783985102420856,0.7839851024208566,0.7746741154562384,0.7746741154562384,0.7728119180633147,0.7672253258845437,0.7690875232774674,0.7821229050279329,0.7672253258845437],\"type\":\"scatter\",\"xaxis\":\"x2\",\"yaxis\":\"y2\"}],                        {\"template\":{\"data\":{\"histogram2dcontour\":[{\"type\":\"histogram2dcontour\",\"colorbar\":{\"outlinewidth\":0,\"ticks\":\"\"},\"colorscale\":[[0.0,\"#0d0887\"],[0.1111111111111111,\"#46039f\"],[0.2222222222222222,\"#7201a8\"],[0.3333333333333333,\"#9c179e\"],[0.4444444444444444,\"#bd3786\"],[0.5555555555555556,\"#d8576b\"],[0.6666666666666666,\"#ed7953\"],[0.7777777777777778,\"#fb9f3a\"],[0.8888888888888888,\"#fdca26\"],[1.0,\"#f0f921\"]]}],\"choropleth\":[{\"type\":\"choropleth\",\"colorbar\":{\"outlinewidth\":0,\"ticks\":\"\"}}],\"histogram2d\":[{\"type\":\"histogram2d\",\"colorbar\":{\"outlinewidth\":0,\"ticks\":\"\"},\"colorscale\":[[0.0,\"#0d0887\"],[0.1111111111111111,\"#46039f\"],[0.2222222222222222,\"#7201a8\"],[0.3333333333333333,\"#9c179e\"],[0.4444444444444444,\"#bd3786\"],[0.5555555555555556,\"#d8576b\"],[0.6666666666666666,\"#ed7953\"],[0.7777777777777778,\"#fb9f3a\"],[0.8888888888888888,\"#fdca26\"],[1.0,\"#f0f921\"]]}],\"heatmap\":[{\"type\":\"heatmap\",\"colorbar\":{\"outlinewidth\":0,\"ticks\":\"\"},\"colorscale\":[[0.0,\"#0d0887\"],[0.1111111111111111,\"#46039f\"],[0.2222222222222222,\"#7201a8\"],[0.3333333333333333,\"#9c179e\"],[0.4444444444444444,\"#bd3786\"],[0.5555555555555556,\"#d8576b\"],[0.6666666666666666,\"#ed7953\"],[0.7777777777777778,\"#fb9f3a\"],[0.8888888888888888,\"#fdca26\"],[1.0,\"#f0f921\"]]}],\"heatmapgl\":[{\"type\":\"heatmapgl\",\"colorbar\":{\"outlinewidth\":0,\"ticks\":\"\"},\"colorscale\":[[0.0,\"#0d0887\"],[0.1111111111111111,\"#46039f\"],[0.2222222222222222,\"#7201a8\"],[0.3333333333333333,\"#9c179e\"],[0.4444444444444444,\"#bd3786\"],[0.5555555555555556,\"#d8576b\"],[0.6666666666666666,\"#ed7953\"],[0.7777777777777778,\"#fb9f3a\"],[0.8888888888888888,\"#fdca26\"],[1.0,\"#f0f921\"]]}],\"contourcarpet\":[{\"type\":\"contourcarpet\",\"colorbar\":{\"outlinewidth\":0,\"ticks\":\"\"}}],\"contour\":[{\"type\":\"contour\",\"colorbar\":{\"outlinewidth\":0,\"ticks\":\"\"},\"colorscale\":[[0.0,\"#0d0887\"],[0.1111111111111111,\"#46039f\"],[0.2222222222222222,\"#7201a8\"],[0.3333333333333333,\"#9c179e\"],[0.4444444444444444,\"#bd3786\"],[0.5555555555555556,\"#d8576b\"],[0.6666666666666666,\"#ed7953\"],[0.7777777777777778,\"#fb9f3a\"],[0.8888888888888888,\"#fdca26\"],[1.0,\"#f0f921\"]]}],\"surface\":[{\"type\":\"surface\",\"colorbar\":{\"outlinewidth\":0,\"ticks\":\"\"},\"colorscale\":[[0.0,\"#0d0887\"],[0.1111111111111111,\"#46039f\"],[0.2222222222222222,\"#7201a8\"],[0.3333333333333333,\"#9c179e\"],[0.4444444444444444,\"#bd3786\"],[0.5555555555555556,\"#d8576b\"],[0.6666666666666666,\"#ed7953\"],[0.7777777777777778,\"#fb9f3a\"],[0.8888888888888888,\"#fdca26\"],[1.0,\"#f0f921\"]]}],\"mesh3d\":[{\"type\":\"mesh3d\",\"colorbar\":{\"outlinewidth\":0,\"ticks\":\"\"}}],\"scatter\":[{\"fillpattern\":{\"fillmode\":\"overlay\",\"size\":10,\"solidity\":0.2},\"type\":\"scatter\"}],\"parcoords\":[{\"type\":\"parcoords\",\"line\":{\"colorbar\":{\"outlinewidth\":0,\"ticks\":\"\"}}}],\"scatterpolargl\":[{\"type\":\"scatterpolargl\",\"marker\":{\"colorbar\":{\"outlinewidth\":0,\"ticks\":\"\"}}}],\"bar\":[{\"error_x\":{\"color\":\"#2a3f5f\"},\"error_y\":{\"color\":\"#2a3f5f\"},\"marker\":{\"line\":{\"color\":\"#E5ECF6\",\"width\":0.5},\"pattern\":{\"fillmode\":\"overlay\",\"size\":10,\"solidity\":0.2}},\"type\":\"bar\"}],\"scattergeo\":[{\"type\":\"scattergeo\",\"marker\":{\"colorbar\":{\"outlinewidth\":0,\"ticks\":\"\"}}}],\"scatterpolar\":[{\"type\":\"scatterpolar\",\"marker\":{\"colorbar\":{\"outlinewidth\":0,\"ticks\":\"\"}}}],\"histogram\":[{\"marker\":{\"pattern\":{\"fillmode\":\"overlay\",\"size\":10,\"solidity\":0.2}},\"type\":\"histogram\"}],\"scattergl\":[{\"type\":\"scattergl\",\"marker\":{\"colorbar\":{\"outlinewidth\":0,\"ticks\":\"\"}}}],\"scatter3d\":[{\"type\":\"scatter3d\",\"line\":{\"colorbar\":{\"outlinewidth\":0,\"ticks\":\"\"}},\"marker\":{\"colorbar\":{\"outlinewidth\":0,\"ticks\":\"\"}}}],\"scattermapbox\":[{\"type\":\"scattermapbox\",\"marker\":{\"colorbar\":{\"outlinewidth\":0,\"ticks\":\"\"}}}],\"scatterternary\":[{\"type\":\"scatterternary\",\"marker\":{\"colorbar\":{\"outlinewidth\":0,\"ticks\":\"\"}}}],\"scattercarpet\":[{\"type\":\"scattercarpet\",\"marker\":{\"colorbar\":{\"outlinewidth\":0,\"ticks\":\"\"}}}],\"carpet\":[{\"aaxis\":{\"endlinecolor\":\"#2a3f5f\",\"gridcolor\":\"white\",\"linecolor\":\"white\",\"minorgridcolor\":\"white\",\"startlinecolor\":\"#2a3f5f\"},\"baxis\":{\"endlinecolor\":\"#2a3f5f\",\"gridcolor\":\"white\",\"linecolor\":\"white\",\"minorgridcolor\":\"white\",\"startlinecolor\":\"#2a3f5f\"},\"type\":\"carpet\"}],\"table\":[{\"cells\":{\"fill\":{\"color\":\"#EBF0F8\"},\"line\":{\"color\":\"white\"}},\"header\":{\"fill\":{\"color\":\"#C8D4E3\"},\"line\":{\"color\":\"white\"}},\"type\":\"table\"}],\"barpolar\":[{\"marker\":{\"line\":{\"color\":\"#E5ECF6\",\"width\":0.5},\"pattern\":{\"fillmode\":\"overlay\",\"size\":10,\"solidity\":0.2}},\"type\":\"barpolar\"}],\"pie\":[{\"automargin\":true,\"type\":\"pie\"}]},\"layout\":{\"autotypenumbers\":\"strict\",\"colorway\":[\"#636efa\",\"#EF553B\",\"#00cc96\",\"#ab63fa\",\"#FFA15A\",\"#19d3f3\",\"#FF6692\",\"#B6E880\",\"#FF97FF\",\"#FECB52\"],\"font\":{\"color\":\"#2a3f5f\"},\"hovermode\":\"closest\",\"hoverlabel\":{\"align\":\"left\"},\"paper_bgcolor\":\"white\",\"plot_bgcolor\":\"#E5ECF6\",\"polar\":{\"bgcolor\":\"#E5ECF6\",\"angularaxis\":{\"gridcolor\":\"white\",\"linecolor\":\"white\",\"ticks\":\"\"},\"radialaxis\":{\"gridcolor\":\"white\",\"linecolor\":\"white\",\"ticks\":\"\"}},\"ternary\":{\"bgcolor\":\"#E5ECF6\",\"aaxis\":{\"gridcolor\":\"white\",\"linecolor\":\"white\",\"ticks\":\"\"},\"baxis\":{\"gridcolor\":\"white\",\"linecolor\":\"white\",\"ticks\":\"\"},\"caxis\":{\"gridcolor\":\"white\",\"linecolor\":\"white\",\"ticks\":\"\"}},\"coloraxis\":{\"colorbar\":{\"outlinewidth\":0,\"ticks\":\"\"}},\"colorscale\":{\"sequential\":[[0.0,\"#0d0887\"],[0.1111111111111111,\"#46039f\"],[0.2222222222222222,\"#7201a8\"],[0.3333333333333333,\"#9c179e\"],[0.4444444444444444,\"#bd3786\"],[0.5555555555555556,\"#d8576b\"],[0.6666666666666666,\"#ed7953\"],[0.7777777777777778,\"#fb9f3a\"],[0.8888888888888888,\"#fdca26\"],[1.0,\"#f0f921\"]],\"sequentialminus\":[[0.0,\"#0d0887\"],[0.1111111111111111,\"#46039f\"],[0.2222222222222222,\"#7201a8\"],[0.3333333333333333,\"#9c179e\"],[0.4444444444444444,\"#bd3786\"],[0.5555555555555556,\"#d8576b\"],[0.6666666666666666,\"#ed7953\"],[0.7777777777777778,\"#fb9f3a\"],[0.8888888888888888,\"#fdca26\"],[1.0,\"#f0f921\"]],\"diverging\":[[0,\"#8e0152\"],[0.1,\"#c51b7d\"],[0.2,\"#de77ae\"],[0.3,\"#f1b6da\"],[0.4,\"#fde0ef\"],[0.5,\"#f7f7f7\"],[0.6,\"#e6f5d0\"],[0.7,\"#b8e186\"],[0.8,\"#7fbc41\"],[0.9,\"#4d9221\"],[1,\"#276419\"]]},\"xaxis\":{\"gridcolor\":\"white\",\"linecolor\":\"white\",\"ticks\":\"\",\"title\":{\"standoff\":15},\"zerolinecolor\":\"white\",\"automargin\":true,\"zerolinewidth\":2},\"yaxis\":{\"gridcolor\":\"white\",\"linecolor\":\"white\",\"ticks\":\"\",\"title\":{\"standoff\":15},\"zerolinecolor\":\"white\",\"automargin\":true,\"zerolinewidth\":2},\"scene\":{\"xaxis\":{\"backgroundcolor\":\"#E5ECF6\",\"gridcolor\":\"white\",\"linecolor\":\"white\",\"showbackground\":true,\"ticks\":\"\",\"zerolinecolor\":\"white\",\"gridwidth\":2},\"yaxis\":{\"backgroundcolor\":\"#E5ECF6\",\"gridcolor\":\"white\",\"linecolor\":\"white\",\"showbackground\":true,\"ticks\":\"\",\"zerolinecolor\":\"white\",\"gridwidth\":2},\"zaxis\":{\"backgroundcolor\":\"#E5ECF6\",\"gridcolor\":\"white\",\"linecolor\":\"white\",\"showbackground\":true,\"ticks\":\"\",\"zerolinecolor\":\"white\",\"gridwidth\":2}},\"shapedefaults\":{\"line\":{\"color\":\"#2a3f5f\"}},\"annotationdefaults\":{\"arrowcolor\":\"#2a3f5f\",\"arrowhead\":0,\"arrowwidth\":1},\"geo\":{\"bgcolor\":\"white\",\"landcolor\":\"#E5ECF6\",\"subunitcolor\":\"white\",\"showland\":true,\"showlakes\":true,\"lakecolor\":\"white\"},\"title\":{\"x\":0.05},\"mapbox\":{\"style\":\"light\"}}},\"xaxis\":{\"anchor\":\"y\",\"domain\":[0.0,0.45],\"title\":{\"text\":\"max_depth\"}},\"yaxis\":{\"anchor\":\"x\",\"domain\":[0.0,1.0],\"title\":{\"text\":\"Objective Value\"}},\"xaxis2\":{\"anchor\":\"y2\",\"domain\":[0.55,1.0],\"title\":{\"text\":\"n_estimators\"}},\"yaxis2\":{\"anchor\":\"x2\",\"domain\":[0.0,1.0],\"matches\":\"y\",\"showticklabels\":false},\"title\":{\"text\":\"Slice Plot\"}},                        {\"responsive\": true}                    ).then(function(){\n",
              "                            \n",
              "var gd = document.getElementById('689e90b0-7a35-4b04-b950-9f73e2375baa');\n",
              "var x = new MutationObserver(function (mutations, observer) {{\n",
              "        var display = window.getComputedStyle(gd).display;\n",
              "        if (!display || display === 'none') {{\n",
              "            console.log([gd, 'removed!']);\n",
              "            Plotly.purge(gd);\n",
              "            observer.disconnect();\n",
              "        }}\n",
              "}});\n",
              "\n",
              "// Listen for the removal of the full notebook cells\n",
              "var notebookContainer = gd.closest('#notebook-container');\n",
              "if (notebookContainer) {{\n",
              "    x.observe(notebookContainer, {childList: true});\n",
              "}}\n",
              "\n",
              "// Listen for the clearing of the current output cell\n",
              "var outputEl = gd.closest('.output');\n",
              "if (outputEl) {{\n",
              "    x.observe(outputEl, {childList: true});\n",
              "}}\n",
              "\n",
              "                        })                };                            </script>        </div>\n",
              "</body>\n",
              "</html>"
            ]
          },
          "metadata": {}
        }
      ]
    },
    {
      "cell_type": "code",
      "source": [
        "# Contour plot\n",
        "plot_contour(study).show()"
      ],
      "metadata": {
        "id": "oD5ZcQjCNYWp",
        "colab": {
          "base_uri": "https://localhost:8080/",
          "height": 542
        },
        "outputId": "a546b772-3bb7-4b9f-c3ea-ce45dfc997c7"
      },
      "execution_count": 22,
      "outputs": [
        {
          "output_type": "display_data",
          "data": {
            "text/html": [
              "<html>\n",
              "<head><meta charset=\"utf-8\" /></head>\n",
              "<body>\n",
              "    <div>            <script src=\"https://cdnjs.cloudflare.com/ajax/libs/mathjax/2.7.5/MathJax.js?config=TeX-AMS-MML_SVG\"></script><script type=\"text/javascript\">if (window.MathJax && window.MathJax.Hub && window.MathJax.Hub.Config) {window.MathJax.Hub.Config({SVG: {font: \"STIX-Web\"}});}</script>                <script type=\"text/javascript\">window.PlotlyConfig = {MathJaxConfig: 'local'};</script>\n",
              "        <script charset=\"utf-8\" src=\"https://cdn.plot.ly/plotly-2.35.2.min.js\"></script>                <div id=\"db00b351-56e6-466c-b2b5-3598aa6db142\" class=\"plotly-graph-div\" style=\"height:525px; width:100%;\"></div>            <script type=\"text/javascript\">                                    window.PLOTLYENV=window.PLOTLYENV || {};                                    if (document.getElementById(\"db00b351-56e6-466c-b2b5-3598aa6db142\")) {                    Plotly.newPlot(                        \"db00b351-56e6-466c-b2b5-3598aa6db142\",                        [{\"colorbar\":{\"title\":{\"text\":\"Objective Value\"}},\"colorscale\":[[0.0,\"rgb(247,251,255)\"],[0.125,\"rgb(222,235,247)\"],[0.25,\"rgb(198,219,239)\"],[0.375,\"rgb(158,202,225)\"],[0.5,\"rgb(107,174,214)\"],[0.625,\"rgb(66,146,198)\"],[0.75,\"rgb(33,113,181)\"],[0.875,\"rgb(8,81,156)\"],[1.0,\"rgb(8,48,107)\"]],\"connectgaps\":true,\"contours\":{\"coloring\":\"heatmap\"},\"hoverinfo\":\"none\",\"line\":{\"smoothing\":1.3},\"reversescale\":false,\"x\":[2.15,3,4,6,7,9,10,11,12,13,14,15,16,17,18,19,20,20.85],\"y\":[45.65,53,61,64,68,76,82,87,89,93,98,99,101,103,106,109,110,114,117,118,119,120,121,122,125,126,128,131,133,134,135,140,142,143,149,150,154,160,167,172,173,185,190,200,207.35],\"z\":[[null,null,null,null,null,null,null,null,null,null,null,null,null,null,null,null,null,null],[null,null,null,null,null,null,null,null,null,0.7672253258845437,null,null,null,null,null,null,null,null],[null,null,null,null,null,null,0.7541899441340782,null,null,null,null,null,null,null,null,null,null,null],[null,null,null,null,null,null,null,null,null,0.7746741154562384,null,null,null,null,null,null,null,null],[null,null,null,null,null,null,null,null,null,null,null,null,0.7746741154562384,null,null,null,null,null],[null,null,null,null,null,null,null,null,null,null,null,null,null,null,0.7765363128491621,null,null,null],[null,null,null,null,null,null,null,null,null,null,null,null,null,0.7653631284916201,null,null,null,null],[null,null,null,null,null,null,null,null,null,null,null,null,null,null,0.7765363128491621,null,null,null],[null,null,null,null,null,null,null,null,null,null,null,null,0.7672253258845437,null,null,null,null,null],[null,null,null,null,null,null,null,null,null,null,null,null,null,0.7709497206703911,null,null,null,null],[null,null,null,null,0.7690875232774674,null,null,null,null,null,null,null,null,null,null,null,null,null],[null,null,null,null,null,null,0.7635009310986964,null,null,null,null,null,null,null,null,null,null,null],[null,null,null,null,null,null,null,null,null,null,null,0.7672253258845437,null,null,null,null,null,null],[null,null,null,null,null,null,null,null,null,null,null,null,null,null,null,null,0.7728119180633147,null],[null,null,null,null,null,null,null,null,null,null,0.7746741154562384,null,null,null,null,null,null,null],[null,null,null,null,null,null,null,null,null,null,null,0.7783985102420856,null,null,null,null,null,null],[null,null,null,null,null,null,null,null,null,null,null,0.7746741154562384,null,null,null,null,null,null],[null,null,0.7616387337057727,null,null,null,null,null,null,null,0.7690875232774674,null,0.7783985102420856,null,null,null,null,null],[null,null,null,null,null,null,null,null,null,null,null,0.7821229050279329,null,null,null,null,null,null],[null,null,null,null,0.7821229050279329,null,null,null,null,null,null,0.7802607076350093,0.7802607076350093,null,null,null,null,null],[null,null,null,null,null,null,null,null,null,null,null,0.7839851024208566,null,null,null,null,null,null],[null,null,null,null,null,null,null,null,null,null,null,null,null,null,0.7765363128491621,null,null,null],[null,null,null,null,null,null,null,null,null,null,null,0.7858472998137803,null,null,null,null,null,null],[null,null,null,null,null,null,null,null,null,null,null,null,null,0.7728119180633147,null,null,null,null],[null,null,null,null,null,null,null,null,null,null,null,0.7783985102420856,null,null,null,null,null,null],[null,null,null,null,null,null,null,null,null,null,0.7746741154562384,null,null,null,null,null,null,null],[null,null,null,null,null,null,null,null,null,0.7783985102420856,null,null,null,null,null,null,null,null],[null,null,null,null,null,null,null,null,null,null,null,null,0.7783985102420856,null,null,null,null,null],[null,null,null,null,null,null,null,null,null,null,null,null,null,null,0.7802607076350093,null,null,null],[null,null,null,null,null,null,null,null,null,null,0.7690875232774674,null,null,null,null,null,null,null],[null,null,null,null,null,null,null,0.7690875232774674,0.7728119180633147,null,null,null,null,null,null,null,null,null],[null,null,null,0.7672253258845437,null,null,null,null,null,null,null,0.7728119180633147,null,null,null,null,null,null],[null,null,null,null,null,null,null,null,null,null,null,null,null,null,null,null,0.7690875232774674,null],[null,null,null,null,null,null,null,null,null,null,null,null,null,null,null,0.7728119180633147,null,null],[null,null,null,null,null,null,null,null,0.7653631284916201,null,null,null,null,null,null,null,null,null],[null,null,null,null,null,null,null,null,null,null,null,null,null,0.7728119180633147,null,null,null,null],[null,0.7541899441340782,null,null,null,null,null,null,null,null,null,null,null,null,null,null,null,null],[null,null,null,null,null,null,null,null,null,null,null,null,null,null,null,0.7728119180633147,null,null],[null,null,null,null,0.7765363128491619,null,null,null,null,null,null,null,null,null,null,null,null,null],[null,null,null,null,null,null,null,0.7635009310986964,null,null,null,null,null,null,null,null,null,null],[null,null,null,null,null,null,null,null,null,null,null,null,null,null,null,0.7709497206703911,null,null],[null,null,null,null,null,0.7579143389199255,null,null,null,null,null,null,null,null,null,null,null,null],[null,null,null,null,null,null,null,null,null,0.7728119180633147,null,null,null,null,null,null,null,null],[null,null,null,null,null,null,null,null,0.7653631284916201,null,null,null,null,0.7746741154562384,null,null,null,null],[null,null,null,null,null,null,null,null,null,null,null,null,null,null,null,null,null,null]],\"type\":\"contour\"},{\"marker\":{\"color\":\"black\",\"line\":{\"color\":\"Gray\",\"width\":2.0}},\"mode\":\"markers\",\"name\":\"Feasible Trial\",\"showlegend\":false,\"x\":[12,15,7,13,17,18,13,16,10,9,4,20,20,16,18,15,14,19,18,10,3,18,17,15,15,14,16,12,14,11,7,15,15,17,13,19,12,16,17,13,19,16,15,14,15,17,15,11,7,6],\"y\":[200,121,167,190,200,76,64,68,61,185,114,103,142,89,133,140,134,160,120,99,154,87,82,109,125,106,131,149,114,172,98,118,117,122,128,143,135,118,93,53,173,114,119,126,110,150,101,135,118,140],\"type\":\"scatter\"},{\"marker\":{\"color\":\"#cccccc\",\"line\":{\"color\":\"Gray\",\"width\":2.0}},\"mode\":\"markers\",\"name\":\"Infeasible Trial\",\"showlegend\":false,\"x\":[],\"y\":[],\"type\":\"scatter\"}],                        {\"title\":{\"text\":\"Contour Plot\"},\"template\":{\"data\":{\"histogram2dcontour\":[{\"type\":\"histogram2dcontour\",\"colorbar\":{\"outlinewidth\":0,\"ticks\":\"\"},\"colorscale\":[[0.0,\"#0d0887\"],[0.1111111111111111,\"#46039f\"],[0.2222222222222222,\"#7201a8\"],[0.3333333333333333,\"#9c179e\"],[0.4444444444444444,\"#bd3786\"],[0.5555555555555556,\"#d8576b\"],[0.6666666666666666,\"#ed7953\"],[0.7777777777777778,\"#fb9f3a\"],[0.8888888888888888,\"#fdca26\"],[1.0,\"#f0f921\"]]}],\"choropleth\":[{\"type\":\"choropleth\",\"colorbar\":{\"outlinewidth\":0,\"ticks\":\"\"}}],\"histogram2d\":[{\"type\":\"histogram2d\",\"colorbar\":{\"outlinewidth\":0,\"ticks\":\"\"},\"colorscale\":[[0.0,\"#0d0887\"],[0.1111111111111111,\"#46039f\"],[0.2222222222222222,\"#7201a8\"],[0.3333333333333333,\"#9c179e\"],[0.4444444444444444,\"#bd3786\"],[0.5555555555555556,\"#d8576b\"],[0.6666666666666666,\"#ed7953\"],[0.7777777777777778,\"#fb9f3a\"],[0.8888888888888888,\"#fdca26\"],[1.0,\"#f0f921\"]]}],\"heatmap\":[{\"type\":\"heatmap\",\"colorbar\":{\"outlinewidth\":0,\"ticks\":\"\"},\"colorscale\":[[0.0,\"#0d0887\"],[0.1111111111111111,\"#46039f\"],[0.2222222222222222,\"#7201a8\"],[0.3333333333333333,\"#9c179e\"],[0.4444444444444444,\"#bd3786\"],[0.5555555555555556,\"#d8576b\"],[0.6666666666666666,\"#ed7953\"],[0.7777777777777778,\"#fb9f3a\"],[0.8888888888888888,\"#fdca26\"],[1.0,\"#f0f921\"]]}],\"heatmapgl\":[{\"type\":\"heatmapgl\",\"colorbar\":{\"outlinewidth\":0,\"ticks\":\"\"},\"colorscale\":[[0.0,\"#0d0887\"],[0.1111111111111111,\"#46039f\"],[0.2222222222222222,\"#7201a8\"],[0.3333333333333333,\"#9c179e\"],[0.4444444444444444,\"#bd3786\"],[0.5555555555555556,\"#d8576b\"],[0.6666666666666666,\"#ed7953\"],[0.7777777777777778,\"#fb9f3a\"],[0.8888888888888888,\"#fdca26\"],[1.0,\"#f0f921\"]]}],\"contourcarpet\":[{\"type\":\"contourcarpet\",\"colorbar\":{\"outlinewidth\":0,\"ticks\":\"\"}}],\"contour\":[{\"type\":\"contour\",\"colorbar\":{\"outlinewidth\":0,\"ticks\":\"\"},\"colorscale\":[[0.0,\"#0d0887\"],[0.1111111111111111,\"#46039f\"],[0.2222222222222222,\"#7201a8\"],[0.3333333333333333,\"#9c179e\"],[0.4444444444444444,\"#bd3786\"],[0.5555555555555556,\"#d8576b\"],[0.6666666666666666,\"#ed7953\"],[0.7777777777777778,\"#fb9f3a\"],[0.8888888888888888,\"#fdca26\"],[1.0,\"#f0f921\"]]}],\"surface\":[{\"type\":\"surface\",\"colorbar\":{\"outlinewidth\":0,\"ticks\":\"\"},\"colorscale\":[[0.0,\"#0d0887\"],[0.1111111111111111,\"#46039f\"],[0.2222222222222222,\"#7201a8\"],[0.3333333333333333,\"#9c179e\"],[0.4444444444444444,\"#bd3786\"],[0.5555555555555556,\"#d8576b\"],[0.6666666666666666,\"#ed7953\"],[0.7777777777777778,\"#fb9f3a\"],[0.8888888888888888,\"#fdca26\"],[1.0,\"#f0f921\"]]}],\"mesh3d\":[{\"type\":\"mesh3d\",\"colorbar\":{\"outlinewidth\":0,\"ticks\":\"\"}}],\"scatter\":[{\"fillpattern\":{\"fillmode\":\"overlay\",\"size\":10,\"solidity\":0.2},\"type\":\"scatter\"}],\"parcoords\":[{\"type\":\"parcoords\",\"line\":{\"colorbar\":{\"outlinewidth\":0,\"ticks\":\"\"}}}],\"scatterpolargl\":[{\"type\":\"scatterpolargl\",\"marker\":{\"colorbar\":{\"outlinewidth\":0,\"ticks\":\"\"}}}],\"bar\":[{\"error_x\":{\"color\":\"#2a3f5f\"},\"error_y\":{\"color\":\"#2a3f5f\"},\"marker\":{\"line\":{\"color\":\"#E5ECF6\",\"width\":0.5},\"pattern\":{\"fillmode\":\"overlay\",\"size\":10,\"solidity\":0.2}},\"type\":\"bar\"}],\"scattergeo\":[{\"type\":\"scattergeo\",\"marker\":{\"colorbar\":{\"outlinewidth\":0,\"ticks\":\"\"}}}],\"scatterpolar\":[{\"type\":\"scatterpolar\",\"marker\":{\"colorbar\":{\"outlinewidth\":0,\"ticks\":\"\"}}}],\"histogram\":[{\"marker\":{\"pattern\":{\"fillmode\":\"overlay\",\"size\":10,\"solidity\":0.2}},\"type\":\"histogram\"}],\"scattergl\":[{\"type\":\"scattergl\",\"marker\":{\"colorbar\":{\"outlinewidth\":0,\"ticks\":\"\"}}}],\"scatter3d\":[{\"type\":\"scatter3d\",\"line\":{\"colorbar\":{\"outlinewidth\":0,\"ticks\":\"\"}},\"marker\":{\"colorbar\":{\"outlinewidth\":0,\"ticks\":\"\"}}}],\"scattermapbox\":[{\"type\":\"scattermapbox\",\"marker\":{\"colorbar\":{\"outlinewidth\":0,\"ticks\":\"\"}}}],\"scatterternary\":[{\"type\":\"scatterternary\",\"marker\":{\"colorbar\":{\"outlinewidth\":0,\"ticks\":\"\"}}}],\"scattercarpet\":[{\"type\":\"scattercarpet\",\"marker\":{\"colorbar\":{\"outlinewidth\":0,\"ticks\":\"\"}}}],\"carpet\":[{\"aaxis\":{\"endlinecolor\":\"#2a3f5f\",\"gridcolor\":\"white\",\"linecolor\":\"white\",\"minorgridcolor\":\"white\",\"startlinecolor\":\"#2a3f5f\"},\"baxis\":{\"endlinecolor\":\"#2a3f5f\",\"gridcolor\":\"white\",\"linecolor\":\"white\",\"minorgridcolor\":\"white\",\"startlinecolor\":\"#2a3f5f\"},\"type\":\"carpet\"}],\"table\":[{\"cells\":{\"fill\":{\"color\":\"#EBF0F8\"},\"line\":{\"color\":\"white\"}},\"header\":{\"fill\":{\"color\":\"#C8D4E3\"},\"line\":{\"color\":\"white\"}},\"type\":\"table\"}],\"barpolar\":[{\"marker\":{\"line\":{\"color\":\"#E5ECF6\",\"width\":0.5},\"pattern\":{\"fillmode\":\"overlay\",\"size\":10,\"solidity\":0.2}},\"type\":\"barpolar\"}],\"pie\":[{\"automargin\":true,\"type\":\"pie\"}]},\"layout\":{\"autotypenumbers\":\"strict\",\"colorway\":[\"#636efa\",\"#EF553B\",\"#00cc96\",\"#ab63fa\",\"#FFA15A\",\"#19d3f3\",\"#FF6692\",\"#B6E880\",\"#FF97FF\",\"#FECB52\"],\"font\":{\"color\":\"#2a3f5f\"},\"hovermode\":\"closest\",\"hoverlabel\":{\"align\":\"left\"},\"paper_bgcolor\":\"white\",\"plot_bgcolor\":\"#E5ECF6\",\"polar\":{\"bgcolor\":\"#E5ECF6\",\"angularaxis\":{\"gridcolor\":\"white\",\"linecolor\":\"white\",\"ticks\":\"\"},\"radialaxis\":{\"gridcolor\":\"white\",\"linecolor\":\"white\",\"ticks\":\"\"}},\"ternary\":{\"bgcolor\":\"#E5ECF6\",\"aaxis\":{\"gridcolor\":\"white\",\"linecolor\":\"white\",\"ticks\":\"\"},\"baxis\":{\"gridcolor\":\"white\",\"linecolor\":\"white\",\"ticks\":\"\"},\"caxis\":{\"gridcolor\":\"white\",\"linecolor\":\"white\",\"ticks\":\"\"}},\"coloraxis\":{\"colorbar\":{\"outlinewidth\":0,\"ticks\":\"\"}},\"colorscale\":{\"sequential\":[[0.0,\"#0d0887\"],[0.1111111111111111,\"#46039f\"],[0.2222222222222222,\"#7201a8\"],[0.3333333333333333,\"#9c179e\"],[0.4444444444444444,\"#bd3786\"],[0.5555555555555556,\"#d8576b\"],[0.6666666666666666,\"#ed7953\"],[0.7777777777777778,\"#fb9f3a\"],[0.8888888888888888,\"#fdca26\"],[1.0,\"#f0f921\"]],\"sequentialminus\":[[0.0,\"#0d0887\"],[0.1111111111111111,\"#46039f\"],[0.2222222222222222,\"#7201a8\"],[0.3333333333333333,\"#9c179e\"],[0.4444444444444444,\"#bd3786\"],[0.5555555555555556,\"#d8576b\"],[0.6666666666666666,\"#ed7953\"],[0.7777777777777778,\"#fb9f3a\"],[0.8888888888888888,\"#fdca26\"],[1.0,\"#f0f921\"]],\"diverging\":[[0,\"#8e0152\"],[0.1,\"#c51b7d\"],[0.2,\"#de77ae\"],[0.3,\"#f1b6da\"],[0.4,\"#fde0ef\"],[0.5,\"#f7f7f7\"],[0.6,\"#e6f5d0\"],[0.7,\"#b8e186\"],[0.8,\"#7fbc41\"],[0.9,\"#4d9221\"],[1,\"#276419\"]]},\"xaxis\":{\"gridcolor\":\"white\",\"linecolor\":\"white\",\"ticks\":\"\",\"title\":{\"standoff\":15},\"zerolinecolor\":\"white\",\"automargin\":true,\"zerolinewidth\":2},\"yaxis\":{\"gridcolor\":\"white\",\"linecolor\":\"white\",\"ticks\":\"\",\"title\":{\"standoff\":15},\"zerolinecolor\":\"white\",\"automargin\":true,\"zerolinewidth\":2},\"scene\":{\"xaxis\":{\"backgroundcolor\":\"#E5ECF6\",\"gridcolor\":\"white\",\"linecolor\":\"white\",\"showbackground\":true,\"ticks\":\"\",\"zerolinecolor\":\"white\",\"gridwidth\":2},\"yaxis\":{\"backgroundcolor\":\"#E5ECF6\",\"gridcolor\":\"white\",\"linecolor\":\"white\",\"showbackground\":true,\"ticks\":\"\",\"zerolinecolor\":\"white\",\"gridwidth\":2},\"zaxis\":{\"backgroundcolor\":\"#E5ECF6\",\"gridcolor\":\"white\",\"linecolor\":\"white\",\"showbackground\":true,\"ticks\":\"\",\"zerolinecolor\":\"white\",\"gridwidth\":2}},\"shapedefaults\":{\"line\":{\"color\":\"#2a3f5f\"}},\"annotationdefaults\":{\"arrowcolor\":\"#2a3f5f\",\"arrowhead\":0,\"arrowwidth\":1},\"geo\":{\"bgcolor\":\"white\",\"landcolor\":\"#E5ECF6\",\"subunitcolor\":\"white\",\"showland\":true,\"showlakes\":true,\"lakecolor\":\"white\"},\"title\":{\"x\":0.05},\"mapbox\":{\"style\":\"light\"}}},\"xaxis\":{\"title\":{\"text\":\"max_depth\"},\"range\":[2.15,20.85]},\"yaxis\":{\"title\":{\"text\":\"n_estimators\"},\"range\":[45.65,207.35]}},                        {\"responsive\": true}                    ).then(function(){\n",
              "                            \n",
              "var gd = document.getElementById('db00b351-56e6-466c-b2b5-3598aa6db142');\n",
              "var x = new MutationObserver(function (mutations, observer) {{\n",
              "        var display = window.getComputedStyle(gd).display;\n",
              "        if (!display || display === 'none') {{\n",
              "            console.log([gd, 'removed!']);\n",
              "            Plotly.purge(gd);\n",
              "            observer.disconnect();\n",
              "        }}\n",
              "}});\n",
              "\n",
              "// Listen for the removal of the full notebook cells\n",
              "var notebookContainer = gd.closest('#notebook-container');\n",
              "if (notebookContainer) {{\n",
              "    x.observe(notebookContainer, {childList: true});\n",
              "}}\n",
              "\n",
              "// Listen for the clearing of the current output cell\n",
              "var outputEl = gd.closest('.output');\n",
              "if (outputEl) {{\n",
              "    x.observe(outputEl, {childList: true});\n",
              "}}\n",
              "\n",
              "                        })                };                            </script>        </div>\n",
              "</body>\n",
              "</html>"
            ]
          },
          "metadata": {}
        }
      ]
    },
    {
      "cell_type": "code",
      "source": [
        "# Parameters Importances\n",
        "plot_param_importances(study).show()"
      ],
      "metadata": {
        "id": "DSZHemkWNkhS",
        "colab": {
          "base_uri": "https://localhost:8080/",
          "height": 542
        },
        "outputId": "b80d4cbf-9d0a-4cb2-bcd0-c6803e189e7e"
      },
      "execution_count": 23,
      "outputs": [
        {
          "output_type": "display_data",
          "data": {
            "text/html": [
              "<html>\n",
              "<head><meta charset=\"utf-8\" /></head>\n",
              "<body>\n",
              "    <div>            <script src=\"https://cdnjs.cloudflare.com/ajax/libs/mathjax/2.7.5/MathJax.js?config=TeX-AMS-MML_SVG\"></script><script type=\"text/javascript\">if (window.MathJax && window.MathJax.Hub && window.MathJax.Hub.Config) {window.MathJax.Hub.Config({SVG: {font: \"STIX-Web\"}});}</script>                <script type=\"text/javascript\">window.PlotlyConfig = {MathJaxConfig: 'local'};</script>\n",
              "        <script charset=\"utf-8\" src=\"https://cdn.plot.ly/plotly-2.35.2.min.js\"></script>                <div id=\"f0d5cc8d-0753-4459-8c7e-7e5355d4a2d2\" class=\"plotly-graph-div\" style=\"height:525px; width:100%;\"></div>            <script type=\"text/javascript\">                                    window.PLOTLYENV=window.PLOTLYENV || {};                                    if (document.getElementById(\"f0d5cc8d-0753-4459-8c7e-7e5355d4a2d2\")) {                    Plotly.newPlot(                        \"f0d5cc8d-0753-4459-8c7e-7e5355d4a2d2\",                        [{\"cliponaxis\":false,\"hovertemplate\":[\"n_estimators (IntDistribution): 0.3218398271694913\\u003cextra\\u003e\\u003c\\u002fextra\\u003e\",\"max_depth (IntDistribution): 0.6781601728305087\\u003cextra\\u003e\\u003c\\u002fextra\\u003e\"],\"name\":\"Objective Value\",\"orientation\":\"h\",\"text\":[\"0.32\",\"0.68\"],\"textposition\":\"outside\",\"x\":[0.3218398271694913,0.6781601728305087],\"y\":[\"n_estimators\",\"max_depth\"],\"type\":\"bar\"}],                        {\"title\":{\"text\":\"Hyperparameter Importances\"},\"xaxis\":{\"title\":{\"text\":\"Hyperparameter Importance\"}},\"yaxis\":{\"title\":{\"text\":\"Hyperparameter\"}},\"template\":{\"data\":{\"histogram2dcontour\":[{\"type\":\"histogram2dcontour\",\"colorbar\":{\"outlinewidth\":0,\"ticks\":\"\"},\"colorscale\":[[0.0,\"#0d0887\"],[0.1111111111111111,\"#46039f\"],[0.2222222222222222,\"#7201a8\"],[0.3333333333333333,\"#9c179e\"],[0.4444444444444444,\"#bd3786\"],[0.5555555555555556,\"#d8576b\"],[0.6666666666666666,\"#ed7953\"],[0.7777777777777778,\"#fb9f3a\"],[0.8888888888888888,\"#fdca26\"],[1.0,\"#f0f921\"]]}],\"choropleth\":[{\"type\":\"choropleth\",\"colorbar\":{\"outlinewidth\":0,\"ticks\":\"\"}}],\"histogram2d\":[{\"type\":\"histogram2d\",\"colorbar\":{\"outlinewidth\":0,\"ticks\":\"\"},\"colorscale\":[[0.0,\"#0d0887\"],[0.1111111111111111,\"#46039f\"],[0.2222222222222222,\"#7201a8\"],[0.3333333333333333,\"#9c179e\"],[0.4444444444444444,\"#bd3786\"],[0.5555555555555556,\"#d8576b\"],[0.6666666666666666,\"#ed7953\"],[0.7777777777777778,\"#fb9f3a\"],[0.8888888888888888,\"#fdca26\"],[1.0,\"#f0f921\"]]}],\"heatmap\":[{\"type\":\"heatmap\",\"colorbar\":{\"outlinewidth\":0,\"ticks\":\"\"},\"colorscale\":[[0.0,\"#0d0887\"],[0.1111111111111111,\"#46039f\"],[0.2222222222222222,\"#7201a8\"],[0.3333333333333333,\"#9c179e\"],[0.4444444444444444,\"#bd3786\"],[0.5555555555555556,\"#d8576b\"],[0.6666666666666666,\"#ed7953\"],[0.7777777777777778,\"#fb9f3a\"],[0.8888888888888888,\"#fdca26\"],[1.0,\"#f0f921\"]]}],\"heatmapgl\":[{\"type\":\"heatmapgl\",\"colorbar\":{\"outlinewidth\":0,\"ticks\":\"\"},\"colorscale\":[[0.0,\"#0d0887\"],[0.1111111111111111,\"#46039f\"],[0.2222222222222222,\"#7201a8\"],[0.3333333333333333,\"#9c179e\"],[0.4444444444444444,\"#bd3786\"],[0.5555555555555556,\"#d8576b\"],[0.6666666666666666,\"#ed7953\"],[0.7777777777777778,\"#fb9f3a\"],[0.8888888888888888,\"#fdca26\"],[1.0,\"#f0f921\"]]}],\"contourcarpet\":[{\"type\":\"contourcarpet\",\"colorbar\":{\"outlinewidth\":0,\"ticks\":\"\"}}],\"contour\":[{\"type\":\"contour\",\"colorbar\":{\"outlinewidth\":0,\"ticks\":\"\"},\"colorscale\":[[0.0,\"#0d0887\"],[0.1111111111111111,\"#46039f\"],[0.2222222222222222,\"#7201a8\"],[0.3333333333333333,\"#9c179e\"],[0.4444444444444444,\"#bd3786\"],[0.5555555555555556,\"#d8576b\"],[0.6666666666666666,\"#ed7953\"],[0.7777777777777778,\"#fb9f3a\"],[0.8888888888888888,\"#fdca26\"],[1.0,\"#f0f921\"]]}],\"surface\":[{\"type\":\"surface\",\"colorbar\":{\"outlinewidth\":0,\"ticks\":\"\"},\"colorscale\":[[0.0,\"#0d0887\"],[0.1111111111111111,\"#46039f\"],[0.2222222222222222,\"#7201a8\"],[0.3333333333333333,\"#9c179e\"],[0.4444444444444444,\"#bd3786\"],[0.5555555555555556,\"#d8576b\"],[0.6666666666666666,\"#ed7953\"],[0.7777777777777778,\"#fb9f3a\"],[0.8888888888888888,\"#fdca26\"],[1.0,\"#f0f921\"]]}],\"mesh3d\":[{\"type\":\"mesh3d\",\"colorbar\":{\"outlinewidth\":0,\"ticks\":\"\"}}],\"scatter\":[{\"fillpattern\":{\"fillmode\":\"overlay\",\"size\":10,\"solidity\":0.2},\"type\":\"scatter\"}],\"parcoords\":[{\"type\":\"parcoords\",\"line\":{\"colorbar\":{\"outlinewidth\":0,\"ticks\":\"\"}}}],\"scatterpolargl\":[{\"type\":\"scatterpolargl\",\"marker\":{\"colorbar\":{\"outlinewidth\":0,\"ticks\":\"\"}}}],\"bar\":[{\"error_x\":{\"color\":\"#2a3f5f\"},\"error_y\":{\"color\":\"#2a3f5f\"},\"marker\":{\"line\":{\"color\":\"#E5ECF6\",\"width\":0.5},\"pattern\":{\"fillmode\":\"overlay\",\"size\":10,\"solidity\":0.2}},\"type\":\"bar\"}],\"scattergeo\":[{\"type\":\"scattergeo\",\"marker\":{\"colorbar\":{\"outlinewidth\":0,\"ticks\":\"\"}}}],\"scatterpolar\":[{\"type\":\"scatterpolar\",\"marker\":{\"colorbar\":{\"outlinewidth\":0,\"ticks\":\"\"}}}],\"histogram\":[{\"marker\":{\"pattern\":{\"fillmode\":\"overlay\",\"size\":10,\"solidity\":0.2}},\"type\":\"histogram\"}],\"scattergl\":[{\"type\":\"scattergl\",\"marker\":{\"colorbar\":{\"outlinewidth\":0,\"ticks\":\"\"}}}],\"scatter3d\":[{\"type\":\"scatter3d\",\"line\":{\"colorbar\":{\"outlinewidth\":0,\"ticks\":\"\"}},\"marker\":{\"colorbar\":{\"outlinewidth\":0,\"ticks\":\"\"}}}],\"scattermapbox\":[{\"type\":\"scattermapbox\",\"marker\":{\"colorbar\":{\"outlinewidth\":0,\"ticks\":\"\"}}}],\"scatterternary\":[{\"type\":\"scatterternary\",\"marker\":{\"colorbar\":{\"outlinewidth\":0,\"ticks\":\"\"}}}],\"scattercarpet\":[{\"type\":\"scattercarpet\",\"marker\":{\"colorbar\":{\"outlinewidth\":0,\"ticks\":\"\"}}}],\"carpet\":[{\"aaxis\":{\"endlinecolor\":\"#2a3f5f\",\"gridcolor\":\"white\",\"linecolor\":\"white\",\"minorgridcolor\":\"white\",\"startlinecolor\":\"#2a3f5f\"},\"baxis\":{\"endlinecolor\":\"#2a3f5f\",\"gridcolor\":\"white\",\"linecolor\":\"white\",\"minorgridcolor\":\"white\",\"startlinecolor\":\"#2a3f5f\"},\"type\":\"carpet\"}],\"table\":[{\"cells\":{\"fill\":{\"color\":\"#EBF0F8\"},\"line\":{\"color\":\"white\"}},\"header\":{\"fill\":{\"color\":\"#C8D4E3\"},\"line\":{\"color\":\"white\"}},\"type\":\"table\"}],\"barpolar\":[{\"marker\":{\"line\":{\"color\":\"#E5ECF6\",\"width\":0.5},\"pattern\":{\"fillmode\":\"overlay\",\"size\":10,\"solidity\":0.2}},\"type\":\"barpolar\"}],\"pie\":[{\"automargin\":true,\"type\":\"pie\"}]},\"layout\":{\"autotypenumbers\":\"strict\",\"colorway\":[\"#636efa\",\"#EF553B\",\"#00cc96\",\"#ab63fa\",\"#FFA15A\",\"#19d3f3\",\"#FF6692\",\"#B6E880\",\"#FF97FF\",\"#FECB52\"],\"font\":{\"color\":\"#2a3f5f\"},\"hovermode\":\"closest\",\"hoverlabel\":{\"align\":\"left\"},\"paper_bgcolor\":\"white\",\"plot_bgcolor\":\"#E5ECF6\",\"polar\":{\"bgcolor\":\"#E5ECF6\",\"angularaxis\":{\"gridcolor\":\"white\",\"linecolor\":\"white\",\"ticks\":\"\"},\"radialaxis\":{\"gridcolor\":\"white\",\"linecolor\":\"white\",\"ticks\":\"\"}},\"ternary\":{\"bgcolor\":\"#E5ECF6\",\"aaxis\":{\"gridcolor\":\"white\",\"linecolor\":\"white\",\"ticks\":\"\"},\"baxis\":{\"gridcolor\":\"white\",\"linecolor\":\"white\",\"ticks\":\"\"},\"caxis\":{\"gridcolor\":\"white\",\"linecolor\":\"white\",\"ticks\":\"\"}},\"coloraxis\":{\"colorbar\":{\"outlinewidth\":0,\"ticks\":\"\"}},\"colorscale\":{\"sequential\":[[0.0,\"#0d0887\"],[0.1111111111111111,\"#46039f\"],[0.2222222222222222,\"#7201a8\"],[0.3333333333333333,\"#9c179e\"],[0.4444444444444444,\"#bd3786\"],[0.5555555555555556,\"#d8576b\"],[0.6666666666666666,\"#ed7953\"],[0.7777777777777778,\"#fb9f3a\"],[0.8888888888888888,\"#fdca26\"],[1.0,\"#f0f921\"]],\"sequentialminus\":[[0.0,\"#0d0887\"],[0.1111111111111111,\"#46039f\"],[0.2222222222222222,\"#7201a8\"],[0.3333333333333333,\"#9c179e\"],[0.4444444444444444,\"#bd3786\"],[0.5555555555555556,\"#d8576b\"],[0.6666666666666666,\"#ed7953\"],[0.7777777777777778,\"#fb9f3a\"],[0.8888888888888888,\"#fdca26\"],[1.0,\"#f0f921\"]],\"diverging\":[[0,\"#8e0152\"],[0.1,\"#c51b7d\"],[0.2,\"#de77ae\"],[0.3,\"#f1b6da\"],[0.4,\"#fde0ef\"],[0.5,\"#f7f7f7\"],[0.6,\"#e6f5d0\"],[0.7,\"#b8e186\"],[0.8,\"#7fbc41\"],[0.9,\"#4d9221\"],[1,\"#276419\"]]},\"xaxis\":{\"gridcolor\":\"white\",\"linecolor\":\"white\",\"ticks\":\"\",\"title\":{\"standoff\":15},\"zerolinecolor\":\"white\",\"automargin\":true,\"zerolinewidth\":2},\"yaxis\":{\"gridcolor\":\"white\",\"linecolor\":\"white\",\"ticks\":\"\",\"title\":{\"standoff\":15},\"zerolinecolor\":\"white\",\"automargin\":true,\"zerolinewidth\":2},\"scene\":{\"xaxis\":{\"backgroundcolor\":\"#E5ECF6\",\"gridcolor\":\"white\",\"linecolor\":\"white\",\"showbackground\":true,\"ticks\":\"\",\"zerolinecolor\":\"white\",\"gridwidth\":2},\"yaxis\":{\"backgroundcolor\":\"#E5ECF6\",\"gridcolor\":\"white\",\"linecolor\":\"white\",\"showbackground\":true,\"ticks\":\"\",\"zerolinecolor\":\"white\",\"gridwidth\":2},\"zaxis\":{\"backgroundcolor\":\"#E5ECF6\",\"gridcolor\":\"white\",\"linecolor\":\"white\",\"showbackground\":true,\"ticks\":\"\",\"zerolinecolor\":\"white\",\"gridwidth\":2}},\"shapedefaults\":{\"line\":{\"color\":\"#2a3f5f\"}},\"annotationdefaults\":{\"arrowcolor\":\"#2a3f5f\",\"arrowhead\":0,\"arrowwidth\":1},\"geo\":{\"bgcolor\":\"white\",\"landcolor\":\"#E5ECF6\",\"subunitcolor\":\"white\",\"showland\":true,\"showlakes\":true,\"lakecolor\":\"white\"},\"title\":{\"x\":0.05},\"mapbox\":{\"style\":\"light\"}}}},                        {\"responsive\": true}                    ).then(function(){\n",
              "                            \n",
              "var gd = document.getElementById('f0d5cc8d-0753-4459-8c7e-7e5355d4a2d2');\n",
              "var x = new MutationObserver(function (mutations, observer) {{\n",
              "        var display = window.getComputedStyle(gd).display;\n",
              "        if (!display || display === 'none') {{\n",
              "            console.log([gd, 'removed!']);\n",
              "            Plotly.purge(gd);\n",
              "            observer.disconnect();\n",
              "        }}\n",
              "}});\n",
              "\n",
              "// Listen for the removal of the full notebook cells\n",
              "var notebookContainer = gd.closest('#notebook-container');\n",
              "if (notebookContainer) {{\n",
              "    x.observe(notebookContainer, {childList: true});\n",
              "}}\n",
              "\n",
              "// Listen for the clearing of the current output cell\n",
              "var outputEl = gd.closest('.output');\n",
              "if (outputEl) {{\n",
              "    x.observe(outputEl, {childList: true});\n",
              "}}\n",
              "\n",
              "                        })                };                            </script>        </div>\n",
              "</body>\n",
              "</html>"
            ]
          },
          "metadata": {}
        }
      ]
    },
    {
      "cell_type": "markdown",
      "source": [
        "# Define by Run"
      ],
      "metadata": {
        "id": "alXd6-_OVjp6"
      }
    },
    {
      "cell_type": "code",
      "source": [
        "from sklearn.ensemble import GradientBoostingClassifier, RandomForestClassifier\n",
        "from sklearn.svm import SVC\n",
        "\n",
        "def objective(trial):\n",
        "\n",
        "  classifier_name = trial.suggest_categorical('classifier', ['SVM', 'RandomForest', 'GradientBoosting'])\n",
        "\n",
        "  if classifier_name == 'SVM':\n",
        "    # SVM hyperparameters\n",
        "    c = trial.suggest_float('C', 0.1, 100, log=True)\n",
        "    kernel = trial.suggest_categorical('kernel', ['linear', 'rbf', 'poly', 'sigmoid'])\n",
        "    gamma = trial.suggest_categorical('gamma', ['scale', 'auto'])\n",
        "\n",
        "    model = SVC(C=c, kernel=kernel, gamma=gamma)\n",
        "\n",
        "  elif classifier_name == 'RandomForest':\n",
        "    # Random Forest hyperparameters\n",
        "    n_estimators = trial.suggest_int('n_estimators', 50, 300)\n",
        "    max_depth = trial.suggest_int('max_depth', 3, 20)\n",
        "    min_samples_split = trial.suggest_int('min_samples_split', 2, 10)\n",
        "    min_samples_leaf = trial.suggest_int('min_samples_leaf', 1, 10)\n",
        "    bootstrap = trial.suggest_categorical('bootstrap', [True, False])\n",
        "\n",
        "    model = RandomForestClassifier(\n",
        "        n_estimators=n_estimators,\n",
        "        max_depth=max_depth,\n",
        "        min_samples_split=min_samples_split,\n",
        "        min_samples_leaf=min_samples_leaf,\n",
        "        bootstrap=bootstrap,\n",
        "        random_state=42\n",
        "    )\n",
        "\n",
        "  elif classifier_name == 'GradientBoosting':\n",
        "    # Gradient Boosting hyperparameters\n",
        "    n_estimators = trial.suggest_int('n_estimators', 50, 300)\n",
        "    learning_rate = trial.suggest_float('learning_rate', 0.01, 0.3, log=True)\n",
        "    max_depth = trial.suggest_int('max_depth', 3, 20)\n",
        "    min_samples_split = trial.suggest_int('min_samples_split', 2, 10)\n",
        "    min_samples_leaf = trial.suggest_int('min_samples_leaf', 1, 10)\n",
        "\n",
        "    model = GradientBoostingClassifier(\n",
        "        n_estimators=n_estimators,\n",
        "        learning_rate=learning_rate,\n",
        "        max_depth=max_depth,\n",
        "        min_samples_split=min_samples_split,\n",
        "        min_samples_leaf=min_samples_leaf,\n",
        "        random_state=42\n",
        "    )\n",
        "\n",
        "  score = cross_val_score(model, X_train, y_train, cv=3, scoring='accuracy').mean()\n",
        "  return score"
      ],
      "metadata": {
        "id": "Ntxwql8YN5o_"
      },
      "execution_count": 38,
      "outputs": []
    },
    {
      "cell_type": "code",
      "source": [
        "# Create a study and optimize it using CmaEsSampler\n",
        "study = optuna.create_study(direction='maximize')\n",
        "study.optimize(objective, n_trials=100)"
      ],
      "metadata": {
        "colab": {
          "base_uri": "https://localhost:8080/"
        },
        "id": "6gKs0pGYOQXw",
        "outputId": "dbc4b164-6e5e-4e5e-d43f-cf3e0c7d4c2c"
      },
      "execution_count": 39,
      "outputs": [
        {
          "output_type": "stream",
          "name": "stderr",
          "text": [
            "[I 2025-07-10 07:44:32,580] A new study created in memory with name: no-name-44e8a302-2efe-4e54-8169-f33d595fd8b0\n",
            "[I 2025-07-10 07:44:32,776] Trial 0 finished with value: 0.7858472998137801 and parameters: {'classifier': 'SVM', 'C': 52.02659299508869, 'kernel': 'linear', 'gamma': 'auto'}. Best is trial 0 with value: 0.7858472998137801.\n",
            "[I 2025-07-10 07:44:34,761] Trial 1 finished with value: 0.7728119180633147 and parameters: {'classifier': 'GradientBoosting', 'n_estimators': 137, 'learning_rate': 0.014700997776490114, 'max_depth': 13, 'min_samples_split': 3, 'min_samples_leaf': 10}. Best is trial 0 with value: 0.7858472998137801.\n",
            "[I 2025-07-10 07:44:36,282] Trial 2 finished with value: 0.7690875232774674 and parameters: {'classifier': 'RandomForest', 'n_estimators': 233, 'max_depth': 17, 'min_samples_split': 4, 'min_samples_leaf': 6, 'bootstrap': False}. Best is trial 0 with value: 0.7858472998137801.\n",
            "[I 2025-07-10 07:44:40,060] Trial 3 finished with value: 0.756052141527002 and parameters: {'classifier': 'GradientBoosting', 'n_estimators': 242, 'learning_rate': 0.09397617149731294, 'max_depth': 9, 'min_samples_split': 8, 'min_samples_leaf': 2}. Best is trial 0 with value: 0.7858472998137801.\n",
            "[I 2025-07-10 07:44:42,967] Trial 4 finished with value: 0.7597765363128491 and parameters: {'classifier': 'GradientBoosting', 'n_estimators': 291, 'learning_rate': 0.08800543244392231, 'max_depth': 6, 'min_samples_split': 2, 'min_samples_leaf': 5}. Best is trial 0 with value: 0.7858472998137801.\n",
            "[I 2025-07-10 07:44:43,004] Trial 5 finished with value: 0.7169459962756052 and parameters: {'classifier': 'SVM', 'C': 7.980229453071054, 'kernel': 'poly', 'gamma': 'scale'}. Best is trial 0 with value: 0.7858472998137801.\n",
            "[I 2025-07-10 07:44:43,472] Trial 6 finished with value: 0.756052141527002 and parameters: {'classifier': 'RandomForest', 'n_estimators': 85, 'max_depth': 8, 'min_samples_split': 5, 'min_samples_leaf': 1, 'bootstrap': True}. Best is trial 0 with value: 0.7858472998137801.\n",
            "[I 2025-07-10 07:44:45,095] Trial 7 finished with value: 0.7653631284916201 and parameters: {'classifier': 'RandomForest', 'n_estimators': 290, 'max_depth': 11, 'min_samples_split': 8, 'min_samples_leaf': 4, 'bootstrap': True}. Best is trial 0 with value: 0.7858472998137801.\n",
            "[I 2025-07-10 07:44:45,121] Trial 8 finished with value: 0.7877094972067038 and parameters: {'classifier': 'SVM', 'C': 0.10339674050880991, 'kernel': 'linear', 'gamma': 'scale'}. Best is trial 8 with value: 0.7877094972067038.\n",
            "[I 2025-07-10 07:44:45,150] Trial 9 finished with value: 0.7262569832402234 and parameters: {'classifier': 'SVM', 'C': 0.3102097145885508, 'kernel': 'poly', 'gamma': 'auto'}. Best is trial 8 with value: 0.7877094972067038.\n",
            "[I 2025-07-10 07:44:45,186] Trial 10 finished with value: 0.7877094972067038 and parameters: {'classifier': 'SVM', 'C': 0.10336745335793641, 'kernel': 'linear', 'gamma': 'scale'}. Best is trial 8 with value: 0.7877094972067038.\n",
            "[I 2025-07-10 07:44:45,252] Trial 11 finished with value: 0.7877094972067038 and parameters: {'classifier': 'SVM', 'C': 0.10202099418318158, 'kernel': 'linear', 'gamma': 'scale'}. Best is trial 8 with value: 0.7877094972067038.\n",
            "[I 2025-07-10 07:44:45,288] Trial 12 finished with value: 0.7839851024208566 and parameters: {'classifier': 'SVM', 'C': 0.5587156995115148, 'kernel': 'linear', 'gamma': 'scale'}. Best is trial 8 with value: 0.7877094972067038.\n",
            "[I 2025-07-10 07:44:45,333] Trial 13 finished with value: 0.7337057728119181 and parameters: {'classifier': 'SVM', 'C': 0.11186279510381471, 'kernel': 'rbf', 'gamma': 'scale'}. Best is trial 8 with value: 0.7877094972067038.\n",
            "[I 2025-07-10 07:44:45,374] Trial 14 finished with value: 0.7430167597765364 and parameters: {'classifier': 'SVM', 'C': 1.1177140175427296, 'kernel': 'sigmoid', 'gamma': 'scale'}. Best is trial 8 with value: 0.7877094972067038.\n",
            "[I 2025-07-10 07:44:45,430] Trial 15 finished with value: 0.7858472998137801 and parameters: {'classifier': 'SVM', 'C': 4.192321336071144, 'kernel': 'linear', 'gamma': 'scale'}. Best is trial 8 with value: 0.7877094972067038.\n",
            "[I 2025-07-10 07:44:45,465] Trial 16 finished with value: 0.7858472998137803 and parameters: {'classifier': 'SVM', 'C': 0.26822813584088234, 'kernel': 'linear', 'gamma': 'scale'}. Best is trial 8 with value: 0.7877094972067038.\n",
            "[I 2025-07-10 07:44:45,507] Trial 17 finished with value: 0.7672253258845437 and parameters: {'classifier': 'SVM', 'C': 1.415089323015305, 'kernel': 'rbf', 'gamma': 'auto'}. Best is trial 8 with value: 0.7877094972067038.\n",
            "[I 2025-07-10 07:44:45,793] Trial 18 finished with value: 0.7467411545623835 and parameters: {'classifier': 'RandomForest', 'n_estimators': 59, 'max_depth': 3, 'min_samples_split': 10, 'min_samples_leaf': 10, 'bootstrap': False}. Best is trial 8 with value: 0.7877094972067038.\n",
            "[I 2025-07-10 07:44:49,129] Trial 19 finished with value: 0.7430167597765364 and parameters: {'classifier': 'GradientBoosting', 'n_estimators': 158, 'learning_rate': 0.24227532321101716, 'max_depth': 20, 'min_samples_split': 7, 'min_samples_leaf': 7}. Best is trial 8 with value: 0.7877094972067038.\n",
            "[I 2025-07-10 07:44:49,169] Trial 20 finished with value: 0.6890130353817505 and parameters: {'classifier': 'SVM', 'C': 24.082522992905233, 'kernel': 'sigmoid', 'gamma': 'scale'}. Best is trial 8 with value: 0.7877094972067038.\n",
            "[I 2025-07-10 07:44:49,241] Trial 21 finished with value: 0.7895716945996275 and parameters: {'classifier': 'SVM', 'C': 0.1140215587286532, 'kernel': 'linear', 'gamma': 'scale'}. Best is trial 21 with value: 0.7895716945996275.\n",
            "[I 2025-07-10 07:44:49,277] Trial 22 finished with value: 0.7877094972067038 and parameters: {'classifier': 'SVM', 'C': 0.10202835960101907, 'kernel': 'linear', 'gamma': 'scale'}. Best is trial 21 with value: 0.7895716945996275.\n",
            "[I 2025-07-10 07:44:49,310] Trial 23 finished with value: 0.7858472998137803 and parameters: {'classifier': 'SVM', 'C': 0.29177651866769594, 'kernel': 'linear', 'gamma': 'scale'}. Best is trial 21 with value: 0.7895716945996275.\n",
            "[I 2025-07-10 07:44:49,345] Trial 24 finished with value: 0.7858472998137803 and parameters: {'classifier': 'SVM', 'C': 0.24008392544549909, 'kernel': 'linear', 'gamma': 'scale'}. Best is trial 21 with value: 0.7895716945996275.\n",
            "[I 2025-07-10 07:44:49,382] Trial 25 finished with value: 0.7858472998137803 and parameters: {'classifier': 'SVM', 'C': 0.7007153552937411, 'kernel': 'linear', 'gamma': 'scale'}. Best is trial 21 with value: 0.7895716945996275.\n",
            "[I 2025-07-10 07:44:49,418] Trial 26 finished with value: 0.7877094972067038 and parameters: {'classifier': 'SVM', 'C': 0.1687992297811174, 'kernel': 'linear', 'gamma': 'auto'}. Best is trial 21 with value: 0.7895716945996275.\n",
            "[I 2025-07-10 07:44:49,454] Trial 27 finished with value: 0.7430167597765364 and parameters: {'classifier': 'SVM', 'C': 0.5412588759924166, 'kernel': 'poly', 'gamma': 'scale'}. Best is trial 21 with value: 0.7895716945996275.\n",
            "[I 2025-07-10 07:44:50,916] Trial 28 finished with value: 0.7597765363128491 and parameters: {'classifier': 'GradientBoosting', 'n_estimators': 115, 'learning_rate': 0.010687466804547987, 'max_depth': 15, 'min_samples_split': 10, 'min_samples_leaf': 8}. Best is trial 21 with value: 0.7895716945996275.\n",
            "[I 2025-07-10 07:44:51,977] Trial 29 finished with value: 0.7616387337057727 and parameters: {'classifier': 'RandomForest', 'n_estimators': 199, 'max_depth': 20, 'min_samples_split': 6, 'min_samples_leaf': 3, 'bootstrap': False}. Best is trial 21 with value: 0.7895716945996275.\n",
            "[I 2025-07-10 07:44:52,022] Trial 30 finished with value: 0.7728119180633147 and parameters: {'classifier': 'SVM', 'C': 0.1794500272655603, 'kernel': 'sigmoid', 'gamma': 'scale'}. Best is trial 21 with value: 0.7895716945996275.\n",
            "[I 2025-07-10 07:44:52,056] Trial 31 finished with value: 0.7877094972067038 and parameters: {'classifier': 'SVM', 'C': 0.10805843248710753, 'kernel': 'linear', 'gamma': 'scale'}. Best is trial 21 with value: 0.7895716945996275.\n",
            "[I 2025-07-10 07:44:52,088] Trial 32 finished with value: 0.7895716945996275 and parameters: {'classifier': 'SVM', 'C': 0.1273661234556469, 'kernel': 'linear', 'gamma': 'scale'}. Best is trial 21 with value: 0.7895716945996275.\n",
            "[I 2025-07-10 07:44:52,122] Trial 33 finished with value: 0.7821229050279329 and parameters: {'classifier': 'SVM', 'C': 0.3881733976831233, 'kernel': 'linear', 'gamma': 'scale'}. Best is trial 21 with value: 0.7895716945996275.\n",
            "[I 2025-07-10 07:44:52,155] Trial 34 finished with value: 0.7877094972067038 and parameters: {'classifier': 'SVM', 'C': 0.17604644158981927, 'kernel': 'linear', 'gamma': 'scale'}. Best is trial 21 with value: 0.7895716945996275.\n",
            "[I 2025-07-10 07:44:53,352] Trial 35 finished with value: 0.7672253258845437 and parameters: {'classifier': 'GradientBoosting', 'n_estimators': 201, 'learning_rate': 0.02806709197276456, 'max_depth': 3, 'min_samples_split': 2, 'min_samples_leaf': 8}. Best is trial 21 with value: 0.7895716945996275.\n",
            "[I 2025-07-10 07:44:53,397] Trial 36 finished with value: 0.756052141527002 and parameters: {'classifier': 'SVM', 'C': 0.1674105258690793, 'kernel': 'rbf', 'gamma': 'scale'}. Best is trial 21 with value: 0.7895716945996275.\n",
            "[I 2025-07-10 07:44:54,052] Trial 37 finished with value: 0.7597765363128491 and parameters: {'classifier': 'RandomForest', 'n_estimators': 103, 'max_depth': 16, 'min_samples_split': 5, 'min_samples_leaf': 1, 'bootstrap': True}. Best is trial 21 with value: 0.7895716945996275.\n",
            "[I 2025-07-10 07:44:54,748] Trial 38 finished with value: 0.7523277467411545 and parameters: {'classifier': 'GradientBoosting', 'n_estimators': 59, 'learning_rate': 0.281821137507432, 'max_depth': 6, 'min_samples_split': 8, 'min_samples_leaf': 5}. Best is trial 21 with value: 0.7895716945996275.\n",
            "[I 2025-07-10 07:44:54,790] Trial 39 finished with value: 0.7858472998137801 and parameters: {'classifier': 'SVM', 'C': 1.8174000758712698, 'kernel': 'linear', 'gamma': 'scale'}. Best is trial 21 with value: 0.7895716945996275.\n",
            "[I 2025-07-10 07:44:54,825] Trial 40 finished with value: 0.7839851024208566 and parameters: {'classifier': 'SVM', 'C': 0.42522222609662885, 'kernel': 'linear', 'gamma': 'auto'}. Best is trial 21 with value: 0.7895716945996275.\n",
            "[I 2025-07-10 07:44:54,857] Trial 41 finished with value: 0.7877094972067038 and parameters: {'classifier': 'SVM', 'C': 0.10181445883355966, 'kernel': 'linear', 'gamma': 'scale'}. Best is trial 21 with value: 0.7895716945996275.\n",
            "[I 2025-07-10 07:44:54,892] Trial 42 finished with value: 0.7877094972067038 and parameters: {'classifier': 'SVM', 'C': 0.16085962278301316, 'kernel': 'linear', 'gamma': 'scale'}. Best is trial 21 with value: 0.7895716945996275.\n",
            "[I 2025-07-10 07:44:54,926] Trial 43 finished with value: 0.7877094972067038 and parameters: {'classifier': 'SVM', 'C': 0.10157211039388316, 'kernel': 'linear', 'gamma': 'scale'}. Best is trial 21 with value: 0.7895716945996275.\n",
            "[I 2025-07-10 07:44:55,123] Trial 44 finished with value: 0.7858472998137801 and parameters: {'classifier': 'SVM', 'C': 40.699240852934004, 'kernel': 'linear', 'gamma': 'scale'}. Best is trial 21 with value: 0.7895716945996275.\n",
            "[I 2025-07-10 07:44:56,499] Trial 45 finished with value: 0.756052141527002 and parameters: {'classifier': 'RandomForest', 'n_estimators': 250, 'max_depth': 12, 'min_samples_split': 9, 'min_samples_leaf': 9, 'bootstrap': True}. Best is trial 21 with value: 0.7895716945996275.\n",
            "[I 2025-07-10 07:44:56,538] Trial 46 finished with value: 0.7858472998137803 and parameters: {'classifier': 'SVM', 'C': 0.2104089952798144, 'kernel': 'linear', 'gamma': 'scale'}. Best is trial 21 with value: 0.7895716945996275.\n",
            "[I 2025-07-10 07:44:56,578] Trial 47 finished with value: 0.7150837988826816 and parameters: {'classifier': 'SVM', 'C': 0.15181407543920658, 'kernel': 'poly', 'gamma': 'auto'}. Best is trial 21 with value: 0.7895716945996275.\n",
            "[I 2025-07-10 07:44:56,692] Trial 48 finished with value: 0.7858472998137801 and parameters: {'classifier': 'SVM', 'C': 11.49732423436596, 'kernel': 'linear', 'gamma': 'scale'}. Best is trial 21 with value: 0.7895716945996275.\n",
            "[I 2025-07-10 07:45:01,876] Trial 49 finished with value: 0.7374301675977654 and parameters: {'classifier': 'GradientBoosting', 'n_estimators': 178, 'learning_rate': 0.034223159149674415, 'max_depth': 14, 'min_samples_split': 6, 'min_samples_leaf': 3}. Best is trial 21 with value: 0.7895716945996275.\n",
            "[I 2025-07-10 07:45:01,914] Trial 50 finished with value: 0.7243947858472998 and parameters: {'classifier': 'SVM', 'C': 0.2922941038254371, 'kernel': 'poly', 'gamma': 'scale'}. Best is trial 21 with value: 0.7895716945996275.\n",
            "[I 2025-07-10 07:45:01,948] Trial 51 finished with value: 0.7877094972067038 and parameters: {'classifier': 'SVM', 'C': 0.10231390078481574, 'kernel': 'linear', 'gamma': 'scale'}. Best is trial 21 with value: 0.7895716945996275.\n",
            "[I 2025-07-10 07:45:01,985] Trial 52 finished with value: 0.7895716945996275 and parameters: {'classifier': 'SVM', 'C': 0.13955126572972457, 'kernel': 'linear', 'gamma': 'scale'}. Best is trial 21 with value: 0.7895716945996275.\n",
            "[I 2025-07-10 07:45:02,021] Trial 53 finished with value: 0.7895716945996275 and parameters: {'classifier': 'SVM', 'C': 0.14597986375635794, 'kernel': 'linear', 'gamma': 'scale'}. Best is trial 21 with value: 0.7895716945996275.\n",
            "[I 2025-07-10 07:45:02,057] Trial 54 finished with value: 0.7895716945996275 and parameters: {'classifier': 'SVM', 'C': 0.1474426552656417, 'kernel': 'linear', 'gamma': 'scale'}. Best is trial 21 with value: 0.7895716945996275.\n",
            "[I 2025-07-10 07:45:02,091] Trial 55 finished with value: 0.7821229050279329 and parameters: {'classifier': 'SVM', 'C': 0.3713775704278404, 'kernel': 'linear', 'gamma': 'scale'}. Best is trial 21 with value: 0.7895716945996275.\n",
            "[I 2025-07-10 07:45:02,133] Trial 56 finished with value: 0.7486033519553073 and parameters: {'classifier': 'SVM', 'C': 0.14369634907204826, 'kernel': 'rbf', 'gamma': 'scale'}. Best is trial 21 with value: 0.7895716945996275.\n",
            "[I 2025-07-10 07:45:03,425] Trial 57 finished with value: 0.7635009310986964 and parameters: {'classifier': 'RandomForest', 'n_estimators': 256, 'max_depth': 18, 'min_samples_split': 4, 'min_samples_leaf': 6, 'bootstrap': False}. Best is trial 21 with value: 0.7895716945996275.\n",
            "[I 2025-07-10 07:45:03,471] Trial 58 finished with value: 0.7858472998137803 and parameters: {'classifier': 'SVM', 'C': 0.23780247315212086, 'kernel': 'linear', 'gamma': 'scale'}. Best is trial 21 with value: 0.7895716945996275.\n",
            "[I 2025-07-10 07:45:03,523] Trial 59 finished with value: 0.7709497206703911 and parameters: {'classifier': 'SVM', 'C': 0.14685903780408427, 'kernel': 'sigmoid', 'gamma': 'auto'}. Best is trial 21 with value: 0.7895716945996275.\n",
            "[I 2025-07-10 07:45:03,562] Trial 60 finished with value: 0.7858472998137803 and parameters: {'classifier': 'SVM', 'C': 0.6323670232464372, 'kernel': 'linear', 'gamma': 'scale'}. Best is trial 21 with value: 0.7895716945996275.\n",
            "[I 2025-07-10 07:45:03,595] Trial 61 finished with value: 0.7858472998137803 and parameters: {'classifier': 'SVM', 'C': 0.2224080023366469, 'kernel': 'linear', 'gamma': 'scale'}. Best is trial 21 with value: 0.7895716945996275.\n",
            "[I 2025-07-10 07:45:03,639] Trial 62 finished with value: 0.7895716945996275 and parameters: {'classifier': 'SVM', 'C': 0.13695268032924146, 'kernel': 'linear', 'gamma': 'scale'}. Best is trial 21 with value: 0.7895716945996275.\n",
            "[I 2025-07-10 07:45:04,047] Trial 63 finished with value: 0.7858472998137801 and parameters: {'classifier': 'SVM', 'C': 99.70208310802971, 'kernel': 'linear', 'gamma': 'scale'}. Best is trial 21 with value: 0.7895716945996275.\n",
            "[I 2025-07-10 07:45:04,082] Trial 64 finished with value: 0.7895716945996275 and parameters: {'classifier': 'SVM', 'C': 0.1356138571689878, 'kernel': 'linear', 'gamma': 'scale'}. Best is trial 21 with value: 0.7895716945996275.\n",
            "[I 2025-07-10 07:45:04,116] Trial 65 finished with value: 0.7895716945996275 and parameters: {'classifier': 'SVM', 'C': 0.13695292151624128, 'kernel': 'linear', 'gamma': 'scale'}. Best is trial 21 with value: 0.7895716945996275.\n",
            "[I 2025-07-10 07:45:04,151] Trial 66 finished with value: 0.7858472998137803 and parameters: {'classifier': 'SVM', 'C': 0.2192119220275213, 'kernel': 'linear', 'gamma': 'scale'}. Best is trial 21 with value: 0.7895716945996275.\n",
            "[I 2025-07-10 07:45:04,223] Trial 67 finished with value: 0.7858472998137801 and parameters: {'classifier': 'SVM', 'C': 3.7251050675142454, 'kernel': 'linear', 'gamma': 'scale'}. Best is trial 21 with value: 0.7895716945996275.\n",
            "[I 2025-07-10 07:45:06,806] Trial 68 finished with value: 0.7467411545623835 and parameters: {'classifier': 'GradientBoosting', 'n_estimators': 152, 'learning_rate': 0.12702562147500435, 'max_depth': 10, 'min_samples_split': 7, 'min_samples_leaf': 4}. Best is trial 21 with value: 0.7895716945996275.\n",
            "[I 2025-07-10 07:45:06,844] Trial 69 finished with value: 0.7672253258845437 and parameters: {'classifier': 'SVM', 'C': 0.3277433556742701, 'kernel': 'rbf', 'gamma': 'scale'}. Best is trial 21 with value: 0.7895716945996275.\n",
            "[I 2025-07-10 07:45:06,885] Trial 70 finished with value: 0.750465549348231 and parameters: {'classifier': 'SVM', 'C': 0.9605876023879859, 'kernel': 'sigmoid', 'gamma': 'scale'}. Best is trial 21 with value: 0.7895716945996275.\n",
            "[I 2025-07-10 07:45:06,919] Trial 71 finished with value: 0.7895716945996275 and parameters: {'classifier': 'SVM', 'C': 0.15224117902692466, 'kernel': 'linear', 'gamma': 'scale'}. Best is trial 21 with value: 0.7895716945996275.\n",
            "[I 2025-07-10 07:45:06,952] Trial 72 finished with value: 0.7895716945996275 and parameters: {'classifier': 'SVM', 'C': 0.13658268940238177, 'kernel': 'linear', 'gamma': 'scale'}. Best is trial 21 with value: 0.7895716945996275.\n",
            "[I 2025-07-10 07:45:06,984] Trial 73 finished with value: 0.7895716945996275 and parameters: {'classifier': 'SVM', 'C': 0.12864474047467608, 'kernel': 'linear', 'gamma': 'scale'}. Best is trial 21 with value: 0.7895716945996275.\n",
            "[I 2025-07-10 07:45:07,016] Trial 74 finished with value: 0.7858472998137803 and parameters: {'classifier': 'SVM', 'C': 0.2000646409699193, 'kernel': 'linear', 'gamma': 'scale'}. Best is trial 21 with value: 0.7895716945996275.\n",
            "[I 2025-07-10 07:45:07,051] Trial 75 finished with value: 0.7895716945996275 and parameters: {'classifier': 'SVM', 'C': 0.12453387730127852, 'kernel': 'linear', 'gamma': 'scale'}. Best is trial 21 with value: 0.7895716945996275.\n",
            "[I 2025-07-10 07:45:08,204] Trial 76 finished with value: 0.7616387337057727 and parameters: {'classifier': 'RandomForest', 'n_estimators': 220, 'max_depth': 6, 'min_samples_split': 3, 'min_samples_leaf': 7, 'bootstrap': True}. Best is trial 21 with value: 0.7895716945996275.\n",
            "[I 2025-07-10 07:45:08,247] Trial 77 finished with value: 0.7243947858472998 and parameters: {'classifier': 'SVM', 'C': 0.27210077592846726, 'kernel': 'poly', 'gamma': 'scale'}. Best is trial 21 with value: 0.7895716945996275.\n",
            "[I 2025-07-10 07:45:08,285] Trial 78 finished with value: 0.7858472998137803 and parameters: {'classifier': 'SVM', 'C': 0.1921808176369838, 'kernel': 'linear', 'gamma': 'auto'}. Best is trial 21 with value: 0.7895716945996275.\n",
            "[I 2025-07-10 07:45:08,364] Trial 79 finished with value: 0.7839851024208566 and parameters: {'classifier': 'SVM', 'C': 0.48139406723721906, 'kernel': 'linear', 'gamma': 'scale'}. Best is trial 21 with value: 0.7895716945996275.\n",
            "[I 2025-07-10 07:45:08,435] Trial 80 finished with value: 0.7858472998137801 and parameters: {'classifier': 'SVM', 'C': 7.1825667638568005, 'kernel': 'linear', 'gamma': 'scale'}. Best is trial 21 with value: 0.7895716945996275.\n",
            "[I 2025-07-10 07:45:08,469] Trial 81 finished with value: 0.7895716945996275 and parameters: {'classifier': 'SVM', 'C': 0.13045879540871808, 'kernel': 'linear', 'gamma': 'scale'}. Best is trial 21 with value: 0.7895716945996275.\n",
            "[I 2025-07-10 07:45:08,510] Trial 82 finished with value: 0.7877094972067038 and parameters: {'classifier': 'SVM', 'C': 0.17880611722761358, 'kernel': 'linear', 'gamma': 'scale'}. Best is trial 21 with value: 0.7895716945996275.\n",
            "[I 2025-07-10 07:45:08,544] Trial 83 finished with value: 0.7895716945996275 and parameters: {'classifier': 'SVM', 'C': 0.13328976585964675, 'kernel': 'linear', 'gamma': 'scale'}. Best is trial 21 with value: 0.7895716945996275.\n",
            "[I 2025-07-10 07:45:08,576] Trial 84 finished with value: 0.7895716945996275 and parameters: {'classifier': 'SVM', 'C': 0.12172009041559746, 'kernel': 'linear', 'gamma': 'scale'}. Best is trial 21 with value: 0.7895716945996275.\n",
            "[I 2025-07-10 07:45:10,466] Trial 85 finished with value: 0.7486033519553073 and parameters: {'classifier': 'GradientBoosting', 'n_estimators': 123, 'learning_rate': 0.03939900152673234, 'max_depth': 8, 'min_samples_split': 9, 'min_samples_leaf': 2}. Best is trial 21 with value: 0.7895716945996275.\n",
            "[I 2025-07-10 07:45:10,502] Trial 86 finished with value: 0.7858472998137803 and parameters: {'classifier': 'SVM', 'C': 0.26043121316170137, 'kernel': 'linear', 'gamma': 'scale'}. Best is trial 21 with value: 0.7895716945996275.\n",
            "[I 2025-07-10 07:45:10,539] Trial 87 finished with value: 0.7877094972067038 and parameters: {'classifier': 'SVM', 'C': 0.1609886500748573, 'kernel': 'linear', 'gamma': 'scale'}. Best is trial 21 with value: 0.7895716945996275.\n",
            "[I 2025-07-10 07:45:10,590] Trial 88 finished with value: 0.7858472998137803 and parameters: {'classifier': 'SVM', 'C': 0.19970986029480453, 'kernel': 'linear', 'gamma': 'scale'}. Best is trial 21 with value: 0.7895716945996275.\n",
            "[I 2025-07-10 07:45:12,168] Trial 89 finished with value: 0.7690875232774674 and parameters: {'classifier': 'RandomForest', 'n_estimators': 274, 'max_depth': 5, 'min_samples_split': 4, 'min_samples_leaf': 9, 'bootstrap': False}. Best is trial 21 with value: 0.7895716945996275.\n",
            "[I 2025-07-10 07:45:12,240] Trial 90 finished with value: 0.7728119180633147 and parameters: {'classifier': 'SVM', 'C': 0.120572047122918, 'kernel': 'sigmoid', 'gamma': 'scale'}. Best is trial 21 with value: 0.7895716945996275.\n",
            "[I 2025-07-10 07:45:12,295] Trial 91 finished with value: 0.7895716945996275 and parameters: {'classifier': 'SVM', 'C': 0.14817850513559672, 'kernel': 'linear', 'gamma': 'scale'}. Best is trial 21 with value: 0.7895716945996275.\n",
            "[I 2025-07-10 07:45:12,350] Trial 92 finished with value: 0.7877094972067038 and parameters: {'classifier': 'SVM', 'C': 0.17133393307269298, 'kernel': 'linear', 'gamma': 'scale'}. Best is trial 21 with value: 0.7895716945996275.\n",
            "[I 2025-07-10 07:45:12,406] Trial 93 finished with value: 0.7858472998137803 and parameters: {'classifier': 'SVM', 'C': 0.3255459122086964, 'kernel': 'linear', 'gamma': 'scale'}. Best is trial 21 with value: 0.7895716945996275.\n",
            "[I 2025-07-10 07:45:12,460] Trial 94 finished with value: 0.7895716945996275 and parameters: {'classifier': 'SVM', 'C': 0.11703338960602125, 'kernel': 'linear', 'gamma': 'scale'}. Best is trial 21 with value: 0.7895716945996275.\n",
            "[I 2025-07-10 07:45:12,534] Trial 95 finished with value: 0.7094972067039106 and parameters: {'classifier': 'SVM', 'C': 0.10273175042918499, 'kernel': 'rbf', 'gamma': 'auto'}. Best is trial 21 with value: 0.7895716945996275.\n",
            "[I 2025-07-10 07:45:12,585] Trial 96 finished with value: 0.7895716945996275 and parameters: {'classifier': 'SVM', 'C': 0.14864645364502116, 'kernel': 'linear', 'gamma': 'scale'}. Best is trial 21 with value: 0.7895716945996275.\n",
            "[I 2025-07-10 07:45:12,652] Trial 97 finished with value: 0.7858472998137801 and parameters: {'classifier': 'SVM', 'C': 2.001700316276124, 'kernel': 'linear', 'gamma': 'scale'}. Best is trial 21 with value: 0.7895716945996275.\n",
            "[I 2025-07-10 07:45:12,710] Trial 98 finished with value: 0.7188081936685289 and parameters: {'classifier': 'SVM', 'C': 0.23305928363073994, 'kernel': 'poly', 'gamma': 'scale'}. Best is trial 21 with value: 0.7895716945996275.\n",
            "[I 2025-07-10 07:45:14,401] Trial 99 finished with value: 0.7672253258845437 and parameters: {'classifier': 'GradientBoosting', 'n_estimators': 86, 'learning_rate': 0.02141504213705763, 'max_depth': 18, 'min_samples_split': 5, 'min_samples_leaf': 7}. Best is trial 21 with value: 0.7895716945996275.\n"
          ]
        }
      ]
    },
    {
      "cell_type": "code",
      "source": [
        "# Print the best accuracy\n",
        "print(f\"Best trial accuracy: {study.best_value}\")\n",
        "print(f\"Best parameters: {study.best_params}\")"
      ],
      "metadata": {
        "colab": {
          "base_uri": "https://localhost:8080/"
        },
        "id": "rMc2NrGwTJyc",
        "outputId": "5fec6556-2ee2-4875-fbbf-b22abd83661f"
      },
      "execution_count": 40,
      "outputs": [
        {
          "output_type": "stream",
          "name": "stdout",
          "text": [
            "Best trial accuracy: 0.7895716945996275\n",
            "Best parameters: {'classifier': 'SVM', 'C': 0.1140215587286532, 'kernel': 'linear', 'gamma': 'scale'}\n"
          ]
        }
      ]
    },
    {
      "cell_type": "code",
      "source": [
        "from sklearn.metrics import accuracy_score\n",
        "from sklearn.ensemble import GradientBoostingClassifier, RandomForestClassifier\n",
        "from sklearn.svm import SVC\n",
        "\n",
        "# Get the best trial from the study\n",
        "best_trial = study.best_trial\n",
        "\n",
        "# Get the best classifier name and its parameters\n",
        "best_classifier_name = best_trial.params['classifier']\n",
        "best_params = {k: v for k, v in best_trial.params.items() if k != 'classifier'}\n",
        "\n",
        "# Train the best model using the best hyperparameters\n",
        "if best_classifier_name == 'SVM':\n",
        "  best_model = SVC(**best_params, random_state=42)\n",
        "elif best_classifier_name == 'RandomForest':\n",
        "  best_model = RandomForestClassifier(**best_params, random_state=42)\n",
        "elif best_classifier_name == 'GradientBoosting':\n",
        "  best_model = GradientBoostingClassifier(**best_params, random_state=42)\n",
        "else:\n",
        "  raise ValueError(f\"Unknown classifier: {best_classifier_name}\")\n",
        "\n",
        "# Fit the model to the training data\n",
        "best_model.fit(X_train, y_train)\n",
        "\n",
        "# Make predictions on the test set\n",
        "y_pred = best_model.predict(X_test)\n",
        "\n",
        "# Calculate the accuracy on the test set\n",
        "test_accuracy = accuracy_score(y_test, y_pred)\n",
        "\n",
        "# Print the test accuracy\n",
        "print(f\"Test accuracy with the best hyperparameters: {test_accuracy:.2f}\")"
      ],
      "metadata": {
        "colab": {
          "base_uri": "https://localhost:8080/"
        },
        "id": "vj30QFpATMFy",
        "outputId": "6a75cd5b-5547-49de-f257-53e6669de78f"
      },
      "execution_count": 43,
      "outputs": [
        {
          "output_type": "stream",
          "name": "stdout",
          "text": [
            "Test accuracy with the best hyperparameters: 0.74\n"
          ]
        }
      ]
    },
    {
      "cell_type": "code",
      "source": [
        "study.trials_dataframe().head()"
      ],
      "metadata": {
        "colab": {
          "base_uri": "https://localhost:8080/",
          "height": 313
        },
        "id": "mG6ipjHLT5Np",
        "outputId": "801a6b37-742b-46ba-a20e-efcc38331111"
      },
      "execution_count": 44,
      "outputs": [
        {
          "output_type": "execute_result",
          "data": {
            "text/plain": [
              "   number     value             datetime_start          datetime_complete  \\\n",
              "0       0  0.785847 2025-07-10 07:44:32.582457 2025-07-10 07:44:32.776595   \n",
              "1       1  0.772812 2025-07-10 07:44:32.777504 2025-07-10 07:44:34.761688   \n",
              "2       2  0.769088 2025-07-10 07:44:34.764803 2025-07-10 07:44:36.282800   \n",
              "3       3  0.756052 2025-07-10 07:44:36.286256 2025-07-10 07:44:40.060924   \n",
              "4       4  0.759777 2025-07-10 07:44:40.061932 2025-07-10 07:44:42.967574   \n",
              "\n",
              "                duration   params_C params_bootstrap params_classifier  \\\n",
              "0 0 days 00:00:00.194138  52.026593              NaN               SVM   \n",
              "1 0 days 00:00:01.984184        NaN              NaN  GradientBoosting   \n",
              "2 0 days 00:00:01.517997        NaN            False      RandomForest   \n",
              "3 0 days 00:00:03.774668        NaN              NaN  GradientBoosting   \n",
              "4 0 days 00:00:02.905642        NaN              NaN  GradientBoosting   \n",
              "\n",
              "  params_gamma params_kernel  params_learning_rate  params_max_depth  \\\n",
              "0         auto        linear                   NaN               NaN   \n",
              "1          NaN           NaN              0.014701              13.0   \n",
              "2          NaN           NaN                   NaN              17.0   \n",
              "3          NaN           NaN              0.093976               9.0   \n",
              "4          NaN           NaN              0.088005               6.0   \n",
              "\n",
              "   params_min_samples_leaf  params_min_samples_split  params_n_estimators  \\\n",
              "0                      NaN                       NaN                  NaN   \n",
              "1                     10.0                       3.0                137.0   \n",
              "2                      6.0                       4.0                233.0   \n",
              "3                      2.0                       8.0                242.0   \n",
              "4                      5.0                       2.0                291.0   \n",
              "\n",
              "      state  \n",
              "0  COMPLETE  \n",
              "1  COMPLETE  \n",
              "2  COMPLETE  \n",
              "3  COMPLETE  \n",
              "4  COMPLETE  "
            ],
            "text/html": [
              "\n",
              "  <div id=\"df-4253316d-925b-4d9d-929d-593c323144d9\" class=\"colab-df-container\">\n",
              "    <div>\n",
              "<style scoped>\n",
              "    .dataframe tbody tr th:only-of-type {\n",
              "        vertical-align: middle;\n",
              "    }\n",
              "\n",
              "    .dataframe tbody tr th {\n",
              "        vertical-align: top;\n",
              "    }\n",
              "\n",
              "    .dataframe thead th {\n",
              "        text-align: right;\n",
              "    }\n",
              "</style>\n",
              "<table border=\"1\" class=\"dataframe\">\n",
              "  <thead>\n",
              "    <tr style=\"text-align: right;\">\n",
              "      <th></th>\n",
              "      <th>number</th>\n",
              "      <th>value</th>\n",
              "      <th>datetime_start</th>\n",
              "      <th>datetime_complete</th>\n",
              "      <th>duration</th>\n",
              "      <th>params_C</th>\n",
              "      <th>params_bootstrap</th>\n",
              "      <th>params_classifier</th>\n",
              "      <th>params_gamma</th>\n",
              "      <th>params_kernel</th>\n",
              "      <th>params_learning_rate</th>\n",
              "      <th>params_max_depth</th>\n",
              "      <th>params_min_samples_leaf</th>\n",
              "      <th>params_min_samples_split</th>\n",
              "      <th>params_n_estimators</th>\n",
              "      <th>state</th>\n",
              "    </tr>\n",
              "  </thead>\n",
              "  <tbody>\n",
              "    <tr>\n",
              "      <th>0</th>\n",
              "      <td>0</td>\n",
              "      <td>0.785847</td>\n",
              "      <td>2025-07-10 07:44:32.582457</td>\n",
              "      <td>2025-07-10 07:44:32.776595</td>\n",
              "      <td>0 days 00:00:00.194138</td>\n",
              "      <td>52.026593</td>\n",
              "      <td>NaN</td>\n",
              "      <td>SVM</td>\n",
              "      <td>auto</td>\n",
              "      <td>linear</td>\n",
              "      <td>NaN</td>\n",
              "      <td>NaN</td>\n",
              "      <td>NaN</td>\n",
              "      <td>NaN</td>\n",
              "      <td>NaN</td>\n",
              "      <td>COMPLETE</td>\n",
              "    </tr>\n",
              "    <tr>\n",
              "      <th>1</th>\n",
              "      <td>1</td>\n",
              "      <td>0.772812</td>\n",
              "      <td>2025-07-10 07:44:32.777504</td>\n",
              "      <td>2025-07-10 07:44:34.761688</td>\n",
              "      <td>0 days 00:00:01.984184</td>\n",
              "      <td>NaN</td>\n",
              "      <td>NaN</td>\n",
              "      <td>GradientBoosting</td>\n",
              "      <td>NaN</td>\n",
              "      <td>NaN</td>\n",
              "      <td>0.014701</td>\n",
              "      <td>13.0</td>\n",
              "      <td>10.0</td>\n",
              "      <td>3.0</td>\n",
              "      <td>137.0</td>\n",
              "      <td>COMPLETE</td>\n",
              "    </tr>\n",
              "    <tr>\n",
              "      <th>2</th>\n",
              "      <td>2</td>\n",
              "      <td>0.769088</td>\n",
              "      <td>2025-07-10 07:44:34.764803</td>\n",
              "      <td>2025-07-10 07:44:36.282800</td>\n",
              "      <td>0 days 00:00:01.517997</td>\n",
              "      <td>NaN</td>\n",
              "      <td>False</td>\n",
              "      <td>RandomForest</td>\n",
              "      <td>NaN</td>\n",
              "      <td>NaN</td>\n",
              "      <td>NaN</td>\n",
              "      <td>17.0</td>\n",
              "      <td>6.0</td>\n",
              "      <td>4.0</td>\n",
              "      <td>233.0</td>\n",
              "      <td>COMPLETE</td>\n",
              "    </tr>\n",
              "    <tr>\n",
              "      <th>3</th>\n",
              "      <td>3</td>\n",
              "      <td>0.756052</td>\n",
              "      <td>2025-07-10 07:44:36.286256</td>\n",
              "      <td>2025-07-10 07:44:40.060924</td>\n",
              "      <td>0 days 00:00:03.774668</td>\n",
              "      <td>NaN</td>\n",
              "      <td>NaN</td>\n",
              "      <td>GradientBoosting</td>\n",
              "      <td>NaN</td>\n",
              "      <td>NaN</td>\n",
              "      <td>0.093976</td>\n",
              "      <td>9.0</td>\n",
              "      <td>2.0</td>\n",
              "      <td>8.0</td>\n",
              "      <td>242.0</td>\n",
              "      <td>COMPLETE</td>\n",
              "    </tr>\n",
              "    <tr>\n",
              "      <th>4</th>\n",
              "      <td>4</td>\n",
              "      <td>0.759777</td>\n",
              "      <td>2025-07-10 07:44:40.061932</td>\n",
              "      <td>2025-07-10 07:44:42.967574</td>\n",
              "      <td>0 days 00:00:02.905642</td>\n",
              "      <td>NaN</td>\n",
              "      <td>NaN</td>\n",
              "      <td>GradientBoosting</td>\n",
              "      <td>NaN</td>\n",
              "      <td>NaN</td>\n",
              "      <td>0.088005</td>\n",
              "      <td>6.0</td>\n",
              "      <td>5.0</td>\n",
              "      <td>2.0</td>\n",
              "      <td>291.0</td>\n",
              "      <td>COMPLETE</td>\n",
              "    </tr>\n",
              "  </tbody>\n",
              "</table>\n",
              "</div>\n",
              "    <div class=\"colab-df-buttons\">\n",
              "\n",
              "  <div class=\"colab-df-container\">\n",
              "    <button class=\"colab-df-convert\" onclick=\"convertToInteractive('df-4253316d-925b-4d9d-929d-593c323144d9')\"\n",
              "            title=\"Convert this dataframe to an interactive table.\"\n",
              "            style=\"display:none;\">\n",
              "\n",
              "  <svg xmlns=\"http://www.w3.org/2000/svg\" height=\"24px\" viewBox=\"0 -960 960 960\">\n",
              "    <path d=\"M120-120v-720h720v720H120Zm60-500h600v-160H180v160Zm220 220h160v-160H400v160Zm0 220h160v-160H400v160ZM180-400h160v-160H180v160Zm440 0h160v-160H620v160ZM180-180h160v-160H180v160Zm440 0h160v-160H620v160Z\"/>\n",
              "  </svg>\n",
              "    </button>\n",
              "\n",
              "  <style>\n",
              "    .colab-df-container {\n",
              "      display:flex;\n",
              "      gap: 12px;\n",
              "    }\n",
              "\n",
              "    .colab-df-convert {\n",
              "      background-color: #E8F0FE;\n",
              "      border: none;\n",
              "      border-radius: 50%;\n",
              "      cursor: pointer;\n",
              "      display: none;\n",
              "      fill: #1967D2;\n",
              "      height: 32px;\n",
              "      padding: 0 0 0 0;\n",
              "      width: 32px;\n",
              "    }\n",
              "\n",
              "    .colab-df-convert:hover {\n",
              "      background-color: #E2EBFA;\n",
              "      box-shadow: 0px 1px 2px rgba(60, 64, 67, 0.3), 0px 1px 3px 1px rgba(60, 64, 67, 0.15);\n",
              "      fill: #174EA6;\n",
              "    }\n",
              "\n",
              "    .colab-df-buttons div {\n",
              "      margin-bottom: 4px;\n",
              "    }\n",
              "\n",
              "    [theme=dark] .colab-df-convert {\n",
              "      background-color: #3B4455;\n",
              "      fill: #D2E3FC;\n",
              "    }\n",
              "\n",
              "    [theme=dark] .colab-df-convert:hover {\n",
              "      background-color: #434B5C;\n",
              "      box-shadow: 0px 1px 3px 1px rgba(0, 0, 0, 0.15);\n",
              "      filter: drop-shadow(0px 1px 2px rgba(0, 0, 0, 0.3));\n",
              "      fill: #FFFFFF;\n",
              "    }\n",
              "  </style>\n",
              "\n",
              "    <script>\n",
              "      const buttonEl =\n",
              "        document.querySelector('#df-4253316d-925b-4d9d-929d-593c323144d9 button.colab-df-convert');\n",
              "      buttonEl.style.display =\n",
              "        google.colab.kernel.accessAllowed ? 'block' : 'none';\n",
              "\n",
              "      async function convertToInteractive(key) {\n",
              "        const element = document.querySelector('#df-4253316d-925b-4d9d-929d-593c323144d9');\n",
              "        const dataTable =\n",
              "          await google.colab.kernel.invokeFunction('convertToInteractive',\n",
              "                                                    [key], {});\n",
              "        if (!dataTable) return;\n",
              "\n",
              "        const docLinkHtml = 'Like what you see? Visit the ' +\n",
              "          '<a target=\"_blank\" href=https://colab.research.google.com/notebooks/data_table.ipynb>data table notebook</a>'\n",
              "          + ' to learn more about interactive tables.';\n",
              "        element.innerHTML = '';\n",
              "        dataTable['output_type'] = 'display_data';\n",
              "        await google.colab.output.renderOutput(dataTable, element);\n",
              "        const docLink = document.createElement('div');\n",
              "        docLink.innerHTML = docLinkHtml;\n",
              "        element.appendChild(docLink);\n",
              "      }\n",
              "    </script>\n",
              "  </div>\n",
              "\n",
              "\n",
              "    <div id=\"df-6e388754-c787-408f-a803-d0f0aff60955\">\n",
              "      <button class=\"colab-df-quickchart\" onclick=\"quickchart('df-6e388754-c787-408f-a803-d0f0aff60955')\"\n",
              "                title=\"Suggest charts\"\n",
              "                style=\"display:none;\">\n",
              "\n",
              "<svg xmlns=\"http://www.w3.org/2000/svg\" height=\"24px\"viewBox=\"0 0 24 24\"\n",
              "     width=\"24px\">\n",
              "    <g>\n",
              "        <path d=\"M19 3H5c-1.1 0-2 .9-2 2v14c0 1.1.9 2 2 2h14c1.1 0 2-.9 2-2V5c0-1.1-.9-2-2-2zM9 17H7v-7h2v7zm4 0h-2V7h2v10zm4 0h-2v-4h2v4z\"/>\n",
              "    </g>\n",
              "</svg>\n",
              "      </button>\n",
              "\n",
              "<style>\n",
              "  .colab-df-quickchart {\n",
              "      --bg-color: #E8F0FE;\n",
              "      --fill-color: #1967D2;\n",
              "      --hover-bg-color: #E2EBFA;\n",
              "      --hover-fill-color: #174EA6;\n",
              "      --disabled-fill-color: #AAA;\n",
              "      --disabled-bg-color: #DDD;\n",
              "  }\n",
              "\n",
              "  [theme=dark] .colab-df-quickchart {\n",
              "      --bg-color: #3B4455;\n",
              "      --fill-color: #D2E3FC;\n",
              "      --hover-bg-color: #434B5C;\n",
              "      --hover-fill-color: #FFFFFF;\n",
              "      --disabled-bg-color: #3B4455;\n",
              "      --disabled-fill-color: #666;\n",
              "  }\n",
              "\n",
              "  .colab-df-quickchart {\n",
              "    background-color: var(--bg-color);\n",
              "    border: none;\n",
              "    border-radius: 50%;\n",
              "    cursor: pointer;\n",
              "    display: none;\n",
              "    fill: var(--fill-color);\n",
              "    height: 32px;\n",
              "    padding: 0;\n",
              "    width: 32px;\n",
              "  }\n",
              "\n",
              "  .colab-df-quickchart:hover {\n",
              "    background-color: var(--hover-bg-color);\n",
              "    box-shadow: 0 1px 2px rgba(60, 64, 67, 0.3), 0 1px 3px 1px rgba(60, 64, 67, 0.15);\n",
              "    fill: var(--button-hover-fill-color);\n",
              "  }\n",
              "\n",
              "  .colab-df-quickchart-complete:disabled,\n",
              "  .colab-df-quickchart-complete:disabled:hover {\n",
              "    background-color: var(--disabled-bg-color);\n",
              "    fill: var(--disabled-fill-color);\n",
              "    box-shadow: none;\n",
              "  }\n",
              "\n",
              "  .colab-df-spinner {\n",
              "    border: 2px solid var(--fill-color);\n",
              "    border-color: transparent;\n",
              "    border-bottom-color: var(--fill-color);\n",
              "    animation:\n",
              "      spin 1s steps(1) infinite;\n",
              "  }\n",
              "\n",
              "  @keyframes spin {\n",
              "    0% {\n",
              "      border-color: transparent;\n",
              "      border-bottom-color: var(--fill-color);\n",
              "      border-left-color: var(--fill-color);\n",
              "    }\n",
              "    20% {\n",
              "      border-color: transparent;\n",
              "      border-left-color: var(--fill-color);\n",
              "      border-top-color: var(--fill-color);\n",
              "    }\n",
              "    30% {\n",
              "      border-color: transparent;\n",
              "      border-left-color: var(--fill-color);\n",
              "      border-top-color: var(--fill-color);\n",
              "      border-right-color: var(--fill-color);\n",
              "    }\n",
              "    40% {\n",
              "      border-color: transparent;\n",
              "      border-right-color: var(--fill-color);\n",
              "      border-top-color: var(--fill-color);\n",
              "    }\n",
              "    60% {\n",
              "      border-color: transparent;\n",
              "      border-right-color: var(--fill-color);\n",
              "    }\n",
              "    80% {\n",
              "      border-color: transparent;\n",
              "      border-right-color: var(--fill-color);\n",
              "      border-bottom-color: var(--fill-color);\n",
              "    }\n",
              "    90% {\n",
              "      border-color: transparent;\n",
              "      border-bottom-color: var(--fill-color);\n",
              "    }\n",
              "  }\n",
              "</style>\n",
              "\n",
              "      <script>\n",
              "        async function quickchart(key) {\n",
              "          const quickchartButtonEl =\n",
              "            document.querySelector('#' + key + ' button');\n",
              "          quickchartButtonEl.disabled = true;  // To prevent multiple clicks.\n",
              "          quickchartButtonEl.classList.add('colab-df-spinner');\n",
              "          try {\n",
              "            const charts = await google.colab.kernel.invokeFunction(\n",
              "                'suggestCharts', [key], {});\n",
              "          } catch (error) {\n",
              "            console.error('Error during call to suggestCharts:', error);\n",
              "          }\n",
              "          quickchartButtonEl.classList.remove('colab-df-spinner');\n",
              "          quickchartButtonEl.classList.add('colab-df-quickchart-complete');\n",
              "        }\n",
              "        (() => {\n",
              "          let quickchartButtonEl =\n",
              "            document.querySelector('#df-6e388754-c787-408f-a803-d0f0aff60955 button');\n",
              "          quickchartButtonEl.style.display =\n",
              "            google.colab.kernel.accessAllowed ? 'block' : 'none';\n",
              "        })();\n",
              "      </script>\n",
              "    </div>\n",
              "\n",
              "    </div>\n",
              "  </div>\n"
            ],
            "application/vnd.google.colaboratory.intrinsic+json": {
              "type": "dataframe",
              "summary": "{\n  \"name\": \"study\",\n  \"rows\": 5,\n  \"fields\": [\n    {\n      \"column\": \"number\",\n      \"properties\": {\n        \"dtype\": \"number\",\n        \"std\": 1,\n        \"min\": 0,\n        \"max\": 4,\n        \"num_unique_values\": 5,\n        \"samples\": [\n          1,\n          4,\n          2\n        ],\n        \"semantic_type\": \"\",\n        \"description\": \"\"\n      }\n    },\n    {\n      \"column\": \"value\",\n      \"properties\": {\n        \"dtype\": \"number\",\n        \"std\": 0.011733321416777102,\n        \"min\": 0.756052141527002,\n        \"max\": 0.7858472998137801,\n        \"num_unique_values\": 5,\n        \"samples\": [\n          0.7728119180633147,\n          0.7597765363128491,\n          0.7690875232774674\n        ],\n        \"semantic_type\": \"\",\n        \"description\": \"\"\n      }\n    },\n    {\n      \"column\": \"datetime_start\",\n      \"properties\": {\n        \"dtype\": \"date\",\n        \"min\": \"2025-07-10 07:44:32.582457\",\n        \"max\": \"2025-07-10 07:44:40.061932\",\n        \"num_unique_values\": 5,\n        \"samples\": [\n          \"2025-07-10 07:44:32.777504\",\n          \"2025-07-10 07:44:40.061932\",\n          \"2025-07-10 07:44:34.764803\"\n        ],\n        \"semantic_type\": \"\",\n        \"description\": \"\"\n      }\n    },\n    {\n      \"column\": \"datetime_complete\",\n      \"properties\": {\n        \"dtype\": \"date\",\n        \"min\": \"2025-07-10 07:44:32.776595\",\n        \"max\": \"2025-07-10 07:44:42.967574\",\n        \"num_unique_values\": 5,\n        \"samples\": [\n          \"2025-07-10 07:44:34.761688\",\n          \"2025-07-10 07:44:42.967574\",\n          \"2025-07-10 07:44:36.282800\"\n        ],\n        \"semantic_type\": \"\",\n        \"description\": \"\"\n      }\n    },\n    {\n      \"column\": \"duration\",\n      \"properties\": {\n        \"dtype\": \"timedelta64[ns]\",\n        \"num_unique_values\": 5,\n        \"samples\": [\n          \"0 days 00:00:01.984184\",\n          \"0 days 00:00:02.905642\",\n          \"0 days 00:00:01.517997\"\n        ],\n        \"semantic_type\": \"\",\n        \"description\": \"\"\n      }\n    },\n    {\n      \"column\": \"params_C\",\n      \"properties\": {\n        \"dtype\": \"number\",\n        \"std\": null,\n        \"min\": 52.02659299508869,\n        \"max\": 52.02659299508869,\n        \"num_unique_values\": 1,\n        \"samples\": [\n          52.02659299508869\n        ],\n        \"semantic_type\": \"\",\n        \"description\": \"\"\n      }\n    },\n    {\n      \"column\": \"params_bootstrap\",\n      \"properties\": {\n        \"dtype\": \"category\",\n        \"num_unique_values\": 1,\n        \"samples\": [\n          false\n        ],\n        \"semantic_type\": \"\",\n        \"description\": \"\"\n      }\n    },\n    {\n      \"column\": \"params_classifier\",\n      \"properties\": {\n        \"dtype\": \"string\",\n        \"num_unique_values\": 3,\n        \"samples\": [\n          \"SVM\"\n        ],\n        \"semantic_type\": \"\",\n        \"description\": \"\"\n      }\n    },\n    {\n      \"column\": \"params_gamma\",\n      \"properties\": {\n        \"dtype\": \"category\",\n        \"num_unique_values\": 1,\n        \"samples\": [\n          \"auto\"\n        ],\n        \"semantic_type\": \"\",\n        \"description\": \"\"\n      }\n    },\n    {\n      \"column\": \"params_kernel\",\n      \"properties\": {\n        \"dtype\": \"category\",\n        \"num_unique_values\": 1,\n        \"samples\": [\n          \"linear\"\n        ],\n        \"semantic_type\": \"\",\n        \"description\": \"\"\n      }\n    },\n    {\n      \"column\": \"params_learning_rate\",\n      \"properties\": {\n        \"dtype\": \"number\",\n        \"std\": 0.044146995056708285,\n        \"min\": 0.014700997776490114,\n        \"max\": 0.09397617149731294,\n        \"num_unique_values\": 3,\n        \"samples\": [\n          0.014700997776490114\n        ],\n        \"semantic_type\": \"\",\n        \"description\": \"\"\n      }\n    },\n    {\n      \"column\": \"params_max_depth\",\n      \"properties\": {\n        \"dtype\": \"number\",\n        \"std\": 4.7871355387816905,\n        \"min\": 6.0,\n        \"max\": 17.0,\n        \"num_unique_values\": 4,\n        \"samples\": [\n          17.0\n        ],\n        \"semantic_type\": \"\",\n        \"description\": \"\"\n      }\n    },\n    {\n      \"column\": \"params_min_samples_leaf\",\n      \"properties\": {\n        \"dtype\": \"number\",\n        \"std\": 3.304037933599835,\n        \"min\": 2.0,\n        \"max\": 10.0,\n        \"num_unique_values\": 4,\n        \"samples\": [\n          6.0\n        ],\n        \"semantic_type\": \"\",\n        \"description\": \"\"\n      }\n    },\n    {\n      \"column\": \"params_min_samples_split\",\n      \"properties\": {\n        \"dtype\": \"number\",\n        \"std\": 2.6299556396765835,\n        \"min\": 2.0,\n        \"max\": 8.0,\n        \"num_unique_values\": 4,\n        \"samples\": [\n          4.0\n        ],\n        \"semantic_type\": \"\",\n        \"description\": \"\"\n      }\n    },\n    {\n      \"column\": \"params_n_estimators\",\n      \"properties\": {\n        \"dtype\": \"number\",\n        \"std\": 64.42243398071824,\n        \"min\": 137.0,\n        \"max\": 291.0,\n        \"num_unique_values\": 4,\n        \"samples\": [\n          233.0\n        ],\n        \"semantic_type\": \"\",\n        \"description\": \"\"\n      }\n    },\n    {\n      \"column\": \"state\",\n      \"properties\": {\n        \"dtype\": \"category\",\n        \"num_unique_values\": 1,\n        \"samples\": [\n          \"COMPLETE\"\n        ],\n        \"semantic_type\": \"\",\n        \"description\": \"\"\n      }\n    }\n  ]\n}"
            }
          },
          "metadata": {},
          "execution_count": 44
        }
      ]
    },
    {
      "cell_type": "code",
      "source": [
        "study.trials_dataframe()['params_classifier'].value_counts()"
      ],
      "metadata": {
        "colab": {
          "base_uri": "https://localhost:8080/",
          "height": 209
        },
        "id": "a0_zu1fcUCD-",
        "outputId": "581c7e70-ea25-4103-9240-bb127ea4ece6"
      },
      "execution_count": 45,
      "outputs": [
        {
          "output_type": "execute_result",
          "data": {
            "text/plain": [
              "params_classifier\n",
              "SVM                 79\n",
              "GradientBoosting    11\n",
              "RandomForest        10\n",
              "Name: count, dtype: int64"
            ],
            "text/html": [
              "<div>\n",
              "<style scoped>\n",
              "    .dataframe tbody tr th:only-of-type {\n",
              "        vertical-align: middle;\n",
              "    }\n",
              "\n",
              "    .dataframe tbody tr th {\n",
              "        vertical-align: top;\n",
              "    }\n",
              "\n",
              "    .dataframe thead th {\n",
              "        text-align: right;\n",
              "    }\n",
              "</style>\n",
              "<table border=\"1\" class=\"dataframe\">\n",
              "  <thead>\n",
              "    <tr style=\"text-align: right;\">\n",
              "      <th></th>\n",
              "      <th>count</th>\n",
              "    </tr>\n",
              "    <tr>\n",
              "      <th>params_classifier</th>\n",
              "      <th></th>\n",
              "    </tr>\n",
              "  </thead>\n",
              "  <tbody>\n",
              "    <tr>\n",
              "      <th>SVM</th>\n",
              "      <td>79</td>\n",
              "    </tr>\n",
              "    <tr>\n",
              "      <th>GradientBoosting</th>\n",
              "      <td>11</td>\n",
              "    </tr>\n",
              "    <tr>\n",
              "      <th>RandomForest</th>\n",
              "      <td>10</td>\n",
              "    </tr>\n",
              "  </tbody>\n",
              "</table>\n",
              "</div><br><label><b>dtype:</b> int64</label>"
            ]
          },
          "metadata": {},
          "execution_count": 45
        }
      ]
    },
    {
      "cell_type": "code",
      "source": [
        "study.trials_dataframe().groupby('params_classifier')['value'].mean()"
      ],
      "metadata": {
        "colab": {
          "base_uri": "https://localhost:8080/",
          "height": 209
        },
        "id": "5_wR05iFUSLz",
        "outputId": "5f012df4-cbd6-4ca0-95a9-617eb6242e3d"
      },
      "execution_count": 47,
      "outputs": [
        {
          "output_type": "execute_result",
          "data": {
            "text/plain": [
              "params_classifier\n",
              "GradientBoosting    0.755544\n",
              "RandomForest        0.760894\n",
              "SVM                 0.775711\n",
              "Name: value, dtype: float64"
            ],
            "text/html": [
              "<div>\n",
              "<style scoped>\n",
              "    .dataframe tbody tr th:only-of-type {\n",
              "        vertical-align: middle;\n",
              "    }\n",
              "\n",
              "    .dataframe tbody tr th {\n",
              "        vertical-align: top;\n",
              "    }\n",
              "\n",
              "    .dataframe thead th {\n",
              "        text-align: right;\n",
              "    }\n",
              "</style>\n",
              "<table border=\"1\" class=\"dataframe\">\n",
              "  <thead>\n",
              "    <tr style=\"text-align: right;\">\n",
              "      <th></th>\n",
              "      <th>value</th>\n",
              "    </tr>\n",
              "    <tr>\n",
              "      <th>params_classifier</th>\n",
              "      <th></th>\n",
              "    </tr>\n",
              "  </thead>\n",
              "  <tbody>\n",
              "    <tr>\n",
              "      <th>GradientBoosting</th>\n",
              "      <td>0.755544</td>\n",
              "    </tr>\n",
              "    <tr>\n",
              "      <th>RandomForest</th>\n",
              "      <td>0.760894</td>\n",
              "    </tr>\n",
              "    <tr>\n",
              "      <th>SVM</th>\n",
              "      <td>0.775711</td>\n",
              "    </tr>\n",
              "  </tbody>\n",
              "</table>\n",
              "</div><br><label><b>dtype:</b> float64</label>"
            ]
          },
          "metadata": {},
          "execution_count": 47
        }
      ]
    },
    {
      "cell_type": "code",
      "source": [
        "plot_optimization_history(study).show()"
      ],
      "metadata": {
        "colab": {
          "base_uri": "https://localhost:8080/",
          "height": 542
        },
        "id": "zDdMae2RUmfw",
        "outputId": "590fb71e-d1d6-4c47-f9dc-f06d6be6835f"
      },
      "execution_count": 48,
      "outputs": [
        {
          "output_type": "display_data",
          "data": {
            "text/html": [
              "<html>\n",
              "<head><meta charset=\"utf-8\" /></head>\n",
              "<body>\n",
              "    <div>            <script src=\"https://cdnjs.cloudflare.com/ajax/libs/mathjax/2.7.5/MathJax.js?config=TeX-AMS-MML_SVG\"></script><script type=\"text/javascript\">if (window.MathJax && window.MathJax.Hub && window.MathJax.Hub.Config) {window.MathJax.Hub.Config({SVG: {font: \"STIX-Web\"}});}</script>                <script type=\"text/javascript\">window.PlotlyConfig = {MathJaxConfig: 'local'};</script>\n",
              "        <script charset=\"utf-8\" src=\"https://cdn.plot.ly/plotly-2.35.2.min.js\"></script>                <div id=\"70f595d4-2c10-4607-a5b1-f101fd65236d\" class=\"plotly-graph-div\" style=\"height:525px; width:100%;\"></div>            <script type=\"text/javascript\">                                    window.PLOTLYENV=window.PLOTLYENV || {};                                    if (document.getElementById(\"70f595d4-2c10-4607-a5b1-f101fd65236d\")) {                    Plotly.newPlot(                        \"70f595d4-2c10-4607-a5b1-f101fd65236d\",                        [{\"mode\":\"markers\",\"name\":\"Objective Value\",\"x\":[0,1,2,3,4,5,6,7,8,9,10,11,12,13,14,15,16,17,18,19,20,21,22,23,24,25,26,27,28,29,30,31,32,33,34,35,36,37,38,39,40,41,42,43,44,45,46,47,48,49,50,51,52,53,54,55,56,57,58,59,60,61,62,63,64,65,66,67,68,69,70,71,72,73,74,75,76,77,78,79,80,81,82,83,84,85,86,87,88,89,90,91,92,93,94,95,96,97,98,99],\"y\":[0.7858472998137801,0.7728119180633147,0.7690875232774674,0.756052141527002,0.7597765363128491,0.7169459962756052,0.756052141527002,0.7653631284916201,0.7877094972067038,0.7262569832402234,0.7877094972067038,0.7877094972067038,0.7839851024208566,0.7337057728119181,0.7430167597765364,0.7858472998137801,0.7858472998137803,0.7672253258845437,0.7467411545623835,0.7430167597765364,0.6890130353817505,0.7895716945996275,0.7877094972067038,0.7858472998137803,0.7858472998137803,0.7858472998137803,0.7877094972067038,0.7430167597765364,0.7597765363128491,0.7616387337057727,0.7728119180633147,0.7877094972067038,0.7895716945996275,0.7821229050279329,0.7877094972067038,0.7672253258845437,0.756052141527002,0.7597765363128491,0.7523277467411545,0.7858472998137801,0.7839851024208566,0.7877094972067038,0.7877094972067038,0.7877094972067038,0.7858472998137801,0.756052141527002,0.7858472998137803,0.7150837988826816,0.7858472998137801,0.7374301675977654,0.7243947858472998,0.7877094972067038,0.7895716945996275,0.7895716945996275,0.7895716945996275,0.7821229050279329,0.7486033519553073,0.7635009310986964,0.7858472998137803,0.7709497206703911,0.7858472998137803,0.7858472998137803,0.7895716945996275,0.7858472998137801,0.7895716945996275,0.7895716945996275,0.7858472998137803,0.7858472998137801,0.7467411545623835,0.7672253258845437,0.750465549348231,0.7895716945996275,0.7895716945996275,0.7895716945996275,0.7858472998137803,0.7895716945996275,0.7616387337057727,0.7243947858472998,0.7858472998137803,0.7839851024208566,0.7858472998137801,0.7895716945996275,0.7877094972067038,0.7895716945996275,0.7895716945996275,0.7486033519553073,0.7858472998137803,0.7877094972067038,0.7858472998137803,0.7690875232774674,0.7728119180633147,0.7895716945996275,0.7877094972067038,0.7858472998137803,0.7895716945996275,0.7094972067039106,0.7895716945996275,0.7858472998137801,0.7188081936685289,0.7672253258845437],\"type\":\"scatter\"},{\"mode\":\"lines\",\"name\":\"Best Value\",\"x\":[0,1,2,3,4,5,6,7,8,9,10,11,12,13,14,15,16,17,18,19,20,21,22,23,24,25,26,27,28,29,30,31,32,33,34,35,36,37,38,39,40,41,42,43,44,45,46,47,48,49,50,51,52,53,54,55,56,57,58,59,60,61,62,63,64,65,66,67,68,69,70,71,72,73,74,75,76,77,78,79,80,81,82,83,84,85,86,87,88,89,90,91,92,93,94,95,96,97,98,99],\"y\":[0.7858472998137801,0.7858472998137801,0.7858472998137801,0.7858472998137801,0.7858472998137801,0.7858472998137801,0.7858472998137801,0.7858472998137801,0.7877094972067038,0.7877094972067038,0.7877094972067038,0.7877094972067038,0.7877094972067038,0.7877094972067038,0.7877094972067038,0.7877094972067038,0.7877094972067038,0.7877094972067038,0.7877094972067038,0.7877094972067038,0.7877094972067038,0.7895716945996275,0.7895716945996275,0.7895716945996275,0.7895716945996275,0.7895716945996275,0.7895716945996275,0.7895716945996275,0.7895716945996275,0.7895716945996275,0.7895716945996275,0.7895716945996275,0.7895716945996275,0.7895716945996275,0.7895716945996275,0.7895716945996275,0.7895716945996275,0.7895716945996275,0.7895716945996275,0.7895716945996275,0.7895716945996275,0.7895716945996275,0.7895716945996275,0.7895716945996275,0.7895716945996275,0.7895716945996275,0.7895716945996275,0.7895716945996275,0.7895716945996275,0.7895716945996275,0.7895716945996275,0.7895716945996275,0.7895716945996275,0.7895716945996275,0.7895716945996275,0.7895716945996275,0.7895716945996275,0.7895716945996275,0.7895716945996275,0.7895716945996275,0.7895716945996275,0.7895716945996275,0.7895716945996275,0.7895716945996275,0.7895716945996275,0.7895716945996275,0.7895716945996275,0.7895716945996275,0.7895716945996275,0.7895716945996275,0.7895716945996275,0.7895716945996275,0.7895716945996275,0.7895716945996275,0.7895716945996275,0.7895716945996275,0.7895716945996275,0.7895716945996275,0.7895716945996275,0.7895716945996275,0.7895716945996275,0.7895716945996275,0.7895716945996275,0.7895716945996275,0.7895716945996275,0.7895716945996275,0.7895716945996275,0.7895716945996275,0.7895716945996275,0.7895716945996275,0.7895716945996275,0.7895716945996275,0.7895716945996275,0.7895716945996275,0.7895716945996275,0.7895716945996275,0.7895716945996275,0.7895716945996275,0.7895716945996275,0.7895716945996275],\"type\":\"scatter\"},{\"marker\":{\"color\":\"#cccccc\"},\"mode\":\"markers\",\"name\":\"Infeasible Trial\",\"showlegend\":false,\"x\":[],\"y\":[],\"type\":\"scatter\"}],                        {\"title\":{\"text\":\"Optimization History Plot\"},\"xaxis\":{\"title\":{\"text\":\"Trial\"}},\"yaxis\":{\"title\":{\"text\":\"Objective Value\"}},\"template\":{\"data\":{\"histogram2dcontour\":[{\"type\":\"histogram2dcontour\",\"colorbar\":{\"outlinewidth\":0,\"ticks\":\"\"},\"colorscale\":[[0.0,\"#0d0887\"],[0.1111111111111111,\"#46039f\"],[0.2222222222222222,\"#7201a8\"],[0.3333333333333333,\"#9c179e\"],[0.4444444444444444,\"#bd3786\"],[0.5555555555555556,\"#d8576b\"],[0.6666666666666666,\"#ed7953\"],[0.7777777777777778,\"#fb9f3a\"],[0.8888888888888888,\"#fdca26\"],[1.0,\"#f0f921\"]]}],\"choropleth\":[{\"type\":\"choropleth\",\"colorbar\":{\"outlinewidth\":0,\"ticks\":\"\"}}],\"histogram2d\":[{\"type\":\"histogram2d\",\"colorbar\":{\"outlinewidth\":0,\"ticks\":\"\"},\"colorscale\":[[0.0,\"#0d0887\"],[0.1111111111111111,\"#46039f\"],[0.2222222222222222,\"#7201a8\"],[0.3333333333333333,\"#9c179e\"],[0.4444444444444444,\"#bd3786\"],[0.5555555555555556,\"#d8576b\"],[0.6666666666666666,\"#ed7953\"],[0.7777777777777778,\"#fb9f3a\"],[0.8888888888888888,\"#fdca26\"],[1.0,\"#f0f921\"]]}],\"heatmap\":[{\"type\":\"heatmap\",\"colorbar\":{\"outlinewidth\":0,\"ticks\":\"\"},\"colorscale\":[[0.0,\"#0d0887\"],[0.1111111111111111,\"#46039f\"],[0.2222222222222222,\"#7201a8\"],[0.3333333333333333,\"#9c179e\"],[0.4444444444444444,\"#bd3786\"],[0.5555555555555556,\"#d8576b\"],[0.6666666666666666,\"#ed7953\"],[0.7777777777777778,\"#fb9f3a\"],[0.8888888888888888,\"#fdca26\"],[1.0,\"#f0f921\"]]}],\"heatmapgl\":[{\"type\":\"heatmapgl\",\"colorbar\":{\"outlinewidth\":0,\"ticks\":\"\"},\"colorscale\":[[0.0,\"#0d0887\"],[0.1111111111111111,\"#46039f\"],[0.2222222222222222,\"#7201a8\"],[0.3333333333333333,\"#9c179e\"],[0.4444444444444444,\"#bd3786\"],[0.5555555555555556,\"#d8576b\"],[0.6666666666666666,\"#ed7953\"],[0.7777777777777778,\"#fb9f3a\"],[0.8888888888888888,\"#fdca26\"],[1.0,\"#f0f921\"]]}],\"contourcarpet\":[{\"type\":\"contourcarpet\",\"colorbar\":{\"outlinewidth\":0,\"ticks\":\"\"}}],\"contour\":[{\"type\":\"contour\",\"colorbar\":{\"outlinewidth\":0,\"ticks\":\"\"},\"colorscale\":[[0.0,\"#0d0887\"],[0.1111111111111111,\"#46039f\"],[0.2222222222222222,\"#7201a8\"],[0.3333333333333333,\"#9c179e\"],[0.4444444444444444,\"#bd3786\"],[0.5555555555555556,\"#d8576b\"],[0.6666666666666666,\"#ed7953\"],[0.7777777777777778,\"#fb9f3a\"],[0.8888888888888888,\"#fdca26\"],[1.0,\"#f0f921\"]]}],\"surface\":[{\"type\":\"surface\",\"colorbar\":{\"outlinewidth\":0,\"ticks\":\"\"},\"colorscale\":[[0.0,\"#0d0887\"],[0.1111111111111111,\"#46039f\"],[0.2222222222222222,\"#7201a8\"],[0.3333333333333333,\"#9c179e\"],[0.4444444444444444,\"#bd3786\"],[0.5555555555555556,\"#d8576b\"],[0.6666666666666666,\"#ed7953\"],[0.7777777777777778,\"#fb9f3a\"],[0.8888888888888888,\"#fdca26\"],[1.0,\"#f0f921\"]]}],\"mesh3d\":[{\"type\":\"mesh3d\",\"colorbar\":{\"outlinewidth\":0,\"ticks\":\"\"}}],\"scatter\":[{\"fillpattern\":{\"fillmode\":\"overlay\",\"size\":10,\"solidity\":0.2},\"type\":\"scatter\"}],\"parcoords\":[{\"type\":\"parcoords\",\"line\":{\"colorbar\":{\"outlinewidth\":0,\"ticks\":\"\"}}}],\"scatterpolargl\":[{\"type\":\"scatterpolargl\",\"marker\":{\"colorbar\":{\"outlinewidth\":0,\"ticks\":\"\"}}}],\"bar\":[{\"error_x\":{\"color\":\"#2a3f5f\"},\"error_y\":{\"color\":\"#2a3f5f\"},\"marker\":{\"line\":{\"color\":\"#E5ECF6\",\"width\":0.5},\"pattern\":{\"fillmode\":\"overlay\",\"size\":10,\"solidity\":0.2}},\"type\":\"bar\"}],\"scattergeo\":[{\"type\":\"scattergeo\",\"marker\":{\"colorbar\":{\"outlinewidth\":0,\"ticks\":\"\"}}}],\"scatterpolar\":[{\"type\":\"scatterpolar\",\"marker\":{\"colorbar\":{\"outlinewidth\":0,\"ticks\":\"\"}}}],\"histogram\":[{\"marker\":{\"pattern\":{\"fillmode\":\"overlay\",\"size\":10,\"solidity\":0.2}},\"type\":\"histogram\"}],\"scattergl\":[{\"type\":\"scattergl\",\"marker\":{\"colorbar\":{\"outlinewidth\":0,\"ticks\":\"\"}}}],\"scatter3d\":[{\"type\":\"scatter3d\",\"line\":{\"colorbar\":{\"outlinewidth\":0,\"ticks\":\"\"}},\"marker\":{\"colorbar\":{\"outlinewidth\":0,\"ticks\":\"\"}}}],\"scattermapbox\":[{\"type\":\"scattermapbox\",\"marker\":{\"colorbar\":{\"outlinewidth\":0,\"ticks\":\"\"}}}],\"scatterternary\":[{\"type\":\"scatterternary\",\"marker\":{\"colorbar\":{\"outlinewidth\":0,\"ticks\":\"\"}}}],\"scattercarpet\":[{\"type\":\"scattercarpet\",\"marker\":{\"colorbar\":{\"outlinewidth\":0,\"ticks\":\"\"}}}],\"carpet\":[{\"aaxis\":{\"endlinecolor\":\"#2a3f5f\",\"gridcolor\":\"white\",\"linecolor\":\"white\",\"minorgridcolor\":\"white\",\"startlinecolor\":\"#2a3f5f\"},\"baxis\":{\"endlinecolor\":\"#2a3f5f\",\"gridcolor\":\"white\",\"linecolor\":\"white\",\"minorgridcolor\":\"white\",\"startlinecolor\":\"#2a3f5f\"},\"type\":\"carpet\"}],\"table\":[{\"cells\":{\"fill\":{\"color\":\"#EBF0F8\"},\"line\":{\"color\":\"white\"}},\"header\":{\"fill\":{\"color\":\"#C8D4E3\"},\"line\":{\"color\":\"white\"}},\"type\":\"table\"}],\"barpolar\":[{\"marker\":{\"line\":{\"color\":\"#E5ECF6\",\"width\":0.5},\"pattern\":{\"fillmode\":\"overlay\",\"size\":10,\"solidity\":0.2}},\"type\":\"barpolar\"}],\"pie\":[{\"automargin\":true,\"type\":\"pie\"}]},\"layout\":{\"autotypenumbers\":\"strict\",\"colorway\":[\"#636efa\",\"#EF553B\",\"#00cc96\",\"#ab63fa\",\"#FFA15A\",\"#19d3f3\",\"#FF6692\",\"#B6E880\",\"#FF97FF\",\"#FECB52\"],\"font\":{\"color\":\"#2a3f5f\"},\"hovermode\":\"closest\",\"hoverlabel\":{\"align\":\"left\"},\"paper_bgcolor\":\"white\",\"plot_bgcolor\":\"#E5ECF6\",\"polar\":{\"bgcolor\":\"#E5ECF6\",\"angularaxis\":{\"gridcolor\":\"white\",\"linecolor\":\"white\",\"ticks\":\"\"},\"radialaxis\":{\"gridcolor\":\"white\",\"linecolor\":\"white\",\"ticks\":\"\"}},\"ternary\":{\"bgcolor\":\"#E5ECF6\",\"aaxis\":{\"gridcolor\":\"white\",\"linecolor\":\"white\",\"ticks\":\"\"},\"baxis\":{\"gridcolor\":\"white\",\"linecolor\":\"white\",\"ticks\":\"\"},\"caxis\":{\"gridcolor\":\"white\",\"linecolor\":\"white\",\"ticks\":\"\"}},\"coloraxis\":{\"colorbar\":{\"outlinewidth\":0,\"ticks\":\"\"}},\"colorscale\":{\"sequential\":[[0.0,\"#0d0887\"],[0.1111111111111111,\"#46039f\"],[0.2222222222222222,\"#7201a8\"],[0.3333333333333333,\"#9c179e\"],[0.4444444444444444,\"#bd3786\"],[0.5555555555555556,\"#d8576b\"],[0.6666666666666666,\"#ed7953\"],[0.7777777777777778,\"#fb9f3a\"],[0.8888888888888888,\"#fdca26\"],[1.0,\"#f0f921\"]],\"sequentialminus\":[[0.0,\"#0d0887\"],[0.1111111111111111,\"#46039f\"],[0.2222222222222222,\"#7201a8\"],[0.3333333333333333,\"#9c179e\"],[0.4444444444444444,\"#bd3786\"],[0.5555555555555556,\"#d8576b\"],[0.6666666666666666,\"#ed7953\"],[0.7777777777777778,\"#fb9f3a\"],[0.8888888888888888,\"#fdca26\"],[1.0,\"#f0f921\"]],\"diverging\":[[0,\"#8e0152\"],[0.1,\"#c51b7d\"],[0.2,\"#de77ae\"],[0.3,\"#f1b6da\"],[0.4,\"#fde0ef\"],[0.5,\"#f7f7f7\"],[0.6,\"#e6f5d0\"],[0.7,\"#b8e186\"],[0.8,\"#7fbc41\"],[0.9,\"#4d9221\"],[1,\"#276419\"]]},\"xaxis\":{\"gridcolor\":\"white\",\"linecolor\":\"white\",\"ticks\":\"\",\"title\":{\"standoff\":15},\"zerolinecolor\":\"white\",\"automargin\":true,\"zerolinewidth\":2},\"yaxis\":{\"gridcolor\":\"white\",\"linecolor\":\"white\",\"ticks\":\"\",\"title\":{\"standoff\":15},\"zerolinecolor\":\"white\",\"automargin\":true,\"zerolinewidth\":2},\"scene\":{\"xaxis\":{\"backgroundcolor\":\"#E5ECF6\",\"gridcolor\":\"white\",\"linecolor\":\"white\",\"showbackground\":true,\"ticks\":\"\",\"zerolinecolor\":\"white\",\"gridwidth\":2},\"yaxis\":{\"backgroundcolor\":\"#E5ECF6\",\"gridcolor\":\"white\",\"linecolor\":\"white\",\"showbackground\":true,\"ticks\":\"\",\"zerolinecolor\":\"white\",\"gridwidth\":2},\"zaxis\":{\"backgroundcolor\":\"#E5ECF6\",\"gridcolor\":\"white\",\"linecolor\":\"white\",\"showbackground\":true,\"ticks\":\"\",\"zerolinecolor\":\"white\",\"gridwidth\":2}},\"shapedefaults\":{\"line\":{\"color\":\"#2a3f5f\"}},\"annotationdefaults\":{\"arrowcolor\":\"#2a3f5f\",\"arrowhead\":0,\"arrowwidth\":1},\"geo\":{\"bgcolor\":\"white\",\"landcolor\":\"#E5ECF6\",\"subunitcolor\":\"white\",\"showland\":true,\"showlakes\":true,\"lakecolor\":\"white\"},\"title\":{\"x\":0.05},\"mapbox\":{\"style\":\"light\"}}}},                        {\"responsive\": true}                    ).then(function(){\n",
              "                            \n",
              "var gd = document.getElementById('70f595d4-2c10-4607-a5b1-f101fd65236d');\n",
              "var x = new MutationObserver(function (mutations, observer) {{\n",
              "        var display = window.getComputedStyle(gd).display;\n",
              "        if (!display || display === 'none') {{\n",
              "            console.log([gd, 'removed!']);\n",
              "            Plotly.purge(gd);\n",
              "            observer.disconnect();\n",
              "        }}\n",
              "}});\n",
              "\n",
              "// Listen for the removal of the full notebook cells\n",
              "var notebookContainer = gd.closest('#notebook-container');\n",
              "if (notebookContainer) {{\n",
              "    x.observe(notebookContainer, {childList: true});\n",
              "}}\n",
              "\n",
              "// Listen for the clearing of the current output cell\n",
              "var outputEl = gd.closest('.output');\n",
              "if (outputEl) {{\n",
              "    x.observe(outputEl, {childList: true});\n",
              "}}\n",
              "\n",
              "                        })                };                            </script>        </div>\n",
              "</body>\n",
              "</html>"
            ]
          },
          "metadata": {}
        }
      ]
    },
    {
      "cell_type": "code",
      "source": [
        "plot_slice(study).show()"
      ],
      "metadata": {
        "colab": {
          "base_uri": "https://localhost:8080/",
          "height": 562
        },
        "id": "T25RP37gUurt",
        "outputId": "c64adb47-eb83-4276-90bb-9669656b9648"
      },
      "execution_count": 50,
      "outputs": [
        {
          "output_type": "display_data",
          "data": {
            "text/html": [
              "<html>\n",
              "<head><meta charset=\"utf-8\" /></head>\n",
              "<body>\n",
              "    <div>            <script src=\"https://cdnjs.cloudflare.com/ajax/libs/mathjax/2.7.5/MathJax.js?config=TeX-AMS-MML_SVG\"></script><script type=\"text/javascript\">if (window.MathJax && window.MathJax.Hub && window.MathJax.Hub.Config) {window.MathJax.Hub.Config({SVG: {font: \"STIX-Web\"}});}</script>                <script type=\"text/javascript\">window.PlotlyConfig = {MathJaxConfig: 'local'};</script>\n",
              "        <script charset=\"utf-8\" src=\"https://cdn.plot.ly/plotly-2.35.2.min.js\"></script>                <div id=\"d8665cfb-1c51-4436-bf7c-a5cf6fa5d16e\" class=\"plotly-graph-div\" style=\"height:525px; width:3000px;\"></div>            <script type=\"text/javascript\">                                    window.PLOTLYENV=window.PLOTLYENV || {};                                    if (document.getElementById(\"d8665cfb-1c51-4436-bf7c-a5cf6fa5d16e\")) {                    Plotly.newPlot(                        \"d8665cfb-1c51-4436-bf7c-a5cf6fa5d16e\",                        [{\"marker\":{\"color\":[0,5,8,9,10,11,12,13,14,15,16,17,20,21,22,23,24,25,26,27,30,31,32,33,34,36,39,40,41,42,43,44,46,47,48,50,51,52,53,54,55,56,58,59,60,61,62,63,64,65,66,67,69,70,71,72,73,74,75,77,78,79,80,81,82,83,84,86,87,88,90,91,92,93,94,95,96,97,98],\"colorbar\":{\"title\":{\"text\":\"Trial\"},\"x\":1.0,\"xpad\":40},\"colorscale\":[[0.0,\"rgb(247,251,255)\"],[0.125,\"rgb(222,235,247)\"],[0.25,\"rgb(198,219,239)\"],[0.375,\"rgb(158,202,225)\"],[0.5,\"rgb(107,174,214)\"],[0.625,\"rgb(66,146,198)\"],[0.75,\"rgb(33,113,181)\"],[0.875,\"rgb(8,81,156)\"],[1.0,\"rgb(8,48,107)\"]],\"line\":{\"color\":\"Grey\",\"width\":0.5},\"showscale\":true},\"mode\":\"markers\",\"name\":\"Feasible Trial\",\"showlegend\":false,\"x\":[52.02659299508869,7.980229453071054,0.10339674050880991,0.3102097145885508,0.10336745335793641,0.10202099418318158,0.5587156995115148,0.11186279510381471,1.1177140175427296,4.192321336071144,0.26822813584088234,1.415089323015305,24.082522992905233,0.1140215587286532,0.10202835960101907,0.29177651866769594,0.24008392544549909,0.7007153552937411,0.1687992297811174,0.5412588759924166,0.1794500272655603,0.10805843248710753,0.1273661234556469,0.3881733976831233,0.17604644158981927,0.1674105258690793,1.8174000758712698,0.42522222609662885,0.10181445883355966,0.16085962278301316,0.10157211039388316,40.699240852934004,0.2104089952798144,0.15181407543920658,11.49732423436596,0.2922941038254371,0.10231390078481574,0.13955126572972457,0.14597986375635794,0.1474426552656417,0.3713775704278404,0.14369634907204826,0.23780247315212086,0.14685903780408427,0.6323670232464372,0.2224080023366469,0.13695268032924146,99.70208310802971,0.1356138571689878,0.13695292151624128,0.2192119220275213,3.7251050675142454,0.3277433556742701,0.9605876023879859,0.15224117902692466,0.13658268940238177,0.12864474047467608,0.2000646409699193,0.12453387730127852,0.27210077592846726,0.1921808176369838,0.48139406723721906,7.1825667638568005,0.13045879540871808,0.17880611722761358,0.13328976585964675,0.12172009041559746,0.26043121316170137,0.1609886500748573,0.19970986029480453,0.120572047122918,0.14817850513559672,0.17133393307269298,0.3255459122086964,0.11703338960602125,0.10273175042918499,0.14864645364502116,2.001700316276124,0.23305928363073994],\"y\":[0.7858472998137801,0.7169459962756052,0.7877094972067038,0.7262569832402234,0.7877094972067038,0.7877094972067038,0.7839851024208566,0.7337057728119181,0.7430167597765364,0.7858472998137801,0.7858472998137803,0.7672253258845437,0.6890130353817505,0.7895716945996275,0.7877094972067038,0.7858472998137803,0.7858472998137803,0.7858472998137803,0.7877094972067038,0.7430167597765364,0.7728119180633147,0.7877094972067038,0.7895716945996275,0.7821229050279329,0.7877094972067038,0.756052141527002,0.7858472998137801,0.7839851024208566,0.7877094972067038,0.7877094972067038,0.7877094972067038,0.7858472998137801,0.7858472998137803,0.7150837988826816,0.7858472998137801,0.7243947858472998,0.7877094972067038,0.7895716945996275,0.7895716945996275,0.7895716945996275,0.7821229050279329,0.7486033519553073,0.7858472998137803,0.7709497206703911,0.7858472998137803,0.7858472998137803,0.7895716945996275,0.7858472998137801,0.7895716945996275,0.7895716945996275,0.7858472998137803,0.7858472998137801,0.7672253258845437,0.750465549348231,0.7895716945996275,0.7895716945996275,0.7895716945996275,0.7858472998137803,0.7895716945996275,0.7243947858472998,0.7858472998137803,0.7839851024208566,0.7858472998137801,0.7895716945996275,0.7877094972067038,0.7895716945996275,0.7895716945996275,0.7858472998137803,0.7877094972067038,0.7858472998137803,0.7728119180633147,0.7895716945996275,0.7877094972067038,0.7858472998137803,0.7895716945996275,0.7094972067039106,0.7895716945996275,0.7858472998137801,0.7188081936685289],\"type\":\"scatter\",\"xaxis\":\"x\",\"yaxis\":\"y\"},{\"marker\":{\"color\":[2,6,7,18,29,37,45,57,76,89],\"colorbar\":{\"title\":{\"text\":\"Trial\"},\"x\":1.0,\"xpad\":40},\"colorscale\":[[0.0,\"rgb(247,251,255)\"],[0.125,\"rgb(222,235,247)\"],[0.25,\"rgb(198,219,239)\"],[0.375,\"rgb(158,202,225)\"],[0.5,\"rgb(107,174,214)\"],[0.625,\"rgb(66,146,198)\"],[0.75,\"rgb(33,113,181)\"],[0.875,\"rgb(8,81,156)\"],[1.0,\"rgb(8,48,107)\"]],\"line\":{\"color\":\"Grey\",\"width\":0.5},\"showscale\":false},\"mode\":\"markers\",\"name\":\"Feasible Trial\",\"showlegend\":false,\"x\":[false,true,true,false,false,true,true,false,true,false],\"y\":[0.7690875232774674,0.756052141527002,0.7653631284916201,0.7467411545623835,0.7616387337057727,0.7597765363128491,0.756052141527002,0.7635009310986964,0.7616387337057727,0.7690875232774674],\"type\":\"scatter\",\"xaxis\":\"x2\",\"yaxis\":\"y2\"},{\"marker\":{\"color\":[0,1,2,3,4,5,6,7,8,9,10,11,12,13,14,15,16,17,18,19,20,21,22,23,24,25,26,27,28,29,30,31,32,33,34,35,36,37,38,39,40,41,42,43,44,45,46,47,48,49,50,51,52,53,54,55,56,57,58,59,60,61,62,63,64,65,66,67,68,69,70,71,72,73,74,75,76,77,78,79,80,81,82,83,84,85,86,87,88,89,90,91,92,93,94,95,96,97,98,99],\"colorbar\":{\"title\":{\"text\":\"Trial\"},\"x\":1.0,\"xpad\":40},\"colorscale\":[[0.0,\"rgb(247,251,255)\"],[0.125,\"rgb(222,235,247)\"],[0.25,\"rgb(198,219,239)\"],[0.375,\"rgb(158,202,225)\"],[0.5,\"rgb(107,174,214)\"],[0.625,\"rgb(66,146,198)\"],[0.75,\"rgb(33,113,181)\"],[0.875,\"rgb(8,81,156)\"],[1.0,\"rgb(8,48,107)\"]],\"line\":{\"color\":\"Grey\",\"width\":0.5},\"showscale\":false},\"mode\":\"markers\",\"name\":\"Feasible Trial\",\"showlegend\":false,\"x\":[\"SVM\",\"GradientBoosting\",\"RandomForest\",\"GradientBoosting\",\"GradientBoosting\",\"SVM\",\"RandomForest\",\"RandomForest\",\"SVM\",\"SVM\",\"SVM\",\"SVM\",\"SVM\",\"SVM\",\"SVM\",\"SVM\",\"SVM\",\"SVM\",\"RandomForest\",\"GradientBoosting\",\"SVM\",\"SVM\",\"SVM\",\"SVM\",\"SVM\",\"SVM\",\"SVM\",\"SVM\",\"GradientBoosting\",\"RandomForest\",\"SVM\",\"SVM\",\"SVM\",\"SVM\",\"SVM\",\"GradientBoosting\",\"SVM\",\"RandomForest\",\"GradientBoosting\",\"SVM\",\"SVM\",\"SVM\",\"SVM\",\"SVM\",\"SVM\",\"RandomForest\",\"SVM\",\"SVM\",\"SVM\",\"GradientBoosting\",\"SVM\",\"SVM\",\"SVM\",\"SVM\",\"SVM\",\"SVM\",\"SVM\",\"RandomForest\",\"SVM\",\"SVM\",\"SVM\",\"SVM\",\"SVM\",\"SVM\",\"SVM\",\"SVM\",\"SVM\",\"SVM\",\"GradientBoosting\",\"SVM\",\"SVM\",\"SVM\",\"SVM\",\"SVM\",\"SVM\",\"SVM\",\"RandomForest\",\"SVM\",\"SVM\",\"SVM\",\"SVM\",\"SVM\",\"SVM\",\"SVM\",\"SVM\",\"GradientBoosting\",\"SVM\",\"SVM\",\"SVM\",\"RandomForest\",\"SVM\",\"SVM\",\"SVM\",\"SVM\",\"SVM\",\"SVM\",\"SVM\",\"SVM\",\"SVM\",\"GradientBoosting\"],\"y\":[0.7858472998137801,0.7728119180633147,0.7690875232774674,0.756052141527002,0.7597765363128491,0.7169459962756052,0.756052141527002,0.7653631284916201,0.7877094972067038,0.7262569832402234,0.7877094972067038,0.7877094972067038,0.7839851024208566,0.7337057728119181,0.7430167597765364,0.7858472998137801,0.7858472998137803,0.7672253258845437,0.7467411545623835,0.7430167597765364,0.6890130353817505,0.7895716945996275,0.7877094972067038,0.7858472998137803,0.7858472998137803,0.7858472998137803,0.7877094972067038,0.7430167597765364,0.7597765363128491,0.7616387337057727,0.7728119180633147,0.7877094972067038,0.7895716945996275,0.7821229050279329,0.7877094972067038,0.7672253258845437,0.756052141527002,0.7597765363128491,0.7523277467411545,0.7858472998137801,0.7839851024208566,0.7877094972067038,0.7877094972067038,0.7877094972067038,0.7858472998137801,0.756052141527002,0.7858472998137803,0.7150837988826816,0.7858472998137801,0.7374301675977654,0.7243947858472998,0.7877094972067038,0.7895716945996275,0.7895716945996275,0.7895716945996275,0.7821229050279329,0.7486033519553073,0.7635009310986964,0.7858472998137803,0.7709497206703911,0.7858472998137803,0.7858472998137803,0.7895716945996275,0.7858472998137801,0.7895716945996275,0.7895716945996275,0.7858472998137803,0.7858472998137801,0.7467411545623835,0.7672253258845437,0.750465549348231,0.7895716945996275,0.7895716945996275,0.7895716945996275,0.7858472998137803,0.7895716945996275,0.7616387337057727,0.7243947858472998,0.7858472998137803,0.7839851024208566,0.7858472998137801,0.7895716945996275,0.7877094972067038,0.7895716945996275,0.7895716945996275,0.7486033519553073,0.7858472998137803,0.7877094972067038,0.7858472998137803,0.7690875232774674,0.7728119180633147,0.7895716945996275,0.7877094972067038,0.7858472998137803,0.7895716945996275,0.7094972067039106,0.7895716945996275,0.7858472998137801,0.7188081936685289,0.7672253258845437],\"type\":\"scatter\",\"xaxis\":\"x3\",\"yaxis\":\"y3\"},{\"marker\":{\"color\":[0,5,8,9,10,11,12,13,14,15,16,17,20,21,22,23,24,25,26,27,30,31,32,33,34,36,39,40,41,42,43,44,46,47,48,50,51,52,53,54,55,56,58,59,60,61,62,63,64,65,66,67,69,70,71,72,73,74,75,77,78,79,80,81,82,83,84,86,87,88,90,91,92,93,94,95,96,97,98],\"colorbar\":{\"title\":{\"text\":\"Trial\"},\"x\":1.0,\"xpad\":40},\"colorscale\":[[0.0,\"rgb(247,251,255)\"],[0.125,\"rgb(222,235,247)\"],[0.25,\"rgb(198,219,239)\"],[0.375,\"rgb(158,202,225)\"],[0.5,\"rgb(107,174,214)\"],[0.625,\"rgb(66,146,198)\"],[0.75,\"rgb(33,113,181)\"],[0.875,\"rgb(8,81,156)\"],[1.0,\"rgb(8,48,107)\"]],\"line\":{\"color\":\"Grey\",\"width\":0.5},\"showscale\":false},\"mode\":\"markers\",\"name\":\"Feasible Trial\",\"showlegend\":false,\"x\":[\"auto\",\"scale\",\"scale\",\"auto\",\"scale\",\"scale\",\"scale\",\"scale\",\"scale\",\"scale\",\"scale\",\"auto\",\"scale\",\"scale\",\"scale\",\"scale\",\"scale\",\"scale\",\"auto\",\"scale\",\"scale\",\"scale\",\"scale\",\"scale\",\"scale\",\"scale\",\"scale\",\"auto\",\"scale\",\"scale\",\"scale\",\"scale\",\"scale\",\"auto\",\"scale\",\"scale\",\"scale\",\"scale\",\"scale\",\"scale\",\"scale\",\"scale\",\"scale\",\"auto\",\"scale\",\"scale\",\"scale\",\"scale\",\"scale\",\"scale\",\"scale\",\"scale\",\"scale\",\"scale\",\"scale\",\"scale\",\"scale\",\"scale\",\"scale\",\"scale\",\"auto\",\"scale\",\"scale\",\"scale\",\"scale\",\"scale\",\"scale\",\"scale\",\"scale\",\"scale\",\"scale\",\"scale\",\"scale\",\"scale\",\"scale\",\"auto\",\"scale\",\"scale\",\"scale\"],\"y\":[0.7858472998137801,0.7169459962756052,0.7877094972067038,0.7262569832402234,0.7877094972067038,0.7877094972067038,0.7839851024208566,0.7337057728119181,0.7430167597765364,0.7858472998137801,0.7858472998137803,0.7672253258845437,0.6890130353817505,0.7895716945996275,0.7877094972067038,0.7858472998137803,0.7858472998137803,0.7858472998137803,0.7877094972067038,0.7430167597765364,0.7728119180633147,0.7877094972067038,0.7895716945996275,0.7821229050279329,0.7877094972067038,0.756052141527002,0.7858472998137801,0.7839851024208566,0.7877094972067038,0.7877094972067038,0.7877094972067038,0.7858472998137801,0.7858472998137803,0.7150837988826816,0.7858472998137801,0.7243947858472998,0.7877094972067038,0.7895716945996275,0.7895716945996275,0.7895716945996275,0.7821229050279329,0.7486033519553073,0.7858472998137803,0.7709497206703911,0.7858472998137803,0.7858472998137803,0.7895716945996275,0.7858472998137801,0.7895716945996275,0.7895716945996275,0.7858472998137803,0.7858472998137801,0.7672253258845437,0.750465549348231,0.7895716945996275,0.7895716945996275,0.7895716945996275,0.7858472998137803,0.7895716945996275,0.7243947858472998,0.7858472998137803,0.7839851024208566,0.7858472998137801,0.7895716945996275,0.7877094972067038,0.7895716945996275,0.7895716945996275,0.7858472998137803,0.7877094972067038,0.7858472998137803,0.7728119180633147,0.7895716945996275,0.7877094972067038,0.7858472998137803,0.7895716945996275,0.7094972067039106,0.7895716945996275,0.7858472998137801,0.7188081936685289],\"type\":\"scatter\",\"xaxis\":\"x4\",\"yaxis\":\"y4\"},{\"marker\":{\"color\":[0,5,8,9,10,11,12,13,14,15,16,17,20,21,22,23,24,25,26,27,30,31,32,33,34,36,39,40,41,42,43,44,46,47,48,50,51,52,53,54,55,56,58,59,60,61,62,63,64,65,66,67,69,70,71,72,73,74,75,77,78,79,80,81,82,83,84,86,87,88,90,91,92,93,94,95,96,97,98],\"colorbar\":{\"title\":{\"text\":\"Trial\"},\"x\":1.0,\"xpad\":40},\"colorscale\":[[0.0,\"rgb(247,251,255)\"],[0.125,\"rgb(222,235,247)\"],[0.25,\"rgb(198,219,239)\"],[0.375,\"rgb(158,202,225)\"],[0.5,\"rgb(107,174,214)\"],[0.625,\"rgb(66,146,198)\"],[0.75,\"rgb(33,113,181)\"],[0.875,\"rgb(8,81,156)\"],[1.0,\"rgb(8,48,107)\"]],\"line\":{\"color\":\"Grey\",\"width\":0.5},\"showscale\":false},\"mode\":\"markers\",\"name\":\"Feasible Trial\",\"showlegend\":false,\"x\":[\"linear\",\"poly\",\"linear\",\"poly\",\"linear\",\"linear\",\"linear\",\"rbf\",\"sigmoid\",\"linear\",\"linear\",\"rbf\",\"sigmoid\",\"linear\",\"linear\",\"linear\",\"linear\",\"linear\",\"linear\",\"poly\",\"sigmoid\",\"linear\",\"linear\",\"linear\",\"linear\",\"rbf\",\"linear\",\"linear\",\"linear\",\"linear\",\"linear\",\"linear\",\"linear\",\"poly\",\"linear\",\"poly\",\"linear\",\"linear\",\"linear\",\"linear\",\"linear\",\"rbf\",\"linear\",\"sigmoid\",\"linear\",\"linear\",\"linear\",\"linear\",\"linear\",\"linear\",\"linear\",\"linear\",\"rbf\",\"sigmoid\",\"linear\",\"linear\",\"linear\",\"linear\",\"linear\",\"poly\",\"linear\",\"linear\",\"linear\",\"linear\",\"linear\",\"linear\",\"linear\",\"linear\",\"linear\",\"linear\",\"sigmoid\",\"linear\",\"linear\",\"linear\",\"linear\",\"rbf\",\"linear\",\"linear\",\"poly\"],\"y\":[0.7858472998137801,0.7169459962756052,0.7877094972067038,0.7262569832402234,0.7877094972067038,0.7877094972067038,0.7839851024208566,0.7337057728119181,0.7430167597765364,0.7858472998137801,0.7858472998137803,0.7672253258845437,0.6890130353817505,0.7895716945996275,0.7877094972067038,0.7858472998137803,0.7858472998137803,0.7858472998137803,0.7877094972067038,0.7430167597765364,0.7728119180633147,0.7877094972067038,0.7895716945996275,0.7821229050279329,0.7877094972067038,0.756052141527002,0.7858472998137801,0.7839851024208566,0.7877094972067038,0.7877094972067038,0.7877094972067038,0.7858472998137801,0.7858472998137803,0.7150837988826816,0.7858472998137801,0.7243947858472998,0.7877094972067038,0.7895716945996275,0.7895716945996275,0.7895716945996275,0.7821229050279329,0.7486033519553073,0.7858472998137803,0.7709497206703911,0.7858472998137803,0.7858472998137803,0.7895716945996275,0.7858472998137801,0.7895716945996275,0.7895716945996275,0.7858472998137803,0.7858472998137801,0.7672253258845437,0.750465549348231,0.7895716945996275,0.7895716945996275,0.7895716945996275,0.7858472998137803,0.7895716945996275,0.7243947858472998,0.7858472998137803,0.7839851024208566,0.7858472998137801,0.7895716945996275,0.7877094972067038,0.7895716945996275,0.7895716945996275,0.7858472998137803,0.7877094972067038,0.7858472998137803,0.7728119180633147,0.7895716945996275,0.7877094972067038,0.7858472998137803,0.7895716945996275,0.7094972067039106,0.7895716945996275,0.7858472998137801,0.7188081936685289],\"type\":\"scatter\",\"xaxis\":\"x5\",\"yaxis\":\"y5\"},{\"marker\":{\"color\":[1,3,4,19,28,35,38,49,68,85,99],\"colorbar\":{\"title\":{\"text\":\"Trial\"},\"x\":1.0,\"xpad\":40},\"colorscale\":[[0.0,\"rgb(247,251,255)\"],[0.125,\"rgb(222,235,247)\"],[0.25,\"rgb(198,219,239)\"],[0.375,\"rgb(158,202,225)\"],[0.5,\"rgb(107,174,214)\"],[0.625,\"rgb(66,146,198)\"],[0.75,\"rgb(33,113,181)\"],[0.875,\"rgb(8,81,156)\"],[1.0,\"rgb(8,48,107)\"]],\"line\":{\"color\":\"Grey\",\"width\":0.5},\"showscale\":false},\"mode\":\"markers\",\"name\":\"Feasible Trial\",\"showlegend\":false,\"x\":[0.014700997776490114,0.09397617149731294,0.08800543244392231,0.24227532321101716,0.010687466804547987,0.02806709197276456,0.281821137507432,0.034223159149674415,0.12702562147500435,0.03939900152673234,0.02141504213705763],\"y\":[0.7728119180633147,0.756052141527002,0.7597765363128491,0.7430167597765364,0.7597765363128491,0.7672253258845437,0.7523277467411545,0.7374301675977654,0.7467411545623835,0.7486033519553073,0.7672253258845437],\"type\":\"scatter\",\"xaxis\":\"x6\",\"yaxis\":\"y6\"},{\"marker\":{\"color\":[1,2,3,4,6,7,18,19,28,29,35,37,38,45,49,57,68,76,85,89,99],\"colorbar\":{\"title\":{\"text\":\"Trial\"},\"x\":1.0,\"xpad\":40},\"colorscale\":[[0.0,\"rgb(247,251,255)\"],[0.125,\"rgb(222,235,247)\"],[0.25,\"rgb(198,219,239)\"],[0.375,\"rgb(158,202,225)\"],[0.5,\"rgb(107,174,214)\"],[0.625,\"rgb(66,146,198)\"],[0.75,\"rgb(33,113,181)\"],[0.875,\"rgb(8,81,156)\"],[1.0,\"rgb(8,48,107)\"]],\"line\":{\"color\":\"Grey\",\"width\":0.5},\"showscale\":false},\"mode\":\"markers\",\"name\":\"Feasible Trial\",\"showlegend\":false,\"x\":[13,17,9,6,8,11,3,20,15,20,3,16,6,12,14,18,10,6,8,5,18],\"y\":[0.7728119180633147,0.7690875232774674,0.756052141527002,0.7597765363128491,0.756052141527002,0.7653631284916201,0.7467411545623835,0.7430167597765364,0.7597765363128491,0.7616387337057727,0.7672253258845437,0.7597765363128491,0.7523277467411545,0.756052141527002,0.7374301675977654,0.7635009310986964,0.7467411545623835,0.7616387337057727,0.7486033519553073,0.7690875232774674,0.7672253258845437],\"type\":\"scatter\",\"xaxis\":\"x7\",\"yaxis\":\"y7\"},{\"marker\":{\"color\":[1,2,3,4,6,7,18,19,28,29,35,37,38,45,49,57,68,76,85,89,99],\"colorbar\":{\"title\":{\"text\":\"Trial\"},\"x\":1.0,\"xpad\":40},\"colorscale\":[[0.0,\"rgb(247,251,255)\"],[0.125,\"rgb(222,235,247)\"],[0.25,\"rgb(198,219,239)\"],[0.375,\"rgb(158,202,225)\"],[0.5,\"rgb(107,174,214)\"],[0.625,\"rgb(66,146,198)\"],[0.75,\"rgb(33,113,181)\"],[0.875,\"rgb(8,81,156)\"],[1.0,\"rgb(8,48,107)\"]],\"line\":{\"color\":\"Grey\",\"width\":0.5},\"showscale\":false},\"mode\":\"markers\",\"name\":\"Feasible Trial\",\"showlegend\":false,\"x\":[10,6,2,5,1,4,10,7,8,3,8,1,5,9,3,6,4,7,2,9,7],\"y\":[0.7728119180633147,0.7690875232774674,0.756052141527002,0.7597765363128491,0.756052141527002,0.7653631284916201,0.7467411545623835,0.7430167597765364,0.7597765363128491,0.7616387337057727,0.7672253258845437,0.7597765363128491,0.7523277467411545,0.756052141527002,0.7374301675977654,0.7635009310986964,0.7467411545623835,0.7616387337057727,0.7486033519553073,0.7690875232774674,0.7672253258845437],\"type\":\"scatter\",\"xaxis\":\"x8\",\"yaxis\":\"y8\"},{\"marker\":{\"color\":[1,2,3,4,6,7,18,19,28,29,35,37,38,45,49,57,68,76,85,89,99],\"colorbar\":{\"title\":{\"text\":\"Trial\"},\"x\":1.0,\"xpad\":40},\"colorscale\":[[0.0,\"rgb(247,251,255)\"],[0.125,\"rgb(222,235,247)\"],[0.25,\"rgb(198,219,239)\"],[0.375,\"rgb(158,202,225)\"],[0.5,\"rgb(107,174,214)\"],[0.625,\"rgb(66,146,198)\"],[0.75,\"rgb(33,113,181)\"],[0.875,\"rgb(8,81,156)\"],[1.0,\"rgb(8,48,107)\"]],\"line\":{\"color\":\"Grey\",\"width\":0.5},\"showscale\":false},\"mode\":\"markers\",\"name\":\"Feasible Trial\",\"showlegend\":false,\"x\":[3,4,8,2,5,8,10,7,10,6,2,5,8,9,6,4,7,3,9,4,5],\"y\":[0.7728119180633147,0.7690875232774674,0.756052141527002,0.7597765363128491,0.756052141527002,0.7653631284916201,0.7467411545623835,0.7430167597765364,0.7597765363128491,0.7616387337057727,0.7672253258845437,0.7597765363128491,0.7523277467411545,0.756052141527002,0.7374301675977654,0.7635009310986964,0.7467411545623835,0.7616387337057727,0.7486033519553073,0.7690875232774674,0.7672253258845437],\"type\":\"scatter\",\"xaxis\":\"x9\",\"yaxis\":\"y9\"},{\"marker\":{\"color\":[1,2,3,4,6,7,18,19,28,29,35,37,38,45,49,57,68,76,85,89,99],\"colorbar\":{\"title\":{\"text\":\"Trial\"},\"x\":1.0,\"xpad\":40},\"colorscale\":[[0.0,\"rgb(247,251,255)\"],[0.125,\"rgb(222,235,247)\"],[0.25,\"rgb(198,219,239)\"],[0.375,\"rgb(158,202,225)\"],[0.5,\"rgb(107,174,214)\"],[0.625,\"rgb(66,146,198)\"],[0.75,\"rgb(33,113,181)\"],[0.875,\"rgb(8,81,156)\"],[1.0,\"rgb(8,48,107)\"]],\"line\":{\"color\":\"Grey\",\"width\":0.5},\"showscale\":false},\"mode\":\"markers\",\"name\":\"Feasible Trial\",\"showlegend\":false,\"x\":[137,233,242,291,85,290,59,158,115,199,201,103,59,250,178,256,152,220,123,274,86],\"y\":[0.7728119180633147,0.7690875232774674,0.756052141527002,0.7597765363128491,0.756052141527002,0.7653631284916201,0.7467411545623835,0.7430167597765364,0.7597765363128491,0.7616387337057727,0.7672253258845437,0.7597765363128491,0.7523277467411545,0.756052141527002,0.7374301675977654,0.7635009310986964,0.7467411545623835,0.7616387337057727,0.7486033519553073,0.7690875232774674,0.7672253258845437],\"type\":\"scatter\",\"xaxis\":\"x10\",\"yaxis\":\"y10\"}],                        {\"template\":{\"data\":{\"histogram2dcontour\":[{\"type\":\"histogram2dcontour\",\"colorbar\":{\"outlinewidth\":0,\"ticks\":\"\"},\"colorscale\":[[0.0,\"#0d0887\"],[0.1111111111111111,\"#46039f\"],[0.2222222222222222,\"#7201a8\"],[0.3333333333333333,\"#9c179e\"],[0.4444444444444444,\"#bd3786\"],[0.5555555555555556,\"#d8576b\"],[0.6666666666666666,\"#ed7953\"],[0.7777777777777778,\"#fb9f3a\"],[0.8888888888888888,\"#fdca26\"],[1.0,\"#f0f921\"]]}],\"choropleth\":[{\"type\":\"choropleth\",\"colorbar\":{\"outlinewidth\":0,\"ticks\":\"\"}}],\"histogram2d\":[{\"type\":\"histogram2d\",\"colorbar\":{\"outlinewidth\":0,\"ticks\":\"\"},\"colorscale\":[[0.0,\"#0d0887\"],[0.1111111111111111,\"#46039f\"],[0.2222222222222222,\"#7201a8\"],[0.3333333333333333,\"#9c179e\"],[0.4444444444444444,\"#bd3786\"],[0.5555555555555556,\"#d8576b\"],[0.6666666666666666,\"#ed7953\"],[0.7777777777777778,\"#fb9f3a\"],[0.8888888888888888,\"#fdca26\"],[1.0,\"#f0f921\"]]}],\"heatmap\":[{\"type\":\"heatmap\",\"colorbar\":{\"outlinewidth\":0,\"ticks\":\"\"},\"colorscale\":[[0.0,\"#0d0887\"],[0.1111111111111111,\"#46039f\"],[0.2222222222222222,\"#7201a8\"],[0.3333333333333333,\"#9c179e\"],[0.4444444444444444,\"#bd3786\"],[0.5555555555555556,\"#d8576b\"],[0.6666666666666666,\"#ed7953\"],[0.7777777777777778,\"#fb9f3a\"],[0.8888888888888888,\"#fdca26\"],[1.0,\"#f0f921\"]]}],\"heatmapgl\":[{\"type\":\"heatmapgl\",\"colorbar\":{\"outlinewidth\":0,\"ticks\":\"\"},\"colorscale\":[[0.0,\"#0d0887\"],[0.1111111111111111,\"#46039f\"],[0.2222222222222222,\"#7201a8\"],[0.3333333333333333,\"#9c179e\"],[0.4444444444444444,\"#bd3786\"],[0.5555555555555556,\"#d8576b\"],[0.6666666666666666,\"#ed7953\"],[0.7777777777777778,\"#fb9f3a\"],[0.8888888888888888,\"#fdca26\"],[1.0,\"#f0f921\"]]}],\"contourcarpet\":[{\"type\":\"contourcarpet\",\"colorbar\":{\"outlinewidth\":0,\"ticks\":\"\"}}],\"contour\":[{\"type\":\"contour\",\"colorbar\":{\"outlinewidth\":0,\"ticks\":\"\"},\"colorscale\":[[0.0,\"#0d0887\"],[0.1111111111111111,\"#46039f\"],[0.2222222222222222,\"#7201a8\"],[0.3333333333333333,\"#9c179e\"],[0.4444444444444444,\"#bd3786\"],[0.5555555555555556,\"#d8576b\"],[0.6666666666666666,\"#ed7953\"],[0.7777777777777778,\"#fb9f3a\"],[0.8888888888888888,\"#fdca26\"],[1.0,\"#f0f921\"]]}],\"surface\":[{\"type\":\"surface\",\"colorbar\":{\"outlinewidth\":0,\"ticks\":\"\"},\"colorscale\":[[0.0,\"#0d0887\"],[0.1111111111111111,\"#46039f\"],[0.2222222222222222,\"#7201a8\"],[0.3333333333333333,\"#9c179e\"],[0.4444444444444444,\"#bd3786\"],[0.5555555555555556,\"#d8576b\"],[0.6666666666666666,\"#ed7953\"],[0.7777777777777778,\"#fb9f3a\"],[0.8888888888888888,\"#fdca26\"],[1.0,\"#f0f921\"]]}],\"mesh3d\":[{\"type\":\"mesh3d\",\"colorbar\":{\"outlinewidth\":0,\"ticks\":\"\"}}],\"scatter\":[{\"fillpattern\":{\"fillmode\":\"overlay\",\"size\":10,\"solidity\":0.2},\"type\":\"scatter\"}],\"parcoords\":[{\"type\":\"parcoords\",\"line\":{\"colorbar\":{\"outlinewidth\":0,\"ticks\":\"\"}}}],\"scatterpolargl\":[{\"type\":\"scatterpolargl\",\"marker\":{\"colorbar\":{\"outlinewidth\":0,\"ticks\":\"\"}}}],\"bar\":[{\"error_x\":{\"color\":\"#2a3f5f\"},\"error_y\":{\"color\":\"#2a3f5f\"},\"marker\":{\"line\":{\"color\":\"#E5ECF6\",\"width\":0.5},\"pattern\":{\"fillmode\":\"overlay\",\"size\":10,\"solidity\":0.2}},\"type\":\"bar\"}],\"scattergeo\":[{\"type\":\"scattergeo\",\"marker\":{\"colorbar\":{\"outlinewidth\":0,\"ticks\":\"\"}}}],\"scatterpolar\":[{\"type\":\"scatterpolar\",\"marker\":{\"colorbar\":{\"outlinewidth\":0,\"ticks\":\"\"}}}],\"histogram\":[{\"marker\":{\"pattern\":{\"fillmode\":\"overlay\",\"size\":10,\"solidity\":0.2}},\"type\":\"histogram\"}],\"scattergl\":[{\"type\":\"scattergl\",\"marker\":{\"colorbar\":{\"outlinewidth\":0,\"ticks\":\"\"}}}],\"scatter3d\":[{\"type\":\"scatter3d\",\"line\":{\"colorbar\":{\"outlinewidth\":0,\"ticks\":\"\"}},\"marker\":{\"colorbar\":{\"outlinewidth\":0,\"ticks\":\"\"}}}],\"scattermapbox\":[{\"type\":\"scattermapbox\",\"marker\":{\"colorbar\":{\"outlinewidth\":0,\"ticks\":\"\"}}}],\"scatterternary\":[{\"type\":\"scatterternary\",\"marker\":{\"colorbar\":{\"outlinewidth\":0,\"ticks\":\"\"}}}],\"scattercarpet\":[{\"type\":\"scattercarpet\",\"marker\":{\"colorbar\":{\"outlinewidth\":0,\"ticks\":\"\"}}}],\"carpet\":[{\"aaxis\":{\"endlinecolor\":\"#2a3f5f\",\"gridcolor\":\"white\",\"linecolor\":\"white\",\"minorgridcolor\":\"white\",\"startlinecolor\":\"#2a3f5f\"},\"baxis\":{\"endlinecolor\":\"#2a3f5f\",\"gridcolor\":\"white\",\"linecolor\":\"white\",\"minorgridcolor\":\"white\",\"startlinecolor\":\"#2a3f5f\"},\"type\":\"carpet\"}],\"table\":[{\"cells\":{\"fill\":{\"color\":\"#EBF0F8\"},\"line\":{\"color\":\"white\"}},\"header\":{\"fill\":{\"color\":\"#C8D4E3\"},\"line\":{\"color\":\"white\"}},\"type\":\"table\"}],\"barpolar\":[{\"marker\":{\"line\":{\"color\":\"#E5ECF6\",\"width\":0.5},\"pattern\":{\"fillmode\":\"overlay\",\"size\":10,\"solidity\":0.2}},\"type\":\"barpolar\"}],\"pie\":[{\"automargin\":true,\"type\":\"pie\"}]},\"layout\":{\"autotypenumbers\":\"strict\",\"colorway\":[\"#636efa\",\"#EF553B\",\"#00cc96\",\"#ab63fa\",\"#FFA15A\",\"#19d3f3\",\"#FF6692\",\"#B6E880\",\"#FF97FF\",\"#FECB52\"],\"font\":{\"color\":\"#2a3f5f\"},\"hovermode\":\"closest\",\"hoverlabel\":{\"align\":\"left\"},\"paper_bgcolor\":\"white\",\"plot_bgcolor\":\"#E5ECF6\",\"polar\":{\"bgcolor\":\"#E5ECF6\",\"angularaxis\":{\"gridcolor\":\"white\",\"linecolor\":\"white\",\"ticks\":\"\"},\"radialaxis\":{\"gridcolor\":\"white\",\"linecolor\":\"white\",\"ticks\":\"\"}},\"ternary\":{\"bgcolor\":\"#E5ECF6\",\"aaxis\":{\"gridcolor\":\"white\",\"linecolor\":\"white\",\"ticks\":\"\"},\"baxis\":{\"gridcolor\":\"white\",\"linecolor\":\"white\",\"ticks\":\"\"},\"caxis\":{\"gridcolor\":\"white\",\"linecolor\":\"white\",\"ticks\":\"\"}},\"coloraxis\":{\"colorbar\":{\"outlinewidth\":0,\"ticks\":\"\"}},\"colorscale\":{\"sequential\":[[0.0,\"#0d0887\"],[0.1111111111111111,\"#46039f\"],[0.2222222222222222,\"#7201a8\"],[0.3333333333333333,\"#9c179e\"],[0.4444444444444444,\"#bd3786\"],[0.5555555555555556,\"#d8576b\"],[0.6666666666666666,\"#ed7953\"],[0.7777777777777778,\"#fb9f3a\"],[0.8888888888888888,\"#fdca26\"],[1.0,\"#f0f921\"]],\"sequentialminus\":[[0.0,\"#0d0887\"],[0.1111111111111111,\"#46039f\"],[0.2222222222222222,\"#7201a8\"],[0.3333333333333333,\"#9c179e\"],[0.4444444444444444,\"#bd3786\"],[0.5555555555555556,\"#d8576b\"],[0.6666666666666666,\"#ed7953\"],[0.7777777777777778,\"#fb9f3a\"],[0.8888888888888888,\"#fdca26\"],[1.0,\"#f0f921\"]],\"diverging\":[[0,\"#8e0152\"],[0.1,\"#c51b7d\"],[0.2,\"#de77ae\"],[0.3,\"#f1b6da\"],[0.4,\"#fde0ef\"],[0.5,\"#f7f7f7\"],[0.6,\"#e6f5d0\"],[0.7,\"#b8e186\"],[0.8,\"#7fbc41\"],[0.9,\"#4d9221\"],[1,\"#276419\"]]},\"xaxis\":{\"gridcolor\":\"white\",\"linecolor\":\"white\",\"ticks\":\"\",\"title\":{\"standoff\":15},\"zerolinecolor\":\"white\",\"automargin\":true,\"zerolinewidth\":2},\"yaxis\":{\"gridcolor\":\"white\",\"linecolor\":\"white\",\"ticks\":\"\",\"title\":{\"standoff\":15},\"zerolinecolor\":\"white\",\"automargin\":true,\"zerolinewidth\":2},\"scene\":{\"xaxis\":{\"backgroundcolor\":\"#E5ECF6\",\"gridcolor\":\"white\",\"linecolor\":\"white\",\"showbackground\":true,\"ticks\":\"\",\"zerolinecolor\":\"white\",\"gridwidth\":2},\"yaxis\":{\"backgroundcolor\":\"#E5ECF6\",\"gridcolor\":\"white\",\"linecolor\":\"white\",\"showbackground\":true,\"ticks\":\"\",\"zerolinecolor\":\"white\",\"gridwidth\":2},\"zaxis\":{\"backgroundcolor\":\"#E5ECF6\",\"gridcolor\":\"white\",\"linecolor\":\"white\",\"showbackground\":true,\"ticks\":\"\",\"zerolinecolor\":\"white\",\"gridwidth\":2}},\"shapedefaults\":{\"line\":{\"color\":\"#2a3f5f\"}},\"annotationdefaults\":{\"arrowcolor\":\"#2a3f5f\",\"arrowhead\":0,\"arrowwidth\":1},\"geo\":{\"bgcolor\":\"white\",\"landcolor\":\"#E5ECF6\",\"subunitcolor\":\"white\",\"showland\":true,\"showlakes\":true,\"lakecolor\":\"white\"},\"title\":{\"x\":0.05},\"mapbox\":{\"style\":\"light\"}}},\"xaxis\":{\"anchor\":\"y\",\"domain\":[0.0,0.082],\"title\":{\"text\":\"C\"},\"type\":\"log\"},\"yaxis\":{\"anchor\":\"x\",\"domain\":[0.0,1.0],\"title\":{\"text\":\"Objective Value\"}},\"xaxis2\":{\"anchor\":\"y2\",\"domain\":[0.10200000000000001,0.184],\"title\":{\"text\":\"bootstrap\"},\"type\":\"category\",\"categoryorder\":\"array\",\"categoryarray\":[true,false]},\"yaxis2\":{\"anchor\":\"x2\",\"domain\":[0.0,1.0],\"matches\":\"y\",\"showticklabels\":false},\"xaxis3\":{\"anchor\":\"y3\",\"domain\":[0.20400000000000001,0.28600000000000003],\"title\":{\"text\":\"classifier\"},\"type\":\"category\",\"categoryorder\":\"array\",\"categoryarray\":[\"SVM\",\"RandomForest\",\"GradientBoosting\"]},\"yaxis3\":{\"anchor\":\"x3\",\"domain\":[0.0,1.0],\"matches\":\"y\",\"showticklabels\":false},\"xaxis4\":{\"anchor\":\"y4\",\"domain\":[0.306,0.388],\"title\":{\"text\":\"gamma\"},\"type\":\"category\",\"categoryorder\":\"array\",\"categoryarray\":[\"scale\",\"auto\"]},\"yaxis4\":{\"anchor\":\"x4\",\"domain\":[0.0,1.0],\"matches\":\"y\",\"showticklabels\":false},\"xaxis5\":{\"anchor\":\"y5\",\"domain\":[0.40800000000000003,0.49000000000000005],\"title\":{\"text\":\"kernel\"},\"type\":\"category\",\"categoryorder\":\"array\",\"categoryarray\":[\"linear\",\"rbf\",\"poly\",\"sigmoid\"]},\"yaxis5\":{\"anchor\":\"x5\",\"domain\":[0.0,1.0],\"matches\":\"y\",\"showticklabels\":false},\"xaxis6\":{\"anchor\":\"y6\",\"domain\":[0.51,0.592],\"title\":{\"text\":\"learning_rate\"},\"type\":\"log\"},\"yaxis6\":{\"anchor\":\"x6\",\"domain\":[0.0,1.0],\"matches\":\"y\",\"showticklabels\":false},\"xaxis7\":{\"anchor\":\"y7\",\"domain\":[0.6120000000000001,0.6940000000000001],\"title\":{\"text\":\"max_depth\"}},\"yaxis7\":{\"anchor\":\"x7\",\"domain\":[0.0,1.0],\"matches\":\"y\",\"showticklabels\":false},\"xaxis8\":{\"anchor\":\"y8\",\"domain\":[0.7140000000000001,0.796],\"title\":{\"text\":\"min_samples_leaf\"}},\"yaxis8\":{\"anchor\":\"x8\",\"domain\":[0.0,1.0],\"matches\":\"y\",\"showticklabels\":false},\"xaxis9\":{\"anchor\":\"y9\",\"domain\":[0.8160000000000001,0.898],\"title\":{\"text\":\"min_samples_split\"}},\"yaxis9\":{\"anchor\":\"x9\",\"domain\":[0.0,1.0],\"matches\":\"y\",\"showticklabels\":false},\"xaxis10\":{\"anchor\":\"y10\",\"domain\":[0.9179999999999999,0.9999999999999999],\"title\":{\"text\":\"n_estimators\"}},\"yaxis10\":{\"anchor\":\"x10\",\"domain\":[0.0,1.0],\"matches\":\"y\",\"showticklabels\":false},\"title\":{\"text\":\"Slice Plot\"},\"width\":3000},                        {\"responsive\": true}                    ).then(function(){\n",
              "                            \n",
              "var gd = document.getElementById('d8665cfb-1c51-4436-bf7c-a5cf6fa5d16e');\n",
              "var x = new MutationObserver(function (mutations, observer) {{\n",
              "        var display = window.getComputedStyle(gd).display;\n",
              "        if (!display || display === 'none') {{\n",
              "            console.log([gd, 'removed!']);\n",
              "            Plotly.purge(gd);\n",
              "            observer.disconnect();\n",
              "        }}\n",
              "}});\n",
              "\n",
              "// Listen for the removal of the full notebook cells\n",
              "var notebookContainer = gd.closest('#notebook-container');\n",
              "if (notebookContainer) {{\n",
              "    x.observe(notebookContainer, {childList: true});\n",
              "}}\n",
              "\n",
              "// Listen for the clearing of the current output cell\n",
              "var outputEl = gd.closest('.output');\n",
              "if (outputEl) {{\n",
              "    x.observe(outputEl, {childList: true});\n",
              "}}\n",
              "\n",
              "                        })                };                            </script>        </div>\n",
              "</body>\n",
              "</html>"
            ]
          },
          "metadata": {}
        }
      ]
    }
  ]
}