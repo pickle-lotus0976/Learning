{
  "nbformat": 4,
  "nbformat_minor": 0,
  "metadata": {
    "colab": {
      "provenance": [],
      "gpuType": "T4"
    },
    "kernelspec": {
      "name": "python3",
      "display_name": "Python 3"
    },
    "language_info": {
      "name": "python"
    },
    "accelerator": "GPU"
  },
  "cells": [
    {
      "cell_type": "code",
      "execution_count": 2,
      "metadata": {
        "colab": {
          "base_uri": "https://localhost:8080/"
        },
        "id": "pfs5yY_M-szc",
        "outputId": "6f9bf24c-2ce5-4968-b9c4-b5c9880333a1"
      },
      "outputs": [
        {
          "output_type": "stream",
          "name": "stdout",
          "text": [
            "\r0% [Working]\r            \rHit:1 https://cloud.r-project.org/bin/linux/ubuntu jammy-cran40/ InRelease\n",
            "Hit:2 https://developer.download.nvidia.com/compute/cuda/repos/ubuntu2204/x86_64  InRelease\n",
            "Hit:3 http://security.ubuntu.com/ubuntu jammy-security InRelease\n",
            "Hit:4 http://archive.ubuntu.com/ubuntu jammy InRelease\n",
            "Hit:5 http://archive.ubuntu.com/ubuntu jammy-updates InRelease\n",
            "Hit:6 https://r2u.stat.illinois.edu/ubuntu jammy InRelease\n",
            "Hit:7 https://ppa.launchpadcontent.net/deadsnakes/ppa/ubuntu jammy InRelease\n",
            "Hit:8 http://archive.ubuntu.com/ubuntu jammy-backports InRelease\n",
            "Hit:9 https://ppa.launchpadcontent.net/graphics-drivers/ppa/ubuntu jammy InRelease\n",
            "Hit:10 https://ppa.launchpadcontent.net/ubuntugis/ppa/ubuntu jammy InRelease\n",
            "Reading package lists... Done\n",
            "W: Skipping acquire of configured file 'main/source/Sources' as repository 'https://r2u.stat.illinois.edu/ubuntu jammy InRelease' does not seem to provide it (sources.list entry misspelt?)\n",
            "Reading package lists... Done\n",
            "Building dependency tree... Done\n",
            "Reading state information... Done\n",
            "Calculating upgrade... Done\n",
            "The following packages were automatically installed and are no longer required:\n",
            "  linux-headers-5.15.0-142 linux-headers-5.15.0-142-generic\n",
            "Use 'sudo apt autoremove' to remove them.\n",
            "The following packages have been kept back:\n",
            "  libcudnn9-cuda-12 libcudnn9-dev-cuda-12 libnccl-dev libnccl2\n",
            "0 upgraded, 0 newly installed, 0 to remove and 4 not upgraded.\n"
          ]
        }
      ],
      "source": [
        "!sudo apt-get update\n",
        "!sudo apt upgrade"
      ]
    },
    {
      "cell_type": "code",
      "source": [
        "!pip install torch torchvision torchaudio --index-url https://download.pytorch.org/whl/cu128"
      ],
      "metadata": {
        "colab": {
          "base_uri": "https://localhost:8080/"
        },
        "id": "JWqKGIw3_pdn",
        "outputId": "557a147e-cb0f-4766-db52-41361b379405"
      },
      "execution_count": 3,
      "outputs": [
        {
          "output_type": "stream",
          "name": "stdout",
          "text": [
            "Looking in indexes: https://download.pytorch.org/whl/cu128\n",
            "Requirement already satisfied: torch in /usr/local/lib/python3.11/dist-packages (2.7.1+cu128)\n",
            "Requirement already satisfied: torchvision in /usr/local/lib/python3.11/dist-packages (0.22.1+cu128)\n",
            "Requirement already satisfied: torchaudio in /usr/local/lib/python3.11/dist-packages (2.7.1+cu128)\n",
            "Requirement already satisfied: filelock in /usr/local/lib/python3.11/dist-packages (from torch) (3.18.0)\n",
            "Requirement already satisfied: typing-extensions>=4.10.0 in /usr/local/lib/python3.11/dist-packages (from torch) (4.14.0)\n",
            "Requirement already satisfied: sympy>=1.13.3 in /usr/local/lib/python3.11/dist-packages (from torch) (1.13.3)\n",
            "Requirement already satisfied: networkx in /usr/local/lib/python3.11/dist-packages (from torch) (3.5)\n",
            "Requirement already satisfied: jinja2 in /usr/local/lib/python3.11/dist-packages (from torch) (3.1.6)\n",
            "Requirement already satisfied: fsspec in /usr/local/lib/python3.11/dist-packages (from torch) (2025.3.2)\n",
            "Requirement already satisfied: nvidia-cuda-nvrtc-cu12==12.8.61 in /usr/local/lib/python3.11/dist-packages (from torch) (12.8.61)\n",
            "Requirement already satisfied: nvidia-cuda-runtime-cu12==12.8.57 in /usr/local/lib/python3.11/dist-packages (from torch) (12.8.57)\n",
            "Requirement already satisfied: nvidia-cuda-cupti-cu12==12.8.57 in /usr/local/lib/python3.11/dist-packages (from torch) (12.8.57)\n",
            "Requirement already satisfied: nvidia-cudnn-cu12==9.7.1.26 in /usr/local/lib/python3.11/dist-packages (from torch) (9.7.1.26)\n",
            "Requirement already satisfied: nvidia-cublas-cu12==12.8.3.14 in /usr/local/lib/python3.11/dist-packages (from torch) (12.8.3.14)\n",
            "Requirement already satisfied: nvidia-cufft-cu12==11.3.3.41 in /usr/local/lib/python3.11/dist-packages (from torch) (11.3.3.41)\n",
            "Requirement already satisfied: nvidia-curand-cu12==10.3.9.55 in /usr/local/lib/python3.11/dist-packages (from torch) (10.3.9.55)\n",
            "Requirement already satisfied: nvidia-cusolver-cu12==11.7.2.55 in /usr/local/lib/python3.11/dist-packages (from torch) (11.7.2.55)\n",
            "Requirement already satisfied: nvidia-cusparse-cu12==12.5.7.53 in /usr/local/lib/python3.11/dist-packages (from torch) (12.5.7.53)\n",
            "Requirement already satisfied: nvidia-cusparselt-cu12==0.6.3 in /usr/local/lib/python3.11/dist-packages (from torch) (0.6.3)\n",
            "Requirement already satisfied: nvidia-nccl-cu12==2.26.2 in /usr/local/lib/python3.11/dist-packages (from torch) (2.26.2)\n",
            "Requirement already satisfied: nvidia-nvtx-cu12==12.8.55 in /usr/local/lib/python3.11/dist-packages (from torch) (12.8.55)\n",
            "Requirement already satisfied: nvidia-nvjitlink-cu12==12.8.61 in /usr/local/lib/python3.11/dist-packages (from torch) (12.8.61)\n",
            "Requirement already satisfied: nvidia-cufile-cu12==1.13.0.11 in /usr/local/lib/python3.11/dist-packages (from torch) (1.13.0.11)\n",
            "Requirement already satisfied: triton==3.3.1 in /usr/local/lib/python3.11/dist-packages (from torch) (3.3.1)\n",
            "Requirement already satisfied: setuptools>=40.8.0 in /usr/local/lib/python3.11/dist-packages (from triton==3.3.1->torch) (75.2.0)\n",
            "Requirement already satisfied: numpy in /usr/local/lib/python3.11/dist-packages (from torchvision) (2.0.2)\n",
            "Requirement already satisfied: pillow!=8.3.*,>=5.3.0 in /usr/local/lib/python3.11/dist-packages (from torchvision) (11.2.1)\n",
            "Requirement already satisfied: mpmath<1.4,>=1.1.0 in /usr/local/lib/python3.11/dist-packages (from sympy>=1.13.3->torch) (1.3.0)\n",
            "Requirement already satisfied: MarkupSafe>=2.0 in /usr/local/lib/python3.11/dist-packages (from jinja2->torch) (3.0.2)\n"
          ]
        }
      ]
    },
    {
      "cell_type": "code",
      "source": [
        "import torch\n",
        "import numpy as np\n",
        "print(torch.__version__)"
      ],
      "metadata": {
        "colab": {
          "base_uri": "https://localhost:8080/"
        },
        "id": "H8kkvUxgBR-g",
        "outputId": "845fee34-8fe1-460c-ba35-6e3d6cca1c44"
      },
      "execution_count": 67,
      "outputs": [
        {
          "output_type": "stream",
          "name": "stdout",
          "text": [
            "2.7.1+cu128\n"
          ]
        }
      ]
    },
    {
      "cell_type": "code",
      "source": [
        "if torch.cuda.is_available():\n",
        "  print(torch.cuda.get_device_name(0))\n",
        "  device = torch.device('cuda')\n",
        "else:\n",
        "  print('GPU is not available')"
      ],
      "metadata": {
        "colab": {
          "base_uri": "https://localhost:8080/"
        },
        "id": "6TLPbiaEBaGK",
        "outputId": "1ee89e8d-9b3d-4a91-e12c-ff5c003ef9c4"
      },
      "execution_count": 5,
      "outputs": [
        {
          "output_type": "stream",
          "name": "stdout",
          "text": [
            "Tesla T4\n"
          ]
        }
      ]
    },
    {
      "cell_type": "markdown",
      "source": [
        "# Creating a Tensor"
      ],
      "metadata": {
        "id": "WeUAOik1EzE2"
      }
    },
    {
      "cell_type": "code",
      "source": [
        "# using empty\n",
        "x = torch.empty(2,3) # creates a space in the memory and shows the values that were already there\n",
        "print(x)\n",
        "print(type(x))"
      ],
      "metadata": {
        "colab": {
          "base_uri": "https://localhost:8080/"
        },
        "id": "CbYJ1UHZE20y",
        "outputId": "6c67edb5-c3d5-4255-da66-778eede016dc"
      },
      "execution_count": 6,
      "outputs": [
        {
          "output_type": "stream",
          "name": "stdout",
          "text": [
            "tensor([[0., 0., 0.],\n",
            "        [0., 0., 0.]])\n",
            "<class 'torch.Tensor'>\n"
          ]
        }
      ]
    },
    {
      "cell_type": "code",
      "source": [
        "# using zeros\n",
        "x = torch.zeros(2,3)\n",
        "print(x)\n",
        "y = torch.ones(2,3)\n",
        "print(y)"
      ],
      "metadata": {
        "colab": {
          "base_uri": "https://localhost:8080/"
        },
        "id": "EsqiAiwyE234",
        "outputId": "861e08e5-12bb-4c85-a5e4-3a6e0cc4a999"
      },
      "execution_count": 7,
      "outputs": [
        {
          "output_type": "stream",
          "name": "stdout",
          "text": [
            "tensor([[0., 0., 0.],\n",
            "        [0., 0., 0.]])\n",
            "tensor([[1., 1., 1.],\n",
            "        [1., 1., 1.]])\n"
          ]
        }
      ]
    },
    {
      "cell_type": "code",
      "source": [
        "# using rand\n",
        "x = torch.rand(4,4)\n",
        "print(x)"
      ],
      "metadata": {
        "colab": {
          "base_uri": "https://localhost:8080/"
        },
        "id": "CWYx-XrZE27K",
        "outputId": "9225f6c7-a5f9-4e12-f022-56ce56f195e8"
      },
      "execution_count": 8,
      "outputs": [
        {
          "output_type": "stream",
          "name": "stdout",
          "text": [
            "tensor([[0.9484, 0.0804, 0.8896, 0.2330],\n",
            "        [0.7135, 0.4080, 0.1827, 0.1710],\n",
            "        [0.7385, 0.1291, 0.7323, 0.4447],\n",
            "        [0.1265, 0.1677, 0.0690, 0.3298]])\n"
          ]
        }
      ]
    },
    {
      "cell_type": "code",
      "source": [
        "# using manual_seed (used for reproducibilty)\n",
        "torch.manual_seed(42)\n",
        "x = torch.rand(4,4)\n",
        "print(x)"
      ],
      "metadata": {
        "colab": {
          "base_uri": "https://localhost:8080/"
        },
        "id": "H-kmjpEhE2-o",
        "outputId": "43f2ba2e-eab6-467b-c6d0-1c1774cc98f5"
      },
      "execution_count": 9,
      "outputs": [
        {
          "output_type": "stream",
          "name": "stdout",
          "text": [
            "tensor([[0.8823, 0.9150, 0.3829, 0.9593],\n",
            "        [0.3904, 0.6009, 0.2566, 0.7936],\n",
            "        [0.9408, 0.1332, 0.9346, 0.5936],\n",
            "        [0.8694, 0.5677, 0.7411, 0.4294]])\n"
          ]
        }
      ]
    },
    {
      "cell_type": "code",
      "source": [
        "torch.manual_seed(42)\n",
        "x = torch.rand(4,4)\n",
        "print(x)"
      ],
      "metadata": {
        "colab": {
          "base_uri": "https://localhost:8080/"
        },
        "id": "T8hNF5WoF_AJ",
        "outputId": "be62c6bc-5634-4fea-9ad6-1c96637ce525"
      },
      "execution_count": 10,
      "outputs": [
        {
          "output_type": "stream",
          "name": "stdout",
          "text": [
            "tensor([[0.8823, 0.9150, 0.3829, 0.9593],\n",
            "        [0.3904, 0.6009, 0.2566, 0.7936],\n",
            "        [0.9408, 0.1332, 0.9346, 0.5936],\n",
            "        [0.8694, 0.5677, 0.7411, 0.4294]])\n"
          ]
        }
      ]
    },
    {
      "cell_type": "code",
      "source": [
        "torch.tensor([[1, 2, 3], [4, 5, 6], [7, 8, 9]])"
      ],
      "metadata": {
        "colab": {
          "base_uri": "https://localhost:8080/"
        },
        "id": "-G1blfmyGGCl",
        "outputId": "3448b587-bbc8-4a6a-f215-147683a4107b"
      },
      "execution_count": 11,
      "outputs": [
        {
          "output_type": "execute_result",
          "data": {
            "text/plain": [
              "tensor([[1, 2, 3],\n",
              "        [4, 5, 6],\n",
              "        [7, 8, 9]])"
            ]
          },
          "metadata": {},
          "execution_count": 11
        }
      ]
    },
    {
      "cell_type": "code",
      "source": [
        "# other methods\n",
        "# using arange\n",
        "print(\"using arange ->\\n\", torch.arange(0,10,2))\n",
        "# using linespace\n",
        "print(\"\\nusing linespace ->\\n\", torch.linspace(0,10,10))\n",
        "# using logspace\n",
        "print(\"\\nusing logspace ->\\n\", torch.logspace(0,10,10))\n",
        "# using eye\n",
        "print(\"\\nusing eye ->\\n\", torch.eye(5))\n",
        "# using full\n",
        "print(\"\\nusing full ->\\n\", torch.full((3, 3), 5))"
      ],
      "metadata": {
        "colab": {
          "base_uri": "https://localhost:8080/"
        },
        "id": "usZ5vTgtGZ8v",
        "outputId": "139b755c-b030-41f0-d239-4f69e31be64d"
      },
      "execution_count": 12,
      "outputs": [
        {
          "output_type": "stream",
          "name": "stdout",
          "text": [
            "using arange ->\n",
            " tensor([0, 2, 4, 6, 8])\n",
            "\n",
            "using linespace ->\n",
            " tensor([ 0.0000,  1.1111,  2.2222,  3.3333,  4.4444,  5.5556,  6.6667,  7.7778,\n",
            "         8.8889, 10.0000])\n",
            "\n",
            "using logspace ->\n",
            " tensor([1.0000e+00, 1.2915e+01, 1.6681e+02, 2.1544e+03, 2.7826e+04, 3.5938e+05,\n",
            "        4.6416e+06, 5.9948e+07, 7.7426e+08, 1.0000e+10])\n",
            "\n",
            "using eye ->\n",
            " tensor([[1., 0., 0., 0., 0.],\n",
            "        [0., 1., 0., 0., 0.],\n",
            "        [0., 0., 1., 0., 0.],\n",
            "        [0., 0., 0., 1., 0.],\n",
            "        [0., 0., 0., 0., 1.]])\n",
            "\n",
            "using full ->\n",
            " tensor([[5, 5, 5],\n",
            "        [5, 5, 5],\n",
            "        [5, 5, 5]])\n"
          ]
        }
      ]
    },
    {
      "cell_type": "markdown",
      "source": [
        "# Tensor Shape"
      ],
      "metadata": {
        "id": "35dm5-7CIFxB"
      }
    },
    {
      "cell_type": "code",
      "source": [
        "x = torch.tensor([[1, 2, 3], [4, 5, 6], [7, 8, 9]])\n",
        "x.shape"
      ],
      "metadata": {
        "colab": {
          "base_uri": "https://localhost:8080/"
        },
        "id": "CcuWFZNnIEE3",
        "outputId": "eb383d91-24ac-4801-ddae-cb3db30df54e"
      },
      "execution_count": 13,
      "outputs": [
        {
          "output_type": "execute_result",
          "data": {
            "text/plain": [
              "torch.Size([3, 3])"
            ]
          },
          "metadata": {},
          "execution_count": 13
        }
      ]
    },
    {
      "cell_type": "code",
      "source": [
        "y = torch.empty_like(x)\n",
        "print(y)"
      ],
      "metadata": {
        "colab": {
          "base_uri": "https://localhost:8080/"
        },
        "id": "2bzN-OzVIoj7",
        "outputId": "981c77d8-f538-46ff-b409-08602ae3ad4b"
      },
      "execution_count": 14,
      "outputs": [
        {
          "output_type": "stream",
          "name": "stdout",
          "text": [
            "tensor([[167574470,         5,         5],\n",
            "        [        5,         5,         5],\n",
            "        [        5,         5,       112]])\n"
          ]
        }
      ]
    },
    {
      "cell_type": "code",
      "source": [
        "print(torch.zeros_like(x))"
      ],
      "metadata": {
        "colab": {
          "base_uri": "https://localhost:8080/"
        },
        "id": "P8SUmbPtIvf8",
        "outputId": "900f74a5-9828-4587-9903-0607879802ca"
      },
      "execution_count": 15,
      "outputs": [
        {
          "output_type": "stream",
          "name": "stdout",
          "text": [
            "tensor([[0, 0, 0],\n",
            "        [0, 0, 0],\n",
            "        [0, 0, 0]])\n"
          ]
        }
      ]
    },
    {
      "cell_type": "code",
      "source": [
        "print(torch.ones_like(x))"
      ],
      "metadata": {
        "colab": {
          "base_uri": "https://localhost:8080/"
        },
        "id": "JoBSZJdvJUGU",
        "outputId": "911cb229-a6b3-492d-b398-10839d2b8a1a"
      },
      "execution_count": 16,
      "outputs": [
        {
          "output_type": "stream",
          "name": "stdout",
          "text": [
            "tensor([[1, 1, 1],\n",
            "        [1, 1, 1],\n",
            "        [1, 1, 1]])\n"
          ]
        }
      ]
    },
    {
      "cell_type": "code",
      "source": [
        "# print(torch.rand_like(x)) # this will throw an error\n",
        "#Why?\n",
        "#Because the tensor x contains only integers and rand_like generates floating point numbers between zero and one"
      ],
      "metadata": {
        "id": "mDLMO3a2JYLA"
      },
      "execution_count": 17,
      "outputs": []
    },
    {
      "cell_type": "markdown",
      "source": [
        "# Tensor Data Types"
      ],
      "metadata": {
        "id": "v_7HCBD0KLdV"
      }
    },
    {
      "cell_type": "code",
      "source": [
        "x.dtype"
      ],
      "metadata": {
        "colab": {
          "base_uri": "https://localhost:8080/"
        },
        "id": "kIxYYjBpKSIy",
        "outputId": "69184be4-5b23-4ab8-ae1f-2cf38d736aca"
      },
      "execution_count": 18,
      "outputs": [
        {
          "output_type": "execute_result",
          "data": {
            "text/plain": [
              "torch.int64"
            ]
          },
          "metadata": {},
          "execution_count": 18
        }
      ]
    },
    {
      "cell_type": "code",
      "source": [
        "# assign data type\n",
        "print(torch.tensor([0.1, 0.2, 0.3]).dtype)\n",
        "torch.tensor([1.0, 2.0, 3.0], dtype=torch.int32)"
      ],
      "metadata": {
        "colab": {
          "base_uri": "https://localhost:8080/"
        },
        "id": "bhhWCIFXKdfM",
        "outputId": "cc42dd02-d26b-4f2b-e530-c6bef3333b40"
      },
      "execution_count": 19,
      "outputs": [
        {
          "output_type": "stream",
          "name": "stdout",
          "text": [
            "torch.float32\n"
          ]
        },
        {
          "output_type": "execute_result",
          "data": {
            "text/plain": [
              "tensor([1, 2, 3], dtype=torch.int32)"
            ]
          },
          "metadata": {},
          "execution_count": 19
        }
      ]
    },
    {
      "cell_type": "code",
      "source": [
        "torch.tensor([1, 2, 3], dtype=torch.float64)"
      ],
      "metadata": {
        "colab": {
          "base_uri": "https://localhost:8080/"
        },
        "id": "5OhN4QP7LKtC",
        "outputId": "72d18a42-db9d-48cf-da2a-545aa1507802"
      },
      "execution_count": 20,
      "outputs": [
        {
          "output_type": "execute_result",
          "data": {
            "text/plain": [
              "tensor([1., 2., 3.], dtype=torch.float64)"
            ]
          },
          "metadata": {},
          "execution_count": 20
        }
      ]
    },
    {
      "cell_type": "code",
      "source": [
        "# using to()\n",
        "print(x, \"\\n\")\n",
        "x.to(torch.float32)"
      ],
      "metadata": {
        "colab": {
          "base_uri": "https://localhost:8080/"
        },
        "id": "Jr8YmmvuLWpw",
        "outputId": "1752d6b4-a911-4c08-c6e5-4e3dbaf9f623"
      },
      "execution_count": 21,
      "outputs": [
        {
          "output_type": "stream",
          "name": "stdout",
          "text": [
            "tensor([[1, 2, 3],\n",
            "        [4, 5, 6],\n",
            "        [7, 8, 9]]) \n",
            "\n"
          ]
        },
        {
          "output_type": "execute_result",
          "data": {
            "text/plain": [
              "tensor([[1., 2., 3.],\n",
              "        [4., 5., 6.],\n",
              "        [7., 8., 9.]])"
            ]
          },
          "metadata": {},
          "execution_count": 21
        }
      ]
    },
    {
      "cell_type": "code",
      "source": [
        "print(torch.rand_like(x, dtype=torch.float32))"
      ],
      "metadata": {
        "colab": {
          "base_uri": "https://localhost:8080/"
        },
        "id": "n4tzOjoqMBar",
        "outputId": "4c74cba8-73c3-4496-d1cf-bd43779b609a"
      },
      "execution_count": 22,
      "outputs": [
        {
          "output_type": "stream",
          "name": "stdout",
          "text": [
            "tensor([[0.8854, 0.5739, 0.2666],\n",
            "        [0.6274, 0.2696, 0.4414],\n",
            "        [0.2969, 0.8317, 0.1053]])\n"
          ]
        }
      ]
    },
    {
      "cell_type": "markdown",
      "source": [
        "# Mathematical Operations"
      ],
      "metadata": {
        "id": "3z9hTiaIMnL5"
      }
    },
    {
      "cell_type": "code",
      "source": [
        "# Scalar operations\n",
        "print(x, '\\n')\n",
        "print(x + 2, '\\n')\n",
        "print(x - 2, '\\n')\n",
        "print(x * 2, '\\n')\n",
        "print(x / 2, '\\n')\n",
        "print(x % 2, '\\n')\n",
        "print(x // 2, '\\n')\n",
        "print(x ** 2, '\\n')"
      ],
      "metadata": {
        "colab": {
          "base_uri": "https://localhost:8080/"
        },
        "id": "YZPsB3kNNcFd",
        "outputId": "e8b8e2c5-fee0-406c-e318-f109ccbbbcaf"
      },
      "execution_count": 23,
      "outputs": [
        {
          "output_type": "stream",
          "name": "stdout",
          "text": [
            "tensor([[1, 2, 3],\n",
            "        [4, 5, 6],\n",
            "        [7, 8, 9]]) \n",
            "\n",
            "tensor([[ 3,  4,  5],\n",
            "        [ 6,  7,  8],\n",
            "        [ 9, 10, 11]]) \n",
            "\n",
            "tensor([[-1,  0,  1],\n",
            "        [ 2,  3,  4],\n",
            "        [ 5,  6,  7]]) \n",
            "\n",
            "tensor([[ 2,  4,  6],\n",
            "        [ 8, 10, 12],\n",
            "        [14, 16, 18]]) \n",
            "\n",
            "tensor([[0.5000, 1.0000, 1.5000],\n",
            "        [2.0000, 2.5000, 3.0000],\n",
            "        [3.5000, 4.0000, 4.5000]]) \n",
            "\n",
            "tensor([[1, 0, 1],\n",
            "        [0, 1, 0],\n",
            "        [1, 0, 1]]) \n",
            "\n",
            "tensor([[0, 1, 1],\n",
            "        [2, 2, 3],\n",
            "        [3, 4, 4]]) \n",
            "\n",
            "tensor([[ 1,  4,  9],\n",
            "        [16, 25, 36],\n",
            "        [49, 64, 81]]) \n",
            "\n"
          ]
        }
      ]
    },
    {
      "cell_type": "markdown",
      "source": [
        "# Elementwise operation"
      ],
      "metadata": {
        "id": "sNW3EAyQOKyA"
      }
    },
    {
      "cell_type": "code",
      "source": [
        "a = torch.rand(3,3)\n",
        "b = torch.rand(3,3)\n",
        "print(a, '\\n')\n",
        "print(b, '\\n')\n",
        "print(a + b, '\\n')\n",
        "print(a - b, '\\n')\n",
        "print(a * b, '\\n')\n",
        "print(a / b, '\\n')\n",
        "print(a // b, '\\n')\n",
        "print(a ** b, '\\n')"
      ],
      "metadata": {
        "colab": {
          "base_uri": "https://localhost:8080/"
        },
        "id": "2hC90qiQNcID",
        "outputId": "225942af-d592-47e5-8d7f-76337fe01d04"
      },
      "execution_count": 24,
      "outputs": [
        {
          "output_type": "stream",
          "name": "stdout",
          "text": [
            "tensor([[0.2695, 0.3588, 0.1994],\n",
            "        [0.5472, 0.0062, 0.9516],\n",
            "        [0.0753, 0.8860, 0.5832]]) \n",
            "\n",
            "tensor([[0.3376, 0.8090, 0.5779],\n",
            "        [0.9040, 0.5547, 0.3423],\n",
            "        [0.6343, 0.3644, 0.7104]]) \n",
            "\n",
            "tensor([[0.6071, 1.1678, 0.7773],\n",
            "        [1.4512, 0.5608, 1.2939],\n",
            "        [0.7096, 1.2504, 1.2936]]) \n",
            "\n",
            "tensor([[-0.0682, -0.4502, -0.3786],\n",
            "        [-0.3568, -0.5485,  0.6092],\n",
            "        [-0.5591,  0.5216, -0.1272]]) \n",
            "\n",
            "tensor([[0.0910, 0.2903, 0.1152],\n",
            "        [0.4947, 0.0034, 0.3257],\n",
            "        [0.0477, 0.3229, 0.4143]]) \n",
            "\n",
            "tensor([[0.7982, 0.4435, 0.3450],\n",
            "        [0.6053, 0.0111, 2.7798],\n",
            "        [0.1187, 2.4314, 0.8209]]) \n",
            "\n",
            "tensor([[0., 0., 0.],\n",
            "        [0., 0., 2.],\n",
            "        [0., 2., 0.]]) \n",
            "\n",
            "tensor([[0.6423, 0.4364, 0.3938],\n",
            "        [0.5798, 0.0594, 0.9831],\n",
            "        [0.1938, 0.9569, 0.6818]]) \n",
            "\n"
          ]
        }
      ]
    },
    {
      "cell_type": "code",
      "source": [
        "print(a, '\\n')\n",
        "print(b)"
      ],
      "metadata": {
        "colab": {
          "base_uri": "https://localhost:8080/"
        },
        "id": "X3GhfMWRRZao",
        "outputId": "5b2142e8-e648-4a5a-985b-616a7e893e94"
      },
      "execution_count": 25,
      "outputs": [
        {
          "output_type": "stream",
          "name": "stdout",
          "text": [
            "tensor([[0.2695, 0.3588, 0.1994],\n",
            "        [0.5472, 0.0062, 0.9516],\n",
            "        [0.0753, 0.8860, 0.5832]]) \n",
            "\n",
            "tensor([[0.3376, 0.8090, 0.5779],\n",
            "        [0.9040, 0.5547, 0.3423],\n",
            "        [0.6343, 0.3644, 0.7104]])\n"
          ]
        }
      ]
    },
    {
      "cell_type": "code",
      "source": [
        "# negetive\n",
        "torch.neg(a)"
      ],
      "metadata": {
        "colab": {
          "base_uri": "https://localhost:8080/"
        },
        "id": "27UFYWn4NcLc",
        "outputId": "41e5c791-3cc1-46b2-8aec-c9dde44eec6d"
      },
      "execution_count": 26,
      "outputs": [
        {
          "output_type": "execute_result",
          "data": {
            "text/plain": [
              "tensor([[-0.2695, -0.3588, -0.1994],\n",
              "        [-0.5472, -0.0062, -0.9516],\n",
              "        [-0.0753, -0.8860, -0.5832]])"
            ]
          },
          "metadata": {},
          "execution_count": 26
        }
      ]
    },
    {
      "cell_type": "code",
      "source": [
        "# absolute value\n",
        "torch.abs(b)"
      ],
      "metadata": {
        "colab": {
          "base_uri": "https://localhost:8080/"
        },
        "id": "DDNfCJB5OodA",
        "outputId": "744cfed4-9953-450b-f4f9-9fea4b677417"
      },
      "execution_count": 27,
      "outputs": [
        {
          "output_type": "execute_result",
          "data": {
            "text/plain": [
              "tensor([[0.3376, 0.8090, 0.5779],\n",
              "        [0.9040, 0.5547, 0.3423],\n",
              "        [0.6343, 0.3644, 0.7104]])"
            ]
          },
          "metadata": {},
          "execution_count": 27
        }
      ]
    },
    {
      "cell_type": "code",
      "source": [
        "# round\n",
        "torch.round(a)"
      ],
      "metadata": {
        "colab": {
          "base_uri": "https://localhost:8080/"
        },
        "id": "LfsjwtOeQyH-",
        "outputId": "e2538d96-a28c-4ab9-a1dd-72b251e09678"
      },
      "execution_count": 28,
      "outputs": [
        {
          "output_type": "execute_result",
          "data": {
            "text/plain": [
              "tensor([[0., 0., 0.],\n",
              "        [1., 0., 1.],\n",
              "        [0., 1., 1.]])"
            ]
          },
          "metadata": {},
          "execution_count": 28
        }
      ]
    },
    {
      "cell_type": "code",
      "source": [
        "# ceil\n",
        "torch.ceil(b)"
      ],
      "metadata": {
        "colab": {
          "base_uri": "https://localhost:8080/"
        },
        "id": "ueddc2nXQ2Ru",
        "outputId": "c31a65db-5f79-4e0e-c5c6-ab2de6bdc4d2"
      },
      "execution_count": 29,
      "outputs": [
        {
          "output_type": "execute_result",
          "data": {
            "text/plain": [
              "tensor([[1., 1., 1.],\n",
              "        [1., 1., 1.],\n",
              "        [1., 1., 1.]])"
            ]
          },
          "metadata": {},
          "execution_count": 29
        }
      ]
    },
    {
      "cell_type": "code",
      "source": [
        "# floor\n",
        "torch.floor(b)"
      ],
      "metadata": {
        "colab": {
          "base_uri": "https://localhost:8080/"
        },
        "id": "TVDNNTgRQ5GU",
        "outputId": "c6cbb770-793f-4caf-abc8-31e5caf67ded"
      },
      "execution_count": 30,
      "outputs": [
        {
          "output_type": "execute_result",
          "data": {
            "text/plain": [
              "tensor([[0., 0., 0.],\n",
              "        [0., 0., 0.],\n",
              "        [0., 0., 0.]])"
            ]
          },
          "metadata": {},
          "execution_count": 30
        }
      ]
    },
    {
      "cell_type": "code",
      "source": [
        "# clamping\n",
        "torch.clamp(a, min=0, max=0.5)"
      ],
      "metadata": {
        "colab": {
          "base_uri": "https://localhost:8080/"
        },
        "id": "e0WOdN3JQ_Rt",
        "outputId": "2017d7a7-1437-4703-b31b-26bcd40fc6f5"
      },
      "execution_count": 31,
      "outputs": [
        {
          "output_type": "execute_result",
          "data": {
            "text/plain": [
              "tensor([[0.2695, 0.3588, 0.1994],\n",
              "        [0.5000, 0.0062, 0.5000],\n",
              "        [0.0753, 0.5000, 0.5000]])"
            ]
          },
          "metadata": {},
          "execution_count": 31
        }
      ]
    },
    {
      "cell_type": "markdown",
      "source": [
        "# Reduction Operation"
      ],
      "metadata": {
        "id": "Ws1r7QNJR2pd"
      }
    },
    {
      "cell_type": "code",
      "source": [
        "c = torch.rand(3,3)\n",
        "print(c)"
      ],
      "metadata": {
        "colab": {
          "base_uri": "https://localhost:8080/"
        },
        "id": "UsIbXL92R2P7",
        "outputId": "6acfbd97-ab15-4136-ec68-acb907576089"
      },
      "execution_count": 32,
      "outputs": [
        {
          "output_type": "stream",
          "name": "stdout",
          "text": [
            "tensor([[0.9464, 0.7890, 0.2814],\n",
            "        [0.7886, 0.5895, 0.7539],\n",
            "        [0.1952, 0.0050, 0.3068]])\n"
          ]
        }
      ]
    },
    {
      "cell_type": "code",
      "source": [
        "# sum\n",
        "print(torch.sum(c))\n",
        "# sum along rows\n",
        "print(torch.sum(c, dim=0))\n",
        "# sum along columns\n",
        "print(torch.sum(c, dim=1))"
      ],
      "metadata": {
        "colab": {
          "base_uri": "https://localhost:8080/"
        },
        "id": "OAKorirXSZp1",
        "outputId": "f0c285ab-9c1f-47b6-886d-4fa5e102273f"
      },
      "execution_count": 33,
      "outputs": [
        {
          "output_type": "stream",
          "name": "stdout",
          "text": [
            "tensor(4.6560)\n",
            "tensor([1.9303, 1.3835, 1.3422])\n",
            "tensor([2.0169, 2.1320, 0.5071])\n"
          ]
        }
      ]
    },
    {
      "cell_type": "code",
      "source": [
        "# mean, median, sd, var\n",
        "print(torch.mean(c)) # can be applied along both rows and columns\n",
        "print(\"\\n\", torch.median(c))\n",
        "print(\"\\n\", torch.std(c))\n",
        "print(\"\\n\", torch.var(c))\n",
        "print(\"\\n\", torch.mode(c))"
      ],
      "metadata": {
        "colab": {
          "base_uri": "https://localhost:8080/"
        },
        "id": "g6GBN-3gS4VJ",
        "outputId": "9af05fdb-fa69-4b76-bc2d-700237439de3"
      },
      "execution_count": 34,
      "outputs": [
        {
          "output_type": "stream",
          "name": "stdout",
          "text": [
            "tensor(0.5173)\n",
            "\n",
            " tensor(0.5895)\n",
            "\n",
            " tensor(0.3277)\n",
            "\n",
            " tensor(0.1074)\n",
            "\n",
            " torch.return_types.mode(\n",
            "values=tensor([0.2814, 0.5895, 0.0050]),\n",
            "indices=tensor([2, 1, 1]))\n"
          ]
        }
      ]
    },
    {
      "cell_type": "code",
      "source": [
        "# argmax and argmin\n",
        "t = torch.randint(size=(3,3), low=10, high=99)\n",
        "print(t, \"\\n\")\n",
        "print(torch.argmax(t))\n",
        "print(torch.argmin(t))"
      ],
      "metadata": {
        "colab": {
          "base_uri": "https://localhost:8080/"
        },
        "id": "mfBBDWNaUzON",
        "outputId": "e822f900-47e2-4b73-c306-c5a1bbee1385"
      },
      "execution_count": 35,
      "outputs": [
        {
          "output_type": "stream",
          "name": "stdout",
          "text": [
            "tensor([[39, 52, 12],\n",
            "        [63, 72, 75],\n",
            "        [54, 23, 61]]) \n",
            "\n",
            "tensor(5)\n",
            "tensor(2)\n"
          ]
        }
      ]
    },
    {
      "cell_type": "code",
      "source": [
        "print(torch.argmax(t, dim=0))\n",
        "print(torch.argmax(t, dim=1))\n",
        "print(torch.argmin(t, dim=0))\n",
        "print(torch.argmin(t, dim=1))"
      ],
      "metadata": {
        "colab": {
          "base_uri": "https://localhost:8080/"
        },
        "id": "v9Qc3ssjVwBd",
        "outputId": "e2cc9445-607a-42b4-db4f-9476888149ed"
      },
      "execution_count": 36,
      "outputs": [
        {
          "output_type": "stream",
          "name": "stdout",
          "text": [
            "tensor([1, 1, 1])\n",
            "tensor([1, 2, 2])\n",
            "tensor([0, 2, 0])\n",
            "tensor([2, 0, 1])\n"
          ]
        }
      ]
    },
    {
      "cell_type": "code",
      "source": [
        "# matrix multiplication\n",
        "vector1 = torch.tensor([[1, 2], [3, 4]])\n",
        "vector2 = torch.tensor([[5, 6], [7, 8]])\n",
        "print(vector1, \"\\n\", vector2, \"\\n\")\n",
        "torch.matmul(vector1, vector2)"
      ],
      "metadata": {
        "colab": {
          "base_uri": "https://localhost:8080/"
        },
        "id": "QP5UvSjsWLCp",
        "outputId": "74991377-f1c3-4194-c88f-08eda9c2b644"
      },
      "execution_count": 37,
      "outputs": [
        {
          "output_type": "stream",
          "name": "stdout",
          "text": [
            "tensor([[1, 2],\n",
            "        [3, 4]]) \n",
            " tensor([[5, 6],\n",
            "        [7, 8]]) \n",
            "\n"
          ]
        },
        {
          "output_type": "execute_result",
          "data": {
            "text/plain": [
              "tensor([[19, 22],\n",
              "        [43, 50]])"
            ]
          },
          "metadata": {},
          "execution_count": 37
        }
      ]
    },
    {
      "cell_type": "code",
      "source": [
        "a = torch.tensor([1, 2])\n",
        "b = torch.tensor([3, 4])\n",
        "print(a, \"\\n\", b, \"\\n\")\n",
        "torch.dot(a, b)"
      ],
      "metadata": {
        "colab": {
          "base_uri": "https://localhost:8080/"
        },
        "id": "qHcH4nCEXJ94",
        "outputId": "43a07d66-52cb-44b8-f27f-2f65956c09b1"
      },
      "execution_count": 38,
      "outputs": [
        {
          "output_type": "stream",
          "name": "stdout",
          "text": [
            "tensor([1, 2]) \n",
            " tensor([3, 4]) \n",
            "\n"
          ]
        },
        {
          "output_type": "execute_result",
          "data": {
            "text/plain": [
              "tensor(11)"
            ]
          },
          "metadata": {},
          "execution_count": 38
        }
      ]
    },
    {
      "cell_type": "code",
      "source": [
        "# transpose\n",
        "print(t, \"\\n\")\n",
        "torch.transpose(t, 0, 1)"
      ],
      "metadata": {
        "colab": {
          "base_uri": "https://localhost:8080/"
        },
        "id": "f656RPHVXqhB",
        "outputId": "380b3f4b-0607-44b6-dfe0-5acb26b3247c"
      },
      "execution_count": 39,
      "outputs": [
        {
          "output_type": "stream",
          "name": "stdout",
          "text": [
            "tensor([[39, 52, 12],\n",
            "        [63, 72, 75],\n",
            "        [54, 23, 61]]) \n",
            "\n"
          ]
        },
        {
          "output_type": "execute_result",
          "data": {
            "text/plain": [
              "tensor([[39, 63, 54],\n",
              "        [52, 72, 23],\n",
              "        [12, 75, 61]])"
            ]
          },
          "metadata": {},
          "execution_count": 39
        }
      ]
    },
    {
      "cell_type": "code",
      "source": [
        "h = torch.randint(size=(3,3), low=0, high=9, dtype=torch.float32)\n",
        "print(h, '\\n')\n",
        "torch.det(h)"
      ],
      "metadata": {
        "colab": {
          "base_uri": "https://localhost:8080/"
        },
        "id": "ZcRcwmpFYaJN",
        "outputId": "c8c72725-bce9-49d7-c36d-cebf9f4b871e"
      },
      "execution_count": 40,
      "outputs": [
        {
          "output_type": "stream",
          "name": "stdout",
          "text": [
            "tensor([[3., 2., 7.],\n",
            "        [0., 5., 6.],\n",
            "        [1., 7., 7.]]) \n",
            "\n"
          ]
        },
        {
          "output_type": "execute_result",
          "data": {
            "text/plain": [
              "tensor(-44.0000)"
            ]
          },
          "metadata": {},
          "execution_count": 40
        }
      ]
    },
    {
      "cell_type": "code",
      "source": [
        "torch.inverse(h)"
      ],
      "metadata": {
        "colab": {
          "base_uri": "https://localhost:8080/"
        },
        "id": "F2g_Uv9nY6RY",
        "outputId": "f2891ac1-1b57-4aee-cd5a-ae5837675535"
      },
      "execution_count": 41,
      "outputs": [
        {
          "output_type": "execute_result",
          "data": {
            "text/plain": [
              "tensor([[ 0.1591, -0.7955,  0.5227],\n",
              "        [-0.1364, -0.3182,  0.4091],\n",
              "        [ 0.1136,  0.4318, -0.3409]])"
            ]
          },
          "metadata": {},
          "execution_count": 41
        }
      ]
    },
    {
      "cell_type": "code",
      "source": [
        "t1 = torch.tensor([[1, 2], [3, 4]])\n",
        "t2 = torch.tensor([[3, 6], [1, 8]])\n",
        "print(t1, '\\n', t2)\n",
        "print(t1 > t2, '\\n')\n",
        "print(t1 == t2, '\\n')\n",
        "print(t1 != t2, '\\n')\n",
        "print(t1 >= t2, '\\n')"
      ],
      "metadata": {
        "colab": {
          "base_uri": "https://localhost:8080/"
        },
        "id": "ettFjxdRZg4N",
        "outputId": "1cb235e8-99eb-4f27-e3b2-656e7788394d"
      },
      "execution_count": 42,
      "outputs": [
        {
          "output_type": "stream",
          "name": "stdout",
          "text": [
            "tensor([[1, 2],\n",
            "        [3, 4]]) \n",
            " tensor([[3, 6],\n",
            "        [1, 8]])\n",
            "tensor([[False, False],\n",
            "        [ True, False]]) \n",
            "\n",
            "tensor([[False, False],\n",
            "        [False, False]]) \n",
            "\n",
            "tensor([[True, True],\n",
            "        [True, True]]) \n",
            "\n",
            "tensor([[False, False],\n",
            "        [ True, False]]) \n",
            "\n"
          ]
        }
      ]
    },
    {
      "cell_type": "markdown",
      "source": [
        "# Special Functions"
      ],
      "metadata": {
        "id": "ijhqbX6-Z742"
      }
    },
    {
      "cell_type": "code",
      "source": [
        "k = torch.randint(size=(3,3), low=0, high=9, dtype=torch.float32)\n",
        "print(k, '\\n')\n",
        "torch.exp(k)"
      ],
      "metadata": {
        "colab": {
          "base_uri": "https://localhost:8080/"
        },
        "id": "T55zdbEiZ6QZ",
        "outputId": "fd7bf47e-d40e-456b-d949-ed9668f1af1d"
      },
      "execution_count": 43,
      "outputs": [
        {
          "output_type": "stream",
          "name": "stdout",
          "text": [
            "tensor([[8., 0., 7.],\n",
            "        [7., 7., 2.],\n",
            "        [3., 1., 8.]]) \n",
            "\n"
          ]
        },
        {
          "output_type": "execute_result",
          "data": {
            "text/plain": [
              "tensor([[2.9810e+03, 1.0000e+00, 1.0966e+03],\n",
              "        [1.0966e+03, 1.0966e+03, 7.3891e+00],\n",
              "        [2.0086e+01, 2.7183e+00, 2.9810e+03]])"
            ]
          },
          "metadata": {},
          "execution_count": 43
        }
      ]
    },
    {
      "cell_type": "code",
      "source": [
        "torch.log(k)"
      ],
      "metadata": {
        "colab": {
          "base_uri": "https://localhost:8080/"
        },
        "id": "Y-1R4J_maH9b",
        "outputId": "8bc30ba2-b65e-4336-e912-ff3714304fd2"
      },
      "execution_count": 44,
      "outputs": [
        {
          "output_type": "execute_result",
          "data": {
            "text/plain": [
              "tensor([[2.0794,   -inf, 1.9459],\n",
              "        [1.9459, 1.9459, 0.6931],\n",
              "        [1.0986, 0.0000, 2.0794]])"
            ]
          },
          "metadata": {},
          "execution_count": 44
        }
      ]
    },
    {
      "cell_type": "code",
      "source": [
        "torch.sigmoid(k)"
      ],
      "metadata": {
        "colab": {
          "base_uri": "https://localhost:8080/"
        },
        "id": "pECG94WEaLJE",
        "outputId": "4c9d9c5a-e23b-483a-bba9-ab3d9a5990aa"
      },
      "execution_count": 45,
      "outputs": [
        {
          "output_type": "execute_result",
          "data": {
            "text/plain": [
              "tensor([[0.9997, 0.5000, 0.9991],\n",
              "        [0.9991, 0.9991, 0.8808],\n",
              "        [0.9526, 0.7311, 0.9997]])"
            ]
          },
          "metadata": {},
          "execution_count": 45
        }
      ]
    },
    {
      "cell_type": "code",
      "source": [
        "torch.relu(k)"
      ],
      "metadata": {
        "colab": {
          "base_uri": "https://localhost:8080/"
        },
        "id": "S4qkMD0paPCl",
        "outputId": "01c7c2b4-583d-4456-a309-2821386f5cdd"
      },
      "execution_count": 46,
      "outputs": [
        {
          "output_type": "execute_result",
          "data": {
            "text/plain": [
              "tensor([[8., 0., 7.],\n",
              "        [7., 7., 2.],\n",
              "        [3., 1., 8.]])"
            ]
          },
          "metadata": {},
          "execution_count": 46
        }
      ]
    },
    {
      "cell_type": "markdown",
      "source": [
        "# Inplace Operations"
      ],
      "metadata": {
        "id": "5fZihh-VaaUs"
      }
    },
    {
      "cell_type": "code",
      "source": [
        "m = torch.rand(2, 3)\n",
        "n = torch.rand(2, 3)\n",
        "print(m, '\\n')\n",
        "print(n, '\\n')"
      ],
      "metadata": {
        "colab": {
          "base_uri": "https://localhost:8080/"
        },
        "id": "uo13zZWuam-H",
        "outputId": "8e146a1e-7ac4-4afa-b813-855966bde074"
      },
      "execution_count": 47,
      "outputs": [
        {
          "output_type": "stream",
          "name": "stdout",
          "text": [
            "tensor([[0.9155, 0.2418, 0.1591],\n",
            "        [0.7653, 0.2979, 0.8035]]) \n",
            "\n",
            "tensor([[0.3813, 0.7860, 0.1115],\n",
            "        [0.2477, 0.6524, 0.6057]]) \n",
            "\n"
          ]
        }
      ]
    },
    {
      "cell_type": "code",
      "source": [
        "m.add_(n)"
      ],
      "metadata": {
        "colab": {
          "base_uri": "https://localhost:8080/"
        },
        "id": "msJyMftSa2Gb",
        "outputId": "bd90c8a1-5f72-4426-99a1-a37bf60160b0"
      },
      "execution_count": 48,
      "outputs": [
        {
          "output_type": "execute_result",
          "data": {
            "text/plain": [
              "tensor([[1.2968, 1.0278, 0.2707],\n",
              "        [1.0130, 0.9503, 1.4092]])"
            ]
          },
          "metadata": {},
          "execution_count": 48
        }
      ]
    },
    {
      "cell_type": "code",
      "source": [
        "print(m, '\\n', n)"
      ],
      "metadata": {
        "colab": {
          "base_uri": "https://localhost:8080/"
        },
        "id": "hPIxLg1jbLfL",
        "outputId": "f944ec7e-53bb-4cca-da7f-dcdd10d95ca1"
      },
      "execution_count": 49,
      "outputs": [
        {
          "output_type": "stream",
          "name": "stdout",
          "text": [
            "tensor([[1.2968, 1.0278, 0.2707],\n",
            "        [1.0130, 0.9503, 1.4092]]) \n",
            " tensor([[0.3813, 0.7860, 0.1115],\n",
            "        [0.2477, 0.6524, 0.6057]])\n"
          ]
        }
      ]
    },
    {
      "cell_type": "code",
      "source": [
        "n.relu_()"
      ],
      "metadata": {
        "colab": {
          "base_uri": "https://localhost:8080/"
        },
        "id": "80ReD3mHbU37",
        "outputId": "ba00a7c1-85d0-4bbc-c492-676205e2ec60"
      },
      "execution_count": 50,
      "outputs": [
        {
          "output_type": "execute_result",
          "data": {
            "text/plain": [
              "tensor([[0.3813, 0.7860, 0.1115],\n",
              "        [0.2477, 0.6524, 0.6057]])"
            ]
          },
          "metadata": {},
          "execution_count": 50
        }
      ]
    },
    {
      "cell_type": "markdown",
      "source": [
        "# Copying a Tensor"
      ],
      "metadata": {
        "id": "awj2-A3ebZzl"
      }
    },
    {
      "cell_type": "code",
      "source": [
        "# The problem with this approach is that the changes in the original matrix is reflected in the copy\n",
        "a = torch.rand(3,3)\n",
        "b = a\n",
        "print(a, '\\n', b, '\\n')\n",
        "print(id(a))\n",
        "print(id(b))"
      ],
      "metadata": {
        "colab": {
          "base_uri": "https://localhost:8080/"
        },
        "id": "NH5tH6RnbZdU",
        "outputId": "d3e2c31d-aa8a-4d17-9ae4-df6feb6604ad"
      },
      "execution_count": 51,
      "outputs": [
        {
          "output_type": "stream",
          "name": "stdout",
          "text": [
            "tensor([[0.3725, 0.7980, 0.8399],\n",
            "        [0.1374, 0.2331, 0.9578],\n",
            "        [0.3313, 0.3227, 0.0162]]) \n",
            " tensor([[0.3725, 0.7980, 0.8399],\n",
            "        [0.1374, 0.2331, 0.9578],\n",
            "        [0.3313, 0.3227, 0.0162]]) \n",
            "\n",
            "132760692689904\n",
            "132760692689904\n"
          ]
        }
      ]
    },
    {
      "cell_type": "code",
      "source": [
        "a[0][0] = 0.0\n",
        "print(a, '\\n', b)"
      ],
      "metadata": {
        "colab": {
          "base_uri": "https://localhost:8080/"
        },
        "id": "nrxcWI5qbiSB",
        "outputId": "6317bb60-4140-4579-ff0c-820f94b883f7"
      },
      "execution_count": 52,
      "outputs": [
        {
          "output_type": "stream",
          "name": "stdout",
          "text": [
            "tensor([[0.0000, 0.7980, 0.8399],\n",
            "        [0.1374, 0.2331, 0.9578],\n",
            "        [0.3313, 0.3227, 0.0162]]) \n",
            " tensor([[0.0000, 0.7980, 0.8399],\n",
            "        [0.1374, 0.2331, 0.9578],\n",
            "        [0.3313, 0.3227, 0.0162]])\n"
          ]
        }
      ]
    },
    {
      "cell_type": "code",
      "source": [
        "c = torch.clone(a)"
      ],
      "metadata": {
        "id": "W2EI79W0evLW"
      },
      "execution_count": 53,
      "outputs": []
    },
    {
      "cell_type": "code",
      "source": [
        "print(a, '\\n', c, '\\n')\n",
        "a[0][0] = 0.1\n",
        "print(a, '\\n', c)"
      ],
      "metadata": {
        "colab": {
          "base_uri": "https://localhost:8080/"
        },
        "id": "2awiTz2vezaI",
        "outputId": "7b84b4c5-4441-4e9a-fcaa-9f929daf071a"
      },
      "execution_count": 54,
      "outputs": [
        {
          "output_type": "stream",
          "name": "stdout",
          "text": [
            "tensor([[0.0000, 0.7980, 0.8399],\n",
            "        [0.1374, 0.2331, 0.9578],\n",
            "        [0.3313, 0.3227, 0.0162]]) \n",
            " tensor([[0.0000, 0.7980, 0.8399],\n",
            "        [0.1374, 0.2331, 0.9578],\n",
            "        [0.3313, 0.3227, 0.0162]]) \n",
            "\n",
            "tensor([[0.1000, 0.7980, 0.8399],\n",
            "        [0.1374, 0.2331, 0.9578],\n",
            "        [0.3313, 0.3227, 0.0162]]) \n",
            " tensor([[0.0000, 0.7980, 0.8399],\n",
            "        [0.1374, 0.2331, 0.9578],\n",
            "        [0.3313, 0.3227, 0.0162]])\n"
          ]
        }
      ]
    },
    {
      "cell_type": "markdown",
      "source": [
        "# How to use the GPU"
      ],
      "metadata": {
        "id": "2_D0cE5_fGyw"
      }
    },
    {
      "cell_type": "code",
      "source": [
        "device = torch.device('cuda')"
      ],
      "metadata": {
        "id": "LBMjZuYvgQdt"
      },
      "execution_count": 55,
      "outputs": []
    },
    {
      "cell_type": "code",
      "source": [
        "import time\n",
        "size = 10000\n",
        "\n",
        "matrix_cpu1 = torch.randn(size, size)\n",
        "matrix_cpu2 = torch.randn(size, size)\n",
        "\n",
        "start_time = time.time()\n",
        "result_cpu = torch.matmul(matrix_cpu1, matrix_cpu2)\n",
        "cpu_time = time.time() - start_time\n",
        "\n",
        "print(f\"CPU time: {cpu_time:.4f} seconds\")\n",
        "\n",
        "matrix_gpu1 = torch.randn(size, size).to(device=device)\n",
        "matrix_gpu2 = torch.randn(size, size).to(device=device)\n",
        "\n",
        "start_time = time.time()\n",
        "result_gpu = torch.matmul(matrix_gpu1, matrix_gpu2)\n",
        "torch.cuda.synchronize()\n",
        "gpu_time = time.time() - start_time\n",
        "\n",
        "print(f\"GPU time: {gpu_time:.4f} seconds\")"
      ],
      "metadata": {
        "colab": {
          "base_uri": "https://localhost:8080/"
        },
        "id": "jqdabXW8fjho",
        "outputId": "84d25b0b-3723-4953-f6dd-eb4353ca491b"
      },
      "execution_count": 56,
      "outputs": [
        {
          "output_type": "stream",
          "name": "stdout",
          "text": [
            "CPU time: 16.1893 seconds\n",
            "GPU time: 0.6980 seconds\n"
          ]
        }
      ]
    },
    {
      "cell_type": "markdown",
      "source": [
        "# Reshaping Tensors"
      ],
      "metadata": {
        "id": "Mprgm5cbjlLn"
      }
    },
    {
      "cell_type": "code",
      "source": [
        "v = torch.ones(4,4)\n",
        "v"
      ],
      "metadata": {
        "colab": {
          "base_uri": "https://localhost:8080/"
        },
        "id": "W8t5-aXfjkw0",
        "outputId": "257218d7-451d-45de-b1ef-30118f077973"
      },
      "execution_count": 58,
      "outputs": [
        {
          "output_type": "execute_result",
          "data": {
            "text/plain": [
              "tensor([[1., 1., 1., 1.],\n",
              "        [1., 1., 1., 1.],\n",
              "        [1., 1., 1., 1.],\n",
              "        [1., 1., 1., 1.]])"
            ]
          },
          "metadata": {},
          "execution_count": 58
        }
      ]
    },
    {
      "cell_type": "code",
      "source": [
        "# reshape\n",
        "v.reshape(2,2,2,2)"
      ],
      "metadata": {
        "colab": {
          "base_uri": "https://localhost:8080/"
        },
        "id": "NpWkX9qNmEAw",
        "outputId": "68e28a46-ce38-464e-e0fa-1f6aae9c38ad"
      },
      "execution_count": 59,
      "outputs": [
        {
          "output_type": "execute_result",
          "data": {
            "text/plain": [
              "tensor([[[[1., 1.],\n",
              "          [1., 1.]],\n",
              "\n",
              "         [[1., 1.],\n",
              "          [1., 1.]]],\n",
              "\n",
              "\n",
              "        [[[1., 1.],\n",
              "          [1., 1.]],\n",
              "\n",
              "         [[1., 1.],\n",
              "          [1., 1.]]]])"
            ]
          },
          "metadata": {},
          "execution_count": 59
        }
      ]
    },
    {
      "cell_type": "code",
      "source": [
        "# flatten\n",
        "v.flatten()"
      ],
      "metadata": {
        "colab": {
          "base_uri": "https://localhost:8080/"
        },
        "id": "BhwebEWAmJgB",
        "outputId": "bed08f96-85cb-4f5d-ca89-3394e6c73e77"
      },
      "execution_count": 60,
      "outputs": [
        {
          "output_type": "execute_result",
          "data": {
            "text/plain": [
              "tensor([1., 1., 1., 1., 1., 1., 1., 1., 1., 1., 1., 1., 1., 1., 1., 1.])"
            ]
          },
          "metadata": {},
          "execution_count": 60
        }
      ]
    },
    {
      "cell_type": "code",
      "source": [
        "w = torch.rand(2,3,4)\n",
        "print(w, '\\n')\n",
        "w.permute(2, 0, 1).shape"
      ],
      "metadata": {
        "colab": {
          "base_uri": "https://localhost:8080/"
        },
        "id": "Zm7FCkQemNyx",
        "outputId": "d8bd5891-63e8-4961-9a6c-2752bbdad098"
      },
      "execution_count": 62,
      "outputs": [
        {
          "output_type": "stream",
          "name": "stdout",
          "text": [
            "tensor([[[0.6300, 0.8525, 0.4166, 0.7471],\n",
            "         [0.3541, 0.5245, 0.0573, 0.0593],\n",
            "         [0.9238, 0.5029, 0.8779, 0.2181]],\n",
            "\n",
            "        [[0.1703, 0.1704, 0.2798, 0.4343],\n",
            "         [0.1277, 0.2554, 0.2712, 0.2154],\n",
            "         [0.4470, 0.5706, 0.9891, 0.0807]]]) \n",
            "\n"
          ]
        },
        {
          "output_type": "execute_result",
          "data": {
            "text/plain": [
              "torch.Size([4, 2, 3])"
            ]
          },
          "metadata": {},
          "execution_count": 62
        }
      ]
    },
    {
      "cell_type": "code",
      "source": [
        "# unsqueeze\n",
        "i = torch.rand(226, 226, 3)\n",
        "i.unsqueeze(1).shape"
      ],
      "metadata": {
        "colab": {
          "base_uri": "https://localhost:8080/"
        },
        "id": "hAvFDm43muYo",
        "outputId": "7312261e-659b-4a3a-cd11-1635b6016cae"
      },
      "execution_count": 65,
      "outputs": [
        {
          "output_type": "execute_result",
          "data": {
            "text/plain": [
              "torch.Size([226, 1, 226, 3])"
            ]
          },
          "metadata": {},
          "execution_count": 65
        }
      ]
    },
    {
      "cell_type": "code",
      "source": [
        "# squeeze\n",
        "d = torch.rand(1,20)\n",
        "d.squeeze(0).shape"
      ],
      "metadata": {
        "colab": {
          "base_uri": "https://localhost:8080/"
        },
        "id": "7dH_7qzKnfIQ",
        "outputId": "90a9ca5c-2fcd-49b0-e09f-bdcb4d35eb8f"
      },
      "execution_count": 66,
      "outputs": [
        {
          "output_type": "execute_result",
          "data": {
            "text/plain": [
              "torch.Size([20])"
            ]
          },
          "metadata": {},
          "execution_count": 66
        }
      ]
    },
    {
      "cell_type": "code",
      "source": [
        "arr = np.arange(0, 10, 2)\n",
        "arr"
      ],
      "metadata": {
        "colab": {
          "base_uri": "https://localhost:8080/"
        },
        "id": "UxYr47-rob_m",
        "outputId": "6f40cb07-3afa-4a44-80ef-5dadc3c57b01"
      },
      "execution_count": 68,
      "outputs": [
        {
          "output_type": "execute_result",
          "data": {
            "text/plain": [
              "array([0, 2, 4, 6, 8])"
            ]
          },
          "metadata": {},
          "execution_count": 68
        }
      ]
    },
    {
      "cell_type": "code",
      "source": [
        "y = torch.from_numpy(arr)\n",
        "y"
      ],
      "metadata": {
        "colab": {
          "base_uri": "https://localhost:8080/"
        },
        "id": "oVr99tXWoiM7",
        "outputId": "be2e2a31-0105-414a-f3d6-4404a5a6319f"
      },
      "execution_count": 69,
      "outputs": [
        {
          "output_type": "execute_result",
          "data": {
            "text/plain": [
              "tensor([0, 2, 4, 6, 8])"
            ]
          },
          "metadata": {},
          "execution_count": 69
        }
      ]
    },
    {
      "cell_type": "code",
      "source": [
        "print(t1)\n",
        "t1.numpy()"
      ],
      "metadata": {
        "colab": {
          "base_uri": "https://localhost:8080/"
        },
        "id": "4E88a4_8oqGq",
        "outputId": "09e02ab1-e2d1-41cc-921c-3d2ce5fda148"
      },
      "execution_count": 73,
      "outputs": [
        {
          "output_type": "stream",
          "name": "stdout",
          "text": [
            "tensor([[1, 2],\n",
            "        [3, 4]])\n"
          ]
        },
        {
          "output_type": "execute_result",
          "data": {
            "text/plain": [
              "array([[1, 2],\n",
              "       [3, 4]])"
            ]
          },
          "metadata": {},
          "execution_count": 73
        }
      ]
    }
  ]
}